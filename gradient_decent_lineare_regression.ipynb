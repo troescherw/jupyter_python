{
 "cells": [
  {
   "cell_type": "markdown",
   "id": "94e7af47",
   "metadata": {},
   "source": [
    "# Gradientenabstiegsverfahren (Gradient Decent)\n",
    "# Am Beispiel der Linearen Regression\n",
    "\n",
    "\n",
    " Datensatz \"Umsatz Speiseeis in Abhängigkeit von der Temperatur\n",
    "\n",
    "Variablen:\n",
    "- X: Temmperatur, y: Umsatz\n",
    "- m: Steigung der gesuchten Regressionsgeraden\n",
    "- t: Y-Achsenabschnitt\n",
    "- alpha: Lernrate\n",
    "- max_iter: Maximale Anzahl Iterationen\n",
    "- max_error: Maximaler Fehler (bricht ab, wenn eines der beiden Werte erreicht)\n",
    "- d_m: jeweils aktueller Wert für m eingesetzt in die 1. Ableitung der Fehlerfunktion\n",
    "- d_t: jeweils aktueller Wert für t eingesetzt in die 1. Ableitung der Fehlerfunktion\n",
    "- N: Anzahl der Beobachtungen"
   ]
  },
  {
   "cell_type": "code",
   "execution_count": null,
   "id": "004c61c5",
   "metadata": {},
   "outputs": [],
   "source": [
    "# Imports\n",
    "import pandas as pd\n",
    "import numpy as np\n",
    "import matplotlib.pyplot as plt"
   ]
  },
  {
   "cell_type": "code",
   "execution_count": null,
   "id": "24d14f4b",
   "metadata": {},
   "outputs": [],
   "source": [
    "# Datensatz laden\n",
    "url = \"https://raw.githubusercontent.com/troescherw/datasets/master/speiseeis_umsatz.csv\"\n",
    "\n",
    "data = pd.read_csv(url)\n",
    "X = data.Temperatur\n",
    "y = data.Umsatz\n"
   ]
  },
  {
   "cell_type": "code",
   "execution_count": null,
   "id": "d1f51b21",
   "metadata": {},
   "outputs": [],
   "source": [
    "# Funktion für m (Steigung) und t(Y-Achsenabschnitt) der Regressionsgeraden\n",
    "def gradient_descent(X, y, alpha=0.001, max_iter=1000):\n",
    "    m = t = 0\n",
    "    N = len(y)\n",
    "    i = 0\n",
    "    d_m = 1000\n",
    "    \n",
    "    for _ in range(max_iter): \n",
    "        y_pred = m*X + t  # Vorhergesagte Y-Werte\n",
    "        d_m = (-2/N) * np.sum(X * (y - y_pred))  # eingesetzt in part. Ableitung für m\n",
    "        d_t = (-2/N) * np.sum(y - y_pred)  # eingesezt in part. Ableitung für t\n",
    "        \n",
    "        m = m - alpha * d_m  # Berechne neues m\n",
    "        t = t - alpha * d_t  # Berechne neues t\n",
    "        \n",
    "    return np.round(m,4), np.round(t,4)"
   ]
  },
  {
   "cell_type": "code",
   "execution_count": null,
   "id": "88630093",
   "metadata": {},
   "outputs": [],
   "source": [
    "# Berechne m und t für Beispieldatensatz\n",
    "m, t = gradient_descent(X,y,  0.001, 10000)\n",
    "print(\"Ergebnisse:\")\n",
    "print(f\"m={m}, t={t}\")"
   ]
  },
  {
   "cell_type": "code",
   "execution_count": null,
   "id": "fdad06a2",
   "metadata": {},
   "outputs": [],
   "source": [
    "# Plot der Regressionsgerade:\n",
    "\n",
    "y_hat_1 = np.min(X) * m + t\n",
    "y_hat_2 = np.max(X) * m + t\n",
    "plt.plot([np.min(X), np.max(X)], [y_hat_1, y_hat_2], color=\"r\")\n",
    "plt.scatter(X,y)\n",
    "plt.show()  "
   ]
  },
  {
   "cell_type": "code",
   "execution_count": null,
   "id": "8178d403",
   "metadata": {},
   "outputs": [],
   "source": [
    "# Vergleich mit Ergebnis von sklearn.linear_model.LinearRegression\n",
    "import statsmodels.formula.api as smf\n",
    "model = smf.ols(\"Umsatz~Temperatur\", data = data).fit()\n",
    "print(model.summary())"
   ]
  }
 ],
 "metadata": {
  "kernelspec": {
   "display_name": "Python 3",
   "language": "python",
   "name": "python3"
  },
  "language_info": {
   "codemirror_mode": {
    "name": "ipython",
    "version": 3
   },
   "file_extension": ".py",
   "mimetype": "text/x-python",
   "name": "python",
   "nbconvert_exporter": "python",
   "pygments_lexer": "ipython3",
   "version": "3.8.10"
  }
 },
 "nbformat": 4,
 "nbformat_minor": 5
}
