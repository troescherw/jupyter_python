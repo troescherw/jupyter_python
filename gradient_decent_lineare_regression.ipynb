{
 "cells": [
  {
   "cell_type": "markdown",
   "id": "7b88704c",
   "metadata": {},
   "source": [
    "# Gradientenabstiegsverfahren (Gradient Decent)\n",
    "# Am Beispiel der Linearen Regression\n",
    "\n",
    "\n",
    " Datensatz \"Umsatz Speiseeis in Abhängigkeit von der Temperatur\n",
    "\n",
    "Variablen:\n",
    "- X: Temmperatur, y: Umsatz\n",
    "- m: Steigung der gesuchten Regressionsgeraden\n",
    "- t: Y-Achsenabschnitt\n",
    "- alpha: Lernrate\n",
    "- max_iter: Maximale Anzahl Iterationen\n",
    "- max_error: Maximaler Fehler (bricht ab, wenn eines der beiden Werte erreicht)\n",
    "- d_m: jeweils aktueller Wert für m eingesetzt in die 1. Ableitung der Fehlerfunktion\n",
    "- d_t: jeweils aktueller Wert für t eingesetzt in die 1. Ableitung der Fehlerfunktion\n",
    "- N: Anzahl der Beobachtungen"
   ]
  },
  {
   "cell_type": "code",
   "execution_count": 1,
   "id": "8401baa6",
   "metadata": {},
   "outputs": [],
   "source": [
    "# Imports\n",
    "import pandas as pd\n",
    "import numpy as np\n",
    "import matplotlib.pyplot as plt"
   ]
  },
  {
   "cell_type": "code",
   "execution_count": 2,
   "id": "598343f1",
   "metadata": {},
   "outputs": [],
   "source": [
    "# Datensatz laden\n",
    "url = \"https://raw.githubusercontent.com/troescherw/datasets/master/speiseeis_umsatz.csv\"\n",
    "\n",
    "data = pd.read_csv(url)\n",
    "X = data.Temperatur\n",
    "y = data.Umsatz\n"
   ]
  },
  {
   "cell_type": "code",
   "execution_count": 7,
   "id": "b184a87d",
   "metadata": {},
   "outputs": [],
   "source": [
    "# Funktion für m (Steigung) und t(Y-Achsenabschnitt) der Regressionsgeraden\n",
    "def gradient_descent(X, y, alpha=0.001, max_iter=1000):\n",
    "    m = t = 0\n",
    "    N = len(y)\n",
    "    i = 0\n",
    "    d_m = 1000\n",
    "    \n",
    "    for _ in range(max_iter): \n",
    "        y_pred = m*X + t  # Vorhergesagte Y-Werte\n",
    "        d_m = (-2/N) * np.sum(X * (y - y_pred))  # eingesetzt in part. Ableitung für m\n",
    "        d_t = (-2/N) * np.sum(y - y_pred)  # eingesezt in part. Ableitung für t\n",
    "        \n",
    "        m = m - alpha * d_m  # Berechne neues m\n",
    "        t = t - alpha * d_t  # Berechne neues t\n",
    "        \n",
    "    return np.round(m,4), np.round(t,4)"
   ]
  },
  {
   "cell_type": "code",
   "execution_count": 12,
   "id": "91ac7ede",
   "metadata": {},
   "outputs": [
    {
     "name": "stdout",
     "output_type": "stream",
     "text": [
      "Ergebnisse:\n",
      "m=2.2714, t=-7.3579\n"
     ]
    }
   ],
   "source": [
    "# Berechne m und t für Beispieldatensatz\n",
    "m, t = gradient_descent(X,y,  0.001, 10000)\n",
    "print(\"Ergebnisse:\")\n",
    "print(f\"m={m}, t={t}\")"
   ]
  },
  {
   "cell_type": "code",
   "execution_count": 13,
   "id": "43c6d850",
   "metadata": {},
   "outputs": [
    {
     "data": {
      "image/png": "[encoded data removed]",
      "text/plain": [
       "<Figure size 432x288 with 1 Axes>"
      ]
     },
     "metadata": {
      "needs_background": "light"
     },
     "output_type": "display_data"
    }
   ],
   "source": [
    "# Plot der Regressionsgerade:\n",
    "\n",
    "y_hat_1 = np.min(X) * m + t\n",
    "y_hat_2 = np.max(X) * m + t\n",
    "plt.plot([np.min(X), np.max(X)], [y_hat_1, y_hat_2], color=\"r\")\n",
    "plt.scatter(X,y)\n",
    "plt.show()  "
   ]
  },
  {
   "cell_type": "code",
   "execution_count": 14,
   "id": "1aeae864",
   "metadata": {},
   "outputs": [
    {
     "name": "stdout",
     "output_type": "stream",
     "text": [
      "                            OLS Regression Results                            \n",
      "==============================================================================\n",
      "Dep. Variable:                 Umsatz   R-squared:                       0.954\n",
      "Model:                            OLS   Adj. R-squared:                  0.952\n",
      "Method:                 Least Squares   F-statistic:                     414.7\n",
      "Date:                Tue, 15 Jun 2021   Prob (F-statistic):           7.65e-15\n",
      "Time:                        17:24:05   Log-Likelihood:                -67.691\n",
      "No. Observations:                  22   AIC:                             139.4\n",
      "Df Residuals:                      20   BIC:                             141.6\n",
      "Df Model:                           1                                         \n",
      "Covariance Type:            nonrobust                                         \n",
      "==============================================================================\n",
      "                 coef    std err          t      P>|t|      [0.025      0.975]\n",
      "------------------------------------------------------------------------------\n",
      "Intercept     -7.4001      2.305     -3.211      0.004     -12.208      -2.592\n",
      "Temperatur     2.2732      0.112     20.365      0.000       2.040       2.506\n",
      "==============================================================================\n",
      "Omnibus:                        1.359   Durbin-Watson:                   0.521\n",
      "Prob(Omnibus):                  0.507   Jarque-Bera (JB):                1.224\n",
      "Skew:                           0.465   Prob(JB):                        0.542\n",
      "Kurtosis:                       2.313   Cond. No.                         40.6\n",
      "==============================================================================\n",
      "\n",
      "Notes:\n",
      "[1] Standard Errors assume that the covariance matrix of the errors is correctly specified.\n"
     ]
    }
   ],
   "source": [
    "# Vergleich mit Ergebnis von sklearn.linear_model.LinearRegression\n",
    "import statsmodels.formula.api as smf\n",
    "model = smf.ols(\"Umsatz~Temperatur\", data = data).fit()\n",
    "print(model.summary())"
   ]
  }
 ],
 "metadata": {
  "kernelspec": {
   "display_name": "Python 3",
   "language": "python",
   "name": "python3"
  },
  "language_info": {
   "codemirror_mode": {
    "name": "ipython",
    "version": 3
   },
   "file_extension": ".py",
   "mimetype": "text/x-python",
   "name": "python",
   "nbconvert_exporter": "python",
   "pygments_lexer": "ipython3",
   "version": "3.8.10"
  }
 },
 "nbformat": 4,
 "nbformat_minor": 5
}
