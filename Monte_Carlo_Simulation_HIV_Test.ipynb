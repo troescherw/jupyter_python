{
 "cells": [
  {
   "cell_type": "markdown",
   "id": "e3743659",
   "metadata": {},
   "source": [
    "# Simulation HIV-Test (Monte-Carlo-Simulation)\n",
    "\n",
    "## Simulation Bayes-Theorem (Bedingte Wahrscheinlichkeit):\n",
    "## Wahrscheinlichkeit, HIV+ zu sein bei positivem Testergebnis\n",
    "\n",
    "**Gegeben sind:**\n",
    "- Prävalenz (Wahrscheinlchkeit HIV+) = 0,01% ==> 0,0001\n",
    "- Sensitivitaet (richtig positives Ergebnis) ==> 0,998\n",
    "- Spezifitaet (richtig negatives Ergebnis) ==> 0,999\n",
    "- Wir simulieren eine Stichprobe von 100.000 Menschen"
   ]
  },
  {
   "cell_type": "code",
   "execution_count": 3,
   "id": "344177ae",
   "metadata": {},
   "outputs": [
    {
     "name": "stdout",
     "output_type": "stream",
     "text": [
      "[[   13     0]\n",
      " [  100 99887]]\n",
      "Wahrscheinlichkeit, positiv zu sein bei pos. Test-Ergebnis:\n",
      "0.11504424778761062\n"
     ]
    }
   ],
   "source": [
    "import numpy as np\n",
    "import pandas as pd\n",
    "import random\n",
    "from sklearn.metrics import confusion_matrix\n",
    "\n",
    "praevalenz = 0.0001\n",
    "sensitivitaet = 0.998\n",
    "spezifitaet = 0.999\n",
    "N = 100_000\n",
    "\n",
    "np.random.seed(42)\n",
    "stichprobe = np.random.choice([\"+\", \"-\"], size=N, replace=True, p=[praevalenz, 1-praevalenz])\n",
    "\n",
    "anzahl_krank = np.sum(stichprobe==\"+\")\n",
    "anzahl_gesund = np.sum(stichprobe==\"-\")\n",
    "\n",
    "test = pd.Series(np.full(N,\"\"))\n",
    "\n",
    "test[stichprobe==\"+\"] = np.random.choice([\"+\",\"-\"], anzahl_krank, p=[sensitivitaet, 1-sensitivitaet], replace=True)\n",
    "test[stichprobe==\"-\"] = np.random.choice([\"-\",\"+\"], anzahl_gesund, p=[spezifitaet, 1-spezifitaet], replace=True)\n",
    "\n",
    "cm = confusion_matrix(stichprobe, test)\n",
    "print(cm)\n",
    "\n"
   ]
  },
  {
   "cell_type": "code",
   "execution_count": 4,
   "id": "fcbf2159",
   "metadata": {},
   "outputs": [
    {
     "name": "stdout",
     "output_type": "stream",
     "text": [
      "Wahrscheinlichkeit, positiv zu sein bei pos. Test-Ergebnis:\n",
      "0.11504424778761062\n"
     ]
    }
   ],
   "source": [
    "print(\"Wahrscheinlichkeit, positiv zu sein bei pos. Test-Ergebnis:\")\n",
    "print(cm[0,0] / (cm[1,0] + cm[0,0]))"
   ]
  }
 ],
 "metadata": {
  "kernelspec": {
   "display_name": "Python 3",
   "language": "python",
   "name": "python3"
  },
  "language_info": {
   "codemirror_mode": {
    "name": "ipython",
    "version": 3
   },
   "file_extension": ".py",
   "mimetype": "text/x-python",
   "name": "python",
   "nbconvert_exporter": "python",
   "pygments_lexer": "ipython3",
   "version": "3.8.8"
  }
 },
 "nbformat": 4,
 "nbformat_minor": 5
}
