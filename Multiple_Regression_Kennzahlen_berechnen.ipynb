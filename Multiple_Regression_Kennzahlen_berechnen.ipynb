{
  "nbformat": 4,
  "nbformat_minor": 0,
  "metadata": {
    "colab": {
      "provenance": []
    },
    "kernelspec": {
      "name": "python3",
      "display_name": "Python 3"
    },
    "language_info": {
      "name": "python"
    }
  },
  "cells": [
    {
      "cell_type": "code",
      "execution_count": null,
      "metadata": {
        "id": "1Pxj4rw-jnBx"
      },
      "outputs": [],
      "source": []
    },
    {
      "cell_type": "markdown",
      "source": [
        "# Beispiel: Berchnung der wichtigsten Kennzahlen eines Multiplen Linearen Regressionsmodells"
      ],
      "metadata": {
        "id": "ORP-aQ1U30lg"
      }
    },
    {
      "cell_type": "code",
      "source": [
        "# Beispieldaten\n",
        "\n",
        "import pandas as pd\n",
        "\n",
        "df = pd.DataFrame({\"x1\": [1,2,3,4,5,6,7,8,9,10],\n",
        "                   \"x2\": [3,5,9,9,11,12,15,17,19,21],\n",
        "                   \"y\" : [113,117,117,123,135,125,141,143,155,160]})\n",
        "\n",
        "df"
      ],
      "metadata": {
        "colab": {
          "base_uri": "https://localhost:8080/",
          "height": 363
        },
        "id": "B3rkp_xy4Bs5",
        "outputId": "a8a2ed6c-3d17-4e26-931d-8bb0f152fafb"
      },
      "execution_count": 119,
      "outputs": [
        {
          "output_type": "execute_result",
          "data": {
            "text/plain": [
              "   x1  x2    y\n",
              "0   1   3  113\n",
              "1   2   5  117\n",
              "2   3   9  117\n",
              "3   4   9  123\n",
              "4   5  11  135\n",
              "5   6  12  125\n",
              "6   7  15  141\n",
              "7   8  17  143\n",
              "8   9  19  155\n",
              "9  10  21  160"
            ],
            "text/html": [
              "\n",
              "  <div id=\"df-96ef0f30-dc39-456e-b580-e00ab596737a\">\n",
              "    <div class=\"colab-df-container\">\n",
              "      <div>\n",
              "<style scoped>\n",
              "    .dataframe tbody tr th:only-of-type {\n",
              "        vertical-align: middle;\n",
              "    }\n",
              "\n",
              "    .dataframe tbody tr th {\n",
              "        vertical-align: top;\n",
              "    }\n",
              "\n",
              "    .dataframe thead th {\n",
              "        text-align: right;\n",
              "    }\n",
              "</style>\n",
              "<table border=\"1\" class=\"dataframe\">\n",
              "  <thead>\n",
              "    <tr style=\"text-align: right;\">\n",
              "      <th></th>\n",
              "      <th>x1</th>\n",
              "      <th>x2</th>\n",
              "      <th>y</th>\n",
              "    </tr>\n",
              "  </thead>\n",
              "  <tbody>\n",
              "    <tr>\n",
              "      <th>0</th>\n",
              "      <td>1</td>\n",
              "      <td>3</td>\n",
              "      <td>113</td>\n",
              "    </tr>\n",
              "    <tr>\n",
              "      <th>1</th>\n",
              "      <td>2</td>\n",
              "      <td>5</td>\n",
              "      <td>117</td>\n",
              "    </tr>\n",
              "    <tr>\n",
              "      <th>2</th>\n",
              "      <td>3</td>\n",
              "      <td>9</td>\n",
              "      <td>117</td>\n",
              "    </tr>\n",
              "    <tr>\n",
              "      <th>3</th>\n",
              "      <td>4</td>\n",
              "      <td>9</td>\n",
              "      <td>123</td>\n",
              "    </tr>\n",
              "    <tr>\n",
              "      <th>4</th>\n",
              "      <td>5</td>\n",
              "      <td>11</td>\n",
              "      <td>135</td>\n",
              "    </tr>\n",
              "    <tr>\n",
              "      <th>5</th>\n",
              "      <td>6</td>\n",
              "      <td>12</td>\n",
              "      <td>125</td>\n",
              "    </tr>\n",
              "    <tr>\n",
              "      <th>6</th>\n",
              "      <td>7</td>\n",
              "      <td>15</td>\n",
              "      <td>141</td>\n",
              "    </tr>\n",
              "    <tr>\n",
              "      <th>7</th>\n",
              "      <td>8</td>\n",
              "      <td>17</td>\n",
              "      <td>143</td>\n",
              "    </tr>\n",
              "    <tr>\n",
              "      <th>8</th>\n",
              "      <td>9</td>\n",
              "      <td>19</td>\n",
              "      <td>155</td>\n",
              "    </tr>\n",
              "    <tr>\n",
              "      <th>9</th>\n",
              "      <td>10</td>\n",
              "      <td>21</td>\n",
              "      <td>160</td>\n",
              "    </tr>\n",
              "  </tbody>\n",
              "</table>\n",
              "</div>\n",
              "      <button class=\"colab-df-convert\" onclick=\"convertToInteractive('df-96ef0f30-dc39-456e-b580-e00ab596737a')\"\n",
              "              title=\"Convert this dataframe to an interactive table.\"\n",
              "              style=\"display:none;\">\n",
              "        \n",
              "  <svg xmlns=\"http://www.w3.org/2000/svg\" height=\"24px\"viewBox=\"0 0 24 24\"\n",
              "       width=\"24px\">\n",
              "    <path d=\"M0 0h24v24H0V0z\" fill=\"none\"/>\n",
              "    <path d=\"M18.56 5.44l.94 2.06.94-2.06 2.06-.94-2.06-.94-.94-2.06-.94 2.06-2.06.94zm-11 1L8.5 8.5l.94-2.06 2.06-.94-2.06-.94L8.5 2.5l-.94 2.06-2.06.94zm10 10l.94 2.06.94-2.06 2.06-.94-2.06-.94-.94-2.06-.94 2.06-2.06.94z\"/><path d=\"M17.41 7.96l-1.37-1.37c-.4-.4-.92-.59-1.43-.59-.52 0-1.04.2-1.43.59L10.3 9.45l-7.72 7.72c-.78.78-.78 2.05 0 2.83L4 21.41c.39.39.9.59 1.41.59.51 0 1.02-.2 1.41-.59l7.78-7.78 2.81-2.81c.8-.78.8-2.07 0-2.86zM5.41 20L4 18.59l7.72-7.72 1.47 1.35L5.41 20z\"/>\n",
              "  </svg>\n",
              "      </button>\n",
              "      \n",
              "  <style>\n",
              "    .colab-df-container {\n",
              "      display:flex;\n",
              "      flex-wrap:wrap;\n",
              "      gap: 12px;\n",
              "    }\n",
              "\n",
              "    .colab-df-convert {\n",
              "      background-color: #E8F0FE;\n",
              "      border: none;\n",
              "      border-radius: 50%;\n",
              "      cursor: pointer;\n",
              "      display: none;\n",
              "      fill: #1967D2;\n",
              "      height: 32px;\n",
              "      padding: 0 0 0 0;\n",
              "      width: 32px;\n",
              "    }\n",
              "\n",
              "    .colab-df-convert:hover {\n",
              "      background-color: #E2EBFA;\n",
              "      box-shadow: 0px 1px 2px rgba(60, 64, 67, 0.3), 0px 1px 3px 1px rgba(60, 64, 67, 0.15);\n",
              "      fill: #174EA6;\n",
              "    }\n",
              "\n",
              "    [theme=dark] .colab-df-convert {\n",
              "      background-color: #3B4455;\n",
              "      fill: #D2E3FC;\n",
              "    }\n",
              "\n",
              "    [theme=dark] .colab-df-convert:hover {\n",
              "      background-color: #434B5C;\n",
              "      box-shadow: 0px 1px 3px 1px rgba(0, 0, 0, 0.15);\n",
              "      filter: drop-shadow(0px 1px 2px rgba(0, 0, 0, 0.3));\n",
              "      fill: #FFFFFF;\n",
              "    }\n",
              "  </style>\n",
              "\n",
              "      <script>\n",
              "        const buttonEl =\n",
              "          document.querySelector('#df-96ef0f30-dc39-456e-b580-e00ab596737a button.colab-df-convert');\n",
              "        buttonEl.style.display =\n",
              "          google.colab.kernel.accessAllowed ? 'block' : 'none';\n",
              "\n",
              "        async function convertToInteractive(key) {\n",
              "          const element = document.querySelector('#df-96ef0f30-dc39-456e-b580-e00ab596737a');\n",
              "          const dataTable =\n",
              "            await google.colab.kernel.invokeFunction('convertToInteractive',\n",
              "                                                     [key], {});\n",
              "          if (!dataTable) return;\n",
              "\n",
              "          const docLinkHtml = 'Like what you see? Visit the ' +\n",
              "            '<a target=\"_blank\" href=https://colab.research.google.com/notebooks/data_table.ipynb>data table notebook</a>'\n",
              "            + ' to learn more about interactive tables.';\n",
              "          element.innerHTML = '';\n",
              "          dataTable['output_type'] = 'display_data';\n",
              "          await google.colab.output.renderOutput(dataTable, element);\n",
              "          const docLink = document.createElement('div');\n",
              "          docLink.innerHTML = docLinkHtml;\n",
              "          element.appendChild(docLink);\n",
              "        }\n",
              "      </script>\n",
              "    </div>\n",
              "  </div>\n",
              "  "
            ]
          },
          "metadata": {},
          "execution_count": 119
        }
      ]
    },
    {
      "cell_type": "code",
      "source": [
        "# Modell erstellen und Kennzahlen ausgeben\n",
        "from statsmodels.formula.api import ols\n",
        "\n",
        "model = ols(\"y~x1+x2\", data=df).fit()\n",
        "model.summary()"
      ],
      "metadata": {
        "colab": {
          "base_uri": "https://localhost:8080/",
          "height": 508
        },
        "id": "kqBDd0Y04j9j",
        "outputId": "955e3bf5-60bf-4016-d52f-223afa5f35d1"
      },
      "execution_count": 120,
      "outputs": [
        {
          "output_type": "stream",
          "name": "stderr",
          "text": [
            "/usr/local/lib/python3.9/dist-packages/scipy/stats/_stats_py.py:1736: UserWarning: kurtosistest only valid for n>=20 ... continuing anyway, n=10\n",
            "  warnings.warn(\"kurtosistest only valid for n>=20 ... continuing \"\n"
          ]
        },
        {
          "output_type": "execute_result",
          "data": {
            "text/plain": [
              "<class 'statsmodels.iolib.summary.Summary'>\n",
              "\"\"\"\n",
              "                            OLS Regression Results                            \n",
              "==============================================================================\n",
              "Dep. Variable:                      y   R-squared:                       0.921\n",
              "Model:                            OLS   Adj. R-squared:                  0.898\n",
              "Method:                 Least Squares   F-statistic:                     40.64\n",
              "Date:                Fri, 14 Apr 2023   Prob (F-statistic):           0.000140\n",
              "Time:                        09:55:59   Log-Likelihood:                -29.036\n",
              "No. Observations:                  10   AIC:                             64.07\n",
              "Df Residuals:                       7   BIC:                             64.98\n",
              "Df Model:                           2                                         \n",
              "Covariance Type:            nonrobust                                         \n",
              "==============================================================================\n",
              "                 coef    std err          t      P>|t|      [0.025      0.975]\n",
              "------------------------------------------------------------------------------\n",
              "Intercept    102.5588      5.118     20.040      0.000      90.457     114.660\n",
              "x1             3.1548      4.825      0.654      0.534      -8.255      14.565\n",
              "x2             1.0735      2.478      0.433      0.678      -4.785       6.932\n",
              "==============================================================================\n",
              "Omnibus:                        1.933   Durbin-Watson:                   2.367\n",
              "Prob(Omnibus):                  0.380   Jarque-Bera (JB):                1.119\n",
              "Skew:                          -0.780   Prob(JB):                        0.571\n",
              "Kurtosis:                       2.498   Cond. No.                         59.7\n",
              "==============================================================================\n",
              "\n",
              "Notes:\n",
              "[1] Standard Errors assume that the covariance matrix of the errors is correctly specified.\n",
              "\"\"\""
            ],
            "text/html": [
              "<table class=\"simpletable\">\n",
              "<caption>OLS Regression Results</caption>\n",
              "<tr>\n",
              "  <th>Dep. Variable:</th>            <td>y</td>        <th>  R-squared:         </th> <td>   0.921</td>\n",
              "</tr>\n",
              "<tr>\n",
              "  <th>Model:</th>                   <td>OLS</td>       <th>  Adj. R-squared:    </th> <td>   0.898</td>\n",
              "</tr>\n",
              "<tr>\n",
              "  <th>Method:</th>             <td>Least Squares</td>  <th>  F-statistic:       </th> <td>   40.64</td>\n",
              "</tr>\n",
              "<tr>\n",
              "  <th>Date:</th>             <td>Fri, 14 Apr 2023</td> <th>  Prob (F-statistic):</th> <td>0.000140</td>\n",
              "</tr>\n",
              "<tr>\n",
              "  <th>Time:</th>                 <td>09:55:59</td>     <th>  Log-Likelihood:    </th> <td> -29.036</td>\n",
              "</tr>\n",
              "<tr>\n",
              "  <th>No. Observations:</th>      <td>    10</td>      <th>  AIC:               </th> <td>   64.07</td>\n",
              "</tr>\n",
              "<tr>\n",
              "  <th>Df Residuals:</th>          <td>     7</td>      <th>  BIC:               </th> <td>   64.98</td>\n",
              "</tr>\n",
              "<tr>\n",
              "  <th>Df Model:</th>              <td>     2</td>      <th>                     </th>     <td> </td>   \n",
              "</tr>\n",
              "<tr>\n",
              "  <th>Covariance Type:</th>      <td>nonrobust</td>    <th>                     </th>     <td> </td>   \n",
              "</tr>\n",
              "</table>\n",
              "<table class=\"simpletable\">\n",
              "<tr>\n",
              "      <td></td>         <th>coef</th>     <th>std err</th>      <th>t</th>      <th>P>|t|</th>  <th>[0.025</th>    <th>0.975]</th>  \n",
              "</tr>\n",
              "<tr>\n",
              "  <th>Intercept</th> <td>  102.5588</td> <td>    5.118</td> <td>   20.040</td> <td> 0.000</td> <td>   90.457</td> <td>  114.660</td>\n",
              "</tr>\n",
              "<tr>\n",
              "  <th>x1</th>        <td>    3.1548</td> <td>    4.825</td> <td>    0.654</td> <td> 0.534</td> <td>   -8.255</td> <td>   14.565</td>\n",
              "</tr>\n",
              "<tr>\n",
              "  <th>x2</th>        <td>    1.0735</td> <td>    2.478</td> <td>    0.433</td> <td> 0.678</td> <td>   -4.785</td> <td>    6.932</td>\n",
              "</tr>\n",
              "</table>\n",
              "<table class=\"simpletable\">\n",
              "<tr>\n",
              "  <th>Omnibus:</th>       <td> 1.933</td> <th>  Durbin-Watson:     </th> <td>   2.367</td>\n",
              "</tr>\n",
              "<tr>\n",
              "  <th>Prob(Omnibus):</th> <td> 0.380</td> <th>  Jarque-Bera (JB):  </th> <td>   1.119</td>\n",
              "</tr>\n",
              "<tr>\n",
              "  <th>Skew:</th>          <td>-0.780</td> <th>  Prob(JB):          </th> <td>   0.571</td>\n",
              "</tr>\n",
              "<tr>\n",
              "  <th>Kurtosis:</th>      <td> 2.498</td> <th>  Cond. No.          </th> <td>    59.7</td>\n",
              "</tr>\n",
              "</table><br/><br/>Notes:<br/>[1] Standard Errors assume that the covariance matrix of the errors is correctly specified."
            ]
          },
          "metadata": {},
          "execution_count": 120
        }
      ]
    },
    {
      "cell_type": "markdown",
      "source": [
        "## Berechne Bestimmtheitsmaß (Determinationskoeffizient) $R^2$"
      ],
      "metadata": {
        "id": "wRMTYLiv5GPj"
      }
    },
    {
      "cell_type": "code",
      "source": [
        "y_mean = df.y.mean()\n",
        "\n",
        "r2 = 1 - (model.resid**2).sum() / ((df.y-y_mean)**2).sum()\n",
        "print(f\"R-squared: {r2}\")"
      ],
      "metadata": {
        "colab": {
          "base_uri": "https://localhost:8080/"
        },
        "id": "gPqfnJjp5OMy",
        "outputId": "8fed78b6-9a49-4214-d723-6b5965d533e9"
      },
      "execution_count": 121,
      "outputs": [
        {
          "output_type": "stream",
          "name": "stdout",
          "text": [
            "R-squared: 0.9207132025640763\n"
          ]
        }
      ]
    },
    {
      "cell_type": "markdown",
      "source": [
        "## Berechne Adjustiertes Bestimmtheitsmaß $R_{adj}^2$"
      ],
      "metadata": {
        "id": "hAAYCb0_6BUl"
      }
    },
    {
      "cell_type": "code",
      "source": [
        "n = df.shape[0]\n",
        "k = df.shape[1]-1\n",
        "ddof = n - k - 1 # Freiheitsgrade\n",
        "\n",
        "r2_adj = 1 - ((1-r2) * (n-1)) / ddof\n",
        "print(f\"Adj. R-squared:\t {r2_adj}\")"
      ],
      "metadata": {
        "colab": {
          "base_uri": "https://localhost:8080/"
        },
        "id": "0SjiKmgt58aR",
        "outputId": "f8b047f7-4a9b-47c2-9cab-6930f84e9dc4"
      },
      "execution_count": 122,
      "outputs": [
        {
          "output_type": "stream",
          "name": "stdout",
          "text": [
            "Adj. R-squared:\t 0.8980598318680981\n"
          ]
        }
      ]
    },
    {
      "cell_type": "markdown",
      "source": [
        "## F-Statistik"
      ],
      "metadata": {
        "id": "Sks6ZkzN7J7I"
      }
    },
    {
      "cell_type": "code",
      "source": [
        "from scipy.stats import f\n",
        "F = ddof / k * r2/(1-r2)\n",
        "print(f\"F-statistic: {F}\")\n",
        "\n",
        "p = 1-f.cdf(F, k, ddof)\n",
        "print(f\"Prob (F-statistic): {p}\")"
      ],
      "metadata": {
        "colab": {
          "base_uri": "https://localhost:8080/"
        },
        "id": "niNty78P7Orj",
        "outputId": "662f7a70-a6b8-4450-97a7-51cb5fa5a5a8"
      },
      "execution_count": 123,
      "outputs": [
        {
          "output_type": "stream",
          "name": "stdout",
          "text": [
            "F-statistic: 40.643541083602905\n",
            "Prob (F-statistic): 0.0001403469782339517\n"
          ]
        }
      ]
    },
    {
      "cell_type": "markdown",
      "source": [
        "## Koeffizienten des Modells mit Moore-Penrose"
      ],
      "metadata": {
        "id": "rX3Ks0jd-Ggo"
      }
    },
    {
      "cell_type": "code",
      "source": [
        "import numpy as np\n",
        "\n",
        "y = np.array(df.y)\n",
        "X = np.array(df[[\"x1\", \"x2\"]])\n",
        "np.ones(10).reshape(10,1)\n",
        "X = np.hstack((np.ones(10).reshape(10,1), X))\n",
        "\n",
        "coef = np.linalg.inv(X.T @ X) @ X.T @ y\n",
        "\n",
        "print(f\"Intercept: {coef[0]}\")\n",
        "print(f\"x1: {coef[1]}\")\n",
        "print(f\"x2: {coef[2]}\")\n"
      ],
      "metadata": {
        "colab": {
          "base_uri": "https://localhost:8080/"
        },
        "id": "cIp-_x3z-PEg",
        "outputId": "8886e869-053c-4d37-ecb2-f89e03764ef5"
      },
      "execution_count": 124,
      "outputs": [
        {
          "output_type": "stream",
          "name": "stdout",
          "text": [
            "Intercept: 102.55882352940574\n",
            "x1: 3.1548128342248685\n",
            "x2: 1.073529411765053\n"
          ]
        }
      ]
    },
    {
      "cell_type": "markdown",
      "source": [
        "## Standardfehler der Koeffizienten"
      ],
      "metadata": {
        "id": "uIN3S7LnI3u5"
      }
    },
    {
      "cell_type": "code",
      "source": [
        "# Varianz der Residuen\n",
        "var = np.var(model.resid, ddof=3)\n",
        "\n",
        "# Varianz-Kovarianz-Matrix\n",
        "vcov = var * np.linalg.inv(X.T@X)\n",
        "\n",
        "# Wurzel aus den Beträgen - In der Diagonalen stehen die Standardfehler\n",
        "stderr = np.diag(np.sqrt(np.abs(vcov)))\n",
        "print(stderr)"
      ],
      "metadata": {
        "colab": {
          "base_uri": "https://localhost:8080/"
        },
        "id": "1MEKwswKJG8W",
        "outputId": "e2bda80a-c30e-4cb2-9969-7a88a05d9271"
      },
      "execution_count": 133,
      "outputs": [
        {
          "output_type": "stream",
          "name": "stdout",
          "text": [
            "[5.11776911 4.82516466 2.47762932]\n"
          ]
        }
      ]
    },
    {
      "cell_type": "markdown",
      "source": [
        "## t-Werte"
      ],
      "metadata": {
        "id": "v0LDxKfMOyll"
      }
    },
    {
      "cell_type": "code",
      "source": [
        "## t-Werte\n",
        "t_val = coef / stderr\n",
        "t_val"
      ],
      "metadata": {
        "colab": {
          "base_uri": "https://localhost:8080/"
        },
        "id": "9oe3ZSbMO9ke",
        "outputId": "8bb0a7cb-65e3-4de5-968e-932a19ec117a"
      },
      "execution_count": 151,
      "outputs": [
        {
          "output_type": "execute_result",
          "data": {
            "text/plain": [
              "array([20.03975195,  0.65382491,  0.43328895])"
            ]
          },
          "metadata": {},
          "execution_count": 151
        }
      ]
    },
    {
      "cell_type": "markdown",
      "source": [
        "## p - Werte"
      ],
      "metadata": {
        "id": "LqiC-wqrPJN1"
      }
    },
    {
      "cell_type": "code",
      "source": [
        "from scipy.stats import t\n",
        "\n",
        "p = t.sf(t_val, df=ddof)*2\n",
        "print(p)"
      ],
      "metadata": {
        "colab": {
          "base_uri": "https://localhost:8080/"
        },
        "id": "5jqwbHiyPLjW",
        "outputId": "07a660de-e8c8-4b34-d0fe-2a919c717225"
      },
      "execution_count": 180,
      "outputs": [
        {
          "output_type": "stream",
          "name": "stdout",
          "text": [
            "[1.92830809e-07 5.34105953e-01 6.77843088e-01]\n"
          ]
        }
      ]
    },
    {
      "cell_type": "markdown",
      "source": [
        "## Konfidenzintervalle ($\\alpha=0,05$)"
      ],
      "metadata": {
        "id": "MFwIFFEpSSPj"
      }
    },
    {
      "cell_type": "code",
      "source": [
        "t_krit = t.ppf(.975, df=ddof)\n",
        "\n",
        "ug = coef - t_krit * stderr\n",
        "og = coef + t_krit * stderr\n",
        "\n",
        "np.concatenate([ug.reshape(-1,1),og.reshape(-1,1)], axis=1)\n",
        "\n"
      ],
      "metadata": {
        "colab": {
          "base_uri": "https://localhost:8080/"
        },
        "id": "dXsJeRxfSXeL",
        "outputId": "f3bf1972-2439-410b-c9f8-d22a61dd2944"
      },
      "execution_count": 208,
      "outputs": [
        {
          "output_type": "execute_result",
          "data": {
            "text/plain": [
              "array([[ 90.45722258, 114.66042448],\n",
              "       [ -8.25488854,  14.56451421],\n",
              "       [ -4.78513296,   6.93219178]])"
            ]
          },
          "metadata": {},
          "execution_count": 208
        }
      ]
    },
    {
      "cell_type": "markdown",
      "source": [
        "## Schiefe (Skew) der Residuen"
      ],
      "metadata": {
        "id": "XrlLPpS8Wm1L"
      }
    },
    {
      "cell_type": "code",
      "source": [
        "resid_mean = model.resid.mean()\n",
        "resid_std = np.std(model.resid)\n",
        "\n",
        "skew = ((model.resid-resid_mean)**3).sum() / ( (n) * resid_std**3)\n",
        "print(f\"Skew: {skew}\")\n"
      ],
      "metadata": {
        "colab": {
          "base_uri": "https://localhost:8080/"
        },
        "id": "XigunhazWnI8",
        "outputId": "0d23ab13-68eb-4a6d-8626-a51b49b783d8"
      },
      "execution_count": 251,
      "outputs": [
        {
          "output_type": "stream",
          "name": "stdout",
          "text": [
            "Skew: -0.7802110350062321\n"
          ]
        }
      ]
    },
    {
      "cell_type": "markdown",
      "source": [
        "##  Kurtosis"
      ],
      "metadata": {
        "id": "8U7uoMshbsP_"
      }
    },
    {
      "cell_type": "code",
      "source": [
        "kurtosis = ((model.resid-resid_mean)**4).sum() / ( (n) * resid_std**4)\n",
        "print(f\"Kurtosis: {kurtosis}\")"
      ],
      "metadata": {
        "colab": {
          "base_uri": "https://localhost:8080/"
        },
        "id": "X2cs01axbuRD",
        "outputId": "2b073986-8003-4b88-ef5a-23c4c1b73d70"
      },
      "execution_count": 252,
      "outputs": [
        {
          "output_type": "stream",
          "name": "stdout",
          "text": [
            "Kurtosis: 2.4982494837112905\n"
          ]
        }
      ]
    }
  ]
}