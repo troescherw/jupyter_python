{
 "cells": [
  {
   "cell_type": "markdown",
   "id": "13102c7e-177e-453b-aaba-e0fd8ffd0a23",
   "metadata": {},
   "source": [
    "# Simulation: Die Data-Mining-Falle!\n",
    "Beim *Data Mining* versucht man, automatisiert Abhängigkeiten zwischen den Daten zu bestimmen. Dabei darf man aber den Zufall nicht außer Acht lassen! Bei dem häufig verwendeten Konfidenzniveau von 5 Prozent bedeutet dies, dass bei 5 Prozent der Fälle wir durch reinen Zufall einen vermeintlich statistisch signifikanten Zusammenhang finden, der gar nicht existiert!\n",
    "\n",
    "Um dies zu verdeutlichen wird im folgenden kleinen Skript ein Dataframe mit normal verteilten Zufallszahlen generiert. Obwohl es sich um Zufallszahlen handelt, werden immer wieder Abhängigkeiten zwischen der abhängigen Variable Y und unabhängigen Variablen entdeckt. Ggf. muss das Skript häufiger gestartet werden, um Ausgaben zu erhalten."
   ]
  },
  {
   "cell_type": "code",
   "execution_count": 125,
   "id": "3597dcd8-c44f-4833-989b-b4e0f40fd0a7",
   "metadata": {},
   "outputs": [
    {
     "data": {
      "text/plain": [
       "Intercept    0.00\n",
       "x1           0.04\n",
       "x9           0.02\n",
       "x13          0.02\n",
       "x14          0.03\n",
       "x16          0.01\n",
       "x24          0.01\n",
       "dtype: float64"
      ]
     },
     "execution_count": 125,
     "metadata": {},
     "output_type": "execute_result"
    }
   ],
   "source": [
    "import pandas as pd\n",
    "import numpy as np\n",
    "import statsmodels.formula.api as smf\n",
    "\n",
    "\n",
    "anzahl_spalten = 25\n",
    "anzahl_zeilen = 30\n",
    "mu = 30 # Erwartungswert\n",
    "std = 3 # Standardabweichung\n",
    "\n",
    "df = pd.DataFrame()\n",
    "\n",
    "df[\"y\"] = np.random.normal(loc=mu, scale=std, size=anzahl_zeilen)\n",
    "formula = \"y~\"\n",
    "\n",
    "for i in range(1,anzahl_spalten):\n",
    "    columnname = f\"x{i}\"\n",
    "    formula = formula + columnname\n",
    "    if i<anzahl_spalten-1:\n",
    "       formula += \"+\"\n",
    "    df[columnname] = np.random.normal(loc=0.0, scale=1.0, size=anzahl_zeilen)\n",
    "\n",
    "model = smf.ols(formula, data=df).fit()    \n",
    "\n",
    "# Gib die Spalten aus, bei denen der p-Wert < 0,05 ist (angeblich statistisch signifikanter Zusammenhang zwischen Y und der jeweiligen Spalte)\n",
    "np.round(model.pvalues[model.pvalues<0.05],2)\n",
    "\n",
    "\n"
   ]
  }
 ],
 "metadata": {
  "kernelspec": {
   "display_name": "anaconda-2022.05-py39",
   "language": "python",
   "name": "conda-env-anaconda-2022.05-py39-py"
  },
  "language_info": {
   "codemirror_mode": {
    "name": "ipython",
    "version": 3
   },
   "file_extension": ".py",
   "mimetype": "text/x-python",
   "name": "python",
   "nbconvert_exporter": "python",
   "pygments_lexer": "ipython3",
   "version": "3.9.12"
  }
 },
 "nbformat": 4,
 "nbformat_minor": 5
}
