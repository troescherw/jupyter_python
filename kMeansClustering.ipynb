{
 "cells": [
  {
   "cell_type": "markdown",
   "metadata": {},
   "source": [
    "# Clusterverfahren: k-Means\n",
    "In diesem Kapitel geht es um \"nicht überwachtes Lernen\". Neben dem *Agglomerativen Hierarchischen Linkage Average Clustering* betrachten wir hier das Verfahren *k-Means*. Wie üblich beginnen wir wieder mit einem einfachen Beispiel, das das Prinzip des k-Means-Algorithmus verdeutlicht. Zuerst erstellen wir ein Pandas DataFrame."
   ]
  },
  {
   "cell_type": "code",
   "execution_count": null,
   "metadata": {},
   "outputs": [],
   "source": [
    "import pandas as pd\n",
    "\n",
    "df = pd.DataFrame({\"Attribut1\" : [1,2,4,5],\n",
    "                  \"Attribut2\" : [1,1,3,4]})\n",
    "\n",
    "df"
   ]
  },
  {
   "cell_type": "markdown",
   "metadata": {},
   "source": [
    "Wir erstellen ein Modell mit Hilfe der Funktion *KMeans\". Wichtig bei k-Means ist, dass wir den Hyperparameter k definieren müssen: Die Anzahl der Cluster, die gebildet werden sollen. Hier setzen wir k auf 2."
   ]
  },
  {
   "cell_type": "code",
   "execution_count": null,
   "metadata": {},
   "outputs": [],
   "source": [
    "from sklearn.cluster import KMeans\n",
    "\n",
    "model = KMeans(n_clusters=2).fit(df)"
   ]
  },
  {
   "cell_type": "markdown",
   "metadata": {},
   "source": [
    "Wir können die ermittelten Center-Punkte ausgeben. Ein Hinweis: Methoden, die mit einem Underscore \"_\" enden, können erst *nach* dem Trainieren des Modells aufgerufen werden (also der Funktion *fit*)."
   ]
  },
  {
   "cell_type": "code",
   "execution_count": null,
   "metadata": {},
   "outputs": [],
   "source": [
    "model.cluster_centers_"
   ]
  },
  {
   "cell_type": "markdown",
   "metadata": {},
   "source": [
    "Wir plotten unseren kleinen Datensatz und zeichnen die Centerpunkte ein. Vorher rufen wir noch die *predict* - Methode auf, um die Punkte je nach Clusterzugehörigkeit einzufärben."
   ]
  },
  {
   "cell_type": "code",
   "execution_count": null,
   "metadata": {},
   "outputs": [],
   "source": [
    "%matplotlib inline\n",
    "import matplotlib.pyplot as plt\n",
    "\n",
    "pred = model.predict(df)\n",
    "\n",
    "plt.scatter(df.Attribut1, df.Attribut2, c=pred)\n",
    "plt.scatter(model.cluster_centers_[:,0], model.cluster_centers_[:,1], s=200)\n",
    "plt.title(\"Einfaches Beispiel für k-Means-Clustering\")\n",
    "plt.show()"
   ]
  },
  {
   "cell_type": "markdown",
   "metadata": {},
   "source": [
    "## Beispiel mit dem Datensatz *IRIS*\n",
    "Im folgenden Beispiel wenden wir dies auf den IRIS-Datensatz an. Wir erstellen 3 Cluster, da es 3 verschiedene IRIS-Spezies gibt. Wir färben die Punkte wieder abhängig von ihrem Cluster ein. Da wir einen 2D-Plot ausgeben, können wir nicht alle Features unmittelbar ausgeben (das wären 4 Dimensionen), stattdessen addieren wir die jeweiligen Längen- und Breiten der Blätter. Wir erkennen recht gut, dass es einen Überlappungsbereich zwischen den Spezies Versicolor und Virginica gibt, während Setosa sehr gut separiert werden kann."
   ]
  },
  {
   "cell_type": "code",
   "execution_count": null,
   "metadata": {},
   "outputs": [],
   "source": [
    "%matplotlib inline\n",
    "import pandas as pd\n",
    "from sklearn.cluster import KMeans\n",
    "import matplotlib.pyplot as plt\n",
    "\n",
    "url = \"https://raw.githubusercontent.com/troescherw/\"\n",
    "url += \"datasets/master/iris.csv\"\n",
    "\n",
    "iris = pd.read_csv(url, delimiter=\";\", usecols=[0,1,2,3,4], index_col=4)\n",
    "\n",
    "model = KMeans(n_clusters=3).fit(iris)\n",
    "\n",
    "# Datensatz mit Spalte für die Clusterzuordnung erweitern\n",
    "iris[\"Cluster\"] = model.predict(iris)\n",
    "\n",
    "# Plotten\n",
    "plt.scatter(iris.loc[iris.Cluster==0].Sepal_Length+iris.loc[iris.Cluster==0].Sepal_Width,\n",
    "            iris.loc[iris.Cluster==0].Petal_Length+iris.loc[iris.Cluster==0].Petal_Width, c=\"r\", label=\"Setosa\")\n",
    "plt.scatter(iris.loc[iris.Cluster==1].Sepal_Length+iris.loc[iris.Cluster==1].Sepal_Width,\n",
    "            iris.loc[iris.Cluster==1].Petal_Length+iris.loc[iris.Cluster==1].Petal_Width, c=\"g\", label=\"Versicolor\")\n",
    "plt.scatter(iris.loc[iris.Cluster==2].Sepal_Length+iris.loc[iris.Cluster==2].Sepal_Width,\n",
    "            iris.loc[iris.Cluster==2].Petal_Length+iris.loc[iris.Cluster==2].Petal_Width, c=\"b\", label=\"Virginica\")\n",
    "plt.legend()\n",
    "plt.show()\n",
    "\n"
   ]
  },
  {
   "cell_type": "markdown",
   "metadata": {},
   "source": [
    "-----------------\n",
    "## Beispiel: Lebenserwartung in Ländern in Abhängigkeit vom Jahreseinkommen\n",
    "In diesem Beispiel clustern wir Länder (mit > 30 Mill. Einwohnern) bzgl. der Lebenswerartung und Jahreseinkommen. Wir greifen auf den Datensatz *gapminder* zu (www.gapminder.org):"
   ]
  },
  {
   "cell_type": "code",
   "execution_count": null,
   "metadata": {},
   "outputs": [],
   "source": [
    "import pandas as pd\n",
    "import matplotlib.pyplot as plt\n",
    "from sklearn.cluster import KMeans\n",
    "import matplotlib as mpl\n",
    "mpl.rcParams['figure.figsize'] = (15,10)\n",
    "\n",
    "url = \"https://raw.githubusercontent.com/troescherw/datasets/master/gapminder.csv\"\n",
    "df = pd.read_csv(url, usecols=[\"country\", \"lifeExp\", \"pop\", \"gdpPercap\"])\n",
    "df = df.loc[df[\"pop\"] > 30000000]\n",
    "dfg = df.groupby(\"country\").mean()\n",
    "df2 = dfg[[\"lifeExp\", \"gdpPercap\"]]\n",
    "model = KMeans(n_clusters=3).fit(df2)\n",
    "\n",
    "colors = pd.DataFrame({\"color\" : model.predict(df2)})\n",
    "colors = colors.replace([0,1,2], [\"red\",\"green\",\"blue\"])\n",
    "colors.index = dfg.index\n",
    "\n",
    "dfg = pd.concat([dfg, colors], axis=1, sort=False)\n",
    "\n",
    "plt.scatter(dfg.gdpPercap, dfg.lifeExp, c=dfg.color, s=200)\n",
    "\n",
    "for i,label in enumerate(df2.index):\n",
    "    plt.text(dfg.iloc[i,2]+500, dfg.iloc[i,0], label)\n",
    "plt.xlabel(\"Jahreseinkommen\")\n",
    "plt.ylabel(\"Lebenswerwartung\")\n",
    "    \n",
    "plt.show()"
   ]
  },
  {
   "cell_type": "code",
   "execution_count": null,
   "metadata": {},
   "outputs": [],
   "source": []
  }
 ],
 "metadata": {
  "kernelspec": {
   "display_name": "Python 3",
   "language": "python",
   "name": "python3"
  },
  "language_info": {
   "codemirror_mode": {
    "name": "ipython",
    "version": 3
   },
   "file_extension": ".py",
   "mimetype": "text/x-python",
   "name": "python",
   "nbconvert_exporter": "python",
   "pygments_lexer": "ipython3",
   "version": "3.7.7"
  }
 },
 "nbformat": 4,
 "nbformat_minor": 4
}
