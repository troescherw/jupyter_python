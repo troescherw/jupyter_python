{
 "cells": [
  {
   "cell_type": "markdown",
   "id": "324adefb",
   "metadata": {},
   "source": [
    "Visualisierung Lineare Regression"
   ]
  },
  {
   "cell_type": "code",
   "execution_count": 1,
   "id": "05ed7314",
   "metadata": {},
   "outputs": [],
   "source": [
    "import numpy as np\n",
    "import matplotlib.pyplot as plt\n",
    "import ipywidgets as widges\n",
    "from sklearn.linear_model import LinearRegression\n",
    "\n",
    "plt.rcParams['figure.figsize'] = [12, 8]\n",
    "\n",
    "def plot_regression(x, y):\n",
    "    plt.scatter(x,y, color=\"red\", s=150);\n",
    "    model = LinearRegression().fit(x.reshape(-1,1),y.reshape(-1,1))\n",
    "    y_reg = model.predict(x.reshape(-1,1))\n",
    "    plt.plot(x, y_reg, color=\"black\", linewidth=3)\n",
    "    plt.xlim(0, 10)\n",
    "    plt.ylim(-40, 40)\n",
    "    plt.show()\n",
    "    \n",
    "def generate_linear_values(m=1, t=0, std=1, n=10):\n",
    "    x = np.linspace(0, 10, n)\n",
    "    y = m * x + t + np.random.normal(loc=1, scale=std, size=n)\n",
    "    plot_regression(x, y)\n",
    "\n",
    "\n",
    "\n",
    "\n",
    "    "
   ]
  },
  {
   "cell_type": "code",
   "execution_count": 6,
   "id": "c4e6696f",
   "metadata": {},
   "outputs": [
    {
     "data": {
      "application/vnd.jupyter.widget-view+json": {
       "model_id": "b8925eb664b14488bb7c18c0cb55d830",
       "version_major": 2,
       "version_minor": 0
      },
      "text/plain": [
       "interactive(children=(FloatSlider(value=1.0, description='m', max=5.0, min=-5.0), IntSlider(value=0, descripti…"
      ]
     },
     "metadata": {},
     "output_type": "display_data"
    }
   ],
   "source": [
    "widges.interact(generate_linear_values, m=(-5, 5, .1), t=(-20,20,1), n=(10,100,5), std=(1,10,1));"
   ]
  },
  {
   "cell_type": "code",
   "execution_count": null,
   "id": "676442bc",
   "metadata": {},
   "outputs": [],
   "source": [
    "\n"
   ]
  }
 ],
 "metadata": {
  "kernelspec": {
   "display_name": "Python 3",
   "language": "python",
   "name": "python3"
  },
  "language_info": {
   "codemirror_mode": {
    "name": "ipython",
    "version": 3
   },
   "file_extension": ".py",
   "mimetype": "text/x-python",
   "name": "python",
   "nbconvert_exporter": "python",
   "pygments_lexer": "ipython3",
   "version": "3.8.11"
  }
 },
 "nbformat": 4,
 "nbformat_minor": 5
}
