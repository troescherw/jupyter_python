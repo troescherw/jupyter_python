{
 "cells": [
  {
   "cell_type": "markdown",
   "metadata": {},
   "source": [
    "# Ausreißer (Boxplot)\n",
    "Wir erstellen mit ein paar Beispielwerten ein Boxplot-Diagramm mit Matplotlib."
   ]
  },
  {
   "cell_type": "code",
   "execution_count": null,
   "metadata": {},
   "outputs": [],
   "source": [
    "%matplotlib inline\n",
    "\n",
    "import matplotlib.pyplot as plt\n",
    "\n",
    "daten = [3, 9, 17, 23, 27, 31, 42, 48, 57, 65]\n",
    "__=plt.boxplot(daten)"
   ]
  },
  {
   "cell_type": "markdown",
   "metadata": {},
   "source": [
    "Wir geben die Quantile aus:"
   ]
  },
  {
   "cell_type": "code",
   "execution_count": null,
   "metadata": {},
   "outputs": [],
   "source": [
    "import numpy as np\n",
    "np.quantile(daten, [0.25, 0.5, 0.75])"
   ]
  },
  {
   "cell_type": "markdown",
   "metadata": {},
   "source": [
    "Wir wenden dies auf den Datensatz *cars* an und erstellen Boxplot-Diagramme für die Verbräuche (*mpg*) für die Kategorie *cyl* (Anzahl Zylinder)."
   ]
  },
  {
   "cell_type": "code",
   "execution_count": null,
   "metadata": {},
   "outputs": [],
   "source": [
    "import pandas as pd\n",
    "import matplotlib.pyplot as plt\n",
    "import matplotlib as m\n",
    "\n",
    "url = \"https://raw.githubusercontent.com/troescherw/datasets/master/cars.csv\"\n",
    "cars = pd.read_csv(url, delimiter=\";\")\n",
    "\n",
    "cyl4 = cars.loc[cars.cyl==4]\n",
    "cyl6 = cars.loc[cars.cyl==6]\n",
    "cyl8 = cars.loc[cars.cyl==8]\n",
    "\n",
    " \n",
    "box_plot_data=[cyl4.mpg,cyl6.mpg,cyl8.mpg]\n",
    "plt.boxplot(box_plot_data, labels=[\"4 Zylinder\", \"6 Zyliner\", \"8 Zylinder\"])\n",
    "plt.title(\"Verbrauch in Milen pro Gallonen nach Anzahl Zylinder\")\n",
    "plt.ylabel(\"Miles per Gallon\")\n",
    "plt.show()"
   ]
  },
  {
   "cell_type": "markdown",
   "metadata": {},
   "source": [
    "Tipp: Mit *seaborn* können auf einfachere Weise ansehnliche Boxplot-Diagramme erstellt werden."
   ]
  },
  {
   "cell_type": "code",
   "execution_count": null,
   "metadata": {},
   "outputs": [],
   "source": [
    "import seaborn as sns\n",
    "_=sns.boxplot(x=cars.cyl, y=cars.mpg, data=cars).set_title(\"Verbrauch in Milen pro Gallonen nach Anzahl Zylinder\")"
   ]
  },
  {
   "cell_type": "markdown",
   "metadata": {},
   "source": [
    "Wir entfernen nun Ausreißer, in dem wir alle Daten, die mehr als 1,5 * dem IQR vom unteren bzw. oberen Quartil entfernt sind, aus dem Datensatz entfernen. Verwenden wir hierzu die Autos mit 8 Zylindern:"
   ]
  },
  {
   "cell_type": "code",
   "execution_count": null,
   "metadata": {},
   "outputs": [],
   "source": [
    "autos8cyl = cars.loc[cars.cyl==8]\n",
    "sns.boxplot(y=autos8cyl.mpg)"
   ]
  },
  {
   "cell_type": "code",
   "execution_count": null,
   "metadata": {},
   "outputs": [],
   "source": [
    "# Ermittle unteres und oberes Quartil\n",
    "\n",
    "print(\"Alle mpg-Daten:\")\n",
    "print(autos8cyl.mpg)\n",
    "q1 =  autos8cyl.mpg.quantile(q=.25)\n",
    "q3 =  autos8cyl.mpg.quantile(q=.75)\n",
    "\n",
    "iqr = q3 - q1\n",
    "print(\"IQR=\", iqr)\n",
    "\n",
    "# Ausgabe der Ausreisser\n",
    "print(\"Untere Ausreisser: \\n\", autos8cyl.mpg[(autos8cyl.mpg < q1 - 1.5*iqr)])\n",
    "print(\"\")\n",
    "print(\"Obere Ausreisser: \\n\", autos8cyl.mpg[(autos8cyl.mpg > q3 + 1.5*iqr)])\n",
    "\n",
    "\n",
    "df_no_outliers = autos8cyl.mpg[(autos8cyl.mpg > q1 - 1.5*iqr) & (autos8cyl.mpg < q3 + 1.5*iqr)]\n",
    "\n",
    "print(\"Bereinigte Daten ohne Ausreißer:\")\n",
    "df_no_outliers\n"
   ]
  },
  {
   "cell_type": "markdown",
   "metadata": {},
   "source": [
    "## Ausreißer ermitteln mit Hilfe der $\\sigma$-Methode\n",
    "Alle Werte, die (zum Beispiel) mehr als 2 Standardabweichungen \"entfernt\" liegen, werden als Ausreißer definiert (man kann natürlich auch andere Faktoren für die Standardabweichung einsetzen). Man spricht dann von der $2\\sigma$-Methode bzw. von der $3\\sigma$-Methode.\n",
    "\n",
    "Mit der Funktion *zscore* ermitteln wir die Z-Werte der Daten. Wir benötigen den Absolutwert, da uns nur die Entfernung interessiert - egal ob die Daten zu groß oder zu klein sind. Durch Vergleich mit z.B. 2 ($2\\sigma$) ergeben sich True- bzw.Falsewerte. Damit selektieren wir die Daten im DataFrame."
   ]
  },
  {
   "cell_type": "code",
   "execution_count": null,
   "metadata": {},
   "outputs": [],
   "source": [
    "from scipy import stats\n",
    "import pandas as pd\n",
    "\n",
    "df = pd.DataFrame({\"Daten\":[5,4,2,4,5,7,1,4,150,4,3,2,4]}) # 150 = Ausreißer\n",
    "df[np.abs(stats.zscore(df)) < 2]\n"
   ]
  },
  {
   "cell_type": "markdown",
   "metadata": {},
   "source": [
    "## LOF\n",
    "Eine häufig angewandte Größe, um Ausreißer zu bestimmen, nennt sich LOF (Local Outlier Factor). Hier wird die \"Dichte\" der Daten ermittelt, also die Anzahl der in einer bestimmten Umgebung anzutreffenden Datenpunkte. Ist ein Punkt zu weit von diesen \"Clutern\" entfernt, also die Dichte zu gering, so liegt ein Ausreißer vor.\n",
    "\n",
    "Hier verwenden wir hierfür die Klasse *LocalOutlierFactor*. Wir erstellen ein Objekt und übergeben die Methode *fit_predict* unsere Daten. Im Modell wird eine 1 gespeichert, falls es sich um einen Ausreißer handelt, ansonsten eine -1.\n",
    "\n",
    "Standardmäßig werden Cluster von mindestens 20 Objekten erwartet. Da unser Beispiel viel weniger Datenpunkte hat, setzen wir hierfür den Wert auf 5."
   ]
  },
  {
   "cell_type": "code",
   "execution_count": null,
   "metadata": {},
   "outputs": [],
   "source": [
    "import seaborn as sns\n",
    "df = pd.DataFrame(np.array([[0,1], [1,1], [1,2], [1,3], [0,2],[2,2], [6,7]]), columns = [\"x\", \"y\"])\n",
    "print(df)\n",
    "_=sns.scatterplot(x=df.x, y=df.y)"
   ]
  },
  {
   "cell_type": "code",
   "execution_count": null,
   "metadata": {},
   "outputs": [],
   "source": [
    "from sklearn.neighbors import LocalOutlierFactor\n",
    "\n",
    "outlier_model = LocalOutlierFactor(n_neighbors=5).fit_predict(df)\n",
    "print(\"Ergebnis: 1=Kein Ausreißer, -1 = Ausreißer: \", outlier_model)\n",
    "print(\"Keine Ausreißer:\")\n",
    "print(df[outlier_model==1])\n",
    "print(\"Ausreißer:\")\n",
    "print(df[outlier_model==-1])\n",
    "\n",
    "# Scatterplot mit farblicher Darstellung des Ausreissers\n",
    "_=sns.scatterplot(x=df[outlier_model==1].x, y=df[outlier_model==1].y)\n",
    "_=sns.scatterplot(x=df[outlier_model==-1].y, y=df[outlier_model==-1].y, color=\"r\", label=\"Ausreißer\")\n"
   ]
  }
 ],
 "metadata": {
  "kernelspec": {
   "display_name": "Python 3",
   "language": "python",
   "name": "python3"
  },
  "language_info": {
   "codemirror_mode": {
    "name": "ipython",
    "version": 3
   },
   "file_extension": ".py",
   "mimetype": "text/x-python",
   "name": "python",
   "nbconvert_exporter": "python",
   "pygments_lexer": "ipython3",
   "version": "3.8.10"
  }
 },
 "nbformat": 4,
 "nbformat_minor": 4
}
