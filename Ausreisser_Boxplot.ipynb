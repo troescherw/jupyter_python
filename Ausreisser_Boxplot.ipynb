{
 "cells": [
  {
   "cell_type": "markdown",
   "metadata": {},
   "source": [
    "# Ausreißer (Boxplot)\n",
    "Wir erstellen mit ein paar Beispielwerten ein Boxplot-Diagramm mit Matplotlib."
   ]
  },
  {
   "cell_type": "code",
   "execution_count": 4,
   "metadata": {},
   "outputs": [
    {
     "data": {
      "image/png": "[encoded data removed]",
      "text/plain": [
       "<Figure size 432x288 with 1 Axes>"
      ]
     },
     "metadata": {
      "needs_background": "light"
     },
     "output_type": "display_data"
    }
   ],
   "source": [
    "%matplotlib inline\n",
    "\n",
    "import matplotlib.pyplot as plt\n",
    "\n",
    "daten = [3, 9, 17, 23, 27, 31, 42, 48, 57, 65]\n",
    "__=plt.boxplot(daten)"
   ]
  },
  {
   "cell_type": "markdown",
   "metadata": {},
   "source": [
    "Wir geben die Quantile aus:"
   ]
  },
  {
   "cell_type": "code",
   "execution_count": 5,
   "metadata": {},
   "outputs": [
    {
     "data": {
      "text/plain": [
       "array([18.5, 29. , 46.5])"
      ]
     },
     "execution_count": 5,
     "metadata": {},
     "output_type": "execute_result"
    }
   ],
   "source": [
    "import numpy as np\n",
    "np.quantile(daten, [0.25, 0.5, 0.75])"
   ]
  },
  {
   "cell_type": "markdown",
   "metadata": {},
   "source": [
    "Wir wenden dies auf den Datensatz *cars* an und erstellen Boxplot-Diagramme für die Verbräuche (*mpg*) für die Kategorie *cyl* (Anzahl Zylinder)."
   ]
  },
  {
   "cell_type": "code",
   "execution_count": 37,
   "metadata": {},
   "outputs": [
    {
     "data": {
      "image/png": "[encoded data removed]",
      "text/plain": [
       "<Figure size 432x288 with 1 Axes>"
      ]
     },
     "metadata": {
      "needs_background": "light"
     },
     "output_type": "display_data"
    }
   ],
   "source": [
    "import pandas as pd\n",
    "import matplotlib.pyplot as plt\n",
    "import matplotlib as m\n",
    "\n",
    "url = \"https://raw.githubusercontent.com/troescherw/datasets/master/cars.csv\"\n",
    "cars = pd.read_csv(url, delimiter=\";\")\n",
    "\n",
    "cyl4 = cars.loc[cars.cyl==4]\n",
    "cyl6 = cars.loc[cars.cyl==6]\n",
    "cyl8 = cars.loc[cars.cyl==8]\n",
    "\n",
    "import matplotlib.pyplot as plt\n",
    " \n",
    "value1 = [82,76,24,40,67,62,75,78,71,32,98,89,78,67,72,82,87,66,56,52]\n",
    "value2=[62,5,91,25,36,32,96,95,3,90,95,32,27,55,100,15,71,11,37,21]\n",
    "value3=[23,89,12,78,72,89,25,69,68,86,19,49,15,16,16,75,65,31,25,52]\n",
    "value4=[59,73,70,16,81,61,88,98,10,87,29,72,16,23,72,88,78,99,75,30]\n",
    " \n",
    "box_plot_data=[cyl4.mpg,cyl6.mpg,cyl8.mpg]\n",
    "plt.boxplot(box_plot_data, labels=[\"4 Zylinder\", \"6 Zyliner\", \"8 Zylinder\"])\n",
    "plt.title(\"Verbrauch in Milen pro Gallonen nach Anzahl Zylinder\")\n",
    "plt.ylabel(\"Miles per Gallon\")\n",
    "plt.show()"
   ]
  },
  {
   "cell_type": "markdown",
   "metadata": {},
   "source": [
    "Übung: Gegeben sei folgende Stichprobe: 7, 12, 8, 16, 19, 10, 12, 22, 19, 17, 35, 1\n",
    "\n",
    "- Ermitteln Sie den Median\n",
    "- Ermitteln Sie das untere und obere Quartil\n",
    "- Ermitteln Sie, ob es Ausreißer gibt\n",
    "- Kontrollieren Sie die Ergebnisse mit Hilfe von Python (siehe Beispiele oben) und erstellen Sie ein Boxplot-Diagramm"
   ]
  },
  {
   "cell_type": "code",
   "execution_count": null,
   "metadata": {},
   "outputs": [],
   "source": []
  }
 ],
 "metadata": {
  "kernelspec": {
   "display_name": "Python 3",
   "language": "python",
   "name": "python3"
  },
  "language_info": {
   "codemirror_mode": {
    "name": "ipython",
    "version": 3
   },
   "file_extension": ".py",
   "mimetype": "text/x-python",
   "name": "python",
   "nbconvert_exporter": "python",
   "pygments_lexer": "ipython3",
   "version": "3.7.6"
  }
 },
 "nbformat": 4,
 "nbformat_minor": 4
}
