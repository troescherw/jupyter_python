{
 "cells": [
  {
   "cell_type": "markdown",
   "metadata": {},
   "source": [
    "# Ausreißer (Boxplot)\n",
    "Wir erstellen mit ein paar Beispielwerten ein Boxplot-Diagramm mit Matplotlib."
   ]
  },
  {
   "cell_type": "code",
   "execution_count": null,
   "metadata": {},
   "outputs": [],
   "source": [
    "%matplotlib inline\n",
    "\n",
    "import matplotlib.pyplot as plt\n",
    "\n",
    "daten = [3, 9, 17, 23, 27, 31, 42, 48, 57, 65]\n",
    "__=plt.boxplot(daten)"
   ]
  },
  {
   "cell_type": "markdown",
   "metadata": {},
   "source": [
    "Wir geben die Quantile aus:"
   ]
  },
  {
   "cell_type": "code",
   "execution_count": null,
   "metadata": {},
   "outputs": [],
   "source": [
    "import numpy as np\n",
    "np.quantile(daten, [0.25, 0.5, 0.75])"
   ]
  },
  {
   "cell_type": "markdown",
   "metadata": {},
   "source": [
    "Wir wenden dies auf den Datensatz *cars* an und erstellen Boxplot-Diagramme für die Verbräuche (*mpg*) für die Kategorie *cyl* (Anzahl Zylinder)."
   ]
  },
  {
   "cell_type": "code",
   "execution_count": null,
   "metadata": {},
   "outputs": [],
   "source": [
    "import pandas as pd\n",
    "import matplotlib.pyplot as plt\n",
    "import matplotlib as m\n",
    "\n",
    "url = \"https://raw.githubusercontent.com/troescherw/datasets/master/cars.csv\"\n",
    "cars = pd.read_csv(url, delimiter=\";\")\n",
    "\n",
    "cyl4 = cars.loc[cars.cyl==4]\n",
    "cyl6 = cars.loc[cars.cyl==6]\n",
    "cyl8 = cars.loc[cars.cyl==8]\n",
    "\n",
    " \n",
    "box_plot_data=[cyl4.mpg,cyl6.mpg,cyl8.mpg]\n",
    "plt.boxplot(box_plot_data, labels=[\"4 Zylinder\", \"6 Zyliner\", \"8 Zylinder\"])\n",
    "plt.title(\"Verbrauch in Milen pro Gallonen nach Anzahl Zylinder\")\n",
    "plt.ylabel(\"Miles per Gallon\")\n",
    "plt.show()"
   ]
  },
  {
   "cell_type": "markdown",
   "metadata": {},
   "source": [
    "Übung: Gegeben sei folgende Stichprobe: 7, 12, 8, 16, 19, 10, 12, 22, 19, 17, 35, 1\n",
    "\n",
    "- Ermitteln Sie den Median\n",
    "- Ermitteln Sie das untere und obere Quartil\n",
    "- Ermitteln Sie, ob es Ausreißer gibt\n",
    "- Kontrollieren Sie die Ergebnisse mit Hilfe von Python (siehe Beispiele oben) und erstellen Sie ein Boxplot-Diagramm"
   ]
  },
  {
   "cell_type": "markdown",
   "metadata": {},
   "source": [
    "Tipp: Mit *seaborn* können auf einfachere Weise ansehnliche Boxplot-Diagramme erstellt werden."
   ]
  },
  {
   "cell_type": "code",
   "execution_count": null,
   "metadata": {},
   "outputs": [],
   "source": [
    "import seaborn as sns\n",
    "_=sns.boxplot(x=cars.cyl, y=cars.mpg, data=cars).set_title(\"Verbrauch in Milen pro Gallonen nach Anzahl Zylinder\")"
   ]
  }
 ],
 "metadata": {
  "kernelspec": {
   "display_name": "Python 3",
   "language": "python",
   "name": "python3"
  },
  "language_info": {
   "codemirror_mode": {
    "name": "ipython",
    "version": 3
   },
   "file_extension": ".py",
   "mimetype": "text/x-python",
   "name": "python",
   "nbconvert_exporter": "python",
   "pygments_lexer": "ipython3",
   "version": "3.8.5"
  }
 },
 "nbformat": 4,
 "nbformat_minor": 4
}
