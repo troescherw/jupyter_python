{
 "cells": [
  {
   "cell_type": "markdown",
   "metadata": {},
   "source": [
    "# Ausreißer (Boxplot)\n",
    "Wir erstellen mit ein paar Beispielwerten ein Boxplot-Diagramm mit Matplotlib."
   ]
  },
  {
   "cell_type": "code",
   "execution_count": 1,
   "metadata": {},
   "outputs": [
    {
     "data": {
      "image/png": "[encoded data removed]",
      "text/plain": [
       "<Figure size 432x288 with 1 Axes>"
      ]
     },
     "metadata": {
      "needs_background": "light"
     },
     "output_type": "display_data"
    }
   ],
   "source": [
    "%matplotlib inline\n",
    "\n",
    "import matplotlib.pyplot as plt\n",
    "\n",
    "daten = [3, 9, 17, 23, 27, 31, 42, 48, 57, 65]\n",
    "__=plt.boxplot(daten)"
   ]
  },
  {
   "cell_type": "markdown",
   "metadata": {},
   "source": [
    "Wir geben die Quantile aus:"
   ]
  },
  {
   "cell_type": "code",
   "execution_count": 2,
   "metadata": {},
   "outputs": [
    {
     "data": {
      "text/plain": [
       "array([18.5, 29. , 46.5])"
      ]
     },
     "execution_count": 2,
     "metadata": {},
     "output_type": "execute_result"
    }
   ],
   "source": [
    "import numpy as np\n",
    "np.quantile(daten, [0.25, 0.5, 0.75])"
   ]
  },
  {
   "cell_type": "markdown",
   "metadata": {},
   "source": [
    "Wir wenden dies auf den Datensatz *cars* an und erstellen Boxplot-Diagramme für die Verbräuche (*mpg*) für die Kategorie *cyl* (Anzahl Zylinder)."
   ]
  },
  {
   "cell_type": "code",
   "execution_count": 3,
   "metadata": {},
   "outputs": [
    {
     "data": {
      "image/png": "[encoded data removed]",
      "text/plain": [
       "<Figure size 432x288 with 1 Axes>"
      ]
     },
     "metadata": {
      "needs_background": "light"
     },
     "output_type": "display_data"
    }
   ],
   "source": [
    "import pandas as pd\n",
    "import matplotlib.pyplot as plt\n",
    "import matplotlib as m\n",
    "\n",
    "url = \"https://raw.githubusercontent.com/troescherw/datasets/master/cars.csv\"\n",
    "cars = pd.read_csv(url, delimiter=\";\")\n",
    "\n",
    "cyl4 = cars.loc[cars.cyl==4]\n",
    "cyl6 = cars.loc[cars.cyl==6]\n",
    "cyl8 = cars.loc[cars.cyl==8]\n",
    "\n",
    " \n",
    "box_plot_data=[cyl4.mpg,cyl6.mpg,cyl8.mpg]\n",
    "plt.boxplot(box_plot_data, labels=[\"4 Zylinder\", \"6 Zyliner\", \"8 Zylinder\"])\n",
    "plt.title(\"Verbrauch in Milen pro Gallonen nach Anzahl Zylinder\")\n",
    "plt.ylabel(\"Miles per Gallon\")\n",
    "plt.show()"
   ]
  },
  {
   "cell_type": "markdown",
   "metadata": {},
   "source": [
    "Tipp: Mit *seaborn* können auf einfachere Weise ansehnliche Boxplot-Diagramme erstellt werden."
   ]
  },
  {
   "cell_type": "code",
   "execution_count": 4,
   "metadata": {},
   "outputs": [
    {
     "data": {
      "image/png": "[encoded data removed]",
      "text/plain": [
       "<Figure size 432x288 with 1 Axes>"
      ]
     },
     "metadata": {
      "needs_background": "light"
     },
     "output_type": "display_data"
    }
   ],
   "source": [
    "import seaborn as sns\n",
    "_=sns.boxplot(x=cars.cyl, y=cars.mpg, data=cars).set_title(\"Verbrauch in Milen pro Gallonen nach Anzahl Zylinder\")"
   ]
  },
  {
   "cell_type": "markdown",
   "metadata": {},
   "source": [
    "Wir entfernen nun Ausreißer, in dem wir alle Daten, die mehr als 1,5 * dem IQR vom unteren bzw. oberen Quartil entfernt sind, aus dem Datensatz entfernen. Verwenden wir hierzu die Autos mit 8 Zylindern:"
   ]
  },
  {
   "cell_type": "code",
   "execution_count": 74,
   "metadata": {},
   "outputs": [
    {
     "data": {
      "text/plain": [
       "<AxesSubplot:ylabel='mpg'>"
      ]
     },
     "execution_count": 74,
     "metadata": {},
     "output_type": "execute_result"
    },
    {
     "data": {
      "image/png": "[encoded data removed]",
      "text/plain": [
       "<Figure size 432x288 with 1 Axes>"
      ]
     },
     "metadata": {
      "needs_background": "light"
     },
     "output_type": "display_data"
    }
   ],
   "source": [
    "autos8cyl = cars.loc[cars.cyl==8]\n",
    "sns.boxplot(y=autos8cyl.mpg)"
   ]
  },
  {
   "cell_type": "code",
   "execution_count": 121,
   "metadata": {},
   "outputs": [
    {
     "name": "stdout",
     "output_type": "stream",
     "text": [
      "IQR= 1.8499999999999979\n"
     ]
    },
    {
     "data": {
      "text/plain": [
       "4     18.7\n",
       "6     14.3\n",
       "11    16.4\n",
       "12    17.3\n",
       "13    15.2\n",
       "16    14.7\n",
       "21    15.5\n",
       "22    15.2\n",
       "23    13.3\n",
       "28    15.8\n",
       "30    15.0\n",
       "Name: mpg, dtype: float64"
      ]
     },
     "execution_count": 121,
     "metadata": {},
     "output_type": "execute_result"
    }
   ],
   "source": [
    "# Ermittle unteres und oberes Quartil\n",
    "q1 =  autos8cyl.mpg.quantile(q=.25)\n",
    "q3 =  autos8cyl.mpg.quantile(q=.75)\n",
    "iqr = q3 - q1\n",
    "print(\"IQR=\", iqr)\n",
    "df_no_outliers = autos8cyl.mpg[(autos8cyl.mpg > q1 - 1.5*iqr) & (autos8cyl.mpg < q3 + 1.5*iqr)]\n",
    "df_no_outliers\n",
    "\n"
   ]
  },
  {
   "cell_type": "markdown",
   "metadata": {},
   "source": [
    "## Ausreißer mit LOF (Local Outlier Factor)\n",
    "Einfache Methode: Alle Werte, die (zum Beispiel) mehr als 1,5 Standardabweichungen \"entfernt\" liegen, werden als Ausreißer definiert (man kann natürlich auch 2 oder sogar 3 Standardabweichungen einsetzen).\n",
    "\n",
    "Mit der Funktion *zscore* ermitteln wir die Standardabweichungen der normierten Daten. Wir benötigen den Absolutwert, da uns nur die Entfernung interessiert - egal ob die Daten zu groß oder zu klein sind. Durch Vergleich mit z.B. 1.5 ergeben sich True- bzw.Falsewerte. Damit selektieren wir die Daten im DataFrame."
   ]
  },
  {
   "cell_type": "code",
   "execution_count": 36,
   "metadata": {},
   "outputs": [
    {
     "data": {
      "text/html": [
       "<div>\n",
       "<style scoped>\n",
       "    .dataframe tbody tr th:only-of-type {\n",
       "        vertical-align: middle;\n",
       "    }\n",
       "\n",
       "    .dataframe tbody tr th {\n",
       "        vertical-align: top;\n",
       "    }\n",
       "\n",
       "    .dataframe thead th {\n",
       "        text-align: right;\n",
       "    }\n",
       "</style>\n",
       "<table border=\"1\" class=\"dataframe\">\n",
       "  <thead>\n",
       "    <tr style=\"text-align: right;\">\n",
       "      <th></th>\n",
       "      <th>Daten</th>\n",
       "    </tr>\n",
       "  </thead>\n",
       "  <tbody>\n",
       "    <tr>\n",
       "      <th>0</th>\n",
       "      <td>5</td>\n",
       "    </tr>\n",
       "    <tr>\n",
       "      <th>1</th>\n",
       "      <td>4</td>\n",
       "    </tr>\n",
       "    <tr>\n",
       "      <th>2</th>\n",
       "      <td>2</td>\n",
       "    </tr>\n",
       "    <tr>\n",
       "      <th>3</th>\n",
       "      <td>4</td>\n",
       "    </tr>\n",
       "    <tr>\n",
       "      <th>4</th>\n",
       "      <td>5</td>\n",
       "    </tr>\n",
       "    <tr>\n",
       "      <th>5</th>\n",
       "      <td>7</td>\n",
       "    </tr>\n",
       "    <tr>\n",
       "      <th>6</th>\n",
       "      <td>1</td>\n",
       "    </tr>\n",
       "    <tr>\n",
       "      <th>7</th>\n",
       "      <td>4</td>\n",
       "    </tr>\n",
       "    <tr>\n",
       "      <th>9</th>\n",
       "      <td>4</td>\n",
       "    </tr>\n",
       "    <tr>\n",
       "      <th>10</th>\n",
       "      <td>3</td>\n",
       "    </tr>\n",
       "    <tr>\n",
       "      <th>11</th>\n",
       "      <td>2</td>\n",
       "    </tr>\n",
       "    <tr>\n",
       "      <th>12</th>\n",
       "      <td>4</td>\n",
       "    </tr>\n",
       "  </tbody>\n",
       "</table>\n",
       "</div>"
      ],
      "text/plain": [
       "    Daten\n",
       "0       5\n",
       "1       4\n",
       "2       2\n",
       "3       4\n",
       "4       5\n",
       "5       7\n",
       "6       1\n",
       "7       4\n",
       "9       4\n",
       "10      3\n",
       "11      2\n",
       "12      4"
      ]
     },
     "execution_count": 36,
     "metadata": {},
     "output_type": "execute_result"
    }
   ],
   "source": [
    "from scipy import stats\n",
    "import pandas as pd\n",
    "\n",
    "df = pd.DataFrame({\"Daten\":[5,4,2,4,5,7,1,4,150,4,3,2,4]}) # 150 = Ausreißer\n",
    "df[np.abs(stats.zscore(df)) < 1.5]\n"
   ]
  },
  {
   "cell_type": "markdown",
   "metadata": {},
   "source": [
    "Eine häufig angewandte Größe, um Ausreißer zu bestimmen, nennt sich LOF (Local Outlier Factor). Hier wird die \"Dichte\" der Daten ermittelt, also die Anzahl der in einer bestimmten Umgebung anzutreffenden Datenpunkte. Ist ein Punkt zu weit von diesen \"Clutern\" entfernt, also die Dichte zu gering, so liegt ein Ausreißer vor.\n",
    "\n",
    "Hier verwenden wir hierfür die Klasse *LocalOutlierFactor*. Wir erstellen ein Objekt und übergeben die Methode *fit_predict* unsere Daten. Im Modell wird eine 1 gespeichert, falls es sich um einen Ausreißer handelt, ansonsten eine -1.\n",
    "\n",
    "Standardmäßig werden Cluster von mindestens 20 Objekten erwartet. Da unser Beispiel viel weniger Datenpunkte hat, setzen wir hierfür den Wert auf 5."
   ]
  },
  {
   "cell_type": "code",
   "execution_count": 48,
   "metadata": {},
   "outputs": [
    {
     "data": {
      "image/png": "[encoded data removed]",
      "text/plain": [
       "<Figure size 432x288 with 1 Axes>"
      ]
     },
     "metadata": {
      "needs_background": "light"
     },
     "output_type": "display_data"
    }
   ],
   "source": [
    "import seaborn as sns\n",
    "df = pd.DataFrame(np.array([[0,1], [1,1], [1,2], [1,3], [0,2],[2,2], [6,7]]), columns = [\"x\", \"y\"])\n",
    "_=sns.scatterplot(x=df.x, y=df.y)"
   ]
  },
  {
   "cell_type": "code",
   "execution_count": 68,
   "metadata": {},
   "outputs": [
    {
     "name": "stdout",
     "output_type": "stream",
     "text": [
      "Ergebnis: 1=Kein Ausreißer, -1 = Ausreißer:  [ 1  1  1  1  1  1 -1]\n",
      "Keine Ausreißer:\n",
      "   x  y\n",
      "0  0  1\n",
      "1  1  1\n",
      "2  1  2\n",
      "3  1  3\n",
      "4  0  2\n",
      "5  2  2\n",
      "Ausreißer:\n",
      "   x  y\n",
      "6  6  7\n"
     ]
    }
   ],
   "source": [
    "from sklearn.neighbors import LocalOutlierFactor\n",
    "\n",
    "outlier_model = LocalOutlierFactor(n_neighbors=5).fit_predict(df)\n",
    "print(\"Ergebnis: 1=Kein Ausreißer, -1 = Ausreißer: \", outlier_model)\n",
    "print(\"Keine Ausreißer:\")\n",
    "print(df[outlier_model==1])\n",
    "print(\"Ausreißer:\")\n",
    "print(df[outlier_model==-1])"
   ]
  }
 ],
 "metadata": {
  "kernelspec": {
   "display_name": "Python 3",
   "language": "python",
   "name": "python3"
  },
  "language_info": {
   "codemirror_mode": {
    "name": "ipython",
    "version": 3
   },
   "file_extension": ".py",
   "mimetype": "text/x-python",
   "name": "python",
   "nbconvert_exporter": "python",
   "pygments_lexer": "ipython3",
   "version": "3.8.8"
  }
 },
 "nbformat": 4,
 "nbformat_minor": 4
}
