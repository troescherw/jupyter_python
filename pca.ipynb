{
 "cells": [
  {
   "cell_type": "markdown",
   "id": "3bc952cb",
   "metadata": {},
   "source": [
    "# Principal Component Analysis (PCA)\n",
    "\n",
    "Wir wollen zuerst die PCA anhand eines einfachen Beispiel mit Hilfe der Linearen Algebra \"händisch\" durchführen. Anschließend verwendenw wir die Klasse *PCA* aus dem Package *sklearn.decomposition*.\n",
    "\n",
    "## Eigenständige Durchführung der PCA\n",
    "Wir erstellen zuerst einen simplen, 2-Dimensionalen Datensatz und erstellen daraus einen Scatterplot."
   ]
  },
  {
   "cell_type": "code",
   "execution_count": 1,
   "id": "e2994050",
   "metadata": {},
   "outputs": [
    {
     "name": "stdout",
     "output_type": "stream",
     "text": [
      "    X    Y\n",
      "0   1   12\n",
      "1   3   34\n",
      "2   7   67\n",
      "3   8   99\n",
      "4  10  133\n",
      "5  12  159\n",
      "6  17  167\n",
      "7  25  198\n"
     ]
    },
    {
     "data": {
      "image/png": "[encoded data removed]",
      "text/plain": [
       "<Figure size 432x288 with 1 Axes>"
      ]
     },
     "metadata": {
      "needs_background": "light"
     },
     "output_type": "display_data"
    }
   ],
   "source": [
    "import pandas as pd\n",
    "import matplotlib.pyplot as plt\n",
    "\n",
    "df = pd.DataFrame({\"X\":[1,3,7,8,10,12,17,25],\n",
    "                   \"Y\":[12,34,67,99,133,159,167,198]})\n",
    "\n",
    "print(df)\n",
    "\n",
    "plt.scatter(df.X, df.Y, color=\"r\")\n",
    "plt.title(\"Beispieldaten für PCA\")\n",
    "plt.xlabel(\"X\")\n",
    "plt.ylabel(\"Y\")\n",
    "plt.show()"
   ]
  },
  {
   "cell_type": "markdown",
   "id": "605c0f39",
   "metadata": {},
   "source": [
    "Nun skalieren wir die Daten und zentrieren diese. Wir subtrahieren von den X- und Y-Werten jeweils deren Mittelwerte."
   ]
  },
  {
   "cell_type": "code",
   "execution_count": 2,
   "id": "b463a1a2",
   "metadata": {},
   "outputs": [
    {
     "data": {
      "image/png": "[encoded data removed]",
      "text/plain": [
       "<Figure size 432x288 with 1 Axes>"
      ]
     },
     "metadata": {
      "needs_background": "light"
     },
     "output_type": "display_data"
    }
   ],
   "source": [
    "from sklearn.preprocessing import StandardScaler\n",
    "\n",
    "df_scaled = pd.DataFrame(StandardScaler().fit_transform(df[[\"X\", \"Y\"]]), columns=df.columns)\n",
    "x_mean = df_scaled.X.mean()\n",
    "y_mean = df_scaled.Y.mean()\n",
    "\n",
    "df_centered = pd.DataFrame({\"X\": df_scaled.X-x_mean, \"Y\": df_scaled.Y - y_mean}, columns = df.columns)\n",
    "\n",
    "plt.scatter(df_centered.X, df_centered.Y)\n",
    "plt.axvline(x=0, color='k', linestyle='--')\n",
    "plt.axhline(y=0, color='k', linestyle='--')\n",
    "plt.title(\"Beispieldaten für PCA, skaliert und zentriert\")\n",
    "plt.xlabel(\"X\")\n",
    "plt.ylabel(\"Y\")\n",
    "plt.show()\n"
   ]
  },
  {
   "cell_type": "markdown",
   "id": "1b7219df",
   "metadata": {},
   "source": [
    "Nun berechnen wir die Kovarianz-Matrix sowie die Eigenwerte (eigw) und Eigenvektoren (eigv)."
   ]
  },
  {
   "cell_type": "code",
   "execution_count": 3,
   "id": "dafdcaf0",
   "metadata": {},
   "outputs": [
    {
     "name": "stdout",
     "output_type": "stream",
     "text": [
      "Kovarianzmatrix:\n",
      "\n",
      "          X         Y\n",
      "X  1.142857  1.068206\n",
      "Y  1.068206  1.142857\n",
      "\n",
      "Eigenwerte: [2.2110636  0.07465068],\n",
      "Eigenvektoren:\n",
      " [[ 0.70710678 -0.70710678]\n",
      " [ 0.70710678  0.70710678]]\n"
     ]
    }
   ],
   "source": [
    "import numpy as np\n",
    "\n",
    "kovmatr = pd.DataFrame.cov(df_centered)\n",
    "print(\"Kovarianzmatrix:\\n\")\n",
    "print(kovmatr)\n",
    "print()\n",
    "\n",
    "# Berechne Eigenwerte und Eigenvektoren\n",
    "eigw, eigv = np.linalg.eig(kovmatr)\n",
    "\n",
    "print(f\"Eigenwerte: {eigw},\\nEigenvektoren:\\n {eigv}\")"
   ]
  },
  {
   "cell_type": "markdown",
   "id": "62a2dd20",
   "metadata": {},
   "source": [
    "Wir multiplizieren unsere zenrierten Daten mit dem Eigenvektor:"
   ]
  },
  {
   "cell_type": "code",
   "execution_count": 4,
   "id": "028d14ee",
   "metadata": {},
   "outputs": [
    {
     "name": "stdout",
     "output_type": "stream",
     "text": [
      "0   -2.008092\n",
      "1   -1.564013\n",
      "2   -0.800289\n",
      "3   -0.340691\n",
      "4    0.239135\n",
      "5    0.728464\n",
      "6    1.306985\n",
      "7    2.438502\n",
      "dtype: float64\n"
     ]
    }
   ],
   "source": [
    "df_1dim1 = df_centered @ eigv[1]\n",
    "print(df_1dim1)"
   ]
  },
  {
   "cell_type": "markdown",
   "id": "71ddbd22",
   "metadata": {},
   "source": [
    "## Vergleich mit Klasse PCA\n",
    "Wir verwenden nun die Klasse *PCA* aus dem Package *sklearn.decomposition*. Als Daten übergeben wir die skalierten Daten. Eine Zentrierung erledigt die *fit*-Methode für uns."
   ]
  },
  {
   "cell_type": "code",
   "execution_count": 5,
   "id": "c3805dae",
   "metadata": {},
   "outputs": [
    {
     "name": "stdout",
     "output_type": "stream",
     "text": [
      "Eigenvektor: [[0.70710678 0.70710678]]\n",
      "Eigenwert: [2.2110636]\n",
      "Tranformierte Daten: \n",
      "\n",
      "[[-2.00809186]\n",
      " [-1.56401257]\n",
      " [-0.80028909]\n",
      " [-0.34069149]\n",
      " [ 0.2391352 ]\n",
      " [ 0.72846363]\n",
      " [ 1.30698456]\n",
      " [ 2.43850161]]\n"
     ]
    }
   ],
   "source": [
    "from sklearn.decomposition import PCA\n",
    "\n",
    "pca = PCA(n_components=1)\n",
    "pca.fit(df_scaled)\n",
    "print(f\"Eigenvektor: {pca.components_}\")\n",
    "print(f\"Eigenwert: {pca.explained_variance_}\")\n",
    "print(\"Tranformierte Daten: \\n\")\n",
    "df_1dim2 = pca.transform(df_scaled)\n",
    "print(df_1dim2)"
   ]
  },
  {
   "cell_type": "markdown",
   "id": "48307376",
   "metadata": {},
   "source": [
    "## Beispiel: PCA mit IRIS\n",
    "\n",
    "Wir erstellen ein Modell Random Forest (Klassifikation), um die IRIS-Spezies vorherzusagen. Zuerst mit allen 4 Features, danach mit Hilfe von PCA auf 2 Features reduziert. Wir berechnen jeweils die Accuracy."
   ]
  },
  {
   "cell_type": "code",
   "execution_count": 6,
   "id": "951d46c4",
   "metadata": {},
   "outputs": [],
   "source": [
    "from sklearn.datasets import load_iris\n",
    "from sklearn.preprocessing import StandardScaler\n",
    "from sklearn.model_selection import train_test_split\n",
    "\n",
    "data = load_iris()\n",
    "\n",
    "X = StandardScaler().fit_transform(data.data)\n",
    "y = data.target\n",
    "\n",
    "X_train, X_test, y_train, y_test = train_test_split(X,y,shuffle=True,test_size=0.3, random_state=23)\n"
   ]
  },
  {
   "cell_type": "code",
   "execution_count": 7,
   "id": "1fbcfbfe",
   "metadata": {},
   "outputs": [
    {
     "name": "stdout",
     "output_type": "stream",
     "text": [
      "0.9777777777777777\n"
     ]
    }
   ],
   "source": [
    "from sklearn.ensemble import RandomForestClassifier\n",
    "\n",
    "forest1 = RandomForestClassifier(n_estimators=50).fit(X_train, y_train)\n",
    "print(forest1.score(X_test, y_test))"
   ]
  },
  {
   "cell_type": "markdown",
   "id": "b9d4f44e",
   "metadata": {},
   "source": [
    "Wir reduzieren auf nur 2 Features:"
   ]
  },
  {
   "cell_type": "code",
   "execution_count": 8,
   "id": "f7ae36ef",
   "metadata": {},
   "outputs": [
    {
     "name": "stdout",
     "output_type": "stream",
     "text": [
      "0.9333333333333333\n"
     ]
    }
   ],
   "source": [
    "pca = PCA(n_components=3)\n",
    "\n",
    "X_train_pca = pca.fit_transform(X_train)\n",
    "X_test_pca = pca.fit_transform(X_test)\n",
    "\n",
    "forest2 = RandomForestClassifier(n_estimators=100).fit(X_train_pca, y_train)\n",
    "print(forest2.score(X_test_pca, y_test))"
   ]
  },
  {
   "cell_type": "markdown",
   "id": "aabd7753",
   "metadata": {},
   "source": [
    "Wir reduzieren auf nur 2 Features:"
   ]
  },
  {
   "cell_type": "code",
   "execution_count": 9,
   "id": "0d8e617e",
   "metadata": {},
   "outputs": [
    {
     "name": "stdout",
     "output_type": "stream",
     "text": [
      "0.8888888888888888\n"
     ]
    }
   ],
   "source": [
    "pca = PCA(n_components=2)\n",
    "\n",
    "X_train_pca = pca.fit_transform(X_train)\n",
    "X_test_pca = pca.fit_transform(X_test)\n",
    "\n",
    "forest3 = RandomForestClassifier(n_estimators=100).fit(X_train_pca, y_train)\n",
    "print(forest3.score(X_test_pca, y_test))"
   ]
  }
 ],
 "metadata": {
  "kernelspec": {
   "display_name": "Python 3",
   "language": "python",
   "name": "python3"
  },
  "language_info": {
   "codemirror_mode": {
    "name": "ipython",
    "version": 3
   },
   "file_extension": ".py",
   "mimetype": "text/x-python",
   "name": "python",
   "nbconvert_exporter": "python",
   "pygments_lexer": "ipython3",
   "version": "3.8.10"
  }
 },
 "nbformat": 4,
 "nbformat_minor": 5
}
