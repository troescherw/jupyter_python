{
 "cells": [
  {
   "cell_type": "markdown",
   "id": "therapeutic-syndrome",
   "metadata": {},
   "source": [
    "# Logistische Regression\n",
    "Beispiel: Besteht ein Student / eine Studentin eine Klausur unter Berücksichtigung der Anzahl Stunden für die Vorbereitung auf die Klausur?\n",
    "\n",
    "Wir laden zuerst den Datensatz."
   ]
  },
  {
   "cell_type": "code",
   "execution_count": null,
   "id": "lovely-washington",
   "metadata": {},
   "outputs": [],
   "source": [
    "import pandas as pd\n",
    "url = \"https://raw.githubusercontent.com/troescherw/datasets/master/Klausur_Bestanden.csv\"\n",
    "df = pd.read_csv(url, delimiter=\";\")\n",
    "df.head()"
   ]
  },
  {
   "cell_type": "markdown",
   "id": "compressed-science",
   "metadata": {},
   "source": [
    "Wir erstellen einen Scatterplot."
   ]
  },
  {
   "cell_type": "code",
   "execution_count": null,
   "id": "great-april",
   "metadata": {},
   "outputs": [],
   "source": [
    "%matplotlib inline\n",
    "import matplotlib.pyplot as plt\n",
    "plt.scatter(df.Stunden, df.KlausurBestanden)\n",
    "plt.show()"
   ]
  },
  {
   "cell_type": "markdown",
   "id": "promotional-korea",
   "metadata": {},
   "source": [
    "Nun erstellen wir ein Vorhersagemodell mit Hilfe der Logistischen Regression. Wir verwenden wieder das Package *statsmodels.formula.api*. Als *family* geben wir *Binomial* an, da unsere abhängige Variable nur 2 Zustände annehmen kann (0 oder 1). *glm\" steht für *Generalized Linear Model*."
   ]
  },
  {
   "cell_type": "code",
   "execution_count": null,
   "id": "operational-expert",
   "metadata": {},
   "outputs": [],
   "source": [
    "import statsmodels.formula.api as smf\n",
    "import statsmodels.api as sm\n",
    "\n",
    "model = smf.glm(\"KlausurBestanden~Stunden\", data=df, family=sm.families.Binomial()).fit()\n",
    "model.summary()"
   ]
  },
  {
   "cell_type": "markdown",
   "id": "crucial-victim",
   "metadata": {},
   "source": [
    "Die Koeffizienten lauten:\n",
    "\n",
    "Für $\\beta_0$: -2,39\n",
    "\n",
    "Für $\\beta_1$: 0,165\n",
    "\n",
    "Damit ergibt sich folgende Formel für die Berechnung von P(\"Klausur bestanden\"):\n",
    "\n",
    "$P(Klausur Bestanden) = \\frac{1}{1+e^{2,93-0,165\\cdot Stunden}}$\n",
    "\n",
    "Wollen wir also zum Beispiel die Wahrscheinlichkeit berechnen, dass eine Studentin eine Klausur besteht, wenn Sie sich 30 Stunden auf die Klausur vorbereitet hat:\n",
    "\n",
    "$P(Klausur Bestanden) = \\frac{1}{1+e^{2,39-0,165\\cdot 30}} = 0,93$\n",
    "\n",
    "Oder wir berechnen diesen Wert mit Hilfe der *pred*-Funktion:"
   ]
  },
  {
   "cell_type": "code",
   "execution_count": null,
   "id": "amino-immunology",
   "metadata": {},
   "outputs": [],
   "source": [
    "model.predict({\"Stunden\":30})"
   ]
  },
  {
   "cell_type": "markdown",
   "id": "victorian-ceramic",
   "metadata": {},
   "source": [
    "Wir plotten noch die \"Schwanenhalsfunktion\" für die Vorhersagewahrscheinlichkeiten im Bereich der kleinsten und größten Stundenzahl aus dem Datensatz."
   ]
  },
  {
   "cell_type": "code",
   "execution_count": null,
   "id": "conventional-finish",
   "metadata": {},
   "outputs": [],
   "source": [
    "%matplotlib inline\n",
    "import matplotlib.pyplot as plt\n",
    "import numpy as np\n",
    "\n",
    "x = np.linspace(df.Stunden.min(), df.Stunden.max())\n",
    "y = model.predict(pd.DataFrame({\"Stunden\":x}))\n",
    "\n",
    "plt.plot(x,y)\n",
    "plt.xlabel(\"Stunden gelernt\")\n",
    "plt.ylabel(\"P(Klausur bestanden)\")\n",
    "plt.show()\n"
   ]
  }
 ],
 "metadata": {
  "kernelspec": {
   "display_name": "Python 3",
   "language": "python",
   "name": "python3"
  },
  "language_info": {
   "codemirror_mode": {
    "name": "ipython",
    "version": 3
   },
   "file_extension": ".py",
   "mimetype": "text/x-python",
   "name": "python",
   "nbconvert_exporter": "python",
   "pygments_lexer": "ipython3",
   "version": "3.8.8"
  }
 },
 "nbformat": 4,
 "nbformat_minor": 5
}
