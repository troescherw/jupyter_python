{
 "cells": [
  {
   "cell_type": "markdown",
   "id": "29a74b93-7f7a-4451-8754-1a20217aeb9e",
   "metadata": {},
   "source": [
    "# Grundlagen der Statistik\n",
    "## für Informatiker\n",
    "### Wolfgang Tröscher, SPE München\n",
    "### Stand: 21.02.2024\n",
    "\n",
    "In diesem Dokument soll gezeigt werden, wie wir die statischen Berechnungen, die in dem Skript ##Grundlagen der Statistik (für Informatiker)** mit Hilfe der Programmiersprache **Python** durchführen können. Ich gehe hier strikt nach den Kapiteln im Skript vor, sodass man leicht den gesuchten Python-Code finden sollte. auch die Kapitelnummern stimmen jeweils überein.\n",
    "\n",
    "Als Datenstruktur verwende ich hier immer ein Numpy-Array."
   ]
  },
  {
   "cell_type": "markdown",
   "id": "3e19ec26-6fcd-4b08-9b63-2a550c9ef216",
   "metadata": {},
   "source": [
    "# Kapitel 3: Deskriptive Statistik\n",
    "## 3.1 Lageparameter"
   ]
  },
  {
   "cell_type": "code",
   "execution_count": 460,
   "id": "e460ebc7-423f-40ee-bcbd-997af9cc468f",
   "metadata": {},
   "outputs": [
    {
     "name": "stdout",
     "output_type": "stream",
     "text": [
      "8.0\n"
     ]
    }
   ],
   "source": [
    "import numpy as np\n",
    "x = np.array([3,5,7,10,15])\n",
    "\n",
    "# Der Mittelwert\n",
    "print(np.mean(x))"
   ]
  },
  {
   "cell_type": "code",
   "execution_count": 461,
   "id": "d14ec505-8061-405e-9cd9-3d12c53eb2ff",
   "metadata": {},
   "outputs": [
    {
     "name": "stdout",
     "output_type": "stream",
     "text": [
      "15.5\n"
     ]
    }
   ],
   "source": [
    "# Der Median\n",
    "x = np.array([4,8,15,16,23,42])\n",
    "print(np.median(x))"
   ]
  },
  {
   "cell_type": "code",
   "execution_count": 462,
   "id": "0bc575b9-607f-42d4-9072-b398fda9dac9",
   "metadata": {},
   "outputs": [
    {
     "name": "stdout",
     "output_type": "stream",
     "text": [
      "Methode = inverted_cdf, Wert = [13]\n",
      "Methode = averaged_inverted_cdf, Wert = [13.]\n",
      "Methode = closest_observation, Wert = [13]\n",
      "Methode = interpolated_inverted_cdf, Wert = [12.7]\n",
      "Methode = hazen, Wert = [13.2]\n",
      "Methode = weibull, Wert = [13.4]\n",
      "Methode = linear, Wert = [13.]\n",
      "Methode = median_unbiased, Wert = [13.26666667]\n",
      "Methode = normal_unbiased, Wert = [13.25]\n"
     ]
    }
   ],
   "source": [
    "# Quantile\n",
    "# Numpy bietet  hier mehrere Varianten für die Berechnung an:\n",
    "# ‘inverted_cdf’\n",
    "# ‘averaged_inverted_cdf’\n",
    "# ‘closest_observation’\n",
    "# ‘interpolated_inverted_cdf’\n",
    "# ‘hazen’\n",
    "# ‘weibull’\n",
    "# ‘linear’ (default)\n",
    "# ‘median_unbiased’\n",
    "# ‘normal_unbiased’\n",
    "\n",
    "# Wir berechnen für alle diese Mögichkeiten das 70%-Quantil\n",
    "methods = [\"inverted_cdf\", \"averaged_inverted_cdf\", \"closest_observation\", \"interpolated_inverted_cdf\", \"hazen\", \"weibull\", \"linear\", \"median_unbiased\",\n",
    "           \"normal_unbiased\"]\n",
    "\n",
    "x = np.array([3,5,7,8,9,11,12,13,14,16,18])\n",
    "\n",
    "for method in methods:\n",
    "    print(f\"Methode = {method}, Wert = {np.quantile(x, q = [0.7], method=method)}\")"
   ]
  },
  {
   "cell_type": "code",
   "execution_count": 463,
   "id": "b8f01360-fd3a-41ed-8350-420369fa1c96",
   "metadata": {},
   "outputs": [
    {
     "name": "stdout",
     "output_type": "stream",
     "text": [
      "ModeResult(mode=2, count=3)\n"
     ]
    }
   ],
   "source": [
    "# Modus\n",
    "from scipy.stats import mode\n",
    "x = np.array([4,1,2,4,3,4,2,5,2,3])\n",
    "print(mode(x))\n",
    "\n",
    "# Diese Funktion liefert im Falle, dass mehrere Zahlen mit der gleichen maximalen Häufigkeit vorkommen, nur eine (die kleinere) zurück."
   ]
  },
  {
   "cell_type": "markdown",
   "id": "e259d8bd-24df-4027-8a6f-06489578bf3a",
   "metadata": {},
   "source": [
    "## 3.2 Streuungsparameter"
   ]
  },
  {
   "cell_type": "code",
   "execution_count": 465,
   "id": "2b0f0ee0-af79-4869-98bb-55e42b7b001b",
   "metadata": {},
   "outputs": [
    {
     "name": "stdout",
     "output_type": "stream",
     "text": [
      "13\n"
     ]
    }
   ],
   "source": [
    "# Interquartilsabstand IQR\n",
    "from scipy.stats import iqr\n",
    "x = np.array([5,7,8,12,13,14,18,21,23,29])\n",
    "print(iqr(x, interpolation=\"nearest\"))"
   ]
  },
  {
   "cell_type": "code",
   "execution_count": 466,
   "id": "acfc3759-33b7-4cf6-ab28-60d6eb8cfbb4",
   "metadata": {},
   "outputs": [
    {
     "data": {
      "image/png": "[encoded data removed]",
      "text/plain": [
       "<Figure size 640x480 with 1 Axes>"
      ]
     },
     "metadata": {},
     "output_type": "display_data"
    }
   ],
   "source": [
    "# Boxplot-Diagramme (hier mit Hilfe des Paktes seaborn)\n",
    "import matplotlib.pyplot as plt\n",
    "import seaborn as sns\n",
    "sns.boxplot(x, orient=\"h\", color=\"#009997\").set_title(\"Boxplot-Diagramm\")\n",
    "plt.show()"
   ]
  },
  {
   "cell_type": "code",
   "execution_count": 467,
   "id": "c7615e06-469f-4899-a9fc-32784fe0a476",
   "metadata": {},
   "outputs": [
    {
     "name": "stdout",
     "output_type": "stream",
     "text": [
      "24\n"
     ]
    }
   ],
   "source": [
    "# Spannweite\n",
    "x = np.array([5,7,8,12,13,14,18,21,23,29])\n",
    "print(np.max(x) - np.min(x))"
   ]
  },
  {
   "cell_type": "code",
   "execution_count": 468,
   "id": "d8386871-f9cc-443c-be86-d909122089d5",
   "metadata": {},
   "outputs": [
    {
     "name": "stdout",
     "output_type": "stream",
     "text": [
      "Varianz der Population = 53.2\n",
      "Varianz der Stichprobe (df=n-1) = 59.111111111111114\n"
     ]
    }
   ],
   "source": [
    "# Varianz\n",
    "x = np.array([5,7,8,12,13,14,18,21,23,29])\n",
    "\n",
    "# Der Population\n",
    "print(f\"Varianz der Population = {np.var(x)}\")\n",
    "\n",
    "# Der Stichprobe\n",
    "print(f\"Varianz der Stichprobe (df=n-1) = {np.var(x, ddof=1)}\")"
   ]
  },
  {
   "cell_type": "code",
   "execution_count": 469,
   "id": "fb824f9f-e541-4bf9-b1db-ccb69e843322",
   "metadata": {},
   "outputs": [
    {
     "name": "stdout",
     "output_type": "stream",
     "text": [
      "Standardabweichung der Population = 7.293833011524188\n",
      "Standardabweichung der Stichprobe (df=n-1) = 7.688375063113864\n"
     ]
    }
   ],
   "source": [
    "# Standardabweichung\n",
    "x = np.array([5,7,8,12,13,14,18,21,23,29])\n",
    "\n",
    "# Der Population\n",
    "print(f\"Standardabweichung der Population = {np.std(x)}\")\n",
    "\n",
    "# Der Stichprobe\n",
    "print(f\"Standardabweichung der Stichprobe (df=n-1) = {np.std(x, ddof=1)}\")"
   ]
  },
  {
   "cell_type": "code",
   "execution_count": 470,
   "id": "1521bc79-1f3d-4da7-b75a-4329c3230f66",
   "metadata": {},
   "outputs": [
    {
     "name": "stdout",
     "output_type": "stream",
     "text": [
      "Kovarianz der Population = 162.0\n",
      "Standardabweichung der Stichprobe (df=n-1) = 194.4\n"
     ]
    }
   ],
   "source": [
    "# Kovarianz\n",
    "x = np.array([3,5,9,13,17,25])\n",
    "y = np.array([12,19,33,42,59,75])\n",
    "\n",
    "# Der Population\n",
    "print(f\"Kovarianz der Population = {np.cov(x,y, ddof=0)[0,1]}\")\n",
    "\n",
    "# Der Stichprobe\n",
    "print(f\"Standardabweichung der Stichprobe (df=n-1) = {np.cov(x,y, ddof=1)[0,1]}\")"
   ]
  },
  {
   "cell_type": "code",
   "execution_count": 471,
   "id": "5dc9a40b-f836-4bb4-80d7-11199b479d14",
   "metadata": {},
   "outputs": [
    {
     "name": "stdout",
     "output_type": "stream",
     "text": [
      "0.23895347964007296\n",
      "0.23895347964007296\n"
     ]
    }
   ],
   "source": [
    "# Variatioskoeffizient\n",
    "from scipy.stats import variation\n",
    "x1 = np.array([5,7,6,8,10])\n",
    "x2 = np.array([50,70,60,80,100])\n",
    "\n",
    "print(variation(x1))\n",
    "print(variation(x2))"
   ]
  },
  {
   "cell_type": "code",
   "execution_count": 472,
   "id": "148328e5-5e7f-42b0-8d54-7795ce288214",
   "metadata": {},
   "outputs": [
    {
     "data": {
      "text/plain": [
       "0.1883999999999999"
      ]
     },
     "execution_count": 472,
     "metadata": {},
     "output_type": "execute_result"
    },
    {
     "data": {
      "image/png": "[encoded data removed]",
      "text/plain": [
       "<Figure size 640x480 with 1 Axes>"
      ]
     },
     "metadata": {},
     "output_type": "display_data"
    }
   ],
   "source": [
    "# Gini-Koeffizient\n",
    "# Mir ist keine Implementierung zum Beispiel im Paket scipy bekannt. Daher hier eine eigene Implementierung der Funktion:\n",
    "import matplotlib.pyplot as plt\n",
    "def berechne_gini(daten, korrigiert=False, lorenz=False):\n",
    "    \"\"\" Gibt den Gini-Koeffizienten zurueck\n",
    "    Parameter: \n",
    "    daten (Liste)\n",
    "    korrigiert=False (bei True wird der korrigierte Gini-Koeffizient\n",
    "    zurueckgegeben)\n",
    "    lorenz=False (bei True wird die Lorenzkurve geplottet)\n",
    "    \"\"\"\n",
    "    if not isinstance(daten, list):\n",
    "        raise TypeError(\"Daten muessen als Liste übergeben werden.\")\n",
    "    n = len(daten)\n",
    "    s = sum(daten)\n",
    "    daten.sort()\n",
    "    \n",
    "    summe_kumuliert = [daten[0]]\n",
    "    for i in range(1,n):\n",
    "        summe_kumuliert.append(summe_kumuliert[i-1] + daten[i])\n",
    "    \n",
    "    \n",
    "    \n",
    "    zaehler = 2 * sum([i * daten[i-1] for i in range(1,n+1)])\n",
    "    nenner = n * s\n",
    "    gini = zaehler / nenner - (n+1)/n\n",
    "    \n",
    "    if(lorenz):\n",
    "        anteile_kumuliert = [x / s for x in summe_kumuliert]\n",
    "        anteile_kumuliert.insert(0,0)  \n",
    "        x = [i / n for i in range(n+1)]\n",
    "        plt.plot(x,anteile_kumuliert, color=\"red\", marker=\"o\")\n",
    "        plt.plot([0,1], [0,1], linestyle='dotted')\n",
    "        plt.title(\"Lorenzkurve\")\n",
    "        plt.show\n",
    "    \n",
    "    return gini if not korrigiert else gini  * n/(n-1)\n",
    "\n",
    "\n",
    "gehaelter =  [3200,3500,3500,4100,4250,4300,5250,5800,6200,9900]\n",
    "\n",
    "berechne_gini(gehaelter, lorenz=True)"
   ]
  },
  {
   "cell_type": "markdown",
   "id": "bef7cb6d-9a92-4fff-b364-dad08f942ab9",
   "metadata": {},
   "source": [
    "# Kapitel 6: Verteilungen\n",
    "## 6.1 Diskrete Verteilungen\n",
    "### 6.1.1 Binomialverteilung\n"
   ]
  },
  {
   "cell_type": "code",
   "execution_count": 474,
   "id": "f34d34b6-5bdd-4b16-ac89-14a234c0e96e",
   "metadata": {},
   "outputs": [
    {
     "name": "stdout",
     "output_type": "stream",
     "text": [
      "0.20065812479999992\n"
     ]
    }
   ],
   "source": [
    "# In einer Urne befinden sich 4 rote und 6 schwarze Kugeln. Wir ziehen 10 Mal mit Zurücklegen eine Kugel.\n",
    "# Wie groß ist die Wahrscheinlichkeit, 5 Mal eine rote Kugel zu ziehen?\n",
    "\n",
    "from scipy.stats import binom\n",
    "print(binom.pmf(5,10,0.4))"
   ]
  },
  {
   "cell_type": "markdown",
   "id": "5e6d3808-c101-4280-8352-2c65e0f6df5f",
   "metadata": {},
   "source": [
    "### 6.1.2 Hypergeometrische Verteilung"
   ]
  },
  {
   "cell_type": "code",
   "execution_count": 476,
   "id": "d900d570-7aef-4da9-9088-901ffad3bdf7",
   "metadata": {},
   "outputs": [
    {
     "name": "stdout",
     "output_type": "stream",
     "text": [
      "0.017650403866870105\n"
     ]
    }
   ],
   "source": [
    "# Lotto (6 aus 49): Wahrscheinlichkeit für 3 Richtige\n",
    "from scipy.stats import hypergeom\n",
    "print(hypergeom.pmf(3,49,6,6))"
   ]
  },
  {
   "cell_type": "markdown",
   "id": "c26df5ed-e38e-47ad-90c6-6bcf3430c578",
   "metadata": {},
   "source": [
    "### 6.1.3 Poissonverteilung"
   ]
  },
  {
   "cell_type": "code",
   "execution_count": 478,
   "id": "5a366459-69b2-4ab4-8bb1-49444cd03be4",
   "metadata": {},
   "outputs": [
    {
     "name": "stdout",
     "output_type": "stream",
     "text": [
      "0.1403738958142805\n"
     ]
    }
   ],
   "source": [
    "# Ein radioaktives Element zerfällt mit Mittel mit 5 Zerfällen pro Sekunde. Wie groß ist die Wahrscheinlichkeit, dass genau 3 Teile zerfallen?\n",
    "\n",
    "from scipy.stats import poisson\n",
    "print(poisson.pmf(3, 5))"
   ]
  },
  {
   "cell_type": "markdown",
   "id": "dbb8798a-d090-46f3-967e-4f6910190a85",
   "metadata": {},
   "source": [
    "## 6.2 Stetige Verteilungen\n",
    "### 6.2.1 Normalverteilung"
   ]
  },
  {
   "cell_type": "code",
   "execution_count": 480,
   "id": "9da5eef1-aecd-452f-b22a-854facbd2477",
   "metadata": {},
   "outputs": [
    {
     "name": "stdout",
     "output_type": "stream",
     "text": [
      "0.32318044829413806\n",
      "0.44851591953587056\n",
      "0.40394785603164407\n"
     ]
    }
   ],
   "source": [
    "from scipy.stats import norm\n",
    "# Körpergröße: Erwartungswert = 178,9cm, Standardabweichung = 8,5cm\n",
    "# b) P(X<175cm)\n",
    "\n",
    "print(norm.cdf(175, 178.9, 8.5))\n",
    "\n",
    "# c) P(X>180cm)\n",
    "print(1 - norm.cdf(180, 178.9, 8.5))\n",
    "\n",
    "# d) P(170 <= X <= 180)\n",
    "links = norm.cdf(170, 178.9, 8.5)\n",
    "rechts = 1 - norm.cdf(180, 178.9, 8.5)\n",
    "print(1-links-rechts)\n"
   ]
  },
  {
   "cell_type": "markdown",
   "id": "a51cee53-b126-45b4-9dda-40408e30bfe6",
   "metadata": {},
   "source": [
    "## Simulation: Standardfehler in Abhängigkeit von der Stichprobengröße n\n",
    "Wir erstellen zufällig 200 normalverteilte Zahlen, die die Population simulieren. Anschließend berechnen wir für jede Stichprobengröße n den Schätzer für den Standardfehler:\n",
    "\n",
    "$$SE = \\frac{\\sigma}{\\sqrt{n}}$$\n",
    "\n",
    "Der Standardfehler wird als blaue Kurve dargestellt. In der Schleife ziehen wir zusätzlich 50 Stichproben der Größe $n$, berechnen deren Mittelwerte und anschließend daraus die Standardabweichung. Diese Standardabweichungen werden als rote Kurve dargestellt.\n",
    "\n",
    "Wir sehen: Der Standardfehler nimmt mit zunehmender Stichprobengröße ab, unser Schätzer nähert sich auch zunehmend der Standardabweichung der Mittelwerte."
   ]
  },
  {
   "cell_type": "code",
   "execution_count": 2,
   "id": "82a6f8f7-e2d2-4411-9c55-b50b0920aab8",
   "metadata": {},
   "outputs": [
    {
     "data": {
      "image/png": "[encoded data removed]",
      "text/plain": [
       "<Figure size 640x480 with 1 Axes>"
      ]
     },
     "metadata": {},
     "output_type": "display_data"
    },
    {
     "data": {
      "text/plain": [
       "<Figure size 8320x6240 with 0 Axes>"
      ]
     },
     "metadata": {},
     "output_type": "display_data"
    }
   ],
   "source": [
    "import  numpy as np\n",
    "import matplotlib.pyplot as plt\n",
    "\n",
    "N = 200 # Populationsgröße\n",
    "\n",
    "\n",
    "pop = np.random.normal(0, 1, N)\n",
    "sigma = np.std(pop)\n",
    "\n",
    "\n",
    "sample_mean_std = []\n",
    "standard_errors = []\n",
    "\n",
    "for n in range(1,N):\n",
    "    sample_means = [np.random.choice(pop, n).mean() for i in range(50)]\n",
    "    sample_mean_std.append(np.std(sample_means))\n",
    "    standard_errors.append(sigma/np.sqrt(n))\n",
    "\n",
    "\n",
    "\n",
    "plt.plot(sample_mean_std, color=\"darkblue\", label=\"Standardabw. der Mittelwerte\")\n",
    "plt.plot(standard_errors, color=\"red\", label=\"Standardfehler der Pop.\")\n",
    "plt.legend()\n",
    "plt.title(\"Standardabweichung der Stichprobenmittelwerte\\nin Abhängigkeit der Stichprobengröße\")\n",
    "plt.xlabel(\"Stichprobengröße n\")\n",
    "plt.figure(dpi=1300)\n",
    "plt.show()"
   ]
  },
  {
   "cell_type": "markdown",
   "id": "31d4c82f-4a30-44a9-943f-8b766be6ff9b",
   "metadata": {},
   "source": [
    "## 7.1 Konfidenzintervalle"
   ]
  },
  {
   "cell_type": "code",
   "execution_count": 482,
   "id": "36b3cdff-6bc7-495c-a322-06b6bb97f41d",
   "metadata": {},
   "outputs": [
    {
     "name": "stdout",
     "output_type": "stream",
     "text": [
      "(101.61409617565032, 104.38590382434968)\n"
     ]
    }
   ],
   "source": [
    "# KI für den Intelligenzquotienten mit Stichprobengröße = 50, Stichprobenmittelwert = 103, Standardabweichung = 5\n",
    "from scipy.stats import norm\n",
    "# Wichtig: Für scale muss man hier den Standardfehler (Standardabweichung des Mittelwertes) angegen, nicht die Standardabweichung der Stichprobe!\n",
    "print(norm.interval(.95, 103, 5/np.sqrt(50)))"
   ]
  },
  {
   "cell_type": "code",
   "execution_count": 483,
   "id": "48b828fd-cb38-487e-8496-a2816cc7c5ec",
   "metadata": {},
   "outputs": [
    {
     "name": "stdout",
     "output_type": "stream",
     "text": [
      "(10.749558075797859, 12.130441924202144)\n"
     ]
    }
   ],
   "source": [
    "# KI für Zuckergehalt, Signifikanzniveau = 95%\n",
    "x = np.array([12.8, 11.9, 10.1, 11.9, 10.8, 12.1, 12.3, 9.9, 11.7, 10.9])\n",
    "\n",
    "from scipy.stats import t\n",
    "from scipy.stats import sem\n",
    "\n",
    "print(t.interval(.95, len(x)-1, x.mean(), sem(x)))"
   ]
  },
  {
   "cell_type": "markdown",
   "id": "b3ee3ccc-54be-4423-98ec-cf3de0f1136e",
   "metadata": {},
   "source": [
    "### Konfidenzintervall für Anteilswerte"
   ]
  },
  {
   "cell_type": "code",
   "execution_count": 485,
   "id": "ffb1ae9e-3176-4e08-bb7b-86e3bf624196",
   "metadata": {},
   "outputs": [
    {
     "name": "stdout",
     "output_type": "stream",
     "text": [
      "(0.14300375689380565, 0.2769962431061943)\n"
     ]
    }
   ],
   "source": [
    "# Umfrage unter 100 Personen, 21 davon gaben an, eine bestimmte Partei zu wählen.\n",
    "# Berechne den KI für alpha=0.10\n",
    "\n",
    "from statsmodels.stats.proportion import proportion_confint\n",
    "print(proportion_confint(count=21, nobs=100, alpha=.1, method=\"normal\"))"
   ]
  },
  {
   "cell_type": "markdown",
   "id": "7121d005-7b43-4eb7-ae17-8466fed705f8",
   "metadata": {},
   "source": [
    "## 7.2 Hypothesentest\n",
    "### 7.2.1 t-Test"
   ]
  },
  {
   "cell_type": "code",
   "execution_count": 487,
   "id": "c1181949-2ff4-4ca6-95eb-c16343bc0453",
   "metadata": {},
   "outputs": [
    {
     "name": "stdout",
     "output_type": "stream",
     "text": [
      "TtestResult(statistic=-1.8347785189881753, pvalue=0.0997357600099662, df=9)\n"
     ]
    }
   ],
   "source": [
    "# Einstichproben-t-Test, zweiseitig\n",
    "\n",
    "# Zuckergehalt: H0: mü = 12%, H1: mü <> 12%\n",
    "from scipy.stats import ttest_1samp\n",
    "x = np.array([12.8, 11.9, 10.1, 11.9, 10.8, 12.1, 12.3, 9.9, 11.7, 10.9])\n",
    "\n",
    "print(ttest_1samp(x, popmean=12))"
   ]
  },
  {
   "cell_type": "code",
   "execution_count": 488,
   "id": "848a5566-7f4d-462a-a255-fef0f029c933",
   "metadata": {},
   "outputs": [
    {
     "name": "stdout",
     "output_type": "stream",
     "text": [
      "TtestResult(statistic=-7.8557749608246565, pvalue=1.0967836211208878e-07, df=19)\n"
     ]
    }
   ],
   "source": [
    "# Einstichproben-t-Test, einseitig\n",
    "# H0: mü >= 100g, H1: mü < 100g\n",
    "n = 20\n",
    "x_quer = 99.4\n",
    "s = 0.3\n",
    "\n",
    "# Erstelle Zufallszahlen, die dem angegebenen Kennzahlen entsprechen\n",
    "x = np.random.normal(loc=x_quer, scale=s, size=n)\n",
    "print(ttest_1samp(x, popmean=100, alternative=\"less\"))"
   ]
  },
  {
   "cell_type": "code",
   "execution_count": 489,
   "id": "fcfaf2a9-6f1f-44bc-9662-b53a325698b7",
   "metadata": {},
   "outputs": [
    {
     "name": "stdout",
     "output_type": "stream",
     "text": [
      "Emp. F-Wert = 1.8552318668252081\n",
      "Kritischer F-Wert = 2.073309399374337\n",
      "TtestResult(statistic=1.8555674805297306, pvalue=0.07037796756373794, df=43.0)\n"
     ]
    }
   ],
   "source": [
    "# Zweistichproben-t-Test (unverbunden)\n",
    "# Gedächtnistest bei zwei Schulklassen\n",
    "\n",
    "klasse1 = np.random.normal(loc=65.8, scale=7.9, size=23)\n",
    "klasse2 = np.random.normal(loc=62.7, scale=5.8, size=22)\n",
    "\n",
    "#F-Test\n",
    "from scipy.stats import f\n",
    "f_emp = 7.9**2 / 5.8**2\n",
    "print(f\"Emp. F-Wert = {f_emp}\")\n",
    "print(f\"Kritischer F-Wert = {f.isf(.05, len(klasse1)-1, len(klasse2)-1)}\")\n",
    "\n",
    "from scipy.stats import ttest_ind\n",
    "print(ttest_ind(klasse1, klasse2))"
   ]
  },
  {
   "cell_type": "code",
   "execution_count": 490,
   "id": "50b15945-f957-46e1-a523-a7ada2f9d59c",
   "metadata": {},
   "outputs": [
    {
     "name": "stdout",
     "output_type": "stream",
     "text": [
      "TtestResult(statistic=2.8001312592292362, pvalue=0.03798773947333919, df=5)\n"
     ]
    }
   ],
   "source": [
    "# Zweistichproben-t-Test (verbunden)\n",
    "from scipy.stats import ttest_rel\n",
    "\n",
    "x1 = np.array([159,181,165,160,175,181])\n",
    "x2 = np.array([145,170,165,140,155,182])\n",
    "\n",
    "print(ttest_rel(x1, x2))"
   ]
  },
  {
   "cell_type": "markdown",
   "id": "41f40798-7a65-4408-b074-72e665f533ba",
   "metadata": {},
   "source": [
    "### 7.2.3 $\\chi^2$-Test"
   ]
  },
  {
   "cell_type": "code",
   "execution_count": 492,
   "id": "99211197-eb43-42aa-aeed-a132fa8b62c0",
   "metadata": {},
   "outputs": [
    {
     "name": "stdout",
     "output_type": "stream",
     "text": [
      "[[12 23 11]\n",
      " [17 27 19]\n",
      " [19 19 33]]\n",
      "Chi2ContingencyResult(statistic=9.169027276148263, pvalue=0.05701070094169602, dof=4, expected_freq=array([[12.26666667, 17.63333333, 16.1       ],\n",
      "       [16.8       , 24.15      , 22.05      ],\n",
      "       [18.93333333, 27.21666667, 24.85      ]]))\n"
     ]
    }
   ],
   "source": [
    "## Unbhängigkeitstest\n",
    "from scipy.stats import chi2_contingency\n",
    "obs = np.array([[12,23,11], [17,27,19], [19,19,33]])\n",
    "print(obs)\n",
    "\n",
    "print(chi2_contingency(obs))\n"
   ]
  },
  {
   "cell_type": "markdown",
   "id": "323938c5-ce68-43d0-a46a-322858f918d1",
   "metadata": {},
   "source": [
    "### 7.2.4 Lineare Regression\n"
   ]
  },
  {
   "cell_type": "code",
   "execution_count": 494,
   "id": "45fe67f4-5e46-4521-8452-57bb69ff2b90",
   "metadata": {},
   "outputs": [
    {
     "name": "stdout",
     "output_type": "stream",
     "text": [
      "                            OLS Regression Results                            \n",
      "==============================================================================\n",
      "Dep. Variable:                      y   R-squared:                       0.980\n",
      "Model:                            OLS   Adj. R-squared:                  0.975\n",
      "Method:                 Least Squares   F-statistic:                     195.3\n",
      "Date:                Wed, 21 Feb 2024   Prob (F-statistic):           0.000152\n",
      "Time:                        10:28:57   Log-Likelihood:                -34.637\n",
      "No. Observations:                   6   AIC:                             73.27\n",
      "Df Residuals:                       4   BIC:                             72.86\n",
      "Df Model:                           1                                         \n",
      "Covariance Type:            nonrobust                                         \n",
      "==============================================================================\n",
      "                 coef    std err          t      P>|t|      [0.025      0.975]\n",
      "------------------------------------------------------------------------------\n",
      "Intercept    111.9581     96.089      1.165      0.309    -154.829     378.745\n",
      "x             26.9899      1.931     13.976      0.000      21.628      32.352\n",
      "==============================================================================\n",
      "Omnibus:                          nan   Durbin-Watson:                   1.629\n",
      "Prob(Omnibus):                    nan   Jarque-Bera (JB):                0.744\n",
      "Skew:                           0.781   Prob(JB):                        0.689\n",
      "Kurtosis:                       2.268   Cond. No.                         123.\n",
      "==============================================================================\n",
      "\n",
      "Notes:\n",
      "[1] Standard Errors assume that the covariance matrix of the errors is correctly specified.\n"
     ]
    },
    {
     "name": "stderr",
     "output_type": "stream",
     "text": [
      "/opt/conda/envs/anaconda-panel-2023.05-py310/lib/python3.11/site-packages/statsmodels/stats/stattools.py:74: ValueWarning: omni_normtest is not valid with less than 8 observations; 6 samples were given.\n",
      "  warn(\"omni_normtest is not valid with less than 8 observations; %i \"\n"
     ]
    }
   ],
   "source": [
    "import pandas as pd\n",
    "from statsmodels.formula.api import ols\n",
    "\n",
    "x = np.array([21,30,35,42,70,75])\n",
    "y = np.array([600,850,1200,1300,1990,2100])\n",
    "\n",
    "df = pd.DataFrame({\"X\" : x, \"Y\":y})\n",
    "model = ols(\"y~x\", data=df).fit()\n",
    "print(model.summary())"
   ]
  },
  {
   "cell_type": "code",
   "execution_count": 495,
   "id": "ca803a05-bdd9-42aa-a045-12e9a0dca630",
   "metadata": {},
   "outputs": [
    {
     "data": {
      "text/plain": [
       "<Axes: >"
      ]
     },
     "execution_count": 495,
     "metadata": {},
     "output_type": "execute_result"
    },
    {
     "data": {
      "image/png": "[encoded data removed]",
      "text/plain": [
       "<Figure size 640x480 with 1 Axes>"
      ]
     },
     "metadata": {},
     "output_type": "display_data"
    }
   ],
   "source": [
    "# Regressionsgerade zeichnen\n",
    "import seaborn as sns\n",
    "sns.regplot(x=x,y=y, ci=None)"
   ]
  },
  {
   "cell_type": "markdown",
   "id": "499d5e6d-52b7-4866-9c75-7fc85a586b1c",
   "metadata": {},
   "source": [
    "### 7.2.6 Rangkorrelationskoeffizient nach Spearman\n"
   ]
  },
  {
   "cell_type": "code",
   "execution_count": 497,
   "id": "58e52496-b567-454e-a307-814b9894206a",
   "metadata": {},
   "outputs": [
    {
     "name": "stdout",
     "output_type": "stream",
     "text": [
      "[1.  2.  3.  4.5 4.5 6.5 6.5 8. ]\n"
     ]
    }
   ],
   "source": [
    "# Ränge ermitteln\n",
    "from scipy.stats import rankdata\n",
    "zeiten = np.array([9.58, 9.71, 9.84, 9.93, 9.93, 10, 10, 10.34])\n",
    "\n",
    "print(rankdata(zeiten))"
   ]
  },
  {
   "cell_type": "code",
   "execution_count": 528,
   "id": "ece415ec-a742-4b1f-9566-9ee9203925d0",
   "metadata": {},
   "outputs": [
    {
     "name": "stdout",
     "output_type": "stream",
     "text": [
      "SignificanceResult(statistic=0.7142857142857143, pvalue=0.1107871720116617)\n"
     ]
    }
   ],
   "source": [
    "# Berechnung des Korrelationskoeffizienten: Zusammenhang Vorbereitungszeit und Klausurergebnis\n",
    "from scipy.stats import spearmanr\n",
    "\n",
    "zeiten = np.array([21,22,15,16,8,1])\n",
    "punkte = np.array([98,87,89,71,65,30])\n",
    "\n",
    "print(spearmanr(zeiten, punkte))\n"
   ]
  },
  {
   "cell_type": "markdown",
   "id": "b711aef0-68f8-437e-b5ce-62b9b8dad211",
   "metadata": {},
   "source": [
    "## 7.4 Nichtparametrische Tests\n",
    "### 7.4.1 Mann-Whitney-Test"
   ]
  },
  {
   "cell_type": "code",
   "execution_count": 552,
   "id": "93afd700-14cf-48cc-9f51-58244b6c2d67",
   "metadata": {},
   "outputs": [
    {
     "name": "stdout",
     "output_type": "stream",
     "text": [
      "MannwhitneyuResult(statistic=19.5, pvalue=0.35324679686204175)\n"
     ]
    }
   ],
   "source": [
    "## Reaktionsgeschwindigkeit zwischen den Geschlechtern\n",
    "from scipy.stats import mannwhitneyu\n",
    "\n",
    "maenner = np.array([47,47,51,57,77,85,86,89])\n",
    "frauen = np.array([61,67,69,69,84,89,90])\n",
    "\n",
    "print(mannwhitneyu(maenner, frauen))"
   ]
  },
  {
   "cell_type": "markdown",
   "id": "e4190f51-bb40-43d7-bde0-801c183b9be7",
   "metadata": {},
   "source": [
    "### 7.4.2 Kruskal-Wallis-Test"
   ]
  },
  {
   "cell_type": "code",
   "execution_count": 559,
   "id": "4908561d-9bc1-4c7e-b8c7-6632293c91b6",
   "metadata": {},
   "outputs": [
    {
     "name": "stdout",
     "output_type": "stream",
     "text": [
      "KruskalResult(statistic=2.52612612612612, pvalue=0.28278650564234037)\n"
     ]
    }
   ],
   "source": [
    "## Zusammenhang Anzahl besuchter Vorlesungen und Klausurergebnis\n",
    "from scipy.stats import kruskal\n",
    "\n",
    "\n",
    "bwl = np.array([5,7,8,11,19])\n",
    "it = np.array([8,10,14,15,16,18])\n",
    "physik = np.array([6,12,12,17,20,21])\n",
    "\n",
    "print(kruskal(bwl,it,physik))"
   ]
  }
 ],
 "metadata": {
  "kernelspec": {
   "display_name": "anaconda-panel-2023.05-py310",
   "language": "python",
   "name": "conda-env-anaconda-panel-2023.05-py310-py"
  },
  "language_info": {
   "codemirror_mode": {
    "name": "ipython",
    "version": 3
   },
   "file_extension": ".py",
   "mimetype": "text/x-python",
   "name": "python",
   "nbconvert_exporter": "python",
   "pygments_lexer": "ipython3",
   "version": "3.11.5"
  }
 },
 "nbformat": 4,
 "nbformat_minor": 5
}
