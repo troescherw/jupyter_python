{
 "cells": [
  {
   "cell_type": "markdown",
   "id": "republican-individual",
   "metadata": {},
   "source": [
    "# Lineare Regression mit Moore-Penrose-Pseudo-Inversen\n",
    "\n",
    "Wir können die Koeffizienten einer Linearen Regressionsgleichung auch mit Hilfe der Linearen Algebra ermitteln. Allgmeine benötigt man bei k Koeffizienten (Unbekannten) k linear unabhängige Gleichungen, um eine Lösung zu ermitteln. Ist Y der Ergebnisvektor und X die Koeffizientenmatrix, so kann man schreiben:\n",
    "\n",
    "$Y = X \\cdot \\beta$\n",
    "\n",
    "Gesucht sind die Koeffizienten $\\beta$. Multipliziert man beide Seiten der Gleichung mit der inversen Matrix von $X$, also $X^-1$\n",
    "\n",
    "$X^-1 \\cdot Y = X^-1 \\cdot X \\cdot \\beta$\n",
    "\n",
    "$X^-1 \\cdot X$ ergibt die Einheitsmatrix, sodass sich ergibt:\n",
    "\n",
    "$\\beta = X^-1 \\cdot Y$\n",
    "\n",
    "\n",
    "Hier haben wir allerdings wesentlich mehr Gleichungen (entspricht Stichprobengröße) und erhalten somit ein überbestimmtes Gleichungssystem. Hier hilft uns die Moore-Penrose-Pseudo-Inverse $X^+$, die wie folgt definiert ist:\n",
    "\n",
    "$X^+ = (X^TX)^{-1}X^T$\n",
    "\n",
    "Eingesetzt in die obige Gleichung ergibt sich:\n",
    "\n",
    "$\\beta = X^+Y \\cdot Y = (X^TX)^{-1}X^T \\cdot Y$\n",
    "\n",
    "Diese Gleichung setzen wir jetzt mit Hilfe von *numpy*-Funktionen um. Wir benötigen:\n",
    "\n",
    "* $X^T$: Wir müssen also die Matrix X transponieren (aus Zeilen werden Spalten, aus Spalten werden Zeilen. Dies geschieht ganz einfach durch \".T\", also zum Beispiel x.T, wenn x die Matrix ist.\n",
    "* Multiplikation von Matrizen: Dies können wir durch den @-Operator durchführen. Sind a und b Matrizen (2-dimensionale Numpy-Arrays), so können wir mit a@b eine Matrixmultiplikation durchführen.\n",
    "* Schließlich müssen wir noch die Inverse einer Matrix ermitteln. Wollen wir von der Matrix $a$ die Inverse berechnen, also $a^{-1}$, so erledigt dies die Funktion *np.linalg.inv*.\n",
    "\n",
    "Mit diesen Informationen können wir nun die Koeffizienten des überbestimmten Gleichungssystems lösen. Wir wollen wieder den Verbrauch der Autos in Abhängigkeit von Gewicht und Leistung ermitteln.\n",
    "\n",
    "Laden wir zuerste den Datensatz:\n",
    "\n",
    "\n"
   ]
  },
  {
   "cell_type": "code",
   "execution_count": 1,
   "id": "furnished-champion",
   "metadata": {},
   "outputs": [
    {
     "data": {
      "text/html": [
       "<div>\n",
       "<style scoped>\n",
       "    .dataframe tbody tr th:only-of-type {\n",
       "        vertical-align: middle;\n",
       "    }\n",
       "\n",
       "    .dataframe tbody tr th {\n",
       "        vertical-align: top;\n",
       "    }\n",
       "\n",
       "    .dataframe thead th {\n",
       "        text-align: right;\n",
       "    }\n",
       "</style>\n",
       "<table border=\"1\" class=\"dataframe\">\n",
       "  <thead>\n",
       "    <tr style=\"text-align: right;\">\n",
       "      <th></th>\n",
       "      <th>Verbrauch</th>\n",
       "      <th>Leistung</th>\n",
       "      <th>Gewicht</th>\n",
       "    </tr>\n",
       "  </thead>\n",
       "  <tbody>\n",
       "    <tr>\n",
       "      <th>0</th>\n",
       "      <td>11.20</td>\n",
       "      <td>82</td>\n",
       "      <td>1310</td>\n",
       "    </tr>\n",
       "    <tr>\n",
       "      <th>1</th>\n",
       "      <td>11.20</td>\n",
       "      <td>82</td>\n",
       "      <td>1437</td>\n",
       "    </tr>\n",
       "    <tr>\n",
       "      <th>2</th>\n",
       "      <td>10.32</td>\n",
       "      <td>69</td>\n",
       "      <td>1160</td>\n",
       "    </tr>\n",
       "    <tr>\n",
       "      <th>3</th>\n",
       "      <td>10.99</td>\n",
       "      <td>82</td>\n",
       "      <td>1607</td>\n",
       "    </tr>\n",
       "    <tr>\n",
       "      <th>4</th>\n",
       "      <td>12.58</td>\n",
       "      <td>130</td>\n",
       "      <td>1720</td>\n",
       "    </tr>\n",
       "  </tbody>\n",
       "</table>\n",
       "</div>"
      ],
      "text/plain": [
       "   Verbrauch  Leistung  Gewicht\n",
       "0      11.20        82     1310\n",
       "1      11.20        82     1437\n",
       "2      10.32        69     1160\n",
       "3      10.99        82     1607\n",
       "4      12.58       130     1720"
      ]
     },
     "execution_count": 1,
     "metadata": {},
     "output_type": "execute_result"
    }
   ],
   "source": [
    "import pandas as pd\n",
    "url = \"https://raw.githubusercontent.com/troescherw/datasets/master/autos.csv\"\n",
    "autos = pd.read_csv(url)\n",
    "autos.head()"
   ]
  },
  {
   "cell_type": "markdown",
   "id": "brown-finger",
   "metadata": {},
   "source": [
    "In der Spalte *Verbrauch* stehen die vorherzusagenden Werte, also der Ergebnisvektor y:"
   ]
  },
  {
   "cell_type": "code",
   "execution_count": 4,
   "id": "gross-thickness",
   "metadata": {},
   "outputs": [],
   "source": [
    "y = autos.Verbrauch"
   ]
  },
  {
   "cell_type": "code",
   "execution_count": null,
   "id": "recognized-pillow",
   "metadata": {},
   "outputs": [],
   "source": [
    "Die Spalten *Leistung* und *Gewicht* bilden die Koeffizienten-Matrix X:"
   ]
  },
  {
   "cell_type": "code",
   "execution_count": 7,
   "id": "tested-decline",
   "metadata": {},
   "outputs": [],
   "source": [
    "x = autos[[\"Leistung\", \"Gewicht\"]]"
   ]
  },
  {
   "cell_type": "markdown",
   "id": "patent-regular",
   "metadata": {},
   "source": [
    "Allerdings benötigen wir noch einen Koeffizienten für die Konstante $\\beta_0$. Da es sich eben um eine Konstante handelt, fügen wir in die Koeffizientenmatrix noch eine Spalte mit Einsen ein:"
   ]
  },
  {
   "cell_type": "code",
   "execution_count": 8,
   "id": "permanent-register",
   "metadata": {},
   "outputs": [
    {
     "data": {
      "text/html": [
       "<div>\n",
       "<style scoped>\n",
       "    .dataframe tbody tr th:only-of-type {\n",
       "        vertical-align: middle;\n",
       "    }\n",
       "\n",
       "    .dataframe tbody tr th {\n",
       "        vertical-align: top;\n",
       "    }\n",
       "\n",
       "    .dataframe thead th {\n",
       "        text-align: right;\n",
       "    }\n",
       "</style>\n",
       "<table border=\"1\" class=\"dataframe\">\n",
       "  <thead>\n",
       "    <tr style=\"text-align: right;\">\n",
       "      <th></th>\n",
       "      <th>Beta_0</th>\n",
       "      <th>Leistung</th>\n",
       "      <th>Gewicht</th>\n",
       "    </tr>\n",
       "  </thead>\n",
       "  <tbody>\n",
       "    <tr>\n",
       "      <th>0</th>\n",
       "      <td>1</td>\n",
       "      <td>82</td>\n",
       "      <td>1310</td>\n",
       "    </tr>\n",
       "    <tr>\n",
       "      <th>1</th>\n",
       "      <td>1</td>\n",
       "      <td>82</td>\n",
       "      <td>1437</td>\n",
       "    </tr>\n",
       "    <tr>\n",
       "      <th>2</th>\n",
       "      <td>1</td>\n",
       "      <td>69</td>\n",
       "      <td>1160</td>\n",
       "    </tr>\n",
       "    <tr>\n",
       "      <th>3</th>\n",
       "      <td>1</td>\n",
       "      <td>82</td>\n",
       "      <td>1607</td>\n",
       "    </tr>\n",
       "    <tr>\n",
       "      <th>4</th>\n",
       "      <td>1</td>\n",
       "      <td>130</td>\n",
       "      <td>1720</td>\n",
       "    </tr>\n",
       "  </tbody>\n",
       "</table>\n",
       "</div>"
      ],
      "text/plain": [
       "   Beta_0  Leistung  Gewicht\n",
       "0       1        82     1310\n",
       "1       1        82     1437\n",
       "2       1        69     1160\n",
       "3       1        82     1607\n",
       "4       1       130     1720"
      ]
     },
     "execution_count": 8,
     "metadata": {},
     "output_type": "execute_result"
    }
   ],
   "source": [
    "x.insert(0, \"Beta_0\", 1)\n",
    "x.head()"
   ]
  },
  {
   "cell_type": "markdown",
   "id": "competitive-reminder",
   "metadata": {},
   "source": [
    "Nun wenden wir die Formel von oben an:"
   ]
  },
  {
   "cell_type": "code",
   "execution_count": 10,
   "id": "disciplinary-waste",
   "metadata": {},
   "outputs": [
    {
     "data": {
      "text/plain": [
       "0    1.493910\n",
       "1    0.023576\n",
       "2    0.005399\n",
       "dtype: float64"
      ]
     },
     "execution_count": 10,
     "metadata": {},
     "output_type": "execute_result"
    }
   ],
   "source": [
    "import numpy as np\n",
    "betas = np.linalg.inv(x.T @ x) @ x.T @ y\n",
    "betas"
   ]
  },
  {
   "cell_type": "markdown",
   "id": "subjective-harassment",
   "metadata": {},
   "source": [
    "Auf das gleiche Ergebnis kommt auch die Funktion *ols*:"
   ]
  },
  {
   "cell_type": "code",
   "execution_count": 14,
   "id": "exclusive-office",
   "metadata": {},
   "outputs": [
    {
     "data": {
      "text/plain": [
       "Intercept    1.493910\n",
       "Leistung     0.023576\n",
       "Gewicht      0.005399\n",
       "dtype: float64"
      ]
     },
     "execution_count": 14,
     "metadata": {},
     "output_type": "execute_result"
    }
   ],
   "source": [
    "import statsmodels.formula.api as sm\n",
    "model = sm.ols(\"Verbrauch~Leistung+Gewicht\", data=autos).fit()\n",
    "model.params"
   ]
  }
 ],
 "metadata": {
  "kernelspec": {
   "display_name": "Python 3",
   "language": "python",
   "name": "python3"
  },
  "language_info": {
   "codemirror_mode": {
    "name": "ipython",
    "version": 3
   },
   "file_extension": ".py",
   "mimetype": "text/x-python",
   "name": "python",
   "nbconvert_exporter": "python",
   "pygments_lexer": "ipython3",
   "version": "3.8.8"
  }
 },
 "nbformat": 4,
 "nbformat_minor": 5
}
