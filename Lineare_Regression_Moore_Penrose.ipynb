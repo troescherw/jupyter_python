{
 "cells": [
  {
   "cell_type": "markdown",
   "id": "least-papua",
   "metadata": {},
   "source": [
    "# Lineare Regression mit Moore-Penrose-Pseudo-Inversen\n",
    "\n",
    "Wir können die Koeffizienten einer Linearen Regressionsgleichung auch mit Hilfe der Linearen Algebra ermitteln. Allgmeine benötigt man bei k Koeffizienten (Unbekannten) k linear unabhängige Gleichungen, um eine Lösung zu ermitteln. Ist Y der Ergebnisvektor und X die Koeffizientenmatrix, so kann man schreiben:\n",
    "\n",
    "$Y = X \\cdot \\beta$\n",
    "\n",
    "Gesucht sind die Koeffizienten $\\beta$. Multipliziert man beide Seiten der Gleichung mit der inversen Matrix von $X$, also $X^-1$\n",
    "\n",
    "$X^-1 \\cdot Y = X^-1 \\cdot X \\cdot \\beta$\n",
    "\n",
    "$X^-1 \\cdot X$ ergibt die Einheitsmatrix, sodass sich ergibt:\n",
    "\n",
    "$\\beta = X^-1 \\cdot Y$\n",
    "\n",
    "\n",
    "Hier haben wir allerdings wesentlich mehr Gleichungen (entspricht Stichprobengröße) und erhalten somit ein überbestimmtes Gleichungssystem. Hier hilft uns die Moore-Penrose-Pseudo-Inverse $X^+$, die wie folgt definiert ist:\n",
    "\n",
    "$X^+ = (X^TX)^{-1}X^T$\n",
    "\n",
    "Eingesetzt in die obige Gleichung ergibt sich:\n",
    "\n",
    "$\\beta = X^+Y \\cdot Y = (X^TX)^{-1}X^T \\cdot Y$\n",
    "\n",
    "Diese Gleichung setzen wir jetzt mit Hilfe von *numpy*-Funktionen um. Wir benötigen:\n",
    "\n",
    "* $X^T$: Wir müssen also die Matrix X transponieren (aus Zeilen werden Spalten, aus Spalten werden Zeilen. Dies geschieht ganz einfach durch \".T\", also zum Beispiel x.T, wenn x die Matrix ist.\n",
    "* Multiplikation von Matrizen: Dies können wir durch den @-Operator durchführen. Sind a und b Matrizen (2-dimensionale Numpy-Arrays), so können wir mit a@b eine Matrixmultiplikation durchführen.\n",
    "* Schließlich müssen wir noch die Inverse einer Matrix ermitteln. Wollen wir von der Matrix $a$ die Inverse berechnen, also $a^{-1}$, so erledigt dies die Funktion *np.linalg.inv*.\n",
    "\n",
    "Mit diesen Informationen können wir nun die Koeffizienten des überbestimmten Gleichungssystems lösen. Wir wollen wieder den Verbrauch der Autos in Abhängigkeit von Gewicht und Leistung ermitteln.\n",
    "\n",
    "Laden wir zuerste den Datensatz:\n",
    "\n",
    "\n"
   ]
  },
  {
   "cell_type": "code",
   "execution_count": 1,
   "id": "considered-webster",
   "metadata": {},
   "outputs": [
    {
     "data": {
      "text/html": [
       "<div>\n",
       "<style scoped>\n",
       "    .dataframe tbody tr th:only-of-type {\n",
       "        vertical-align: middle;\n",
       "    }\n",
       "\n",
       "    .dataframe tbody tr th {\n",
       "        vertical-align: top;\n",
       "    }\n",
       "\n",
       "    .dataframe thead th {\n",
       "        text-align: right;\n",
       "    }\n",
       "</style>\n",
       "<table border=\"1\" class=\"dataframe\">\n",
       "  <thead>\n",
       "    <tr style=\"text-align: right;\">\n",
       "      <th></th>\n",
       "      <th>Verbrauch</th>\n",
       "      <th>Leistung</th>\n",
       "      <th>Gewicht</th>\n",
       "    </tr>\n",
       "  </thead>\n",
       "  <tbody>\n",
       "    <tr>\n",
       "      <th>0</th>\n",
       "      <td>11.20</td>\n",
       "      <td>82</td>\n",
       "      <td>1310</td>\n",
       "    </tr>\n",
       "    <tr>\n",
       "      <th>1</th>\n",
       "      <td>11.20</td>\n",
       "      <td>82</td>\n",
       "      <td>1437</td>\n",
       "    </tr>\n",
       "    <tr>\n",
       "      <th>2</th>\n",
       "      <td>10.32</td>\n",
       "      <td>69</td>\n",
       "      <td>1160</td>\n",
       "    </tr>\n",
       "    <tr>\n",
       "      <th>3</th>\n",
       "      <td>10.99</td>\n",
       "      <td>82</td>\n",
       "      <td>1607</td>\n",
       "    </tr>\n",
       "    <tr>\n",
       "      <th>4</th>\n",
       "      <td>12.58</td>\n",
       "      <td>130</td>\n",
       "      <td>1720</td>\n",
       "    </tr>\n",
       "  </tbody>\n",
       "</table>\n",
       "</div>"
      ],
      "text/plain": [
       "   Verbrauch  Leistung  Gewicht\n",
       "0      11.20        82     1310\n",
       "1      11.20        82     1437\n",
       "2      10.32        69     1160\n",
       "3      10.99        82     1607\n",
       "4      12.58       130     1720"
      ]
     },
     "execution_count": 1,
     "metadata": {},
     "output_type": "execute_result"
    }
   ],
   "source": [
    "import pandas as pd\n",
    "url = \"https://raw.githubusercontent.com/troescherw/datasets/master/autos.csv\"\n",
    "autos = pd.read_csv(url)\n",
    "autos.head()"
   ]
  },
  {
   "cell_type": "markdown",
   "id": "built-detector",
   "metadata": {},
   "source": [
    "In der Spalte *Verbrauch* stehen die vorherzusagenden Werte, also der Ergebnisvektor y:"
   ]
  },
  {
   "cell_type": "code",
   "execution_count": 2,
   "id": "severe-bleeding",
   "metadata": {},
   "outputs": [],
   "source": [
    "y = autos.Verbrauch"
   ]
  },
  {
   "cell_type": "markdown",
   "id": "bf63bee9",
   "metadata": {},
   "source": [
    "Die Spalten *Leistung* und *Gewicht* bilden die Koeffizienten-Matrix X:"
   ]
  },
  {
   "cell_type": "code",
   "execution_count": 3,
   "id": "southern-flush",
   "metadata": {},
   "outputs": [],
   "source": [
    "x = autos[[\"Leistung\", \"Gewicht\"]]"
   ]
  },
  {
   "cell_type": "markdown",
   "id": "extensive-bolivia",
   "metadata": {},
   "source": [
    "Allerdings benötigen wir noch einen Koeffizienten für die Konstante $\\beta_0$. Da es sich eben um eine Konstante handelt, fügen wir in die Koeffizientenmatrix noch eine Spalte mit Einsen ein:"
   ]
  },
  {
   "cell_type": "code",
   "execution_count": 4,
   "id": "helpful-surrey",
   "metadata": {},
   "outputs": [
    {
     "data": {
      "text/html": [
       "<div>\n",
       "<style scoped>\n",
       "    .dataframe tbody tr th:only-of-type {\n",
       "        vertical-align: middle;\n",
       "    }\n",
       "\n",
       "    .dataframe tbody tr th {\n",
       "        vertical-align: top;\n",
       "    }\n",
       "\n",
       "    .dataframe thead th {\n",
       "        text-align: right;\n",
       "    }\n",
       "</style>\n",
       "<table border=\"1\" class=\"dataframe\">\n",
       "  <thead>\n",
       "    <tr style=\"text-align: right;\">\n",
       "      <th></th>\n",
       "      <th>Beta_0</th>\n",
       "      <th>Leistung</th>\n",
       "      <th>Gewicht</th>\n",
       "    </tr>\n",
       "  </thead>\n",
       "  <tbody>\n",
       "    <tr>\n",
       "      <th>0</th>\n",
       "      <td>1</td>\n",
       "      <td>82</td>\n",
       "      <td>1310</td>\n",
       "    </tr>\n",
       "    <tr>\n",
       "      <th>1</th>\n",
       "      <td>1</td>\n",
       "      <td>82</td>\n",
       "      <td>1437</td>\n",
       "    </tr>\n",
       "    <tr>\n",
       "      <th>2</th>\n",
       "      <td>1</td>\n",
       "      <td>69</td>\n",
       "      <td>1160</td>\n",
       "    </tr>\n",
       "    <tr>\n",
       "      <th>3</th>\n",
       "      <td>1</td>\n",
       "      <td>82</td>\n",
       "      <td>1607</td>\n",
       "    </tr>\n",
       "    <tr>\n",
       "      <th>4</th>\n",
       "      <td>1</td>\n",
       "      <td>130</td>\n",
       "      <td>1720</td>\n",
       "    </tr>\n",
       "  </tbody>\n",
       "</table>\n",
       "</div>"
      ],
      "text/plain": [
       "   Beta_0  Leistung  Gewicht\n",
       "0       1        82     1310\n",
       "1       1        82     1437\n",
       "2       1        69     1160\n",
       "3       1        82     1607\n",
       "4       1       130     1720"
      ]
     },
     "execution_count": 4,
     "metadata": {},
     "output_type": "execute_result"
    }
   ],
   "source": [
    "x.insert(0, \"Beta_0\", 1)\n",
    "x.head()"
   ]
  },
  {
   "cell_type": "markdown",
   "id": "distributed-longer",
   "metadata": {},
   "source": [
    "Nun wenden wir die Formel von oben an:"
   ]
  },
  {
   "cell_type": "code",
   "execution_count": 5,
   "id": "amended-rating",
   "metadata": {},
   "outputs": [
    {
     "data": {
      "text/plain": [
       "0    1.493910\n",
       "1    0.023576\n",
       "2    0.005399\n",
       "dtype: float64"
      ]
     },
     "execution_count": 5,
     "metadata": {},
     "output_type": "execute_result"
    }
   ],
   "source": [
    "import numpy as np\n",
    "betas = np.linalg.inv(x.T @ x) @ x.T @ y\n",
    "betas"
   ]
  },
  {
   "cell_type": "markdown",
   "id": "willing-jones",
   "metadata": {},
   "source": [
    "Auf das gleiche Ergebnis kommt auch die Funktion *ols*:"
   ]
  },
  {
   "cell_type": "code",
   "execution_count": 6,
   "id": "ultimate-eating",
   "metadata": {},
   "outputs": [
    {
     "data": {
      "text/plain": [
       "Intercept    1.493910\n",
       "Leistung     0.023576\n",
       "Gewicht      0.005399\n",
       "dtype: float64"
      ]
     },
     "execution_count": 6,
     "metadata": {},
     "output_type": "execute_result"
    }
   ],
   "source": [
    "import statsmodels.formula.api as sm\n",
    "model = sm.ols(\"Verbrauch~Leistung+Gewicht\", data=autos).fit()\n",
    "model.params"
   ]
  },
  {
   "cell_type": "markdown",
   "id": "southern-niger",
   "metadata": {},
   "source": [
    "Wir können die Pseudo-Inverse auch direkt mit Hilfe der Funktion *np.linalg.pinv* berechnen lassen:"
   ]
  },
  {
   "cell_type": "code",
   "execution_count": 7,
   "id": "freelance-boston",
   "metadata": {},
   "outputs": [
    {
     "data": {
      "text/plain": [
       "array([1.49391033, 0.0235758 , 0.005399  ])"
      ]
     },
     "execution_count": 7,
     "metadata": {},
     "output_type": "execute_result"
    }
   ],
   "source": [
    "np.linalg.pinv(x)@y"
   ]
  },
  {
   "cell_type": "markdown",
   "id": "covered-baker",
   "metadata": {},
   "source": [
    "Weiter oben ist aufgeführt, dass es sich bei der Koeffizienten-Matrix um *linear unabhängige* Gleichungen handeln muss. Dies erklärt nun auch, weshalb man bei der Dummy-Kodierung nur k-1 Spalten einfügen darf. Würde man dies missachten, und zum Beispiel bei der Kategorie *Lage* im Beispiel mit den Mietpreisen folgende Matrix erstellen:\n",
    "\n",
    "| Quadratmeter | Innenstadt | Umland | Aussenbezirk |\n",
    "|:------------:|:----------:|:------:|:------------:|\n",
    "|      41      |      0     |    0   |       1      |\n",
    "|      79      |      0     |    1   |       0      |\n",
    "|      180     |      1     |    0   |       0      |\n",
    "|      ...     |     ...    |   ...  |      ...     |\n",
    "\n",
    "Wo wären die Spalten *Innenstadt*, *Umland*, und *Aussenbezirk* linear abhängig: Man könnte auf den Inhalt einer Spalte schließen, in dem wir die anderen beiden Spaltenwerte kennen. Wäre zum Beispiel *Innenstadt* = 0 und *Umland* = 0, so muss in *Aussenbezirk* eine 1 stehen!\n",
    "\n",
    "Ganz konkret wird es zum Problem, wenn wir die Koeffizienten mit dieser **falschen** Dummy-Kodierung durchführen wollen. Es erscheint nämlich eine Fehlermeldung!\n"
   ]
  },
  {
   "cell_type": "code",
   "execution_count": 8,
   "id": "strange-julian",
   "metadata": {},
   "outputs": [
    {
     "data": {
      "text/html": [
       "<div>\n",
       "<style scoped>\n",
       "    .dataframe tbody tr th:only-of-type {\n",
       "        vertical-align: middle;\n",
       "    }\n",
       "\n",
       "    .dataframe tbody tr th {\n",
       "        vertical-align: top;\n",
       "    }\n",
       "\n",
       "    .dataframe thead th {\n",
       "        text-align: right;\n",
       "    }\n",
       "</style>\n",
       "<table border=\"1\" class=\"dataframe\">\n",
       "  <thead>\n",
       "    <tr style=\"text-align: right;\">\n",
       "      <th></th>\n",
       "      <th>Mietpreis</th>\n",
       "      <th>Quadratmeter</th>\n",
       "      <th>Lage_Aussenbezirk</th>\n",
       "      <th>Lage_Innenstadt</th>\n",
       "      <th>Lage_Umland</th>\n",
       "    </tr>\n",
       "  </thead>\n",
       "  <tbody>\n",
       "    <tr>\n",
       "      <th>0</th>\n",
       "      <td>1100</td>\n",
       "      <td>87</td>\n",
       "      <td>0</td>\n",
       "      <td>0</td>\n",
       "      <td>1</td>\n",
       "    </tr>\n",
       "    <tr>\n",
       "      <th>1</th>\n",
       "      <td>588</td>\n",
       "      <td>42</td>\n",
       "      <td>0</td>\n",
       "      <td>0</td>\n",
       "      <td>1</td>\n",
       "    </tr>\n",
       "    <tr>\n",
       "      <th>2</th>\n",
       "      <td>850</td>\n",
       "      <td>54</td>\n",
       "      <td>0</td>\n",
       "      <td>0</td>\n",
       "      <td>1</td>\n",
       "    </tr>\n",
       "    <tr>\n",
       "      <th>3</th>\n",
       "      <td>500</td>\n",
       "      <td>33</td>\n",
       "      <td>0</td>\n",
       "      <td>0</td>\n",
       "      <td>1</td>\n",
       "    </tr>\n",
       "    <tr>\n",
       "      <th>4</th>\n",
       "      <td>1900</td>\n",
       "      <td>104</td>\n",
       "      <td>0</td>\n",
       "      <td>0</td>\n",
       "      <td>1</td>\n",
       "    </tr>\n",
       "    <tr>\n",
       "      <th>...</th>\n",
       "      <td>...</td>\n",
       "      <td>...</td>\n",
       "      <td>...</td>\n",
       "      <td>...</td>\n",
       "      <td>...</td>\n",
       "    </tr>\n",
       "    <tr>\n",
       "      <th>95</th>\n",
       "      <td>1800</td>\n",
       "      <td>101</td>\n",
       "      <td>1</td>\n",
       "      <td>0</td>\n",
       "      <td>0</td>\n",
       "    </tr>\n",
       "    <tr>\n",
       "      <th>96</th>\n",
       "      <td>2958</td>\n",
       "      <td>174</td>\n",
       "      <td>1</td>\n",
       "      <td>0</td>\n",
       "      <td>0</td>\n",
       "    </tr>\n",
       "    <tr>\n",
       "      <th>97</th>\n",
       "      <td>950</td>\n",
       "      <td>50</td>\n",
       "      <td>1</td>\n",
       "      <td>0</td>\n",
       "      <td>0</td>\n",
       "    </tr>\n",
       "    <tr>\n",
       "      <th>98</th>\n",
       "      <td>2656</td>\n",
       "      <td>166</td>\n",
       "      <td>1</td>\n",
       "      <td>0</td>\n",
       "      <td>0</td>\n",
       "    </tr>\n",
       "    <tr>\n",
       "      <th>99</th>\n",
       "      <td>2400</td>\n",
       "      <td>160</td>\n",
       "      <td>1</td>\n",
       "      <td>0</td>\n",
       "      <td>0</td>\n",
       "    </tr>\n",
       "  </tbody>\n",
       "</table>\n",
       "<p>100 rows × 5 columns</p>\n",
       "</div>"
      ],
      "text/plain": [
       "    Mietpreis  Quadratmeter  Lage_Aussenbezirk  Lage_Innenstadt  Lage_Umland\n",
       "0        1100            87                  0                0            1\n",
       "1         588            42                  0                0            1\n",
       "2         850            54                  0                0            1\n",
       "3         500            33                  0                0            1\n",
       "4        1900           104                  0                0            1\n",
       "..        ...           ...                ...              ...          ...\n",
       "95       1800           101                  1                0            0\n",
       "96       2958           174                  1                0            0\n",
       "97        950            50                  1                0            0\n",
       "98       2656           166                  1                0            0\n",
       "99       2400           160                  1                0            0\n",
       "\n",
       "[100 rows x 5 columns]"
      ]
     },
     "execution_count": 8,
     "metadata": {},
     "output_type": "execute_result"
    }
   ],
   "source": [
    "url = \"https://raw.githubusercontent.com/troescherw/datasets/master/wohnungen.csv\"\n",
    "wohnungen = pd.read_csv(url, delimiter=\";\")\n",
    "wohnungen_dummies = pd.get_dummies(wohnungen)\n",
    "wohnungen_dummies"
   ]
  },
  {
   "cell_type": "markdown",
   "id": "fifteen-surfing",
   "metadata": {},
   "source": [
    "Berechnen wir mit der *ols*-Funktion die Koeffizienten, so erhalten wir auch eine Warnung, dass der kleinste \"Eigenwert\" sehr gering ist, was auf eine Multikollinearität hinweist. Dies bedeutet, dass die berechneten Koeffizienten ggf. nicht korrekt sind bzw. das erstellte Modell sehr instabil ist!"
   ]
  },
  {
   "cell_type": "code",
   "execution_count": 9,
   "id": "tribal-cargo",
   "metadata": {},
   "outputs": [
    {
     "data": {
      "text/html": [
       "<table class=\"simpletable\">\n",
       "<caption>OLS Regression Results</caption>\n",
       "<tr>\n",
       "  <th>Dep. Variable:</th>        <td>Mietpreis</td>    <th>  R-squared:         </th> <td>   0.943</td>\n",
       "</tr>\n",
       "<tr>\n",
       "  <th>Model:</th>                   <td>OLS</td>       <th>  Adj. R-squared:    </th> <td>   0.941</td>\n",
       "</tr>\n",
       "<tr>\n",
       "  <th>Method:</th>             <td>Least Squares</td>  <th>  F-statistic:       </th> <td>   527.5</td>\n",
       "</tr>\n",
       "<tr>\n",
       "  <th>Date:</th>             <td>Thu, 19 May 2022</td> <th>  Prob (F-statistic):</th> <td>1.73e-59</td>\n",
       "</tr>\n",
       "<tr>\n",
       "  <th>Time:</th>                 <td>07:50:33</td>     <th>  Log-Likelihood:    </th> <td> -682.44</td>\n",
       "</tr>\n",
       "<tr>\n",
       "  <th>No. Observations:</th>      <td>   100</td>      <th>  AIC:               </th> <td>   1373.</td>\n",
       "</tr>\n",
       "<tr>\n",
       "  <th>Df Residuals:</th>          <td>    96</td>      <th>  BIC:               </th> <td>   1383.</td>\n",
       "</tr>\n",
       "<tr>\n",
       "  <th>Df Model:</th>              <td>     3</td>      <th>                     </th>     <td> </td>   \n",
       "</tr>\n",
       "<tr>\n",
       "  <th>Covariance Type:</th>      <td>nonrobust</td>    <th>                     </th>     <td> </td>   \n",
       "</tr>\n",
       "</table>\n",
       "<table class=\"simpletable\">\n",
       "<tr>\n",
       "          <td></td>             <th>coef</th>     <th>std err</th>      <th>t</th>      <th>P>|t|</th>  <th>[0.025</th>    <th>0.975]</th>  \n",
       "</tr>\n",
       "<tr>\n",
       "  <th>Intercept</th>         <td>  151.1396</td> <td>   39.428</td> <td>    3.833</td> <td> 0.000</td> <td>   72.876</td> <td>  229.403</td>\n",
       "</tr>\n",
       "<tr>\n",
       "  <th>Quadratmeter</th>      <td>   17.4891</td> <td>    0.489</td> <td>   35.755</td> <td> 0.000</td> <td>   16.518</td> <td>   18.460</td>\n",
       "</tr>\n",
       "<tr>\n",
       "  <th>Lage_Aussenbezirk</th> <td> -116.5511</td> <td>   31.641</td> <td>   -3.684</td> <td> 0.000</td> <td> -179.358</td> <td>  -53.745</td>\n",
       "</tr>\n",
       "<tr>\n",
       "  <th>Lage_Innenstadt</th>   <td>  536.6284</td> <td>   37.544</td> <td>   14.293</td> <td> 0.000</td> <td>  462.103</td> <td>  611.153</td>\n",
       "</tr>\n",
       "<tr>\n",
       "  <th>Lage_Umland</th>       <td> -268.9377</td> <td>   41.078</td> <td>   -6.547</td> <td> 0.000</td> <td> -350.476</td> <td> -187.399</td>\n",
       "</tr>\n",
       "</table>\n",
       "<table class=\"simpletable\">\n",
       "<tr>\n",
       "  <th>Omnibus:</th>       <td> 0.150</td> <th>  Durbin-Watson:     </th> <td>   1.592</td>\n",
       "</tr>\n",
       "<tr>\n",
       "  <th>Prob(Omnibus):</th> <td> 0.928</td> <th>  Jarque-Bera (JB):  </th> <td>   0.328</td>\n",
       "</tr>\n",
       "<tr>\n",
       "  <th>Skew:</th>          <td>-0.036</td> <th>  Prob(JB):          </th> <td>   0.849</td>\n",
       "</tr>\n",
       "<tr>\n",
       "  <th>Kurtosis:</th>      <td> 2.729</td> <th>  Cond. No.          </th> <td>7.15e+17</td>\n",
       "</tr>\n",
       "</table><br/><br/>Notes:<br/>[1] Standard Errors assume that the covariance matrix of the errors is correctly specified.<br/>[2] The smallest eigenvalue is 2.24e-30. This might indicate that there are<br/>strong multicollinearity problems or that the design matrix is singular."
      ],
      "text/plain": [
       "<class 'statsmodels.iolib.summary.Summary'>\n",
       "\"\"\"\n",
       "                            OLS Regression Results                            \n",
       "==============================================================================\n",
       "Dep. Variable:              Mietpreis   R-squared:                       0.943\n",
       "Model:                            OLS   Adj. R-squared:                  0.941\n",
       "Method:                 Least Squares   F-statistic:                     527.5\n",
       "Date:                Thu, 19 May 2022   Prob (F-statistic):           1.73e-59\n",
       "Time:                        07:50:33   Log-Likelihood:                -682.44\n",
       "No. Observations:                 100   AIC:                             1373.\n",
       "Df Residuals:                      96   BIC:                             1383.\n",
       "Df Model:                           3                                         \n",
       "Covariance Type:            nonrobust                                         \n",
       "=====================================================================================\n",
       "                        coef    std err          t      P>|t|      [0.025      0.975]\n",
       "-------------------------------------------------------------------------------------\n",
       "Intercept           151.1396     39.428      3.833      0.000      72.876     229.403\n",
       "Quadratmeter         17.4891      0.489     35.755      0.000      16.518      18.460\n",
       "Lage_Aussenbezirk  -116.5511     31.641     -3.684      0.000    -179.358     -53.745\n",
       "Lage_Innenstadt     536.6284     37.544     14.293      0.000     462.103     611.153\n",
       "Lage_Umland        -268.9377     41.078     -6.547      0.000    -350.476    -187.399\n",
       "==============================================================================\n",
       "Omnibus:                        0.150   Durbin-Watson:                   1.592\n",
       "Prob(Omnibus):                  0.928   Jarque-Bera (JB):                0.328\n",
       "Skew:                          -0.036   Prob(JB):                        0.849\n",
       "Kurtosis:                       2.729   Cond. No.                     7.15e+17\n",
       "==============================================================================\n",
       "\n",
       "Notes:\n",
       "[1] Standard Errors assume that the covariance matrix of the errors is correctly specified.\n",
       "[2] The smallest eigenvalue is 2.24e-30. This might indicate that there are\n",
       "strong multicollinearity problems or that the design matrix is singular.\n",
       "\"\"\""
      ]
     },
     "execution_count": 9,
     "metadata": {},
     "output_type": "execute_result"
    }
   ],
   "source": [
    "model = sm.ols(\"Mietpreis~Quadratmeter+Lage_Aussenbezirk+Lage_Innenstadt+Lage_Umland\",\n",
    "               data=wohnungen_dummies).fit()\n",
    "model.summary()"
   ]
  }
 ],
 "metadata": {
  "kernelspec": {
   "display_name": "Python 3 (ipykernel)",
   "language": "python",
   "name": "python3"
  },
  "language_info": {
   "codemirror_mode": {
    "name": "ipython",
    "version": 3
   },
   "file_extension": ".py",
   "mimetype": "text/x-python",
   "name": "python",
   "nbconvert_exporter": "python",
   "pygments_lexer": "ipython3",
   "version": "3.8.13"
  }
 },
 "nbformat": 4,
 "nbformat_minor": 5
}
