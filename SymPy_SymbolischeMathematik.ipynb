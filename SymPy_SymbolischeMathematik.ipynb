{
 "cells": [
  {
   "cell_type": "markdown",
   "id": "134f4687",
   "metadata": {},
   "source": [
    "# Symbolische Mathematik mit SymPy\n",
    "Das Modul *sympy* ermöglicht es, symbolische Mathematik anzuwenden.\n",
    "\n",
    "Falls SymPy noch nicht installiert wurde, kann man dies unter Anaconda in einer Anaconda-Konsole nachholen:\n",
    "\n",
    "*conda install -c anaconda sympy*\n",
    "\n",
    "Was bedeutet dies? Dazu zuerst eine Gegenüberstellung mit dem *math*-Modul, dem Standardmodul von Python für mathematische Operationen. Im folgenden Code importieren wir sowohl *sympy* als auch *math* und berechnen jeweils die Wurzel aus der Zahl 9. Da wir keine konkreten Funktionen aus den Modulen importieren, müssen wir den Modulnamen als Präfix davorschreiben, was uns hier auch bei der Unterscheidung der beiden Modulen hilft."
   ]
  },
  {
   "cell_type": "code",
   "execution_count": 55,
   "id": "f9c00bd8",
   "metadata": {},
   "outputs": [
    {
     "name": "stdout",
     "output_type": "stream",
     "text": [
      "3.0\n"
     ]
    },
    {
     "data": {
      "text/latex": [
       "$\\displaystyle 3$"
      ],
      "text/plain": [
       "3"
      ]
     },
     "execution_count": 55,
     "metadata": {},
     "output_type": "execute_result"
    }
   ],
   "source": [
    "import sympy\n",
    "import math\n",
    "\n",
    "print(math.sqrt(9))\n",
    "sympy.sqrt(9)"
   ]
  },
  {
   "cell_type": "markdown",
   "id": "5935d118",
   "metadata": {},
   "source": [
    "Beide Ausgaben sehen ganz ähnlich aus: Es wird, wie erwartet, eine 3 ausgegeben. Allerdings sehen wir keine Kommazahl bei der Ausgabe von *sympy*. Um welche Objekte handelt es sich hier?"
   ]
  },
  {
   "cell_type": "code",
   "execution_count": 56,
   "id": "b4616ed3",
   "metadata": {},
   "outputs": [
    {
     "name": "stdout",
     "output_type": "stream",
     "text": [
      "<class 'float'>\n",
      "<class 'sympy.core.numbers.Integer'>\n"
     ]
    }
   ],
   "source": [
    "print(type(math.sqrt(9)))\n",
    "print(type(sympy.sqrt(9)))"
   ]
  },
  {
   "cell_type": "markdown",
   "id": "fe109dce",
   "metadata": {},
   "source": [
    "Die erste Zahl ist vom Typ *float*, einem Standard-Datentyp von Python. Die zweite zahl ist allerdings ein Objekt einer Klasse aus der *sympy*-Bibliothek!\n",
    "Sehen wir uns ein zweites Beispiel an: Die Wurzel aus 8:"
   ]
  },
  {
   "cell_type": "code",
   "execution_count": 57,
   "id": "fa726eda",
   "metadata": {},
   "outputs": [
    {
     "name": "stdout",
     "output_type": "stream",
     "text": [
      "2.8284271247461903\n"
     ]
    },
    {
     "data": {
      "text/latex": [
       "$\\displaystyle 2 \\sqrt{2}$"
      ],
      "text/plain": [
       "2*sqrt(2)"
      ]
     },
     "execution_count": 57,
     "metadata": {},
     "output_type": "execute_result"
    }
   ],
   "source": [
    "print(math.sqrt(8))\n",
    "sympy.sqrt(8)"
   ]
  },
  {
   "cell_type": "markdown",
   "id": "d6fb4c9c",
   "metadata": {},
   "source": [
    "*sympy* gibt jetzt nicht das (ungenaue) Ergebnis aus, sondern das symbolische Ergebnis $2\\sqrt2$ in der $\\LaTeX$-Schreibweise. Die Anzahl der Nachkommastellen ist beim Datentyp *float* begrenzt (IEEE754). *sympy* kann hier aber auch eine beliebige Anzahl Nachkommastellen korrekt ausgeben. Wir verwenden hierfür die Methode *evalf*, um 30 Stellen korrekt auszugeben:"
   ]
  },
  {
   "cell_type": "code",
   "execution_count": 58,
   "id": "12309eb3",
   "metadata": {},
   "outputs": [
    {
     "data": {
      "text/latex": [
       "$\\displaystyle 2.828427124746190097603377448419396157139$"
      ],
      "text/plain": [
       "2.828427124746190097603377448419396157139"
      ]
     },
     "execution_count": 58,
     "metadata": {},
     "output_type": "execute_result"
    }
   ],
   "source": [
    "sympy.sqrt(8).evalf(40)"
   ]
  },
  {
   "cell_type": "markdown",
   "id": "123f25be",
   "metadata": {},
   "source": [
    "Diese symbolische Berechnung führt auchd dazu, dass wir keine Fehler mehr erhalten, die auf den begrenzten Möglichkeiten der Speicherung von Fließkommazahlen beruhen. Berechnen wir die Wurzel aus 8 und quadrieren dieses Ergebnis, sollte eigentlich wieder 8 herauskommen:"
   ]
  },
  {
   "cell_type": "code",
   "execution_count": 59,
   "id": "ea0b81e3",
   "metadata": {},
   "outputs": [
    {
     "data": {
      "text/plain": [
       "8.000000000000002"
      ]
     },
     "execution_count": 59,
     "metadata": {},
     "output_type": "execute_result"
    }
   ],
   "source": [
    "math.sqrt(8)**2"
   ]
  },
  {
   "cell_type": "markdown",
   "id": "11423b20",
   "metadata": {},
   "source": [
    "Tut es aber nicht! Berechnen wir das Ergebnis mit *sympy*, kommt exakt wieder die Zahl 8 heraus:"
   ]
  },
  {
   "cell_type": "code",
   "execution_count": 60,
   "id": "9eecdc1a",
   "metadata": {},
   "outputs": [
    {
     "data": {
      "text/latex": [
       "$\\displaystyle 8$"
      ],
      "text/plain": [
       "8"
      ]
     },
     "execution_count": 60,
     "metadata": {},
     "output_type": "execute_result"
    }
   ],
   "source": [
    "sympy.sqrt(8)**2"
   ]
  },
  {
   "cell_type": "markdown",
   "id": "9c61a8b7",
   "metadata": {},
   "source": [
    "Wollen wir das symbolische Ergebnis als Kommazahl ausgeben, so können wir wie schon gezeigt *evalf* verwenden, oder alternativ die Funktion N():"
   ]
  },
  {
   "cell_type": "code",
   "execution_count": 61,
   "id": "80cc3774",
   "metadata": {},
   "outputs": [
    {
     "data": {
      "text/latex": [
       "$\\displaystyle 3.16227766016838$"
      ],
      "text/plain": [
       "3.16227766016838"
      ]
     },
     "execution_count": 61,
     "metadata": {},
     "output_type": "execute_result"
    }
   ],
   "source": [
    "result = sympy.sqrt(10)\n",
    "result.evalf()"
   ]
  },
  {
   "cell_type": "code",
   "execution_count": 62,
   "id": "5809d523",
   "metadata": {},
   "outputs": [
    {
     "data": {
      "text/latex": [
       "$\\displaystyle 3.16227766016838$"
      ],
      "text/plain": [
       "3.16227766016838"
      ]
     },
     "execution_count": 62,
     "metadata": {},
     "output_type": "execute_result"
    }
   ],
   "source": [
    "sympy.N(result)"
   ]
  },
  {
   "cell_type": "markdown",
   "id": "5a0e4fbb",
   "metadata": {},
   "source": [
    "## Beispiele mit sympy\n",
    "*sympy* ist unglaublich mächtig! Es ist sozusagen die kostenlose Version der kommerziellen Tool *Mathematica* oder *Maple*. Einige Funktionen heissen sogar exakt gleich (wie das schon gezeigte *evalf*).\n",
    "\n",
    "Wir wollen uns hier noch einige Beispiele ansehen, um die Mächtigkeit von *sympy* zu demonstrieren. Wer tiefer einsteigen möchte, dem bieten sich natürlich viele Tutorials im Internet bzw. die Dokumentation auf der Webseite von *sympy* an (https://www.sympy.org/).\n",
    "\n",
    "Für die folgenden Beispiele importieren wir zuerst die hierfür benötigten Module. Für die \"schnelle\" Berechnung zwischendurch kann man ausnahmsweise auch einen \\* - Import verwenden (aber Vorsicht: Es werden ggf. andere Funktionen oder Klassen dadurch überschrieben!)."
   ]
  },
  {
   "cell_type": "code",
   "execution_count": 63,
   "id": "6fcc573a",
   "metadata": {},
   "outputs": [],
   "source": [
    "## Beispiele für Symbolische Mathematik mit SymPy\n",
    "# from sympy import *\n",
    "from sympy import symbols\n",
    "from sympy.core.function import diff\n",
    "from sympy.polys.polyfuncs import interpolate\n",
    "from sympy.integrals.integrals import integrate"
   ]
  },
  {
   "cell_type": "markdown",
   "id": "0f1f6723",
   "metadata": {},
   "source": [
    "Zuerst definieren wir symbolische Variablen. Das geht mit der Methode *symbols*, der wir komma- oder leerzeichengetrennt gleich mehrere Variablennamen übergeben können. Die Methode gibt ein Tupel zurück."
   ]
  },
  {
   "cell_type": "code",
   "execution_count": 64,
   "id": "39b77d93",
   "metadata": {},
   "outputs": [
    {
     "data": {
      "text/plain": [
       "sympy.core.symbol.Symbol"
      ]
     },
     "execution_count": 64,
     "metadata": {},
     "output_type": "execute_result"
    }
   ],
   "source": [
    "# Definiere symbolische Variablen\n",
    "x = symbols(\"x\")\n",
    "\n",
    "## auch möglich\n",
    "x, y = symbols(\"x y\")\n",
    "type(x)"
   ]
  },
  {
   "cell_type": "markdown",
   "id": "a2b6fc12",
   "metadata": {},
   "source": [
    "Wir definieren eine Funktion $f$ mit $f(x)=3x^2-2x-5$"
   ]
  },
  {
   "cell_type": "code",
   "execution_count": 65,
   "id": "681f4639",
   "metadata": {},
   "outputs": [
    {
     "data": {
      "text/latex": [
       "$\\displaystyle 3 x^{2} - 2 x - 5$"
      ],
      "text/plain": [
       "3*x**2 - 2*x - 5"
      ]
     },
     "execution_count": 65,
     "metadata": {},
     "output_type": "execute_result"
    }
   ],
   "source": [
    "f = 3*x**2 - 2*x - 5\n",
    "f"
   ]
  },
  {
   "cell_type": "markdown",
   "id": "859a4fb1",
   "metadata": {},
   "source": [
    "Können wir dieses Polynom durch Faktoren darstellen, um die Nullstellen zu finden?"
   ]
  },
  {
   "cell_type": "code",
   "execution_count": 66,
   "id": "339725de",
   "metadata": {},
   "outputs": [
    {
     "data": {
      "text/latex": [
       "$\\displaystyle \\left(x + 1\\right) \\left(3 x - 5\\right)$"
      ],
      "text/plain": [
       "(x + 1)*(3*x - 5)"
      ]
     },
     "execution_count": 66,
     "metadata": {},
     "output_type": "execute_result"
    }
   ],
   "source": [
    "f.factor()"
   ]
  },
  {
   "cell_type": "markdown",
   "id": "ca3d31b2",
   "metadata": {},
   "source": [
    "Die Nullsellen wären hier also $-1$ und $\\frac{5}{3}$. Wir können die Nullstellen natürlich auch von SymPy berechnen lassen. Dazu erstellen wir ein Objekt der Klasse *Equation*. Der Konstruktor erwartet als erstes Argument die linke, als zweite Argument die rechte Seite der Gleichung.\n"
   ]
  },
  {
   "cell_type": "code",
   "execution_count": 67,
   "id": "bdbcea5b",
   "metadata": {},
   "outputs": [
    {
     "data": {
      "text/latex": [
       "$\\displaystyle 3 x^{2} - 2 x - 5 = 0$"
      ],
      "text/plain": [
       "Eq(3*x**2 - 2*x - 5, 0)"
      ]
     },
     "execution_count": 67,
     "metadata": {},
     "output_type": "execute_result"
    }
   ],
   "source": [
    "eq1 = Eq(3*x**2 - 2*x - 5, 0)\n",
    "eq1"
   ]
  },
  {
   "cell_type": "markdown",
   "id": "a4f2f122",
   "metadata": {},
   "source": [
    "Mit *solveset* können wir die Gleichung lösen:"
   ]
  },
  {
   "cell_type": "code",
   "execution_count": 68,
   "id": "4850c26e",
   "metadata": {},
   "outputs": [
    {
     "data": {
      "text/latex": [
       "$\\displaystyle \\left\\{-1, \\frac{5}{3}\\right\\}$"
      ],
      "text/plain": [
       "{-1, 5/3}"
      ]
     },
     "execution_count": 68,
     "metadata": {},
     "output_type": "execute_result"
    }
   ],
   "source": [
    "solveset(eq1)"
   ]
  },
  {
   "cell_type": "markdown",
   "id": "bf539caa",
   "metadata": {},
   "source": [
    "Mit der Funktion *expand* können wir auch ausklammern, z.B. $f(x) = (x-3)(x+5)(x+\\pi)$"
   ]
  },
  {
   "cell_type": "code",
   "execution_count": 69,
   "id": "12a349dd",
   "metadata": {},
   "outputs": [
    {
     "data": {
      "text/latex": [
       "$\\displaystyle \\left(x - 3\\right) \\left(x + 5\\right) \\left(x + \\pi\\right)$"
      ],
      "text/plain": [
       "(x - 3)*(x + 5)*(x + pi)"
      ]
     },
     "execution_count": 69,
     "metadata": {},
     "output_type": "execute_result"
    }
   ],
   "source": [
    "f2 = (x-3)*(x+5)*(x+pi)\n",
    "f2"
   ]
  },
  {
   "cell_type": "code",
   "execution_count": 70,
   "id": "b6eceac3",
   "metadata": {},
   "outputs": [
    {
     "data": {
      "text/latex": [
       "$\\displaystyle x^{3} + 2 x^{2} + \\pi x^{2} - 15 x + 2 \\pi x - 15 \\pi$"
      ],
      "text/plain": [
       "x**3 + 2*x**2 + pi*x**2 - 15*x + 2*pi*x - 15*pi"
      ]
     },
     "execution_count": 70,
     "metadata": {},
     "output_type": "execute_result"
    }
   ],
   "source": [
    "expand(f2)"
   ]
  },
  {
   "cell_type": "markdown",
   "id": "a5348041",
   "metadata": {},
   "source": [
    "Wir können auch ein Gleichungssystem lösen! Hierzu verwenden wir die Methode *linsolve*. Zum Beispiel:\n",
    "$3x-2y+2z=1$\n",
    "\n",
    "$-2x+5y-6z=4$\n",
    "\n",
    "$4x+3y-2z=2$"
   ]
  },
  {
   "cell_type": "code",
   "execution_count": 85,
   "id": "3807db14",
   "metadata": {},
   "outputs": [
    {
     "data": {
      "text/latex": [
       "$\\displaystyle \\left\\{\\left( -1, \\  4, \\  3\\right)\\right\\}$"
      ],
      "text/plain": [
       "{(-1, 4, 3)}"
      ]
     },
     "execution_count": 85,
     "metadata": {},
     "output_type": "execute_result"
    }
   ],
   "source": [
    "x,y,z = symbols(\"x y z\")\n",
    "f1 = Eq(-3*x-2*y+2*z,1)\n",
    "f2 = Eq(-2*x+5*y-6*z,4)\n",
    "f3 = Eq(4*x+3*y-2*z,2)\n",
    "linsolve([f1,f2,f3], x,y,z)"
   ]
  },
  {
   "cell_type": "markdown",
   "id": "571334cc",
   "metadata": {},
   "source": [
    "Wie lautet die erste Ableitung der Funktion $f(x)=3x^2-2x-5$? Ermitteln wir diese mit der Funktion *diff*:"
   ]
  },
  {
   "cell_type": "code",
   "execution_count": 72,
   "id": "be72ba99",
   "metadata": {},
   "outputs": [
    {
     "data": {
      "text/latex": [
       "$\\displaystyle 6 x - 2$"
      ],
      "text/plain": [
       "6*x - 2"
      ]
     },
     "execution_count": 72,
     "metadata": {},
     "output_type": "execute_result"
    }
   ],
   "source": [
    "f = 3*x**2 - 2*x - 5\n",
    "diff(f)"
   ]
  },
  {
   "cell_type": "markdown",
   "id": "f4182da9",
   "metadata": {},
   "source": [
    "Welchen Wert hat die 1. Ableitung an der Stelle $x=3$?"
   ]
  },
  {
   "cell_type": "code",
   "execution_count": 73,
   "id": "72ac5e69",
   "metadata": {},
   "outputs": [
    {
     "data": {
      "text/latex": [
       "$\\displaystyle 16.0$"
      ],
      "text/plain": [
       "16.0000000000000"
      ]
     },
     "execution_count": 73,
     "metadata": {},
     "output_type": "execute_result"
    }
   ],
   "source": [
    "diff(f).evalf(subs={x:3})"
   ]
  },
  {
   "cell_type": "markdown",
   "id": "9e6b11ab",
   "metadata": {},
   "source": [
    "Mit der Funktion *integrate* können wir das unbestimmte Integral unserer Funktion $f(x)$ ermitteln, also $\\int_{}^{}x^3-x^2+5xdx$. Das Ergebnis ist $x^3-x^2+5x\\, (+c)$"
   ]
  },
  {
   "cell_type": "code",
   "execution_count": 74,
   "id": "c8b4142a",
   "metadata": {},
   "outputs": [
    {
     "data": {
      "text/latex": [
       "$\\displaystyle x^{3} - x^{2} - 5 x$"
      ],
      "text/plain": [
       "x**3 - x**2 - 5*x"
      ]
     },
     "execution_count": 74,
     "metadata": {},
     "output_type": "execute_result"
    }
   ],
   "source": [
    "integrate(f)"
   ]
  },
  {
   "cell_type": "markdown",
   "id": "a20c2d71",
   "metadata": {},
   "source": [
    "*integrate* kann als weiteres Argument ein Tupel entgegennehmen, das als erstes die Variable, nach der Integriert werden soll, sowie die untere und obere Grenze des bestimmten Integrals enthält. Wir wollen beispielsweise das Integral von $f(x)$ für den Bereich 0 bis 5 ausrechnen, also\n",
    "\n",
    "$\\int_{0}^{5}3x^2-2x+5\\,dx$\n",
    "\n",
    "so liefert uns *integrate* das Ergebnis 125:"
   ]
  },
  {
   "cell_type": "code",
   "execution_count": 75,
   "id": "37f32ad0",
   "metadata": {},
   "outputs": [
    {
     "data": {
      "text/latex": [
       "$\\displaystyle 75$"
      ],
      "text/plain": [
       "75"
      ]
     },
     "execution_count": 75,
     "metadata": {},
     "output_type": "execute_result"
    }
   ],
   "source": [
    "integrate(f, (x,0,5))"
   ]
  },
  {
   "cell_type": "markdown",
   "id": "6253310d",
   "metadata": {},
   "source": [
    "Nehmen wir an, wir kennen unser Polynom $f(x)$ gar nicht, sondern nur empirisch ermittelte Messwerte und wollen ein Polynom erstellen, das sich möglichst exakt durch die gemessenen Punkte bewegt. Hier hilft die Funktion *interpolate*. Als erstes Beispiel geben wir für $y$ die Werte 1, 4 und 9 an. Beginnen die x-Werte bei 1 und werden jeweils inkrementiert, braucht man diese nicht extra anzugeben:"
   ]
  },
  {
   "cell_type": "code",
   "execution_count": 76,
   "id": "c7f7670c",
   "metadata": {},
   "outputs": [
    {
     "data": {
      "text/latex": [
       "$\\displaystyle x^{2}$"
      ],
      "text/plain": [
       "x**2"
      ]
     },
     "execution_count": 76,
     "metadata": {},
     "output_type": "execute_result"
    }
   ],
   "source": [
    "interpolate((1,4,9),x)"
   ]
  },
  {
   "cell_type": "code",
   "execution_count": 77,
   "id": "5923dc24",
   "metadata": {},
   "outputs": [
    {
     "data": {
      "text/latex": [
       "$\\displaystyle 3 x^{2} - 2 x + 5$"
      ],
      "text/plain": [
       "3*x**2 - 2*x + 5"
      ]
     },
     "execution_count": 77,
     "metadata": {},
     "output_type": "execute_result"
    }
   ],
   "source": [
    "interpolate((6,13,26),x)"
   ]
  },
  {
   "cell_type": "markdown",
   "id": "ae139d73",
   "metadata": {},
   "source": [
    "Wir wollen eine Gleichung lösen: Berechne die Nullstellen der Funktion\n",
    "\n",
    "$f(x)=x^2-2x-8$"
   ]
  },
  {
   "cell_type": "code",
   "execution_count": 78,
   "id": "367bf0ec",
   "metadata": {},
   "outputs": [
    {
     "data": {
      "text/plain": [
       "[-2, 4]"
      ]
     },
     "execution_count": 78,
     "metadata": {},
     "output_type": "execute_result"
    }
   ],
   "source": [
    "from sympy import *\n",
    "solve(x**2-2*x-8)"
   ]
  },
  {
   "cell_type": "markdown",
   "id": "18ecbaf4",
   "metadata": {},
   "source": [
    "Mit etwas mathmatischem Schulwissen, Stichwort Binomische Formeln, weiß man, dass folgende zwei Gleichungen mathematisch gleich sind:\n",
    "\n",
    "$f_1(x) = (2x+3)^2$ und $f_1(x) =  4x^2+12x+9$\n",
    "\n",
    "Vergleichen wir dies mit dem == Operator von Python ist das Ergebnis allerdings *False*. SymPy-Objekte bieten jedoch die Methode *equals* an (Java-Programmierer kennen das!). Diese liefert *True*:"
   ]
  },
  {
   "cell_type": "code",
   "execution_count": 79,
   "id": "ee2106ce",
   "metadata": {},
   "outputs": [
    {
     "name": "stdout",
     "output_type": "stream",
     "text": [
      "False\n",
      "True\n"
     ]
    }
   ],
   "source": [
    "from sympy import *\n",
    "f1 = (2*x+3)**2\n",
    "f2 = 4*x**2 +12*x + 9\n",
    "x = Symbol(\"x\")\n",
    "print(f1==f2) \n",
    "print(f1.equals(f2))\n"
   ]
  },
  {
   "cell_type": "markdown",
   "id": "c3efe118",
   "metadata": {},
   "source": [
    "## Beispiel: Berechnen der Länge einer Kurve\n",
    "Wir wollen die Länge der Kurve für die Funktion $f(x) = \\frac{1}{2}(e^x+e^{-x})$ im Bereich von $[-2;2]$ berechnen."
   ]
  },
  {
   "cell_type": "code",
   "execution_count": 80,
   "id": "454ffbf0",
   "metadata": {},
   "outputs": [
    {
     "data": {
      "image/png": "[encoded data removed]",
      "text/plain": [
       "<Figure size 640x480 with 1 Axes>"
      ]
     },
     "metadata": {},
     "output_type": "display_data"
    }
   ],
   "source": [
    "import matplotlib.pyplot as plt\n",
    "import numpy as np\n",
    "\n",
    "x  = np.linspace(-3,3,50)\n",
    "xb = np.linspace(-2,2,50)\n",
    "\n",
    "y  = [1/2*(np.exp(x)+np.exp(-x)) for x in x]\n",
    "yb = [1/2*(np.exp(x)+np.exp(-x)) for x in xb]\n",
    "\n",
    "plt.plot(x,y)\n",
    "plt.plot(xb,yb, c=\"r\", linewidth=3)\n",
    "plt.show()"
   ]
  },
  {
   "cell_type": "markdown",
   "id": "3db8bc6f",
   "metadata": {},
   "source": [
    "Die Formel für die Berechnung der Länge eines Kurvenstücks lautet:\n",
    "\n",
    "$L = \\int_{a}^{b}\\sqrt{1+(f'(x))^2}$\n",
    "\n",
    "Mit *sympy* lässt sich die Länge einfach berechnen:"
   ]
  },
  {
   "cell_type": "code",
   "execution_count": 81,
   "id": "da96575b",
   "metadata": {},
   "outputs": [
    {
     "data": {
      "text/latex": [
       "$\\displaystyle \\int\\limits_{-2}^{2} \\sqrt{\\left(\\frac{e^{x}}{2} - \\frac{e^{- x}}{2}\\right)^{2} + 1}\\, dx$"
      ],
      "text/plain": [
       "Integral(sqrt((exp(x)/2 - exp(-x)/2)**2 + 1), (x, -2, 2))"
      ]
     },
     "execution_count": 81,
     "metadata": {},
     "output_type": "execute_result"
    }
   ],
   "source": [
    "from sympy import *\n",
    "\n",
    "# Wir beschränken die symbolische Variable x auf reele Zahlen (also keine komplexen), dies beschleunigt die Berechnung. \n",
    "x = symbols(\"x\", real=True)\n",
    "\n",
    "# Die Funktion für die Berchnung einer Kurve. Wir verwenden sympy.Rational, um den Bruch 1/2 nicht als Fließkommazahl, sondern als sympy-Objekt zu erstellen.\n",
    "f = Rational(1,2) * (exp(x)+exp(-x))\n",
    "\n",
    "# 1. Ableitung bestimmen. Die Methode doit() wertet den Ausdruck direkt aus.\n",
    "deriv = diff(f,x).doit()\n",
    "\n",
    "# Bestimme das Integral in den Grenzen von -2 bis 2\n",
    "length = Integral(sqrt(1+deriv**2), (x,-2,2))\n",
    "length"
   ]
  },
  {
   "cell_type": "markdown",
   "id": "b95eb1b0",
   "metadata": {},
   "source": [
    "Schließlich wandeln wir dieses Ergebnis noch in einen numerischen Wert um:"
   ]
  },
  {
   "cell_type": "code",
   "execution_count": 82,
   "id": "31d60aa2",
   "metadata": {},
   "outputs": [
    {
     "data": {
      "text/latex": [
       "$\\displaystyle 7.25372081569404$"
      ],
      "text/plain": [
       "7.25372081569404"
      ]
     },
     "execution_count": 82,
     "metadata": {},
     "output_type": "execute_result"
    }
   ],
   "source": [
    "N(length)"
   ]
  }
 ],
 "metadata": {
  "kernelspec": {
   "display_name": "Python 3 (ipykernel)",
   "language": "python",
   "name": "python3"
  },
  "language_info": {
   "codemirror_mode": {
    "name": "ipython",
    "version": 3
   },
   "file_extension": ".py",
   "mimetype": "text/x-python",
   "name": "python",
   "nbconvert_exporter": "python",
   "pygments_lexer": "ipython3",
   "version": "3.9.13"
  }
 },
 "nbformat": 4,
 "nbformat_minor": 5
}
