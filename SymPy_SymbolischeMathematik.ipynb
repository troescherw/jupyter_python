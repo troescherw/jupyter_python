{
 "cells": [
  {
   "cell_type": "markdown",
   "id": "134f4687",
   "metadata": {},
   "source": [
    "# Symbolische Mathematik mit SymPy\n",
    "Das Modul *sympy* ermöglicht es, symbolische Mathematik anzuwenden. Was bedeutet dies? Dazu zuerst eine Gegenüberstellung mit dem *math*-Modul, dem Standardmodul von Python für mathmeatische Operationen. Im folgenden Code importieren wir sowohl *sympy* als auch *math* und berechnen jeweils die Wurzel aus der Zahl 9. Da wir keine konkreten Funktionen importieren, müssen wir den Modulnamen als Präfix davorschreiben, was uns hier auch bei der Unterscheidung der beiden Modulen hilft."
   ]
  },
  {
   "cell_type": "code",
   "execution_count": 1,
   "id": "f9c00bd8",
   "metadata": {},
   "outputs": [
    {
     "name": "stdout",
     "output_type": "stream",
     "text": [
      "3.0\n",
      "3\n"
     ]
    }
   ],
   "source": [
    "import sympy\n",
    "import math\n",
    "\n",
    "print(math.sqrt(9))\n",
    "print(sympy.sqrt(9))"
   ]
  },
  {
   "cell_type": "markdown",
   "id": "5935d118",
   "metadata": {},
   "source": [
    "Beide Ausgaben sehen ganz ähnlich aus: Es wird, wie erwartet, eine 3 ausgegeben. Allerdings sehen wir keine Kommazahl bei der Ausgabe von *sympy*. Um welche Objekte handelt es sich hier?"
   ]
  },
  {
   "cell_type": "code",
   "execution_count": 2,
   "id": "b4616ed3",
   "metadata": {},
   "outputs": [
    {
     "name": "stdout",
     "output_type": "stream",
     "text": [
      "<class 'float'>\n",
      "<class 'sympy.core.numbers.Integer'>\n"
     ]
    }
   ],
   "source": [
    "print(type(math.sqrt(9)))\n",
    "print(type(sympy.sqrt(9)))"
   ]
  },
  {
   "cell_type": "markdown",
   "id": "fe109dce",
   "metadata": {},
   "source": [
    "Die erste Zahl ist vom Typ *float*, einem Standard-Datentyp von Python. Die zweite zahl ist allerdings ein Objekt einer Klasse aus der *sympy*-Bibliothek!\n",
    "Sehen wir uns ein zweites Beispiel an: Die Wurzel aus 8:"
   ]
  },
  {
   "cell_type": "code",
   "execution_count": 3,
   "id": "fa726eda",
   "metadata": {},
   "outputs": [
    {
     "name": "stdout",
     "output_type": "stream",
     "text": [
      "2.8284271247461903\n",
      "2*sqrt(2)\n"
     ]
    }
   ],
   "source": [
    "print(math.sqrt(8))\n",
    "print(sympy.sqrt(8))"
   ]
  },
  {
   "cell_type": "markdown",
   "id": "d6fb4c9c",
   "metadata": {},
   "source": [
    "*sympy* gibt jetzt nicht das (ungenaue) Ergebnis aus, sondern das symbolische Ergebnis $2\\sqrt2$. Die Anzahl der Nachkommastellen ist beim Datentyp *float* begrenzt (IEEE754). *sympy* kann hier aber auch eine beliebige Anzahl Nachkommastellen korrekt ausgeben. Wir verwenden hierfür die Methode *evalf*, um 30 Nachkommastellen korrekt auszugeben:"
   ]
  },
  {
   "cell_type": "code",
   "execution_count": 4,
   "id": "12309eb3",
   "metadata": {},
   "outputs": [
    {
     "name": "stdout",
     "output_type": "stream",
     "text": [
      "2.828427124746190097603377448419396157139\n"
     ]
    }
   ],
   "source": [
    "print(sympy.sqrt(8).evalf(40))"
   ]
  },
  {
   "cell_type": "markdown",
   "id": "123f25be",
   "metadata": {},
   "source": [
    "Diese symbolische Berechnung führt auchd dazu, dass wir keine Fehler mehr erhalten, die auf den begrenzten Möglichkeiten der Speicherung von Fließkommazahlen beruhen. Berechnen wir die Wurzel aus 8 und quadrieren dieses Ergebnis, sollte eigentlich wieder 8 herauskommen:"
   ]
  },
  {
   "cell_type": "code",
   "execution_count": 5,
   "id": "ea0b81e3",
   "metadata": {},
   "outputs": [
    {
     "name": "stdout",
     "output_type": "stream",
     "text": [
      "8.000000000000002\n"
     ]
    }
   ],
   "source": [
    "print(math.sqrt(8)**2)"
   ]
  },
  {
   "cell_type": "markdown",
   "id": "11423b20",
   "metadata": {},
   "source": [
    "Tut es aber nicht! Berechnen wir das Ergebnis mit *sympy*, kommt exakt wieder die Zahl 8 heraus:"
   ]
  },
  {
   "cell_type": "code",
   "execution_count": 6,
   "id": "9eecdc1a",
   "metadata": {},
   "outputs": [
    {
     "name": "stdout",
     "output_type": "stream",
     "text": [
      "8\n"
     ]
    }
   ],
   "source": [
    "print(sympy.sqrt(8)**2)"
   ]
  },
  {
   "cell_type": "markdown",
   "id": "9c61a8b7",
   "metadata": {},
   "source": [
    "Wollen wir das symbolische Ergebnis als Kommazahl ausgeben, so können wir wie schon gezeigt *evalf* verwenden, oder alternativ die Funktion N():"
   ]
  },
  {
   "cell_type": "code",
   "execution_count": 7,
   "id": "80cc3774",
   "metadata": {},
   "outputs": [
    {
     "name": "stdout",
     "output_type": "stream",
     "text": [
      "3.16227766016838\n",
      "3.16227766016838\n"
     ]
    }
   ],
   "source": [
    "result = sympy.sqrt(10)\n",
    "print(result.evalf())\n",
    "print(sympy.N(result))"
   ]
  },
  {
   "cell_type": "markdown",
   "id": "5a0e4fbb",
   "metadata": {},
   "source": [
    "## Beispiele mit sympy\n",
    "*sympy* ist unglaublich mächtig! Es ist sozusagen die kostenlose Version der kommerziellen Tool *Mathmatica\" oder *Maple*. Einige Funktionen heissen sogar exakt gleich (wie das schon gezeigte *evalf*).\n",
    "\n",
    "Wir wollen uns hier noch einige Beispiele ansehen, um die Mächtigkeit von *sympy* zu demonstrieren. Wer tiefer einsteigen möchte, dem bieten sich natürlich viele Tutorials im Internet bzw. die Dokumentation auf der Webseite von *sympy* an (https://www.sympy.org/).\n",
    "\n",
    "Für die folgenden Beispiele importieren wir zuerst die hierfür benötigten Module. Für die \"schnelle\" Berechnung zwischendurch kann man ausnahmsweise auch einen \\* - Import verwenden (aber Vorsicht: Es werden ggf. andere Module dadurch überschrieben!)."
   ]
  },
  {
   "cell_type": "code",
   "execution_count": 8,
   "id": "6fcc573a",
   "metadata": {},
   "outputs": [],
   "source": [
    "## Beispiele für Symbolische Mathematik mit SymPy\n",
    "# from sympy import *\n",
    "from sympy import symbols\n",
    "from sympy.core.function import diff\n",
    "from sympy.polys.polyfuncs import interpolate\n",
    "from sympy.integrals.integrals import integrate"
   ]
  },
  {
   "cell_type": "markdown",
   "id": "0f1f6723",
   "metadata": {},
   "source": [
    "Zuerst definieren wir symbolische Variablen. Das geht mit der Methode *symbols*, der wir komma- oder leerzeichengetrennt gleich mehrere Variablennamen übergeben können. Die Methode gibt ein Tupel zurück."
   ]
  },
  {
   "cell_type": "code",
   "execution_count": 9,
   "id": "39b77d93",
   "metadata": {},
   "outputs": [
    {
     "name": "stdout",
     "output_type": "stream",
     "text": [
      "<class 'sympy.core.symbol.Symbol'>\n"
     ]
    }
   ],
   "source": [
    "# Definiere symbolische Variablen\n",
    "x = symbols(\"x\")\n",
    "\n",
    "## auch möglich\n",
    "x, y = symbols(\"x y\")\n",
    "print(type(x))"
   ]
  },
  {
   "cell_type": "markdown",
   "id": "a2b6fc12",
   "metadata": {},
   "source": [
    "Dieser symbolischen Variable können wir zum Beispiel eine Funktion zuweisen:"
   ]
  },
  {
   "cell_type": "code",
   "execution_count": 10,
   "id": "681f4639",
   "metadata": {},
   "outputs": [
    {
     "name": "stdout",
     "output_type": "stream",
     "text": [
      "3*x**2 - 2*x + 5\n"
     ]
    }
   ],
   "source": [
    "f = 3*x**2 - 2*x + 5\n",
    "print(f)"
   ]
  },
  {
   "cell_type": "markdown",
   "id": "ca3d31b2",
   "metadata": {},
   "source": [
    "Wie lautet die erste Ableitung dieser Funktion? Ermitteln wir diese mit der Funktion *diff*:"
   ]
  },
  {
   "cell_type": "code",
   "execution_count": 11,
   "id": "be72ba99",
   "metadata": {},
   "outputs": [
    {
     "name": "stdout",
     "output_type": "stream",
     "text": [
      "6*x - 2\n"
     ]
    }
   ],
   "source": [
    "print(diff(f))"
   ]
  },
  {
   "cell_type": "markdown",
   "id": "f4182da9",
   "metadata": {},
   "source": [
    "Welchen Wert hat die 1. Ableitung an der Stelle $x=3$?"
   ]
  },
  {
   "cell_type": "code",
   "execution_count": 35,
   "id": "72ac5e69",
   "metadata": {},
   "outputs": [
    {
     "name": "stdout",
     "output_type": "stream",
     "text": [
      "16.0000000000000\n"
     ]
    }
   ],
   "source": [
    "print(diff(f).evalf(subs={x:3})) "
   ]
  },
  {
   "cell_type": "code",
   "execution_count": null,
   "id": "e3496450",
   "metadata": {},
   "outputs": [],
   "source": []
  },
  {
   "cell_type": "code",
   "execution_count": null,
   "id": "c8b4142a",
   "metadata": {},
   "outputs": [],
   "source": []
  }
 ],
 "metadata": {
  "kernelspec": {
   "display_name": "Python 3 (ipykernel)",
   "language": "python",
   "name": "python3"
  },
  "language_info": {
   "codemirror_mode": {
    "name": "ipython",
    "version": 3
   },
   "file_extension": ".py",
   "mimetype": "text/x-python",
   "name": "python",
   "nbconvert_exporter": "python",
   "pygments_lexer": "ipython3",
   "version": "3.8.16"
  }
 },
 "nbformat": 4,
 "nbformat_minor": 5
}
