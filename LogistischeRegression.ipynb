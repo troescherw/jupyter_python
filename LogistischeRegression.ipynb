{
 "cells": [
  {
   "cell_type": "markdown",
   "metadata": {},
   "source": [
    "# Logistische Regression\n",
    "Die Logistische Regression ist ein Regressionsverfahren, das dann Anwendung findet, wenn die abhängige Variable y nur zwei Zustände annehmen kann, also z.B. *0* oder *1*, *True* oder *False* etc. Ein wichtiges Anwendungsgebiet ist Predictive Maintenance. Obwohl es es sich um ein Regressionsverfahren handelt, wird die Logistische Regression auch als Klassifikationsmodell verwendet, indem ein Schwellenwert (Threshold, Cut-Off) definiert wird. Wird dieser überschritten, so sagt das Modell *1* oder *True* voraus, ansonsten *0* oder *False*.\n",
    "\n",
    "## Beispiel 1\n",
    "Wir erstellen einen einfachen Beispieldatensatz mit Daten über die Anzahl der Schuljahre und ob die befragten Personen Führungskraft sind oder nicht:"
   ]
  },
  {
   "cell_type": "code",
   "execution_count": null,
   "metadata": {},
   "outputs": [],
   "source": [
    "import pandas as pd\n",
    "\n",
    "df = pd.DataFrame({\"Schuljahre\":[8,9,13,13,8,10,10,9,10,9,11,8,15,13,10],\n",
    "                  \"IstFuehrungskraft\": [0,0,1,1,0,1,0,0,0,0,1,0,1,0,0]})\n",
    "\n",
    "\n",
    "df"
   ]
  },
  {
   "cell_type": "markdown",
   "metadata": {},
   "source": [
    "Wir erstellen ein *glm*-Objekt (Generalized Linear Model). Dass es sich um eine Logistische Regression handeln soll, teilen wir der Funktion durch die Angabe *family=sm.families.Binomial* mit."
   ]
  },
  {
   "cell_type": "code",
   "execution_count": null,
   "metadata": {},
   "outputs": [],
   "source": [
    "import statsmodels.formula.api as smf\n",
    "import statsmodels.api as sm\n",
    "\n",
    "model = smf.glm(\"IstFuehrungskraft~Schuljahre\", data=df, family=sm.families.Binomial()).fit()\n",
    "model.params"
   ]
  },
  {
   "cell_type": "markdown",
   "metadata": {},
   "source": [
    "$\\beta_0$ ist also -1.252033, $\\beta_1$ ist 0.152439. Wir können somit die Wahrscheinlichkeit, dass eine Person z.B. über 14 Schuljahre verfügt, wie folgt berechnen:\n",
    "\n",
    "$\\frac{ 1 }{ 1+e^{10.695596 - 0.933998x} } = 0,92$\n",
    "\n",
    "Oder wir verwenden die Funktion *predict*:"
   ]
  },
  {
   "cell_type": "code",
   "execution_count": null,
   "metadata": {},
   "outputs": [],
   "source": [
    "model.predict(pd.DataFrame({\"Schuljahre\":[14]}))"
   ]
  },
  {
   "cell_type": "markdown",
   "metadata": {},
   "source": [
    "Plotten wir noch die Funktion:"
   ]
  },
  {
   "cell_type": "code",
   "execution_count": null,
   "metadata": {},
   "outputs": [],
   "source": [
    "%matplotlib inline\n",
    "import matplotlib.pyplot as plt\n",
    "import pandas as pd\n",
    "import numpy as np\n",
    "\n",
    "x = np.linspace(df.Schuljahre.min(), df.Schuljahre.max(), 100)\n",
    "y = model.predict(pd.DataFrame({\"Schuljahre\":x}))\n",
    "\n",
    "plt.scatter(df.Schuljahre, df.IstFuehrungskraft)\n",
    "plt.plot(x,y)\n",
    "plt.xlabel(\"Anzahl Schuljahre\")\n",
    "plt.ylabel(\"P(Führungskraft)\")\n",
    "plt.show()\n"
   ]
  },
  {
   "cell_type": "markdown",
   "metadata": {},
   "source": [
    "Mit *seaborn* kann auch direkt ein Regressionsplot erstellt werden. Dazu setzt man die Option *logistic* auf *True*:"
   ]
  },
  {
   "cell_type": "code",
   "execution_count": null,
   "metadata": {},
   "outputs": [],
   "source": [
    "import seaborn as sns\n",
    "df = pd.DataFrame({\"Schuljahre\":[8,9,13,13,8,10,10,9,10,9,11,8,15,13,10],\n",
    "                  \"IstFuehrungskraft\": [0,0,1,1,0,1,0,0,0,0,1,0,1,0,0]})\n",
    "sns.set_style(\"dark\")\n",
    "plt.xlim(7, 16)\n",
    "sns.regplot(x=\"Schuljahre\", y=\"IstFuehrungskraft\", data=df, logistic=True, ci=False,\n",
    "           line_kws={\"color\":\"red\", \"lw\":4},\n",
    "           scatter_kws={\"alpha\":0.2, \"color\":\"k\"})\n",
    "plt.title(\"Logistische Regression\", color=\"crimson\", fontsize=16, fontstyle=\"italic\")\n",
    "#plt.ylabel(r\"$p_{Führungskraft}$\")\n",
    "plt.show()"
   ]
  },
  {
   "cell_type": "code",
   "execution_count": null,
   "metadata": {},
   "outputs": [],
   "source": [
    "model.predict(pd.DataFrame({\"Schuljahre\":[8]}))"
   ]
  },
  {
   "cell_type": "markdown",
   "metadata": {},
   "source": [
    "## Beispiel 2: Shuttle (Challanger-Katastrophe)\n",
    "Vorhersage, ob die verbaute Gummidichtung (O-Ring) bei der damals herrschenden Temperatur abdichtet. Wir laden den Datensatz *shuttle.csv* und führen eine Logistische Regression durch."
   ]
  },
  {
   "cell_type": "code",
   "execution_count": null,
   "metadata": {},
   "outputs": [],
   "source": [
    "import pandas as pd\n",
    "import statsmodels.api as sms\n",
    "import statsmodels.formula.api as sfm\n",
    "\n",
    "url = \"https://raw.githubusercontent.com/troescherw/datasets/master/shuttle.csv\"\n",
    "shuttle = pd.read_csv(url)\n",
    "\n",
    "model = sfm.glm(\"r~temperature\", data=shuttle, family=sms.families.Binomial()).fit()\n",
    "model.summary()"
   ]
  },
  {
   "cell_type": "markdown",
   "metadata": {},
   "source": [
    "Am Tag es Unglücks herrschten angeblich 31 Grad Fahrenheit (-0,6 Grad Celsius). Mit welcher Wahrscheinlichkeit war die Gummidichtung nicht funktionsfähig?"
   ]
  },
  {
   "cell_type": "code",
   "execution_count": null,
   "metadata": {},
   "outputs": [],
   "source": [
    "model.predict(pd.DataFrame({\"temperature\":[31]}))"
   ]
  },
  {
   "cell_type": "markdown",
   "metadata": {},
   "source": [
    "Erstellen wir noch einen Plot:"
   ]
  },
  {
   "cell_type": "code",
   "execution_count": null,
   "metadata": {},
   "outputs": [],
   "source": [
    "import matplotlib.pyplot as plt\n",
    "import numpy as np\n",
    "x = np.linspace(shuttle.temperature.min(), shuttle.temperature.max(), 50)\n",
    "y = model.predict(pd.DataFrame({\"temperature\": x}))\n",
    "\n",
    "plt.scatter(shuttle.temperature, shuttle.r)\n",
    "plt.plot(x,y)\n",
    "plt.title(\"Wahrscheinlichkeit der Dichtigkeit des O-Rings von der Temperatur\")\n",
    "plt.xlabel(\"Temperatur in Grad Fahrenheit\")\n",
    "plt.ylabel(\"P(Undicht)\")\n",
    "plt.show()"
   ]
  },
  {
   "cell_type": "markdown",
   "metadata": {},
   "source": [
    "## Beispiel 3: TITANIC\n",
    "Überlebenswahrscheinlicheit auf der Titanic in Abhängigkeit von Geschlecht, Alter und Klasse."
   ]
  },
  {
   "cell_type": "code",
   "execution_count": null,
   "metadata": {},
   "outputs": [],
   "source": [
    "import pandas as pd\n",
    "\n",
    "url = \"https://raw.githubusercontent.com/troescherw/datasets/master/titanic.csv\"\n",
    "titanic = pd.read_csv(url)\n",
    "titanic"
   ]
  },
  {
   "cell_type": "markdown",
   "metadata": {},
   "source": [
    "Wir wollen die Überlebenswahrscheinlichkeit (*Survived*) in Abhängigkeit von Alter (*Age*), Geschlecht (*Sex*) und der Klasse (*Pclass*) vorhersagen. Wir überprüfen zuersat, ob es NaNs im Datensatz gibt:"
   ]
  },
  {
   "cell_type": "code",
   "execution_count": null,
   "metadata": {},
   "outputs": [],
   "source": [
    "titanic.isna().sum()"
   ]
  },
  {
   "cell_type": "markdown",
   "metadata": {},
   "source": [
    "Bei *Age* gibt es 177 NaNs! Wir ersetzen diese durch den Mittelwert der Altersangaben."
   ]
  },
  {
   "cell_type": "code",
   "execution_count": null,
   "metadata": {},
   "outputs": [],
   "source": [
    "mean_age = titanic.Age.mean()\n",
    "titanic.Age = titanic.Age.fillna(mean_age)"
   ]
  },
  {
   "cell_type": "markdown",
   "metadata": {},
   "source": [
    "Nun teilen wir den Datensatz in einen Trainings- und Testdatensatz auf.70% verwenden wir für das Training, 30% für das Testen.\n",
    "\n"
   ]
  },
  {
   "cell_type": "code",
   "execution_count": null,
   "metadata": {},
   "outputs": [],
   "source": [
    "from sklearn.model_selection import train_test_split\n",
    "X = titanic[[\"Survived\", \"Age\", \"Sex\", \"Pclass\"]]\n",
    "y = titanic.Survived\n",
    "\n",
    "X_train, X_test, y_train, y_test = train_test_split(X,y,shuffle=True, random_state=42, test_size=0.3)"
   ]
  },
  {
   "cell_type": "markdown",
   "metadata": {},
   "source": [
    "Nun erstellen wir das Vorhersagemodell, erstellen anhand der Test-Daten eine Prognose und stellen das Ergebnis in einer Confusion-Matrix dar. Beim Geschlecht und bei der Klasse handelt es sich um kategoriale Variablen, daher setzen wir in der Formel diese Kategorien in Klammern hinter einem *C*."
   ]
  },
  {
   "cell_type": "code",
   "execution_count": null,
   "metadata": {},
   "outputs": [],
   "source": [
    "import statsmodels.api as sm\n",
    "import statsmodels.formula.api as smf\n",
    "\n",
    "model = smf.glm(\"Survived~Age+C(Sex)+C(Pclass)\", data=X_train, family=sm.families.Binomial()).fit()\n",
    "model.summary()"
   ]
  },
  {
   "cell_type": "markdown",
   "metadata": {},
   "source": [
    "Die Vorhersage liefert uns die Wahrscheinlichkeiten. Wir setzen einen Cut-Off bei 0,5: Bei einer Überlebenswahrscheinlichkeit >0,5 setzen wir eine *1* (Survived), ansonsten eine *0*."
   ]
  },
  {
   "cell_type": "code",
   "execution_count": null,
   "metadata": {},
   "outputs": [],
   "source": [
    "from sklearn.metrics import classification_report\n",
    "\n",
    "pred = model.predict(X_test)\n",
    "pred_class =pd.Series([1 if x >0.5 else 0 for x in pred])\n",
    "\n",
    "print(classification_report(y_test, pred_class))"
   ]
  },
  {
   "cell_type": "markdown",
   "metadata": {},
   "source": [
    "Wir erreichen also eine **Accuracy** von 81%."
   ]
  },
  {
   "cell_type": "markdown",
   "metadata": {},
   "source": [
    "Sagen wir die Überlebenswahrscheinlichkeit für einen männlichen Passagier, 20 Jahre in der 3. Klasse voraus:"
   ]
  },
  {
   "cell_type": "code",
   "execution_count": null,
   "metadata": {},
   "outputs": [],
   "source": [
    "model.predict(pd.DataFrame({\"Age\": [20], \"Sex\":[\"male\"], \"Pclass\" : 3}))"
   ]
  },
  {
   "cell_type": "markdown",
   "metadata": {},
   "source": [
    "Erstellen wir noch einen Plot mit der Überlebenswahrscheinlichkeit in Abhängigkeit von Alter und Geschlecht der Passagiere der 1. Klasse:"
   ]
  },
  {
   "cell_type": "code",
   "execution_count": null,
   "metadata": {},
   "outputs": [],
   "source": [
    "import numpy as np\n",
    "import matplotlib.pyplot as plt\n",
    "\n",
    "x = np.linspace(titanic.Age.min(), titanic.Age.max(), 50)\n",
    "y_male = model.predict(pd.DataFrame({\"Sex\":\"male\", \"Age\":x, \"Pclass\": 1}))\n",
    "y_female = model.predict(pd.DataFrame({\"Sex\":\"female\", \"Age\":x, \"Pclass\": 1}))\n",
    "\n",
    "plt.plot(x, y_male, label=\"Männer\")\n",
    "plt.plot(x, y_female, label=\"Frauen\")\n",
    "plt.legend()#\n",
    "plt.xlabel(\"Alter\")\n",
    "plt.ylabel(\"Überlebenswahrscheinlichkeit\")\n",
    "plt.title(\"Überlebenswahrscheinlichkeit der Männer und Frauen der 1. Klasse\")\n",
    "plt.show()"
   ]
  },
  {
   "cell_type": "markdown",
   "metadata": {},
   "source": [
    "## ROC-Kurve\n",
    "Erstellen wir noch eine ROC-Kurve für unser Modell und geben die AUC aus."
   ]
  },
  {
   "cell_type": "code",
   "execution_count": null,
   "metadata": {},
   "outputs": [],
   "source": [
    "from sklearn.metrics import roc_auc_score\n",
    "from sklearn.metrics import roc_curve\n",
    "\n",
    "fpr, tpr, thresholds = roc_curve(y_test, pred)\n",
    "\n",
    "plt.plot(fpr, tpr)\n",
    "plt.title(\"ROC-Kurve\")\n",
    "plt.xlabel(\"fpr\")\n",
    "plt.ylabel(\"tpr\")\n",
    "plt.plot()\n",
    "\n",
    "print(\"AUC = \", roc_auc_score(y_test, pred_class))"
   ]
  },
  {
   "cell_type": "markdown",
   "metadata": {},
   "source": [
    "## Beispiel 4: Vorhersage einer Herzkrankheit\n",
    "Ein Beispiel aus der Medizin! Wir wollen anhand des Datensatzes *heartdisease.csv* mit den folgenden Features vorhersagen, ob eine Person an einer Herzkrankheit erkranken wird:\n",
    "\n",
    "**Beschreibung der Features:**\n",
    "\n",
    "|Feature | Bedeutung |\n",
    "|:-------|:----------|\n",
    "|**age**| age in years|\n",
    "|**sex**| sex (1 = male; 0 = female)|\n",
    "|**cp**| chest pain type|\n",
    "|| Value 1 : typical angina|\n",
    "|| Value 2 : atypical angina|\n",
    "|| Value 3 : non-anginal pain|\n",
    "|| Value 4 : asymptomatic|\n",
    "| **trestbps**| resting blood pressure (in mm Hg on admission to the hospital)|\n",
    "| **chol**| serum cholestoral in mg/dl|\n",
    "| **fbs**| (fasting blood sugar > 120 mg/dl)  (1 = true; 0 = false)|\n",
    "| **restecg**| resting electrocardiographic results|\n",
    "|| Value 0: normal|\n",
    "|| Value 1: having ST-T wave abnormality (T wave inversions and/or ST elevation or depression of > 0.05 mV)|\n",
    "|| Value 2: showing probable or definite left ventricular hypertrophy by Estes' criteria|\n",
    "| **thalach**| maximum heart rate achieved|\n",
    "| **exang**| exercise induced angina (1 = yes; 0 = no)|\n",
    "| **oldpeak** | ST depression induced by exercise relative to rest|\n",
    "| **slope**| the slope of the peak exercise ST segment|\n",
    "|| Value 1: upsloping|\n",
    "|| Value 2: flat|\n",
    "|| Value 3: downsloping|\n",
    "| **ca**| number of major vessels (0-3) colored by flourosopy|\n",
    "| **thal**| 3 = normal; 6 = fixed defect; 7 = reversable defect|\n",
    "| **hd**| **diagnosis of heart disease**| \n",
    "\n",
    "Wir laden den Datensatz in ein Pandas DataFrame. Da das Feature *hd* nicht nur angibt, ob, sondern auch welche Herzerkrankung vorliegt, setzen wir alle Werte >=1 auf 1."
   ]
  },
  {
   "cell_type": "code",
   "execution_count": null,
   "metadata": {},
   "outputs": [],
   "source": [
    "import pandas as pd\n",
    "url = \"https://raw.githubusercontent.com/troescherw/datasets/master/heartdisease.csv\"\n",
    "headers = [\"age\",\"sex\",\"cp\",\"trestbps\",\"chol\",\"fbs\",\"restecg\",\"thalach\",\"exang\",\"oldpeak\",\"slope\",\"ca\",\"thal\",\"status\"]\n",
    "df = pd.read_csv(url, header=None)\n",
    "df.columns=headers\n",
    "df.status = [\"krank\" if x>=1 else \"gesund\" for x in df.status]\n",
    "print(df.shape)\n",
    "df.head()"
   ]
  },
  {
   "cell_type": "code",
   "execution_count": null,
   "metadata": {},
   "outputs": [],
   "source": [
    "from sklearn.model_selection import train_test_split\n",
    "\n",
    "X = df\n",
    "y = df.status\n",
    "\n",
    "# Trainings- und Testdaten\n",
    "X_train, X_test, y_train, y_test = train_test_split(X,y,shuffle=True, random_state=0)"
   ]
  },
  {
   "cell_type": "code",
   "execution_count": null,
   "metadata": {},
   "outputs": [],
   "source": [
    "import statsmodels.api as sm\n",
    "import statsmodels.formula.api as smf\n",
    "from sklearn.metrics import classification_report\n",
    "\n",
    "# Modell erstellen\n",
    "# cp, restecg und slope sind kategoriale Variablen\n",
    "X = sm.add_constant(X)\n",
    "model = smf.glm(\"C(status)~age+sex+C(cp)+trestbps+chol+fbs+C(restecg)+thalach+exang+oldpeak+C(slope)+ca+thal\", \n",
    "                data=X_train, family=sm.families.Binomial()).fit()\n",
    "\n",
    "# Vorhersage mit Testdaten\n",
    "pred = model.predict(X_test)\n",
    "pred_class = [\"gesund\" if x >0.5 else \"krank\" for x in pred]\n",
    "\n",
    "# Modellreport\n",
    "print(classification_report(pred_class, y_test))"
   ]
  },
  {
   "cell_type": "code",
   "execution_count": null,
   "metadata": {},
   "outputs": [],
   "source": [
    "model.summary()"
   ]
  },
  {
   "cell_type": "markdown",
   "metadata": {},
   "source": [
    "Erstellen wir noch eine ROC-Kurve und lassen die AUC berechnen:"
   ]
  },
  {
   "cell_type": "code",
   "execution_count": null,
   "metadata": {},
   "outputs": [],
   "source": [
    "from sklearn.metrics import roc_curve\n",
    "\n",
    "\n",
    "y_test = [1 if x==\"gesund\" else 0 for x in y_test]\n",
    "fpr, tpr, thresholds = roc_curve(y_test, pred)\n",
    "\n",
    "\n",
    "plt.plot(fpr, tpr)\n",
    "plt.title(\"ROC-Kurve\")\n",
    "plt.xlabel(\"fpr\")\n",
    "plt.ylabel(\"tpr\")\n",
    "plt.plot()"
   ]
  },
  {
   "cell_type": "code",
   "execution_count": null,
   "metadata": {},
   "outputs": [],
   "source": [
    "from sklearn.metrics import roc_auc_score\n",
    "pred_class = [1 if x==\"gesund\" else 0 for x in pred_class]\n",
    "print(\"AUC = \", roc_auc_score(y_test, pred_class))"
   ]
  },
  {
   "cell_type": "code",
   "execution_count": null,
   "metadata": {},
   "outputs": [],
   "source": []
  }
 ],
 "metadata": {
  "kernelspec": {
   "display_name": "Python 3",
   "language": "python",
   "name": "python3"
  },
  "language_info": {
   "codemirror_mode": {
    "name": "ipython",
    "version": 3
   },
   "file_extension": ".py",
   "mimetype": "text/x-python",
   "name": "python",
   "nbconvert_exporter": "python",
   "pygments_lexer": "ipython3",
   "version": "3.8.10"
  }
 },
 "nbformat": 4,
 "nbformat_minor": 4
}
