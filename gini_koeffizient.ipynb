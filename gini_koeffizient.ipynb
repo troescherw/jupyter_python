{
 "cells": [
  {
   "cell_type": "markdown",
   "id": "778be1b4-cf83-46a5-8c86-1ac3177ffedc",
   "metadata": {},
   "source": [
    "# Gini-Index\n",
    "\n",
    "Wir schreiben zwei Funktionen:\n",
    "\n",
    "- Eine Funktion *gini*,die den Gini-Koeffizienten bzw. Gini-Index berechnet (auch normiert)\n",
    "- Eine Funktion *lorenz*, die die Lorenz-Kurve zeichnet.\n",
    "\n",
    "Zur Berechnung des Gini-Koeffizienten:\n",
    "\n",
    "$G = \\frac{2 \\cdot \\sum_{i=1}^{n}i \\cdot x_{(i)}}{n \\cdot \\sum_{i=1}^{n}x_{(i)}} - \\frac{n+1}{n}$\n",
    "\n",
    "mit $i$ ist der Rang des Wertes (sortiert).\n",
    "\n",
    "Der **normierte** Gini-Index liefert bei maximaler Ungleichverteilung den Wert 1:\n",
    "\n",
    "$G^* = G \\cdot \\frac{n}{n-1}$"
   ]
  },
  {
   "cell_type": "code",
   "execution_count": 2,
   "id": "288b6da8-189d-42b2-afb8-f3e04b480070",
   "metadata": {},
   "outputs": [],
   "source": [
    "import  numpy as np \n",
    "\n",
    "def gini(data, normed=False):\n",
    "    data = np.sort(data)\n",
    "    n = data.size\n",
    "    sum_i=0\n",
    "    for i in range(n):\n",
    "        sum_i += (i+1) * data[i]\n",
    "    g = 2*sum_i /(n * data.sum()) - (n+1)/n\n",
    "    return g * n/(n-1) if normed else g"
   ]
  },
  {
   "cell_type": "code",
   "execution_count": 4,
   "id": "adedade0-4c70-46e0-97bd-5162165bd864",
   "metadata": {},
   "outputs": [],
   "source": [
    "import matplotlib.pyplot as plt\n",
    "def lorenz(data):\n",
    "    data = np.sort(data)\n",
    "    n = data.size\n",
    "  \n",
    "    \n",
    "    kumuliert = np.cumsum(data)/data.sum()\n",
    "    kumuliert = np.insert(kumuliert, 0, 0)\n",
    "    \n",
    "    anteile_an_gesamt = np.arange(0, n+1) / n\n",
    "\n",
    "    # Koordinaten für Winkelhalbierende\n",
    "    x1, y1 = [0,0], [1, 1]\n",
    "    \n",
    "    # Ermittle Gini-Koeffizienten für Plot-Titel\n",
    "    G = round(gini(data),3)\n",
    "    G_norm = round(gini(data,True),3)\n",
    "    \n",
    "    # Plotten\n",
    "    plt.plot(anteile_an_gesamt, kumuliert, color=\"r\")\n",
    "    plt.plot([x1, y1], color=\"k\")\n",
    "    plt.suptitle(\"Lorenz-Kurve\")\n",
    "    plt.title(f\"Gini-Koeffizient = {G}, normiert = {G_norm}\")\n",
    "    plt.show()"
   ]
  },
  {
   "cell_type": "code",
   "execution_count": 6,
   "id": "7d6e26d3-71c7-4773-832d-a542a822934f",
   "metadata": {},
   "outputs": [
    {
     "data": {
      "text/plain": [
       "0.44337349397590375"
      ]
     },
     "execution_count": 6,
     "metadata": {},
     "output_type": "execute_result"
    }
   ],
   "source": [
    "# Test der Funktionen\n",
    "\n",
    "data = np.array([12, 8, 1, 22, 40])\n",
    "gini(data)"
   ]
  },
  {
   "cell_type": "code",
   "execution_count": 8,
   "id": "09c6a0a0-d1fb-4118-aacd-7a7ba5cf1d6d",
   "metadata": {},
   "outputs": [
    {
     "data": {
      "text/plain": [
       "0.5542168674698797"
      ]
     },
     "execution_count": 8,
     "metadata": {},
     "output_type": "execute_result"
    }
   ],
   "source": [
    "gini(data, True)"
   ]
  },
  {
   "cell_type": "code",
   "execution_count": 9,
   "id": "9d5c6fa8-d471-4076-9c29-493a7b628a4b",
   "metadata": {},
   "outputs": [
    {
     "data": {
      "image/png": "[encoded data removed]",
      "text/plain": [
       "<Figure size 432x288 with 1 Axes>"
      ]
     },
     "metadata": {
      "needs_background": "light"
     },
     "output_type": "display_data"
    }
   ],
   "source": [
    "lorenz(data)"
   ]
  }
 ],
 "metadata": {
  "kernelspec": {
   "display_name": "anaconda-2022.05-py39",
   "language": "python",
   "name": "conda-env-anaconda-2022.05-py39-py"
  },
  "language_info": {
   "codemirror_mode": {
    "name": "ipython",
    "version": 3
   },
   "file_extension": ".py",
   "mimetype": "text/x-python",
   "name": "python",
   "nbconvert_exporter": "python",
   "pygments_lexer": "ipython3",
   "version": "3.9.12"
  }
 },
 "nbformat": 4,
 "nbformat_minor": 5
}
