{
 "cells": [
  {
   "cell_type": "markdown",
   "metadata": {},
   "source": [
    "# Naive Bayes Klassifikator\n",
    "Als einführendes Beispiel wollen wir mit Hilfe des Naive-Bayes Klassifikators Obsorten, Äpfel und Birnen, andhand des Gewichts und Zuckergehalts klassifizieren.\n",
    "\n",
    "Wir laden die Daten in ein Dataframe: Zuckergehalt und Gewicht von Äpfeln und Birnen:"
   ]
  },
  {
   "cell_type": "code",
   "execution_count": null,
   "metadata": {},
   "outputs": [],
   "source": [
    "import pandas as pd\n",
    "\n",
    "url=\"https://raw.githubusercontent.com/troescherw/datasets/master/obst.csv\"\n",
    "df = pd.read_csv(url, delimiter=\";\")\n",
    "df"
   ]
  },
  {
   "cell_type": "markdown",
   "metadata": {},
   "source": [
    "Das Feature *Obstsorte* ist nominal skaliert. Deshalb ersetzen wir die String-Wert durch Dummys (One-Hot-Encoding):"
   ]
  },
  {
   "cell_type": "code",
   "execution_count": null,
   "metadata": {},
   "outputs": [],
   "source": [
    "df = pd.get_dummies(df, drop_first=True)\n",
    "df"
   ]
  },
  {
   "cell_type": "markdown",
   "metadata": {},
   "source": [
    "**0** steht nun für **Apfel**, **1** für **Birne**. Beim **Naive Bayes Klassifikator** ist es übrigens nicht zwingend erforderlich (wie bei OLS), eine Kategorie zu entfernen, hab´s hier aber dennoch mal durchgeführt. Wir können nun unser Modell erstellen."
   ]
  },
  {
   "cell_type": "code",
   "execution_count": null,
   "metadata": {},
   "outputs": [],
   "source": [
    "from sklearn.naive_bayes import GaussianNB\n",
    "\n",
    "X = df[[\"Zuckergehalt\", \"Gewicht\"]]\n",
    "y = df.Obstsorte_Birne\n",
    "model = GaussianNB().fit(X,y)"
   ]
  },
  {
   "cell_type": "markdown",
   "metadata": {},
   "source": [
    "Mit Hilfe des Modells können wir nun zwei \"unbekannte\" Obststücke klassifiziert werden. Haben wir ein Stück Obst, das z.B. ein Zuckergehalt von 52,5g und ein Gewicht von 125g verfügt, fragen wir das Modell, ob es sich um einen Apfel oder eine Birne handelt:"
   ]
  },
  {
   "cell_type": "code",
   "execution_count": null,
   "metadata": {},
   "outputs": [],
   "source": [
    "unbekanntesObst = pd.DataFrame({\"Zuckergehalt\": [12.5], \"Gewicht\":[125]})\n",
    "model.predict(unbekanntesObst)"
   ]
  },
  {
   "cell_type": "markdown",
   "metadata": {},
   "source": [
    "Das Modell gibt eine **0** zurück, damit handelt es sich um einen Apfel. Wir erstellen ein Scatterplot und fügen dort auch das unbekannte Stück Obst ein:"
   ]
  },
  {
   "cell_type": "code",
   "execution_count": null,
   "metadata": {},
   "outputs": [],
   "source": [
    "import matplotlib.pyplot as plt\n",
    "\n",
    "plt.scatter(df[df.Obstsorte_Birne==0].Zuckergehalt, df[df.Obstsorte_Birne==0].Gewicht, c=\"r\", label=\"Apfel\")\n",
    "plt.scatter(df[df.Obstsorte_Birne==1].Zuckergehalt, df[df.Obstsorte_Birne==1].Gewicht, c=\"g\", label=\"Birne\")\n",
    "plt.scatter(unbekanntesObst.Zuckergehalt, unbekanntesObst.Gewicht, c=\"y\", label=\"Unbekannt\")\n",
    "plt.xlabel(\"Zuckergehalt in g/100g\")\n",
    "plt.legend()\n",
    "plt.plot()"
   ]
  },
  {
   "cell_type": "markdown",
   "metadata": {},
   "source": [
    "## Beispiel: Naive-Bayes-Modell für die Vorhersage einer Diabetes-Erkrankung\n",
    "Wir erstellen anhand des bereits verwendeten Datensatzes *Diabetes* voraus, ob ein Patient anhand der vorliegenden Daten an Diabetes erkranken wird. Um die Modellqualität zu prüfen führen wir eine k-Fold-Cross-Validation durch (mit k=10).\n",
    "\n",
    "| Feature  | Bedeutung                                  |\n",
    "|----------|--------------------------------------------|\n",
    "| age      | age in years                               |\n",
    "| sex      | sex (1 = male, 0 = female)                 |\n",
    "| cp       | chest pain type                            |\n",
    "| trestbps | resting blood pressure im mm Hg            |\n",
    "| chol     | serum cholesteral in mg/dl                 |\n",
    "| fbs      | fasting blood sugar > 120 mg/dl (1=true, 0=false)|\n",
    "| thalach  | maximum heart rate achieved                |\n",
    "| restecg  | resting electrocardiographic results       |\n",
    "| exang    | exercise induced angina (0=no, 1=yes)      |\n",
    "| oldpeak  | ST depression induced by exercise relative to rest|\n",
    "| slope    | the slope of the peak exercise ST segment  |\n",
    "| ca       | number of major vessels (0-3) colored by flouroscopy|\n",
    "| thal     | 3=normal, 6=fixed defect, 7=reversable defect|\n",
    "| target   | 1 or 0                                     |\n",
    "\n",
    "Zuerst laden wir den Datensatz in ein Pandas DataFrame:"
   ]
  },
  {
   "cell_type": "code",
   "execution_count": null,
   "metadata": {},
   "outputs": [],
   "source": [
    "import pandas as pd\n",
    "url=\"https://raw.githubusercontent.com/troescherw/datasets/master/diabetes.csv\"\n",
    "df = pd.read_csv(url)\n",
    "df.head()"
   ]
  },
  {
   "cell_type": "markdown",
   "metadata": {},
   "source": [
    "Wir splitten in X und y auf."
   ]
  },
  {
   "cell_type": "code",
   "execution_count": null,
   "metadata": {},
   "outputs": [],
   "source": [
    "X = df.iloc[:,:12]\n",
    "y = df.target"
   ]
  },
  {
   "cell_type": "markdown",
   "metadata": {},
   "source": [
    "Wir teilen die Datensätze in 10 Folds auf."
   ]
  },
  {
   "cell_type": "code",
   "execution_count": null,
   "metadata": {},
   "outputs": [],
   "source": [
    "from sklearn.model_selection import KFold\n",
    "kf = KFold(n_splits=10, shuffle=True)"
   ]
  },
  {
   "cell_type": "markdown",
   "metadata": {},
   "source": [
    "Nun iterieren wir durch die Folds und trainieren das Modell jeweils mit den Daten in den Folds:"
   ]
  },
  {
   "cell_type": "code",
   "execution_count": null,
   "metadata": {},
   "outputs": [],
   "source": [
    "from sklearn.naive_bayes import GaussianNB\n",
    "model = GaussianNB()\n",
    "\n",
    "scores = [] # Leere Liste für Scores\n",
    "\n",
    "for index_train, index_test in kf.split(X):\n",
    "    X_train = X.iloc[index_train]\n",
    "    X_test = X.iloc[index_test]\n",
    "    y_train = y.iloc[index_train]\n",
    "    y_test = y.iloc[index_test]\n",
    "    model.fit(X_train, y_train)\n",
    "    scores.append(model.score(X_test, y_test))\n",
    "\n",
    "scores\n"
   ]
  },
  {
   "cell_type": "code",
   "execution_count": null,
   "metadata": {},
   "outputs": [],
   "source": [
    "from statistics import mean\n",
    "mean(scores)"
   ]
  },
  {
   "cell_type": "code",
   "execution_count": null,
   "metadata": {},
   "outputs": [],
   "source": []
  }
 ],
 "metadata": {
  "kernelspec": {
   "display_name": "Python 3",
   "language": "python",
   "name": "python3"
  },
  "language_info": {
   "codemirror_mode": {
    "name": "ipython",
    "version": 3
   },
   "file_extension": ".py",
   "mimetype": "text/x-python",
   "name": "python",
   "nbconvert_exporter": "python",
   "pygments_lexer": "ipython3",
   "version": "3.7.6"
  }
 },
 "nbformat": 4,
 "nbformat_minor": 4
}
