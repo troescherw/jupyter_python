{
 "cells": [
  {
   "cell_type": "markdown",
   "metadata": {},
   "source": [
    "# Grundlagen Statistik\n",
    "In dieser Lektion wollen wir einige grundlegende statitische Größen wiederholen bzw. einführen. Das meiste dürfte bereits bekannt sein. Wir wollen aber neben dem theoretischen Grundlagen auch zeigen, wie wir diese Statistiken in der Programmiersprache Python berechnen können.\n",
    "\n",
    "Wir greifen hierfür auf den Datensatz *heights* zurück. Der Datensatz steht auf GitHub in einem öffentlichen Repository zur Verfügung. Das folgende Python-Programm verwendet für das Laden des Datensatzes die Methode *read_csv* aus dem Package *Pandas*. Nach dem Laden des Datensatzes geben wir die ersten 5 Zeilen aus."
   ]
  },
  {
   "cell_type": "code",
   "execution_count": null,
   "metadata": {},
   "outputs": [],
   "source": [
    "import pandas as pd\n",
    "url = \"https://raw.githubusercontent.com/troescherw/datasets/master/heights.csv\"\n",
    "daten = pd.read_csv(url, delimiter=\";\")\n",
    "daten.head()"
   ]
  },
  {
   "cell_type": "markdown",
   "metadata": {},
   "source": [
    "*heights* besteht aus zwei Spalten (sog. Features): \n",
    "\n",
    "* sex: Dem Geschlecht der untersuchten Person\n",
    "* height: Die Größe in inches\n",
    "\n",
    "Basierend auf diesen Daten wollen wir nun einige häufig benutzte Statistiken erstellen. Diese wollen wir einerseits aufgrund der mathematischen Definition berechnen bzw. etwaig bereits in Python vorhandene Funktionen nutzen.\n",
    "\n",
    "## Maximum und Minimum\n",
    "Zuerst geben wir die maximale und minimale Größe aus. Hierfür nutzen wir die Pandas-Funktionen *min* bzw. *max*. Damit können wir auch die Spannweite berechnen:\n",
    "\n"
   ]
  },
  {
   "cell_type": "code",
   "execution_count": null,
   "metadata": {},
   "outputs": [],
   "source": [
    "print(\"Minimalwert:\", daten.height.min())\n",
    "print(\"Maximalwert:\", daten.height.max())\n",
    "print(\"Spannweite: \",  daten.height.max()-daten.height.min())"
   ]
  },
  {
   "cell_type": "markdown",
   "metadata": {},
   "source": [
    "# Mittelwert\n",
    "Der Mittelwert ist der Quotient aus der Summe der Einzelwerte und der Anzahl der Werte:\n",
    "\n",
    "$\n",
    "\\bar{x} = \\frac{1}{n}\\sum _{i=1}^{n}x_{i}\n",
    "$\n",
    "\n",
    "Wir verwenden hierfür die Funktion *mean*, um den Mittelwert aller Körpergrößen zu ermitteln:"
   ]
  },
  {
   "cell_type": "code",
   "execution_count": null,
   "metadata": {},
   "outputs": [],
   "source": [
    "daten.height.mean()"
   ]
  },
  {
   "cell_type": "markdown",
   "metadata": {},
   "source": [
    "Wollen wir den Mittelwert der Körpergrößen der Männer ermitteln, müssen wir zuerst die entsprechenden Werte selektieren:"
   ]
  },
  {
   "cell_type": "code",
   "execution_count": null,
   "metadata": {},
   "outputs": [],
   "source": [
    "daten[daten.sex==\"Male\"].height.mean()"
   ]
  },
  {
   "cell_type": "markdown",
   "metadata": {},
   "source": [
    "**Übung:** Ermitteln Sie die durchschnittliche Körpergröße der Frauen!"
   ]
  },
  {
   "cell_type": "code",
   "execution_count": null,
   "metadata": {},
   "outputs": [],
   "source": [
    "# Hier den Code eingeben:\n"
   ]
  },
  {
   "cell_type": "markdown",
   "metadata": {},
   "source": [
    "## Varianz und Standardabweichung (Stichprobe)\n",
    "De Varianz und die Standardabweichung sind Kennzahlen für die Streuung der Daten. Alle diese Kennzahlen werden umso größer, je größer die Streuung in einer Datenreihe ist. Sie sind wie folgt definiert:\n",
    "\n",
    "$ s^2 = \\frac{1}{n-1}\\sum _{i=1}^{n}(x_{i} - \\bar{x})^2$\n",
    "\n",
    "Die Standardabweichung ist die Wurzel der Varianz:\n",
    "\n",
    "$ s = \\sqrt{\\frac{1}{n-1}\\sum _{i=1}^{n}(x_{i} - \\bar{x})^2} $\n",
    "\n",
    "Wir teilen hier jeweis durch (n-1), da wir meist nicht die Daten der Grundgesamtheit zur Verfügung haben. In unserem Beispiel müssten wir die Größen **aller** Männer und Frauen haben! Unser Datensatz ist aber nur eine Stichprobe, sodass wir die Standardabweichung bzw. Varianz nur schätzen können. Meist wird die Standardabweichung der Stichprobe mit einem s bezeichnet, für die Grundgesamtheit mit einem $\\sigma$, die Varianz analog mit $s^2$ mbzw. $\\sigma^2$\n",
    "\n",
    "In Pandas stehen hierfür die Funktionen *var* und *sd* zur Verfügung, die sich jeweils auf die Stichprobe beziehen:"
   ]
  },
  {
   "cell_type": "code",
   "execution_count": null,
   "metadata": {},
   "outputs": [],
   "source": [
    "print(\"Standardabweichung: \" , daten.height.std())"
   ]
  },
  {
   "cell_type": "code",
   "execution_count": null,
   "metadata": {},
   "outputs": [],
   "source": [
    "print(\"Varianz: \" , daten.height.var())"
   ]
  },
  {
   "cell_type": "markdown",
   "metadata": {},
   "source": [
    "## Verteilungen\n",
    "### Binomialverteilung\n",
    "\n",
    "Merkmale:\n",
    "\n",
    "* Typ der Verteilung: Diskret\n",
    "* Merkmal: Ziehen mit Zurücklegen\n",
    "* Klassische Beispiele: Würfeln, Münzwurf\n",
    "\n",
    "Definition:\n",
    "$\n",
    "B(k\\mid p,n)=\\begin{cases}\n",
    "  \\binom nk p^k (1-p)^{n-k} &\\text{falls} \\quad k\\in\\left\\{0,1,\\dots,n\\right\\}\\\\\n",
    "  0            & \\text{sonst.}\\end{cases}\n",
    "$\n",
    "\n",
    "**Beispiel 1:**\n",
    "Wie hoch ist die Wahrscheinlichkeit, dass beim 10-maligen Würfeln exakt 3 mal eine 6 gewürfelt wird?\n",
    "\n",
    "Gegeben:\n",
    "\n",
    "* n = 10\n",
    "* k = 3\n",
    "* p = 1/6\n",
    "\n",
    "\\begin{eqnarray*}\n",
    "B(k \\mid p,n) &=& \\binom nk p^k (1-p)^{n-k} \\\\\n",
    "&=& {10\\choose 3} \\cdot \\left( \\frac{1}{6}\\right)^{3} \\cdot \\left(\\frac{5}{6}\\right)^{7} \\\\\n",
    "&=& \\frac{10!}{(10-3)! \\cdot 3!} \\cdot \\left( \\frac{1}{6}\\right)^{3} \\cdot \\left(\\frac{5}{6}\\right)^{7} \\\\\n",
    "&=& \\underline{0,155}\n",
    "\\end{eqnarray*}\n",
    "\n",
    "Berechnung mit Hilfe der Funktion *pmf* aus dem Package *binom*:"
   ]
  },
  {
   "cell_type": "code",
   "execution_count": null,
   "metadata": {},
   "outputs": [],
   "source": [
    "from scipy.stats import binom\n",
    "binom.pmf(3, 10, 1/6)"
   ]
  },
  {
   "cell_type": "markdown",
   "metadata": {},
   "source": [
    "Wir erstellen mit Hilfe von Matplotlib ein Diagramm, das die Wahrscheinlichkeiten für oben angegebenes Beispiel zeigt: Wahrscheinlichkeiten beim 10-maligen Würfeln für 0, 1, 2, ... 10 mal die 6:"
   ]
  },
  {
   "cell_type": "code",
   "execution_count": null,
   "metadata": {},
   "outputs": [],
   "source": [
    "%matplotlib inline\n",
    "import pandas as pd\n",
    "from scipy.stats import binom\n",
    "import matplotlib.pyplot as plt\n",
    "\n",
    "# Wir erstellen ein Dataframe (eine Tabelle) mit 2 Spalten:\n",
    "# den x-Werten von 0 bis 10 und den zugehörigen p-Werten\n",
    "\n",
    "ergebnisse = pd.DataFrame({\"x\":[0,1,2,3,4,5,6,7,8,9,10],\n",
    "                          \"y\":binom.pmf([0,1,2,3,4,5,6,7,8,9,10],10,1/6)})\n",
    "\n",
    "plt.bar(ergebnisse.x, ergebnisse.y)\n",
    "plt.title(\"Wahrscheinlichkeiten der Binomialverteilung\")\n",
    "plt.xlabel(\"Anzahl Treffer\")\n",
    "plt.ylabel(\"Wahrscheinlichkeit\")\n",
    "plt.show()"
   ]
  },
  {
   "cell_type": "markdown",
   "metadata": {},
   "source": [
    "**Beispiel 2:** Kumulierte Häufigkeit\n",
    "\n",
    "Wie hoch ist die Wahrscheinlichkeit, dass beim 10-maligen Würfeln 1, 2 oder 3 Mal die 6 gewürfelt wird? Dazu müssen die Einzelwahrscheinlichkeiten für X=1, X=2 und X=3 addiert werden.\n",
    "\n",
    "\\begin{eqnarray*}\n",
    "= {10\\choose 1} \\cdot \\left( \\frac{1}{6}\\right)^{1} \\cdot \\left(\\frac{5}{6}\\right)^{9} \n",
    "\t+   {10\\choose 2} \\cdot \\left( \\frac{1}{6}\\right)^{2} \\cdot \\left(\\frac{5}{6}\\right)^{8} \n",
    "  + \t{10\\choose 3} \\cdot \\left( \\frac{1}{6}\\right)^{3} \\cdot \\left(\\frac{5}{6}\\right)^{7} \\\\\n",
    "  = 0,323 + 0,291 + 0,155 \\\\\n",
    "\t= \\underline{0,769}\n",
    "\\end{eqnarray*}\n",
    "\n",
    "Die Aufgabe lässt sich mit Python wie folgt lösen:"
   ]
  },
  {
   "cell_type": "code",
   "execution_count": null,
   "metadata": {},
   "outputs": [],
   "source": [
    "from scipy.stats import binom\n",
    "\n",
    "binom.pmf([1,2,3], 10, 1/6).sum()"
   ]
  },
  {
   "cell_type": "markdown",
   "metadata": {},
   "source": [
    "Mit Hilfe der Funktion *cdf* kann auch die kummulierte Wahrscheinlichkeit (von 0 .. k) berechnet werden, müssen dann aber die Wahrscheinlichkeit für k=0 wieder abziehen!"
   ]
  },
  {
   "cell_type": "code",
   "execution_count": null,
   "metadata": {},
   "outputs": [],
   "source": [
    "binom.cdf(3, 10, 1/6) - binom.pmf(0,10,1/6)"
   ]
  },
  {
   "cell_type": "markdown",
   "metadata": {},
   "source": [
    "**Übung:**\n",
    "Aus einer Urne mit (theoretisch unendlich) vielen roten und blauen Kugeln werden 20 Kugeln gezogen. Nach jedem Ziehen wird die Kugel wieder zurückgelegt. \n",
    "\n",
    "Wie groß ist die Wahrscheinlichkeit, dass 8 dieser Kugeln blau sind, wenn die Wahrscheinlichkeit, eine blaue Kugel zu ziehen, 35% beträgt?\n",
    "\n",
    "\n",
    "Eingesetzt in die Formel für die Binomialverteilung:\n",
    "\n",
    "$ P(X=8)=\\binom{20}{8}0,35^{8}\\cdot(1-0,35)^{20-8}=1,161 $\n",
    "\n",
    "Geben Sie den Python-Code, der die gesuchte Wahrscheinlichkeit ermittelt, in folgende Zeile ein:"
   ]
  },
  {
   "cell_type": "code",
   "execution_count": null,
   "metadata": {},
   "outputs": [],
   "source": [
    " # Hier den Code eingeben!\n"
   ]
  },
  {
   "cell_type": "markdown",
   "metadata": {},
   "source": [
    "**Übung:**\n",
    "Wie groß ist die Wahrscheinlichkeit, *höchstens* 8 blaue Kugeln zu ziehen? (Ergebnis: 0.762)\n",
    "\n",
    "Geben Sie auch hier wieder den gesuchten Python-Code ein:"
   ]
  },
  {
   "cell_type": "code",
   "execution_count": null,
   "metadata": {},
   "outputs": [],
   "source": [
    "# Hier den Code eingeben!\n"
   ]
  },
  {
   "cell_type": "markdown",
   "metadata": {},
   "source": [
    "### Normalverteilung\n",
    "Die wohl wichtigste Verteilung, siehe auch \"Zentraler Grenzwertsatz (ZGW)\"\n",
    "\n",
    "Merkmale:\n",
    "* Typ: Stetige Verteilung\n",
    "* Bekannt auch als \"Gaußkurve\" oder auch \"Glockenkurve\"\n",
    "* Beispiele: Unendlich viele (\"Schweizer Taschenmesser der Statistik\")\n",
    "\n",
    "Der *Zentrale Grenzwertsatz* besagt, dass die Stichprobenverteilung der Mittelwerte asymptotisch normalverteilt sein wird, unabhängig von der Form der zugrunde liegenden Verteilung der Daten, vorausgesetzt die Daten sind unabhängig und identisch verteilt. Häufig wird die Normalverteilung auch dazu verwendet, die Binomialverteilung einfacher zu berechnen. Dazu muss die Laplace-Bedingung erfüllt sein: Die Standardabweichung $\\sigma$ muss mindestens 3 ergeben:\n",
    "\n",
    "\n",
    "$ \\sigma = \\sqrt{n \\cdot p \\cdot (1-p)} > 3 $\n",
    " \n",
    "Funktion der Normalverteilung:\n",
    "\n",
    "$ f(x) = \\frac {1}{\\sigma\\sqrt{2\\pi}} e^{-\\frac {1}{2} \\left(\\frac{x-\\mu}{\\sigma}\\right)^2} $\n",
    "\n",
    "Dabei gilt:\n",
    "\n",
    "- $\\sigma$: Standardabweichung der Grundgesamtheit\n",
    "- $\\mu$: Erwartungswert der Grundgesamtheit\n",
    "\n",
    "Wir erstellen mit folgendem Code einen Plot, der die bekannte Glockenkurve zeigt:"
   ]
  },
  {
   "cell_type": "code",
   "execution_count": null,
   "metadata": {},
   "outputs": [],
   "source": [
    "import numpy as np\n",
    "from scipy.stats import norm\n",
    "import matplotlib.pyplot as plt\n",
    "\n",
    "x = np.arange(-4,4,.01)\n",
    "y = norm.pdf(x)\n",
    "\n",
    "plt.plot(x,y)\n",
    "plt.title(\"Normalverteilung\")\n",
    "plt.show()\n"
   ]
  },
  {
   "cell_type": "markdown",
   "metadata": {},
   "source": [
    "### Standardnormalverteilung\n",
    "Bei der Standardnormalverteilung beträgt die Standardabweichung $\\sigma$ immer eins, der Erwartungswert $\\mu$ immer 0. In der Praxis wird häufig die Standardnormalverteilung verwendet. Dazu müssen alle x-Werte in standardisierte z-Werte umgewandelt werden:\n",
    "\n",
    "$ z_{i} = \\frac{x_{i}-\\mu}{\\sigma} $\n",
    "\n",
    "**Beispiel:**\n",
    "Die Körpergröße sei normalverteilt. Wie groß ist die Wahrscheinlichkeit, dass ein zufällig ausgewählter Mann zwischen 70 und 72 inches groß ist?\n",
    "\n",
    "Wir lösen diese Aufgabe mit Python, und zwar auf 2 Wegen:\n",
    "* Zuerst die Schritt-für-Schritt-Lösung (wie in der Schule ;-)\n",
    "* Dann mit einem einzigen Python-Befehl!"
   ]
  },
  {
   "cell_type": "code",
   "execution_count": null,
   "metadata": {},
   "outputs": [],
   "source": [
    "from scipy.stats import stats\n",
    "# Schritt-für-Schritt - Lösung\n",
    "\n",
    "# Wir ermitteln den Mittelwert der Körpergrößen der Männer\n",
    "x_quer = daten[daten.sex==\"Male\"].height.mean()\n",
    "print(\"Mittelwert: \" , x_quer)\n",
    "\n",
    "# Wir ermitteln die Standardabweichung der Körpergrößen der Männer\n",
    "s = daten[daten.sex==\"Male\"].height.std()\n",
    "print(\"Standardabweichung\" , s)\n",
    "\n",
    "# Wier bestimmen die Z-Werte für die beiden Grenzen\n",
    "z_links = (70-x_quer) / s\n",
    "z_rechts = (72-x_quer) / s\n",
    "print(\"z links:\", z_links, \", z rechts:\", z_rechts)\n",
    "\n",
    "# Wir schauen in eine Tabelle für Normalverteilungen (siehe Internet oder auch im Skript).\n",
    "# Die gesuchte Wahrscheinlichkeit ist die Fläche unter der Kurve zwischen den beiden Z-Werten.\n",
    "\n",
    "# Für z.links finden wir einen Wert von 0,5753, für z.rechts einen Wert von 0,7704\n",
    "# Somit ergibt sich die Lösung\n",
    "\n",
    "p = 0.7704 - 0.5753\n",
    "print(\"Ergebnis:\" , p)\n",
    "\n",
    "# Nun die Lösung mit Hilfe der Python-Funktion dnorm:\n",
    "norm.cdf(72, x_quer, s) - norm.cdf(70, x_quer, s)"
   ]
  },
  {
   "cell_type": "markdown",
   "metadata": {},
   "source": [
    "Das folgende Diagramm visualisiert diese Aufgabe. Der rot markierte Bereich unter der Kurve entspricht der gesuchten Wahrscheinlichkeit:"
   ]
  },
  {
   "cell_type": "code",
   "execution_count": null,
   "metadata": {},
   "outputs": [],
   "source": [
    "import numpy as np\n",
    "import matplotlib.pyplot as plt\n",
    "from scipy.stats import norm\n",
    "x = np.arange(-4,4,.01)\n",
    "y = norm.pdf(x)\n",
    "plt.fill_between(x,y,0, color=\"green\")\n",
    "plt.fill_between(x,y,0, x>0.19 ,  color=\"red\")\n",
    "plt.fill_between(x,y,0, x>0.74 ,  color=\"green\")\n",
    "plt.show()"
   ]
  },
  {
   "cell_type": "markdown",
   "metadata": {},
   "source": [
    "## Hypothesentest und p-Wert\n",
    "*Beispiel:* Bei einem neuen Medikament wird behauptet, dass eine Nebenwirkung mit einer Wahrscheinlichkeit von bis zu 10% auftritt.\n",
    "Diese Information soll auf den Beipackzettel des Medikaments gedruckt werden. Bei einer klinischen Studie  wurde bei 10 von 50 Patienten diese\n",
    "Nebenwirkungen festgestellt. Ist die Angabe auf dem Beipackzettel haltbar?\n",
    "\n",
    "Als Signifikanzniveau soll 5% verwendet werden.\n",
    "\n",
    "$H_0$ lautet: P(Nebenwirkung) <= 10%\n",
    "\n",
    "$H_1$ lautet: P(Nebenwirkung) > 10%\n",
    "\n",
    "Falls $H_0$ richtig ist, beträgt die Wahrscheinlichkeit,\n",
    "dass von 50 Patienten bei 10 ODER MEHR Patienten Nebenwirkungen\n",
    "auftreten:\n"
   ]
  },
  {
   "cell_type": "code",
   "execution_count": null,
   "metadata": {},
   "outputs": [],
   "source": [
    "import numpy as np\n",
    "from scipy.stats import binom_test\n",
    "\n",
    "p = binom_test(10, 50, 0.1, alternative=\"greater\")\n",
    "print(p)"
   ]
  },
  {
   "cell_type": "markdown",
   "metadata": {},
   "source": [
    "p < 0,05 $\\Rightarrow$ Wir können $H_0$ **nicht** beibehalten, somit ist die Angabe auf dem Beipackzettel nicht haltbar!\n",
    "Man beachte: Hätten wir ein Signifikanzniveau von 0,1 gewählt, so hätten wir $H_0$ beibehalten!!! Deshalb ist es im Sinne der Wissenschaft wichtig, das Signifikanzniveau **VOR** dem Ziehen der Stichprobe zu wählen!\n",
    "\n",
    "Die folgende Grafik zeigt die Binomialverteilung für die Anzahl der Patienten mit Nebenwirkung. Da ab ca. 15 Patienten die Wahrscheinlichkeit fast 0 ist, werden nur die ersten 20 Wahrscheinlichkeiten angezeigt."
   ]
  },
  {
   "cell_type": "code",
   "execution_count": null,
   "metadata": {},
   "outputs": [],
   "source": [
    "#wahrscheinlichkeiten <- data.frame(x=0:20, p=dbinom(0:20, 50, .1))\n",
    "\n",
    "#bp <- barplot(wahrscheinlichkeiten$p, xlim=c(0,20), col=c(rep(\"blue\",10), rep(\"red\",10)), \n",
    "#        names.arg = wahrscheinlichkeiten$x,\n",
    "#        main = \"Wahrscheinlichkeitsverteilung\",\n",
    "#        xlab = \"Anzahl Patienten mit Nebenwirkungen\",\n",
    "#        ylab = \"Wahrscheinlichkeit der Nebenwirkung\",\n",
    "#        ylim=c(0,.2))\n",
    "#\n",
    "#text(bp, wahrscheinlichkeiten$p, labels=round(wahrscheinlichkeiten$p*1000)/1000,\n",
    "#     col=\"red\", pos=3, cex=.8)\n",
    "\n",
    "import numpy as np\n",
    "import pandas as pd\n",
    "import matplotlib.pyplot as plt\n",
    "from scipy.stats import binom\n",
    "x = np.arange(20)\n",
    "p = binom.pmf(x, 50, .1)\n",
    "\n",
    "plt.bar(x[0:11],p[0:11], color=\"r\")\n",
    "plt.bar(x[11:],p[11:], color=\"g\")"
   ]
  },
  {
   "cell_type": "markdown",
   "metadata": {},
   "source": [
    "Allgemein formuliert: Der p-Wert gibt die Wahrscheinlichkeit an, dass unter der Annahme, dass die 0-Hypothese gültig ist, ein Ergebnis wie das ermittelte oder noch extremer auftritt."
   ]
  },
  {
   "cell_type": "markdown",
   "metadata": {},
   "source": [
    "# $\\chi^2$-Test\n",
    "Als weiteren Hypothesentest wollen wir noch den χ2 - Unabhängigkeitstest behandeln. Bei dieser Testvariante wird geprüft, ob zwei beliebig skalierte (also auch nominal skalierte) Merkmale voneinander unabhängig sind. Man kann diesen Test zum Beispiel einsetzen um zu prüfen, ob die unabhängigen Variablen für eine lineare Regression auch wirklich unabhängig sind. Die 0-Hypothese $H_0$ geht davon aus, dass dies der Fall ist.\n",
    "\n",
    "Die Beobachtungen werden hierzu in Kategorien eingeteilt und man trägt die Anzahl der jeweiligen Beobachten (Observations) in eine Matrix ein. Zudem erstellt man eine Matrix mit den zu erwartenden (expected) Häuﬁgkeiten,\n",
    "die eintreten würden, falls die Merkmale tatsächlich voneinander unabhängig wären. Der $\\chi^2$ -Wert wird dann wie folgt berechnet:\n",
    "\n",
    "$\\chi^2 = \\frac{(n_0-n_e)^2}{n_e}$\n",
    "\n",
    "wobei gilt: $n_o$ sind die beobachteten Häufigkeiten (o für observed), $n_e$ die erwarteten Häufigkeiten (e für exptected), sollten die Merkmale voneinander tatsächlich unabhängig sein. Der hiermit berechnete Wert wird mit einem Wert einer $\\chi^2$ - Tabelle verglichen. Ist der berechnete Wert größer als der Wert aus der Tabelle, so wird die 0-Hypothese verworfen, ist sie kleiner, so wird sie beibehalten.\n",
    "\n",
    "**Beispiel:**\n",
    "Es wird untersucht, ob die Art der Erwerbstätigkeit (voll erwerbstätig, teilzeit beschäftigt, geringfügig beschäftigt, nicht erwerbstätig) vom Geschlecht abhängt. Eine Umfrage unter 1.000 Personen ergab folgende Werte, zusammengefasst in der folgenden Kontingenztabelle:\n",
    "\n",
    "|Beschäftigungsart | weiblich | männlich | $\\Sigma$|\n",
    "|:-----------------|:--------:|:--------:|:-------:|\n",
    "|voll erwerbstätig | 100      | 335      | **435** |\n",
    "|teilzeit besch.   | 50       | 55       | **105** |\n",
    "|geringfügig besch.| 20       | 50       | **70**  |\n",
    "|nicht erwerbstätig| 300      | 90       | **390** |\n",
    "|$\\Sigma$          | **470**  | **530**  | **1000**|\n",
    "\n",
    "Die 0-Hypothese lautet: Es gibt *keinen* Unterschied zwischen den Geschlechtern.\n",
    "\n",
    "Angenommen die Merkmale wären völlig unabhängig voneinander, dann kann man die erwarteten Häuﬁgkeiten wie folgt berechnen: Man multipliziert die Randhäuﬁgkeiten (die Summen der jeweiligen Zeile und Spalte) und dividiert dieses Produkt durch die Gesamtsumme (die Zahl unten rechts in der Tabelle, hier also 1.000). Im Beispiel würden sich folgende erwarteten Häufigkeiten ergeben:\n",
    "\n",
    "|Beschäftigungsart | weiblich | männlich | $\\Sigma$|\n",
    "|:-----------------|:--------:|:--------:|:-------:|\n",
    "|voll erwerbstätig | 204,45   | 230,55   | **435** |\n",
    "|teilzeit besch.   | 49,35    | 55,65    | **105** |\n",
    "|geringfügig besch.| 32,9     | 37,1     | **70**  |\n",
    "|nicht erwerbstätig| 183,3    | 206,7    | **390** |\n",
    "|$\\Sigma$          | **470**  | **530**  | **1000**|\n",
    "\n",
    "Die erwarteten ersten zwei Werte in der ersten Zeile errechnen sich exemplarisch durch:\n",
    "\n",
    "$e_{1,1} = \\frac{470 \\cdot 435}{1000} = 204,45$\n",
    "\n",
    "$e_{1,2} = \\frac{530 \\cdot 435}{1000} = 230,55$\n",
    "\n",
    "Nun kann nach obiger Formel der $\\chi^2$ - Wert (empirisch) ermittelt werden, also:\n",
    "\n",
    "$\n",
    "\\chi^2 = \\frac{(100-204,45)^2}{204,45} + \\frac{(50-49,35)^2}{49,35} + ... + \\frac{(90-206,7)^2}{206,7} = 250,43\n",
    "$\n",
    "\n",
    "\n",
    "Mit Hilfe einer $\\chi^2$-Tabelle (siehe Skript oder im Internet) können wir nun den kritischen Wert für $\\chi^2$ ermitteln. Dazu benötigen wir noch die Freiheitsgrade. Diese errechnet sich durch (Anzahl Zeilen - 1) * (Anzahl Spalten - 1), hier also (4-1) * (2-1) = 3. Laut $\\chi^2$-Tabelle beträgt der kritische Wert für df=3 und einem angenommen Konfidenzniveau von 0,95 = 7,81. Da der empirische Wert deutlich darüber liegt, können wir die 0-Hypothese nicht beibehalten, d.h. es gibt einen signifkanten Unterschied bzgl. der Beschäftigungsarten zwischen den Geschlechtern.\n",
    "\n",
    "Wir prüfen dieses Ergebnis noch mit Hilfe von Python und verwenden hierfür die Python-Funktion *chi2_contingency*:"
   ]
  },
  {
   "cell_type": "code",
   "execution_count": null,
   "metadata": {},
   "outputs": [],
   "source": [
    "from scipy.stats import chi2_contingency\n",
    "import pandas as pd\n",
    "import numpy as np\n",
    "\n",
    "cols = [\"Männlich\", \"Weiblich\"]\n",
    "ind  = [\"Voll erwerbstätig\", \"Teilzeit\", \"geringfügig besch.\", \"nicht erwerbstätig\"]\n",
    "\n",
    "beobachtet = pd.DataFrame([\n",
    "    [100, 335],\n",
    "    [50, 55],\n",
    "    [20, 50],\n",
    "    [300, 90]\n",
    "], columns= cols, index = ind)\n",
    "\n",
    "ergebnis = chi2_contingency(beobachtet)\n",
    "print(\"Chi2-Wert:\", ergebnis[0])\n",
    "print(\"p-Wert:\", ergebnis[1])\n",
    "\n",
    "# Wir geben noch die erwarteten Werte aus:\n",
    "print(\"Erwartete Werte:\")\n",
    "print(pd.DataFrame(ergebnis[3], columns=cols, index=ind))"
   ]
  },
  {
   "cell_type": "code",
   "execution_count": null,
   "metadata": {},
   "outputs": [],
   "source": []
  },
  {
   "cell_type": "code",
   "execution_count": null,
   "metadata": {},
   "outputs": [],
   "source": []
  }
 ],
 "metadata": {
  "kernelspec": {
   "display_name": "Python 3",
   "language": "python",
   "name": "python3"
  },
  "language_info": {
   "codemirror_mode": {
    "name": "ipython",
    "version": 3
   },
   "file_extension": ".py",
   "mimetype": "text/x-python",
   "name": "python",
   "nbconvert_exporter": "python",
   "pygments_lexer": "ipython3",
   "version": "3.7.6"
  }
 },
 "nbformat": 4,
 "nbformat_minor": 4
}
