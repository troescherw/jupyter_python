{
 "cells": [
  {
   "cell_type": "markdown",
   "id": "76198a37-d856-41ae-a40f-3b4a37388c79",
   "metadata": {},
   "source": [
    "# Beispiel: Lineare Regression nach Transformation mit Logarithmus\n",
    "Wir verwenden einen Datensatz von Säugetieren und betrachten den Stoffwechsel (BasalMetRate_mLO2hr) in Abhängigkeit von dem Gewicht eines Säugetieres (AdultBodyMass_g). Führen wir \"blind\" eine Lineaere Regression durch, so erhalten wir (immerhin) ein $R^2$ von ca. 0,6. Der Koeffizient für AdultBodyMass_g hat einen p-Wert < 0,05."
   ]
  },
  {
   "cell_type": "code",
   "execution_count": 1,
   "id": "a0a68794-0dbc-4f0d-b6dd-d3af820824e2",
   "metadata": {},
   "outputs": [
    {
     "data": {
      "text/html": [
       "<div>\n",
       "<style scoped>\n",
       "    .dataframe tbody tr th:only-of-type {\n",
       "        vertical-align: middle;\n",
       "    }\n",
       "\n",
       "    .dataframe tbody tr th {\n",
       "        vertical-align: top;\n",
       "    }\n",
       "\n",
       "    .dataframe thead th {\n",
       "        text-align: right;\n",
       "    }\n",
       "</style>\n",
       "<table border=\"1\" class=\"dataframe\">\n",
       "  <thead>\n",
       "    <tr style=\"text-align: right;\">\n",
       "      <th></th>\n",
       "      <th>MSW05_Order</th>\n",
       "      <th>MSW05_Family</th>\n",
       "      <th>MSW05_Genus</th>\n",
       "      <th>MSW05_Species</th>\n",
       "      <th>MSW05_Binomial</th>\n",
       "      <th>AdultBodyMass_g</th>\n",
       "      <th>BasalMetRate_mLO2hr</th>\n",
       "      <th>Met-Gram</th>\n",
       "      <th>MaxLongevity_m</th>\n",
       "    </tr>\n",
       "  </thead>\n",
       "  <tbody>\n",
       "    <tr>\n",
       "      <th>0</th>\n",
       "      <td>Chiroptera</td>\n",
       "      <td>Mormoopidae</td>\n",
       "      <td>Pteronotus</td>\n",
       "      <td>quadridens</td>\n",
       "      <td>Pteronotus quadridens</td>\n",
       "      <td>5.64</td>\n",
       "      <td>6.12</td>\n",
       "      <td>1.085106</td>\n",
       "      <td>*</td>\n",
       "    </tr>\n",
       "    <tr>\n",
       "      <th>1</th>\n",
       "      <td>Chiroptera</td>\n",
       "      <td>Vespertilionidae</td>\n",
       "      <td>Myotis</td>\n",
       "      <td>velifer</td>\n",
       "      <td>Myotis velifer</td>\n",
       "      <td>9.82</td>\n",
       "      <td>7.70</td>\n",
       "      <td>0.784114</td>\n",
       "      <td>135.96</td>\n",
       "    </tr>\n",
       "    <tr>\n",
       "      <th>2</th>\n",
       "      <td>Afrosoricida</td>\n",
       "      <td>Tenrecidae</td>\n",
       "      <td>Geogale</td>\n",
       "      <td>aurita</td>\n",
       "      <td>Geogale aurita</td>\n",
       "      <td>6.69</td>\n",
       "      <td>7.72</td>\n",
       "      <td>1.153961</td>\n",
       "      <td>*</td>\n",
       "    </tr>\n",
       "    <tr>\n",
       "      <th>3</th>\n",
       "      <td>Chiroptera</td>\n",
       "      <td>Mormoopidae</td>\n",
       "      <td>Mormoops</td>\n",
       "      <td>blainvillei</td>\n",
       "      <td>Mormoops blainvillei</td>\n",
       "      <td>8.69</td>\n",
       "      <td>7.99</td>\n",
       "      <td>0.919448</td>\n",
       "      <td>*</td>\n",
       "    </tr>\n",
       "    <tr>\n",
       "      <th>4</th>\n",
       "      <td>Chiroptera</td>\n",
       "      <td>Natalidae</td>\n",
       "      <td>Natalus</td>\n",
       "      <td>tumidirostris</td>\n",
       "      <td>Natalus tumidirostris</td>\n",
       "      <td>6.30</td>\n",
       "      <td>8.31</td>\n",
       "      <td>1.319048</td>\n",
       "      <td>*</td>\n",
       "    </tr>\n",
       "    <tr>\n",
       "      <th>...</th>\n",
       "      <td>...</td>\n",
       "      <td>...</td>\n",
       "      <td>...</td>\n",
       "      <td>...</td>\n",
       "      <td>...</td>\n",
       "      <td>...</td>\n",
       "      <td>...</td>\n",
       "      <td>...</td>\n",
       "      <td>...</td>\n",
       "    </tr>\n",
       "    <tr>\n",
       "      <th>567</th>\n",
       "      <td>Artiodactyla</td>\n",
       "      <td>Camelidae</td>\n",
       "      <td>Camelus</td>\n",
       "      <td>dromedarius</td>\n",
       "      <td>Camelus dromedarius</td>\n",
       "      <td>492714.47</td>\n",
       "      <td>40293.00</td>\n",
       "      <td>0.081778</td>\n",
       "      <td>480</td>\n",
       "    </tr>\n",
       "    <tr>\n",
       "      <th>568</th>\n",
       "      <td>Carnivora</td>\n",
       "      <td>Ursidae</td>\n",
       "      <td>Ursus</td>\n",
       "      <td>maritimus</td>\n",
       "      <td>Ursus maritimus</td>\n",
       "      <td>371703.81</td>\n",
       "      <td>44346.00</td>\n",
       "      <td>0.119305</td>\n",
       "      <td>458.4</td>\n",
       "    </tr>\n",
       "    <tr>\n",
       "      <th>569</th>\n",
       "      <td>Carnivora</td>\n",
       "      <td>Phocidae</td>\n",
       "      <td>Cystophora</td>\n",
       "      <td>cristata</td>\n",
       "      <td>Cystophora cristata</td>\n",
       "      <td>278896.81</td>\n",
       "      <td>62991.00</td>\n",
       "      <td>0.225858</td>\n",
       "      <td>420</td>\n",
       "    </tr>\n",
       "    <tr>\n",
       "      <th>570</th>\n",
       "      <td>Artiodactyla</td>\n",
       "      <td>Cervidae</td>\n",
       "      <td>Capreolus</td>\n",
       "      <td>capreolus</td>\n",
       "      <td>Capreolus capreolus</td>\n",
       "      <td>22502.01</td>\n",
       "      <td>78470.00</td>\n",
       "      <td>3.487244</td>\n",
       "      <td>204</td>\n",
       "    </tr>\n",
       "    <tr>\n",
       "      <th>571</th>\n",
       "      <td>Carnivora</td>\n",
       "      <td>Phocidae</td>\n",
       "      <td>Leptonychotes</td>\n",
       "      <td>weddellii</td>\n",
       "      <td>Leptonychotes weddellii</td>\n",
       "      <td>400000.00</td>\n",
       "      <td>113712.00</td>\n",
       "      <td>0.284280</td>\n",
       "      <td>300</td>\n",
       "    </tr>\n",
       "  </tbody>\n",
       "</table>\n",
       "<p>572 rows × 9 columns</p>\n",
       "</div>"
      ],
      "text/plain": [
       "      MSW05_Order      MSW05_Family    MSW05_Genus  MSW05_Species  \\\n",
       "0      Chiroptera       Mormoopidae     Pteronotus     quadridens   \n",
       "1      Chiroptera  Vespertilionidae         Myotis        velifer   \n",
       "2    Afrosoricida        Tenrecidae        Geogale         aurita   \n",
       "3      Chiroptera       Mormoopidae       Mormoops    blainvillei   \n",
       "4      Chiroptera         Natalidae        Natalus  tumidirostris   \n",
       "..            ...               ...            ...            ...   \n",
       "567  Artiodactyla         Camelidae        Camelus    dromedarius   \n",
       "568     Carnivora           Ursidae          Ursus      maritimus   \n",
       "569     Carnivora          Phocidae     Cystophora       cristata   \n",
       "570  Artiodactyla          Cervidae      Capreolus      capreolus   \n",
       "571     Carnivora          Phocidae  Leptonychotes      weddellii   \n",
       "\n",
       "              MSW05_Binomial  AdultBodyMass_g  BasalMetRate_mLO2hr  Met-Gram  \\\n",
       "0      Pteronotus quadridens             5.64                 6.12  1.085106   \n",
       "1             Myotis velifer             9.82                 7.70  0.784114   \n",
       "2             Geogale aurita             6.69                 7.72  1.153961   \n",
       "3       Mormoops blainvillei             8.69                 7.99  0.919448   \n",
       "4      Natalus tumidirostris             6.30                 8.31  1.319048   \n",
       "..                       ...              ...                  ...       ...   \n",
       "567      Camelus dromedarius        492714.47             40293.00  0.081778   \n",
       "568          Ursus maritimus        371703.81             44346.00  0.119305   \n",
       "569      Cystophora cristata        278896.81             62991.00  0.225858   \n",
       "570      Capreolus capreolus         22502.01             78470.00  3.487244   \n",
       "571  Leptonychotes weddellii        400000.00            113712.00  0.284280   \n",
       "\n",
       "    MaxLongevity_m  \n",
       "0                *  \n",
       "1           135.96  \n",
       "2                *  \n",
       "3                *  \n",
       "4                *  \n",
       "..             ...  \n",
       "567            480  \n",
       "568          458.4  \n",
       "569            420  \n",
       "570            204  \n",
       "571            300  \n",
       "\n",
       "[572 rows x 9 columns]"
      ]
     },
     "execution_count": 1,
     "metadata": {},
     "output_type": "execute_result"
    }
   ],
   "source": [
    "import pandas as pd\n",
    "df = pd.read_csv(\"https://raw.githubusercontent.com/troescherw/datasets/master/Saeugetiere.csv\")\n",
    "df"
   ]
  },
  {
   "cell_type": "code",
   "execution_count": 2,
   "id": "291d4b55-ed8e-45f3-a2b1-acc5e5a87910",
   "metadata": {},
   "outputs": [
    {
     "data": {
      "text/html": [
       "<table class=\"simpletable\">\n",
       "<caption>OLS Regression Results</caption>\n",
       "<tr>\n",
       "  <th>Dep. Variable:</th>    <td>BasalMetRate_mLO2hr</td> <th>  R-squared:         </th> <td>   0.573</td> \n",
       "</tr>\n",
       "<tr>\n",
       "  <th>Model:</th>                    <td>OLS</td>         <th>  Adj. R-squared:    </th> <td>   0.572</td> \n",
       "</tr>\n",
       "<tr>\n",
       "  <th>Method:</th>              <td>Least Squares</td>    <th>  F-statistic:       </th> <td>   764.9</td> \n",
       "</tr>\n",
       "<tr>\n",
       "  <th>Date:</th>              <td>Wed, 05 Apr 2023</td>   <th>  Prob (F-statistic):</th> <td>2.05e-107</td>\n",
       "</tr>\n",
       "<tr>\n",
       "  <th>Time:</th>                  <td>04:46:29</td>       <th>  Log-Likelihood:    </th> <td> -5714.3</td> \n",
       "</tr>\n",
       "<tr>\n",
       "  <th>No. Observations:</th>       <td>   572</td>        <th>  AIC:               </th> <td>1.143e+04</td>\n",
       "</tr>\n",
       "<tr>\n",
       "  <th>Df Residuals:</th>           <td>   570</td>        <th>  BIC:               </th> <td>1.144e+04</td>\n",
       "</tr>\n",
       "<tr>\n",
       "  <th>Df Model:</th>               <td>     1</td>        <th>                     </th>     <td> </td>    \n",
       "</tr>\n",
       "<tr>\n",
       "  <th>Covariance Type:</th>       <td>nonrobust</td>      <th>                     </th>     <td> </td>    \n",
       "</tr>\n",
       "</table>\n",
       "<table class=\"simpletable\">\n",
       "<tr>\n",
       "         <td></td>            <th>coef</th>     <th>std err</th>      <th>t</th>      <th>P>|t|</th>  <th>[0.025</th>    <th>0.975]</th>  \n",
       "</tr>\n",
       "<tr>\n",
       "  <th>Intercept</th>       <td>  626.0711</td> <td>  225.473</td> <td>    2.777</td> <td> 0.006</td> <td>  183.212</td> <td> 1068.930</td>\n",
       "</tr>\n",
       "<tr>\n",
       "  <th>AdultBodyMass_g</th> <td>    0.1247</td> <td>    0.005</td> <td>   27.658</td> <td> 0.000</td> <td>    0.116</td> <td>    0.134</td>\n",
       "</tr>\n",
       "</table>\n",
       "<table class=\"simpletable\">\n",
       "<tr>\n",
       "  <th>Omnibus:</th>       <td>811.543</td> <th>  Durbin-Watson:     </th>  <td>   1.020</td> \n",
       "</tr>\n",
       "<tr>\n",
       "  <th>Prob(Omnibus):</th> <td> 0.000</td>  <th>  Jarque-Bera (JB):  </th> <td>332623.128</td>\n",
       "</tr>\n",
       "<tr>\n",
       "  <th>Skew:</th>          <td> 7.177</td>  <th>  Prob(JB):          </th>  <td>    0.00</td> \n",
       "</tr>\n",
       "<tr>\n",
       "  <th>Kurtosis:</th>      <td>120.261</td> <th>  Cond. No.          </th>  <td>5.10e+04</td> \n",
       "</tr>\n",
       "</table><br/><br/>Notes:<br/>[1] Standard Errors assume that the covariance matrix of the errors is correctly specified.<br/>[2] The condition number is large, 5.1e+04. This might indicate that there are<br/>strong multicollinearity or other numerical problems."
      ],
      "text/plain": [
       "<class 'statsmodels.iolib.summary.Summary'>\n",
       "\"\"\"\n",
       "                             OLS Regression Results                            \n",
       "===============================================================================\n",
       "Dep. Variable:     BasalMetRate_mLO2hr   R-squared:                       0.573\n",
       "Model:                             OLS   Adj. R-squared:                  0.572\n",
       "Method:                  Least Squares   F-statistic:                     764.9\n",
       "Date:                 Wed, 05 Apr 2023   Prob (F-statistic):          2.05e-107\n",
       "Time:                         04:46:29   Log-Likelihood:                -5714.3\n",
       "No. Observations:                  572   AIC:                         1.143e+04\n",
       "Df Residuals:                      570   BIC:                         1.144e+04\n",
       "Df Model:                            1                                         \n",
       "Covariance Type:             nonrobust                                         \n",
       "===================================================================================\n",
       "                      coef    std err          t      P>|t|      [0.025      0.975]\n",
       "-----------------------------------------------------------------------------------\n",
       "Intercept         626.0711    225.473      2.777      0.006     183.212    1068.930\n",
       "AdultBodyMass_g     0.1247      0.005     27.658      0.000       0.116       0.134\n",
       "==============================================================================\n",
       "Omnibus:                      811.543   Durbin-Watson:                   1.020\n",
       "Prob(Omnibus):                  0.000   Jarque-Bera (JB):           332623.128\n",
       "Skew:                           7.177   Prob(JB):                         0.00\n",
       "Kurtosis:                     120.261   Cond. No.                     5.10e+04\n",
       "==============================================================================\n",
       "\n",
       "Notes:\n",
       "[1] Standard Errors assume that the covariance matrix of the errors is correctly specified.\n",
       "[2] The condition number is large, 5.1e+04. This might indicate that there are\n",
       "strong multicollinearity or other numerical problems.\n",
       "\"\"\""
      ]
     },
     "execution_count": 2,
     "metadata": {},
     "output_type": "execute_result"
    }
   ],
   "source": [
    "from statsmodels.formula.api import ols\n",
    "\n",
    "model = ols(\"BasalMetRate_mLO2hr~AdultBodyMass_g\", data=df).fit()\n",
    "model.summary()"
   ]
  },
  {
   "cell_type": "markdown",
   "id": "ef32c17e-2f3b-4cf9-83f3-d2799eaf05df",
   "metadata": {},
   "source": [
    "Ein Scatterplot zeigt allerdings, dass die Daten hier sehr streuen, und zwar zunehmend mit dem Körpergewicht (Heteroskedastizität)."
   ]
  },
  {
   "cell_type": "code",
   "execution_count": 3,
   "id": "5c7a001f-2739-47d0-97ef-14a8ead8d17e",
   "metadata": {},
   "outputs": [
    {
     "data": {
      "text/plain": [
       "<AxesSubplot:xlabel='AdultBodyMass_g', ylabel='BasalMetRate_mLO2hr'>"
      ]
     },
     "execution_count": 3,
     "metadata": {},
     "output_type": "execute_result"
    },
    {
     "data": {
      "image/png": "[encoded data removed]",
      "text/plain": [
       "<Figure size 432x288 with 1 Axes>"
      ]
     },
     "metadata": {
      "needs_background": "light"
     },
     "output_type": "display_data"
    }
   ],
   "source": [
    "import seaborn as sns\n",
    "sns.regplot(x=df.AdultBodyMass_g, y=df.BasalMetRate_mLO2hr)"
   ]
  },
  {
   "cell_type": "markdown",
   "id": "725a71ff-d0f8-46c1-b17e-d9551a1bc2e8",
   "metadata": {},
   "source": [
    "Wir führen eine Log-Transformation durch: Von beiden Features berechnen wir den Logarithmus (zur Basis e). Wir sehen, dass dann ein sehr guter linearer Zusammenhang zwischen den transformierten Daten besteht!"
   ]
  },
  {
   "cell_type": "code",
   "execution_count": 4,
   "id": "f57e9ce8-1c62-4367-8946-2bce1d6136ef",
   "metadata": {},
   "outputs": [
    {
     "data": {
      "text/plain": [
       "<AxesSubplot:xlabel='AdultBodyMass_g', ylabel='BasalMetRate_mLO2hr'>"
      ]
     },
     "execution_count": 4,
     "metadata": {},
     "output_type": "execute_result"
    },
    {
     "data": {
      "image/png": "[encoded data removed]",
      "text/plain": [
       "<Figure size 432x288 with 1 Axes>"
      ]
     },
     "metadata": {
      "needs_background": "light"
     },
     "output_type": "display_data"
    }
   ],
   "source": [
    "import numpy as np\n",
    "sns.regplot(x=np.log(df.AdultBodyMass_g), y=np.log(df.BasalMetRate_mLO2hr))"
   ]
  },
  {
   "cell_type": "markdown",
   "id": "6f32f583-1c48-42a1-98ab-fafd8ce047b4",
   "metadata": {},
   "source": [
    "Eine lineare Regression mit den transformiertn Daten ergibt dann sogar ein $R^2$ von ca. 0.94! Ein enorm hoher Wert wenn man bedenkt, dass es sich um die unterschiedlichsten Tiere handelt, deren Daten in den Datensatz eingeflossen sind."
   ]
  },
  {
   "cell_type": "code",
   "execution_count": 5,
   "id": "0f3c7640-30c3-428c-a927-b3646adf3c16",
   "metadata": {},
   "outputs": [
    {
     "data": {
      "text/html": [
       "<table class=\"simpletable\">\n",
       "<caption>OLS Regression Results</caption>\n",
       "<tr>\n",
       "  <th>Dep. Variable:</th>    <td>BasalMetRate_mLO2hr_log</td> <th>  R-squared:         </th> <td>   0.943</td>\n",
       "</tr>\n",
       "<tr>\n",
       "  <th>Model:</th>                      <td>OLS</td>           <th>  Adj. R-squared:    </th> <td>   0.943</td>\n",
       "</tr>\n",
       "<tr>\n",
       "  <th>Method:</th>                <td>Least Squares</td>      <th>  F-statistic:       </th> <td>   9440.</td>\n",
       "</tr>\n",
       "<tr>\n",
       "  <th>Date:</th>                <td>Wed, 05 Apr 2023</td>     <th>  Prob (F-statistic):</th>  <td>  0.00</td> \n",
       "</tr>\n",
       "<tr>\n",
       "  <th>Time:</th>                    <td>04:46:31</td>         <th>  Log-Likelihood:    </th> <td> -344.11</td>\n",
       "</tr>\n",
       "<tr>\n",
       "  <th>No. Observations:</th>         <td>   572</td>          <th>  AIC:               </th> <td>   692.2</td>\n",
       "</tr>\n",
       "<tr>\n",
       "  <th>Df Residuals:</th>             <td>   570</td>          <th>  BIC:               </th> <td>   700.9</td>\n",
       "</tr>\n",
       "<tr>\n",
       "  <th>Df Model:</th>                 <td>     1</td>          <th>                     </th>     <td> </td>   \n",
       "</tr>\n",
       "<tr>\n",
       "  <th>Covariance Type:</th>         <td>nonrobust</td>        <th>                     </th>     <td> </td>   \n",
       "</tr>\n",
       "</table>\n",
       "<table class=\"simpletable\">\n",
       "<tr>\n",
       "           <td></td>              <th>coef</th>     <th>std err</th>      <th>t</th>      <th>P>|t|</th>  <th>[0.025</th>    <th>0.975]</th>  \n",
       "</tr>\n",
       "<tr>\n",
       "  <th>Intercept</th>           <td>    1.3259</td> <td>    0.043</td> <td>   30.876</td> <td> 0.000</td> <td>    1.242</td> <td>    1.410</td>\n",
       "</tr>\n",
       "<tr>\n",
       "  <th>AdultBodyMass_g_log</th> <td>    0.7063</td> <td>    0.007</td> <td>   97.158</td> <td> 0.000</td> <td>    0.692</td> <td>    0.721</td>\n",
       "</tr>\n",
       "</table>\n",
       "<table class=\"simpletable\">\n",
       "<tr>\n",
       "  <th>Omnibus:</th>       <td>86.538</td> <th>  Durbin-Watson:     </th> <td>   1.558</td> \n",
       "</tr>\n",
       "<tr>\n",
       "  <th>Prob(Omnibus):</th> <td> 0.000</td> <th>  Jarque-Bera (JB):  </th> <td> 501.744</td> \n",
       "</tr>\n",
       "<tr>\n",
       "  <th>Skew:</th>          <td> 0.498</td> <th>  Prob(JB):          </th> <td>1.12e-109</td>\n",
       "</tr>\n",
       "<tr>\n",
       "  <th>Kurtosis:</th>      <td> 7.479</td> <th>  Cond. No.          </th> <td>    14.0</td> \n",
       "</tr>\n",
       "</table><br/><br/>Notes:<br/>[1] Standard Errors assume that the covariance matrix of the errors is correctly specified."
      ],
      "text/plain": [
       "<class 'statsmodels.iolib.summary.Summary'>\n",
       "\"\"\"\n",
       "                               OLS Regression Results                              \n",
       "===================================================================================\n",
       "Dep. Variable:     BasalMetRate_mLO2hr_log   R-squared:                       0.943\n",
       "Model:                                 OLS   Adj. R-squared:                  0.943\n",
       "Method:                      Least Squares   F-statistic:                     9440.\n",
       "Date:                     Wed, 05 Apr 2023   Prob (F-statistic):               0.00\n",
       "Time:                             04:46:31   Log-Likelihood:                -344.11\n",
       "No. Observations:                      572   AIC:                             692.2\n",
       "Df Residuals:                          570   BIC:                             700.9\n",
       "Df Model:                                1                                         \n",
       "Covariance Type:                 nonrobust                                         \n",
       "=======================================================================================\n",
       "                          coef    std err          t      P>|t|      [0.025      0.975]\n",
       "---------------------------------------------------------------------------------------\n",
       "Intercept               1.3259      0.043     30.876      0.000       1.242       1.410\n",
       "AdultBodyMass_g_log     0.7063      0.007     97.158      0.000       0.692       0.721\n",
       "==============================================================================\n",
       "Omnibus:                       86.538   Durbin-Watson:                   1.558\n",
       "Prob(Omnibus):                  0.000   Jarque-Bera (JB):              501.744\n",
       "Skew:                           0.498   Prob(JB):                    1.12e-109\n",
       "Kurtosis:                       7.479   Cond. No.                         14.0\n",
       "==============================================================================\n",
       "\n",
       "Notes:\n",
       "[1] Standard Errors assume that the covariance matrix of the errors is correctly specified.\n",
       "\"\"\""
      ]
     },
     "execution_count": 5,
     "metadata": {},
     "output_type": "execute_result"
    }
   ],
   "source": [
    "pd.options.mode.chained_assignment = None  # default='warn'\n",
    "df[\"BasalMetRate_mLO2hr_log\"] = np.log(df.BasalMetRate_mLO2hr)\n",
    "df[\"AdultBodyMass_g_log\"] = np.log(df.AdultBodyMass_g)\n",
    "model = ols(\"BasalMetRate_mLO2hr_log~AdultBodyMass_g_log\", data=df).fit()\n",
    "model.summary()"
   ]
  },
  {
   "cell_type": "markdown",
   "id": "12a4de56-30b7-4be2-8709-c01612546d33",
   "metadata": {},
   "source": [
    "Wollen wir eine Prognose durchführen, müssen wir für die unabhängige variable natürlich auch vorher eine Transformation durchführen, ebenso mit dem Ergebnis der Vorhersage:"
   ]
  },
  {
   "cell_type": "code",
   "execution_count": 6,
   "id": "54a83041-56a5-4500-a183-17069c745a6d",
   "metadata": {},
   "outputs": [
    {
     "data": {
      "text/plain": [
       "0    10936.404929\n",
       "dtype: float64"
      ]
     },
     "execution_count": 6,
     "metadata": {},
     "output_type": "execute_result"
    }
   ],
   "source": [
    "gewicht = 80000 # Gewicht in Gramm\n",
    "gewicht_log = np.log(gewicht)\n",
    "pred = model.predict(pd.DataFrame([{\"AdultBodyMass_g_log\":gewicht_log}]))\n",
    "np.exp(pred)"
   ]
  },
  {
   "cell_type": "markdown",
   "id": "230027a1-d72d-4f64-a357-654845d23581",
   "metadata": {},
   "source": [
    "Interessant ist auch die Lebenserwartung in Abhängigkeit vom Stoffwechsel (Met-Gram)! Tiere (und auch Menschen) mit einem geringeren Stochwechsel haben eine höhere Lebenserwartung. Auch hier führen wir eine Log-Transformation durch:"
   ]
  },
  {
   "cell_type": "code",
   "execution_count": 7,
   "id": "8fdf52e1-b35a-45e4-998c-605fd96a154a",
   "metadata": {},
   "outputs": [
    {
     "data": {
      "text/plain": [
       "<AxesSubplot:xlabel='Met_Gram_log', ylabel='MaxLongevity_m_log'>"
      ]
     },
     "execution_count": 7,
     "metadata": {},
     "output_type": "execute_result"
    },
    {
     "data": {
      "image/png": "[encoded data removed]",
      "text/plain": [
       "<Figure size 432x288 with 1 Axes>"
      ]
     },
     "metadata": {
      "needs_background": "light"
     },
     "output_type": "display_data"
    }
   ],
   "source": [
    "import numpy as np\n",
    "df = df[df.MaxLongevity_m!=\"*\"]\n",
    "df[\"Met_Gram_log\"] = np.log(df[\"Met-Gram\"])\n",
    "df[\"MaxLongevity_m_log\"] = np.log(df.MaxLongevity_m.astype(float))\n",
    "sns.regplot(x=df.Met_Gram_log, y=df.MaxLongevity_m_log)\n"
   ]
  },
  {
   "cell_type": "code",
   "execution_count": 8,
   "id": "592f609f-e420-49cc-8c2f-3136090e7e7d",
   "metadata": {},
   "outputs": [
    {
     "data": {
      "text/html": [
       "<table class=\"simpletable\">\n",
       "<caption>OLS Regression Results</caption>\n",
       "<tr>\n",
       "  <th>Dep. Variable:</th>    <td>MaxLongevity_m_log</td> <th>  R-squared:         </th> <td>   0.458</td>\n",
       "</tr>\n",
       "<tr>\n",
       "  <th>Model:</th>                    <td>OLS</td>        <th>  Adj. R-squared:    </th> <td>   0.456</td>\n",
       "</tr>\n",
       "<tr>\n",
       "  <th>Method:</th>              <td>Least Squares</td>   <th>  F-statistic:       </th> <td>   272.9</td>\n",
       "</tr>\n",
       "<tr>\n",
       "  <th>Date:</th>              <td>Wed, 05 Apr 2023</td>  <th>  Prob (F-statistic):</th> <td>7.36e-45</td>\n",
       "</tr>\n",
       "<tr>\n",
       "  <th>Time:</th>                  <td>04:46:32</td>      <th>  Log-Likelihood:    </th> <td> -339.48</td>\n",
       "</tr>\n",
       "<tr>\n",
       "  <th>No. Observations:</th>       <td>   325</td>       <th>  AIC:               </th> <td>   683.0</td>\n",
       "</tr>\n",
       "<tr>\n",
       "  <th>Df Residuals:</th>           <td>   323</td>       <th>  BIC:               </th> <td>   690.5</td>\n",
       "</tr>\n",
       "<tr>\n",
       "  <th>Df Model:</th>               <td>     1</td>       <th>                     </th>     <td> </td>   \n",
       "</tr>\n",
       "<tr>\n",
       "  <th>Covariance Type:</th>       <td>nonrobust</td>     <th>                     </th>     <td> </td>   \n",
       "</tr>\n",
       "</table>\n",
       "<table class=\"simpletable\">\n",
       "<tr>\n",
       "         <td></td>            <th>coef</th>     <th>std err</th>      <th>t</th>      <th>P>|t|</th>  <th>[0.025</th>    <th>0.975]</th>  \n",
       "</tr>\n",
       "<tr>\n",
       "  <th>Intercept</th>       <td>    4.3263</td> <td>    0.042</td> <td>  101.917</td> <td> 0.000</td> <td>    4.243</td> <td>    4.410</td>\n",
       "</tr>\n",
       "<tr>\n",
       "  <th>df.Met_Gram_log</th> <td>   -0.6383</td> <td>    0.039</td> <td>  -16.518</td> <td> 0.000</td> <td>   -0.714</td> <td>   -0.562</td>\n",
       "</tr>\n",
       "</table>\n",
       "<table class=\"simpletable\">\n",
       "<tr>\n",
       "  <th>Omnibus:</th>       <td> 4.655</td> <th>  Durbin-Watson:     </th> <td>   1.764</td>\n",
       "</tr>\n",
       "<tr>\n",
       "  <th>Prob(Omnibus):</th> <td> 0.098</td> <th>  Jarque-Bera (JB):  </th> <td>   4.665</td>\n",
       "</tr>\n",
       "<tr>\n",
       "  <th>Skew:</th>          <td>-0.264</td> <th>  Prob(JB):          </th> <td>  0.0970</td>\n",
       "</tr>\n",
       "<tr>\n",
       "  <th>Kurtosis:</th>      <td> 2.743</td> <th>  Cond. No.          </th> <td>    1.61</td>\n",
       "</tr>\n",
       "</table><br/><br/>Notes:<br/>[1] Standard Errors assume that the covariance matrix of the errors is correctly specified."
      ],
      "text/plain": [
       "<class 'statsmodels.iolib.summary.Summary'>\n",
       "\"\"\"\n",
       "                            OLS Regression Results                            \n",
       "==============================================================================\n",
       "Dep. Variable:     MaxLongevity_m_log   R-squared:                       0.458\n",
       "Model:                            OLS   Adj. R-squared:                  0.456\n",
       "Method:                 Least Squares   F-statistic:                     272.9\n",
       "Date:                Wed, 05 Apr 2023   Prob (F-statistic):           7.36e-45\n",
       "Time:                        04:46:32   Log-Likelihood:                -339.48\n",
       "No. Observations:                 325   AIC:                             683.0\n",
       "Df Residuals:                     323   BIC:                             690.5\n",
       "Df Model:                           1                                         \n",
       "Covariance Type:            nonrobust                                         \n",
       "===================================================================================\n",
       "                      coef    std err          t      P>|t|      [0.025      0.975]\n",
       "-----------------------------------------------------------------------------------\n",
       "Intercept           4.3263      0.042    101.917      0.000       4.243       4.410\n",
       "df.Met_Gram_log    -0.6383      0.039    -16.518      0.000      -0.714      -0.562\n",
       "==============================================================================\n",
       "Omnibus:                        4.655   Durbin-Watson:                   1.764\n",
       "Prob(Omnibus):                  0.098   Jarque-Bera (JB):                4.665\n",
       "Skew:                          -0.264   Prob(JB):                       0.0970\n",
       "Kurtosis:                       2.743   Cond. No.                         1.61\n",
       "==============================================================================\n",
       "\n",
       "Notes:\n",
       "[1] Standard Errors assume that the covariance matrix of the errors is correctly specified.\n",
       "\"\"\""
      ]
     },
     "execution_count": 8,
     "metadata": {},
     "output_type": "execute_result"
    }
   ],
   "source": [
    "model2 = ols(\"MaxLongevity_m_log~df.Met_Gram_log\", data=df).fit()\n",
    "model2.summary()"
   ]
  },
  {
   "cell_type": "markdown",
   "id": "c6c5e9c4-19c2-4918-b90a-ab92f14625b6",
   "metadata": {},
   "source": [
    "Immerhin wird die Lebenserwartung zu ca. 46 Prozent vom Stochwechsel erklärt. Auf die Lebenswerwartung haben natürlich noch viele andere Faktoren einen Einfluss. Wir haben eine fallende Regressionsgerade. Dies spiegelt das vorherige Ergebnis wider: Mit zunehmendem Stochwechsel sinkt die Lebenserwartung."
   ]
  }
 ],
 "metadata": {
  "kernelspec": {
   "display_name": "anaconda-2022.05-py39",
   "language": "python",
   "name": "conda-env-anaconda-2022.05-py39-py"
  },
  "language_info": {
   "codemirror_mode": {
    "name": "ipython",
    "version": 3
   },
   "file_extension": ".py",
   "mimetype": "text/x-python",
   "name": "python",
   "nbconvert_exporter": "python",
   "pygments_lexer": "ipython3",
   "version": "3.9.12"
  }
 },
 "nbformat": 4,
 "nbformat_minor": 5
}
