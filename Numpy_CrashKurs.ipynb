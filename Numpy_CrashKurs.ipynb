{
 "cells": [
  {
   "cell_type": "markdown",
   "id": "452578a9",
   "metadata": {},
   "source": [
    "# Numpy\n",
    "## Crash-Kurs\n",
    "\n",
    "Wir wollen die wichtigsten Möglichkeiten, die Numpy bietet, kurz darstellen. Numpy ist enorm mächtig, daher können wir unmöglich alle Funktionalitäten ansprechen. Wir konzentrieren uns vielmehr auf die Eigenschaften, die wohl am häufigsten verwendet werden.\n",
    "\n",
    "Kurz zusammengefasst die wichtigsten Vorteile von Numpy-Arrays, wenn man diese mit Python-Listen vergleicht:\n",
    "\n",
    "* Weniger Speicherbedarf\n",
    "* Wesentlich schneller\n",
    "* Mathematische Operationen auf Arrays / Matirzen möglich (z.B. Multiplikation eines Skalars mit einer Matrix)\n",
    "* Sehr viele eingebaute mathematische Funktionen (Numpy.linalg.*)\n",
    "\n",
    "\n",
    "### Erstellen eines Numpy-Arrays und Eigenschaften ermitteln\n",
    "Aber der Reihe nach: Erstellen wir ein Numpy-Array und sehen wir uns an, wie wir dieses verwenden können. Alles beginnt mit dem Import von *Numpy*. Als Alias sollte immer *np* verwendet werden. Ein Numpy-Array (weiter nur als \"Array\" bezeichnet) wird mit der Funktion *array* erstellt, der man eine Liste übergibt. Wir erstellen ein 1-dimensionales Array:"
   ]
  },
  {
   "cell_type": "code",
   "execution_count": 1,
   "id": "8a95bf35",
   "metadata": {},
   "outputs": [
    {
     "name": "stdout",
     "output_type": "stream",
     "text": [
      "[ 4  6  1 23 42  9]\n"
     ]
    }
   ],
   "source": [
    "import numpy as np\n",
    "\n",
    "a = np.array([4,6,1,23,42,9])\n",
    "print(a)"
   ]
  },
  {
   "cell_type": "markdown",
   "id": "da6cd80d",
   "metadata": {},
   "source": [
    "Mit Hilfe von *ndim* kann die Dimension eines Arrays ermittelt werden, mit *shape* die Anzahl der Zeilen und Spalten:"
   ]
  },
  {
   "cell_type": "code",
   "execution_count": 2,
   "id": "1eb3929f",
   "metadata": {},
   "outputs": [
    {
     "name": "stdout",
     "output_type": "stream",
     "text": [
      "1\n",
      "(6,)\n"
     ]
    }
   ],
   "source": [
    "print(a.ndim)\n",
    "print(a.shape)"
   ]
  },
  {
   "cell_type": "markdown",
   "id": "ee7dd1d0",
   "metadata": {},
   "source": [
    "Erstellen wir ein 2-dimensionales Array, also eine Matrix, mit 3 Zeilen und 3 Spalten (quadratische Matrix):"
   ]
  },
  {
   "cell_type": "code",
   "execution_count": 3,
   "id": "eb7fbffe",
   "metadata": {},
   "outputs": [
    {
     "name": "stdout",
     "output_type": "stream",
     "text": [
      "[[1 2 3]\n",
      " [4 5 6]\n",
      " [7 8 9]]\n",
      "2\n",
      "(3, 3)\n"
     ]
    }
   ],
   "source": [
    "m = np.array([[1,2,3], [4,5,6], [7,8,9]])\n",
    "print(m)\n",
    "print(m.ndim)\n",
    "print(m.shape)"
   ]
  },
  {
   "cell_type": "markdown",
   "id": "13524af8",
   "metadata": {},
   "source": [
    "Wir können auch den Datentyp der Elemente im Array ermitteln. Im Gegensatz zu Python-Listen sind bei Numpy-Arrays übrigens nur ein Datentyp für alle Elemente erlaubt!"
   ]
  },
  {
   "cell_type": "code",
   "execution_count": 4,
   "id": "aca58ec7",
   "metadata": {},
   "outputs": [
    {
     "name": "stdout",
     "output_type": "stream",
     "text": [
      "int32\n"
     ]
    }
   ],
   "source": [
    "print(m.dtype)"
   ]
  },
  {
   "cell_type": "markdown",
   "id": "3f0a68b8",
   "metadata": {},
   "source": [
    "Es wurde als Datentyp also standardmäßig 4-Byte-Integer verwendet. Wenn man sich sicher ist, dass die Zahlen in einem Array nicht zu groß werden, kann man den Datentyp beim Erstellen des Arrays auch vorab definieren und somit weiter Speicherplatz sparen:"
   ]
  },
  {
   "cell_type": "code",
   "execution_count": 5,
   "id": "d8758a5e",
   "metadata": {},
   "outputs": [
    {
     "name": "stdout",
     "output_type": "stream",
     "text": [
      "int8\n",
      "float64\n",
      "[[1. 2. 3.]\n",
      " [4. 5. 6.]\n",
      " [7. 8. 9.]]\n"
     ]
    }
   ],
   "source": [
    "m = np.array([[1,2,3], [4,5,6], [7,8,9]], dtype=\"int8\")\n",
    "print(m.dtype)\n",
    "\n",
    "m_float = np.array([[1,2,3], [4,5,6], [7,8,9]], dtype=\"float\")\n",
    "print(m_float.dtype)\n",
    "\n",
    "print(m_float)"
   ]
  },
  {
   "cell_type": "markdown",
   "id": "10af24e0",
   "metadata": {},
   "source": [
    "Mit *itemsize* kann man den Speicherbedarf in Byte für ein Element ermitteln, mit *nbytes* den Speicherbedarf für das gesamte Array."
   ]
  },
  {
   "cell_type": "code",
   "execution_count": 6,
   "id": "067ae7e5",
   "metadata": {},
   "outputs": [
    {
     "name": "stdout",
     "output_type": "stream",
     "text": [
      "1\n",
      "8\n",
      "9\n",
      "72\n",
      "72\n"
     ]
    }
   ],
   "source": [
    "print(m.itemsize)\n",
    "print(m_float.itemsize)\n",
    "\n",
    "print(m.nbytes)\n",
    "print(m_float.nbytes)\n",
    "\n",
    "# nbytes ist analog  zu\n",
    "print(m_float.size * m_float.itemsize)"
   ]
  },
  {
   "cell_type": "markdown",
   "id": "e9564d0c",
   "metadata": {},
   "source": [
    "Wollen wir ein Array erstellen mit Werten \\\\[von .. bis), so verwenden wir *arange*. Als 3. Argument kann man eine Schrittweite angeben."
   ]
  },
  {
   "cell_type": "code",
   "execution_count": 7,
   "id": "13c29c34",
   "metadata": {},
   "outputs": [
    {
     "name": "stdout",
     "output_type": "stream",
     "text": [
      "[0 1 2 3 4 5 6 7 8 9]\n",
      "[10 13 16 19]\n"
     ]
    }
   ],
   "source": [
    "a = np.arange(10)\n",
    "print(a)\n",
    "\n",
    "# Mit Schrittweite\n",
    "a = np.arange(10, 20, 3)\n",
    "print(a)"
   ]
  },
  {
   "cell_type": "markdown",
   "id": "ae3df30d",
   "metadata": {},
   "source": [
    "Insbesondere für das Erstellen von Diagramm benötigt man häufig Werte in bestimmten Grenzen, die mit Zwischenwerten mit gleichem Abstand aufgefüllt werden. Dies bewerkstelligt man mit *linspance*:"
   ]
  },
  {
   "cell_type": "code",
   "execution_count": 8,
   "id": "f39627cb",
   "metadata": {},
   "outputs": [
    {
     "name": "stdout",
     "output_type": "stream",
     "text": [
      "[10.         10.71428571 11.42857143 12.14285714 12.85714286 13.57142857\n",
      " 14.28571429 15.         15.71428571 16.42857143 17.14285714 17.85714286\n",
      " 18.57142857 19.28571429 20.        ]\n"
     ]
    }
   ],
   "source": [
    "x = np.linspace(10, 20, 15)\n",
    "print(x)"
   ]
  },
  {
   "cell_type": "markdown",
   "id": "07bf3264",
   "metadata": {},
   "source": [
    "### Zugriff auf Elemente eines Arrays\n",
    "Der Zugriff entspricht weitgehend dem auf Python-Listen. Auch der *Slicing-Operator :* kann verwendet werden. Wie für Programmierer gewohnt beginnt der Index bei 0 zu zählen. Wir erstellen ein 1-Dimensionales Array und greifen auf verschiedene Elemente zu."
   ]
  },
  {
   "cell_type": "code",
   "execution_count": 9,
   "id": "cc55472c",
   "metadata": {},
   "outputs": [
    {
     "name": "stdout",
     "output_type": "stream",
     "text": [
      "4\n",
      "9\n"
     ]
    }
   ],
   "source": [
    "a = np.array([4,6,1,23,42,9])\n",
    "\n",
    "# Erstes Element ausgeben\n",
    "print(a[0])\n",
    "\n",
    "# Letztes Element ausgeben\n",
    "print(a[5])"
   ]
  },
  {
   "cell_type": "markdown",
   "id": "6bea4bb4",
   "metadata": {},
   "source": [
    "Mit dem negativen Indizes wird auf die letzten Elemente zugegriffen. So können wir das letzte Element eines Arrays auch ausgeben, wenn wir die Anzahl der Elemente nicht kennen."
   ]
  },
  {
   "cell_type": "code",
   "execution_count": 10,
   "id": "7c73b153",
   "metadata": {},
   "outputs": [
    {
     "name": "stdout",
     "output_type": "stream",
     "text": [
      "9\n",
      "42\n"
     ]
    }
   ],
   "source": [
    "# Letztes Element ausgeben\n",
    "print(a[-1])\n",
    "\n",
    "# Vorletztes Element ausgeben\n",
    "print(a[-2])"
   ]
  },
  {
   "cell_type": "markdown",
   "id": "b52cc797",
   "metadata": {},
   "source": [
    "Mit dem Slicing-Operator kann man einen Bereich definieren."
   ]
  },
  {
   "cell_type": "code",
   "execution_count": 11,
   "id": "757bd647",
   "metadata": {},
   "outputs": [
    {
     "name": "stdout",
     "output_type": "stream",
     "text": [
      "[4 6 1]\n",
      "[23 42  9]\n",
      "[ 6  1 23 42]\n"
     ]
    }
   ],
   "source": [
    "# Gib die ersten 3 Zahlen aus (Index 0 bis 2)\n",
    "print(a[:3])\n",
    "\n",
    "# Gib die letzten 3 Zahlen aus\n",
    "print(a[-3:])\n",
    "\n",
    "# Gib 2. bis 5. Element aus (Index 1 bis 4)\n",
    "print(a[1:5])"
   ]
  },
  {
   "cell_type": "markdown",
   "id": "7d6cdcd8",
   "metadata": {},
   "source": [
    "Analoges gilt für 2- oder auch mehrdimensionale Arrays. Wie in der Mathematik üblich entspricht der erste Index der Zeile, der 2. Indexwert der Spalte einer Matrix."
   ]
  },
  {
   "cell_type": "code",
   "execution_count": 12,
   "id": "2ec6a638",
   "metadata": {},
   "outputs": [
    {
     "name": "stdout",
     "output_type": "stream",
     "text": [
      "[[1 2 3]\n",
      " [4 5 6]\n",
      " [7 8 9]]\n",
      "1. Zeile:\n",
      "[1 2 3]\n",
      "1. Spalte:\n",
      "[1 4 7]\n",
      "Element in der 2. Zeile und 3. Spalte\n",
      "6\n"
     ]
    }
   ],
   "source": [
    "m = np.array([[1,2,3], [4,5,6], [7,8,9]])\n",
    "print(m)\n",
    "\n",
    "print(\"1. Zeile:\")\n",
    "print(m[0,:])\n",
    "\n",
    "print(\"1. Spalte:\")\n",
    "print(m[:,0])\n",
    "\n",
    "print(\"Element in der 2. Zeile und 3. Spalte\")\n",
    "print(m[1,2])"
   ]
  },
  {
   "cell_type": "markdown",
   "id": "02056daa",
   "metadata": {},
   "source": [
    "Mit einem weiteren Wert kann auch die Schrittweite definiert werden, also wenn wir aus einem Array zum Beispiel nur auf jedes 3. Element zugreifen wollen:"
   ]
  },
  {
   "cell_type": "code",
   "execution_count": 13,
   "id": "fdebaf40",
   "metadata": {},
   "outputs": [
    {
     "name": "stdout",
     "output_type": "stream",
     "text": [
      "[ 3  6  9 12]\n"
     ]
    }
   ],
   "source": [
    "v = np.array([1,2,3,4,5,6,7,8,9,10,11,12,13,14,15])\n",
    "print(v[2 : -2 : 3])"
   ]
  },
  {
   "cell_type": "markdown",
   "id": "b5b79a8c",
   "metadata": {},
   "source": [
    "### Ändern eines Arrays\n",
    "Numpy-Arrays sind \"mutable\". Man kann also ein Element ändern:"
   ]
  },
  {
   "cell_type": "code",
   "execution_count": 14,
   "id": "76f341d5",
   "metadata": {},
   "outputs": [
    {
     "name": "stdout",
     "output_type": "stream",
     "text": [
      "[[1 2 3]\n",
      " [4 5 6]\n",
      " [7 8 9]]\n",
      "Überschreibe das Element in der 2. Zeile und 2. Spalte (5) mit 100:\n",
      "[[  1   2   3]\n",
      " [  4 100   6]\n",
      " [  7   8   9]]\n",
      "Ersetze die 1. Zeile durch die Werte 1000, 2000 und 3000\n",
      "[[1000 2000 3000]\n",
      " [   4  100    6]\n",
      " [   7    8    9]]\n",
      "Ersetze 2. Spalte durch die Werte -1, -2, -3\n",
      "[[1000   -1 3000]\n",
      " [   4   -2    6]\n",
      " [   7   -3    9]]\n"
     ]
    }
   ],
   "source": [
    "m = np.array([[1,2,3], [4,5,6], [7,8,9]])\n",
    "print(m)\n",
    "\n",
    "print(\"Überschreibe das Element in der 2. Zeile und 2. Spalte (5) mit 100:\")\n",
    "\n",
    "m[1,1] = 100\n",
    "print(m)\n",
    "\n",
    "print(\"Ersetze die 1. Zeile durch die Werte 1000, 2000 und 3000\")\n",
    "x = np.array([1000,2000,3000])\n",
    "m[0,:] = x\n",
    "print(m)\n",
    "\n",
    "\n",
    "print(\"Ersetze 2. Spalte durch die Werte -1, -2, -3\")\n",
    "m[:,1] = [-1, -2, -3]\n",
    "print(m)"
   ]
  },
  {
   "cell_type": "markdown",
   "id": "95139fbe",
   "metadata": {},
   "source": [
    "### Kopieren eines Arrays\n",
    "Achtung beim Kopieren! Weist man ein Array einfach einer anderen Variablen zu, so wird nur die Referenz kopiert, nicht aber das Array! Beide Variablen referenzieren also dasselbe Array:"
   ]
  },
  {
   "cell_type": "code",
   "execution_count": 15,
   "id": "48ce0ed5",
   "metadata": {},
   "outputs": [
    {
     "name": "stdout",
     "output_type": "stream",
     "text": [
      "[1000    6    1   23   42    9]\n"
     ]
    }
   ],
   "source": [
    "a = np.array([4,6,1,23,42,9])\n",
    "b = a\n",
    "\n",
    "a[0] = 1000\n",
    "print(b)"
   ]
  },
  {
   "cell_type": "markdown",
   "id": "fb770f66",
   "metadata": {},
   "source": [
    "Um ein Array zu kopieren verwendet man stattdessen die Funktion *copy*:"
   ]
  },
  {
   "cell_type": "code",
   "execution_count": 16,
   "id": "4bbbe6d9",
   "metadata": {},
   "outputs": [
    {
     "name": "stdout",
     "output_type": "stream",
     "text": [
      "[ 4  6  1 23 42  9]\n"
     ]
    }
   ],
   "source": [
    "a = np.array([4,6,1,23,42,9])\n",
    "b = a.copy()\n",
    "\n",
    "a[0] = 1000\n",
    "print(b)"
   ]
  },
  {
   "cell_type": "markdown",
   "id": "266e96a4",
   "metadata": {},
   "source": [
    "### Erstellen von Arrays / Matrizen mit vorab definierten Werten\n",
    "Möchte man Matrizen erstellen, die definierte Werte enthält, so helfen folgende Funktionen:"
   ]
  },
  {
   "cell_type": "code",
   "execution_count": 17,
   "id": "5f9cbc0b",
   "metadata": {},
   "outputs": [
    {
     "name": "stdout",
     "output_type": "stream",
     "text": [
      "Erstelle eine Matrix mit 0-en\n",
      "[[0. 0. 0.]\n",
      " [0. 0. 0.]\n",
      " [0. 0. 0.]]\n",
      "Erstelle eine Matrix mit 1-en\n",
      "[[1. 1. 1.]\n",
      " [1. 1. 1.]\n",
      " [1. 1. 1.]]\n",
      "Erstelle eine Matrix mit einer definierten Zahl\n",
      "[[42 42 42]\n",
      " [42 42 42]\n",
      " [42 42 42]]\n",
      "Erstelle eine quadr. Matrix mit bestimmten Elementen in der Haupt-Diagonalen\n",
      "[[11  0  0]\n",
      " [ 0 12  0]\n",
      " [ 0  0 13]]\n",
      "Erstelle eine Einheitsmatrix E\n",
      "[[1. 0. 0.]\n",
      " [0. 1. 0.]\n",
      " [0. 0. 1.]]\n",
      "Erstelle eine Matrix in der Größe einer anderen Matrix und fülle diese Matrix mit einem bestimmten Wert\n",
      "[[-1. -1. -1.]\n",
      " [-1. -1. -1.]\n",
      " [-1. -1. -1.]]\n"
     ]
    }
   ],
   "source": [
    "print(\"Erstelle eine Matrix mit 0-en\")\n",
    "m1 = np.zeros([3,3])\n",
    "print(m1)\n",
    "\n",
    "print(\"Erstelle eine Matrix mit 1-en\")\n",
    "m2 = np.ones([3,3])\n",
    "print(m2)\n",
    "\n",
    "print(\"Erstelle eine Matrix mit einer definierten Zahl\")\n",
    "m3 = np.full([3,3], 42)\n",
    "print(m3)\n",
    "\n",
    "print(\"Erstelle eine quadr. Matrix mit bestimmten Elementen in der Haupt-Diagonalen\")\n",
    "m4 = np.diag([11,12,13])\n",
    "print(m4)\n",
    "\n",
    "print(\"Erstelle eine Einheitsmatrix E\")\n",
    "m5 = np.identity(3)\n",
    "print(m5)\n",
    "\n",
    "print(\"Erstelle eine Matrix in der Größe einer anderen Matrix und fülle diese Matrix mit einem bestimmten Wert\")\n",
    "m6 = np.full_like(m5, -1)\n",
    "print(m6)"
   ]
  },
  {
   "cell_type": "markdown",
   "id": "dbfbb83f",
   "metadata": {},
   "source": [
    "Es ist auch sehr einfach möglich, eine Matrix mit Zufallszahlen zu erstellen. Im Beispiel erstellen wir eine 3x3-Matrix mit ganzzahligen Zufallszahlen zwischen -5 und 5."
   ]
  },
  {
   "cell_type": "code",
   "execution_count": 18,
   "id": "8921f7c4",
   "metadata": {},
   "outputs": [
    {
     "name": "stdout",
     "output_type": "stream",
     "text": [
      "[[ 4  0 -5]\n",
      " [ 2 -3 -5]\n",
      " [ 1 -5  4]]\n"
     ]
    }
   ],
   "source": [
    "zuf_int = np.random.randint(-5,5, (3,3))\n",
    "print(zuf_int)"
   ]
  },
  {
   "cell_type": "markdown",
   "id": "0d52c6ef",
   "metadata": {},
   "source": [
    "Mit *uniform* können auch pseudozufällige gleichverteilte Zufallszahlen vom Typ float erstellt werden. Man übergibt den Min- und Maxwert sowie die Anzahl Zeilen und Spalten als Tupel."
   ]
  },
  {
   "cell_type": "code",
   "execution_count": 19,
   "id": "cb0b17ec",
   "metadata": {},
   "outputs": [
    {
     "name": "stdout",
     "output_type": "stream",
     "text": [
      "[[ 0.55838715  0.19610932 -3.01283559]\n",
      " [-4.96171547 -4.78197947  0.45455165]\n",
      " [ 0.68906862 -1.86651288 -3.12886648]]\n"
     ]
    }
   ],
   "source": [
    "zuf_gleichverteilt = np.random.uniform(-5., 5., (3,3))\n",
    "print(zuf_gleichverteilt)"
   ]
  },
  {
   "cell_type": "markdown",
   "id": "9c7067d9",
   "metadata": {},
   "source": [
    "Analog können auch normalverteilte Werte erstellt werden. Dazu übergibt man den Erwartungswert $\\mu$ und die Standardabweichung $\\sigma$."
   ]
  },
  {
   "cell_type": "code",
   "execution_count": 20,
   "id": "9a309942",
   "metadata": {},
   "outputs": [
    {
     "name": "stdout",
     "output_type": "stream",
     "text": [
      "[[0.49278288 0.52780241 0.62782097 0.77250136 0.77211805]\n",
      " [0.49379849 0.94629722 0.47589337 0.19637635 0.0599124 ]\n",
      " [0.3526466  0.75403966 0.46411332 0.11238336 0.65776305]\n",
      " [0.94145096 0.93900038 0.82300052 0.31818087 0.41915935]\n",
      " [0.45581135 0.46379684 0.34211512 0.84100075 0.04334392]]\n"
     ]
    }
   ],
   "source": [
    "zuf_normalverteilt = np.random.uniform(0, 1, (5,5))\n",
    "print(zuf_normalverteilt)"
   ]
  },
  {
   "cell_type": "markdown",
   "id": "493846a7",
   "metadata": {},
   "source": [
    "### Rechnen mit Matrizen: Lineare Algebra\n",
    "Numpy Arrays entfalten ihre Mächtigkeit erst so richtig, wenn man mathematische Operationen auf ihnen ausführt. Die Funktionen der Linearen Algebra, zum Beispiel um eine Inverse oder eine Determinante einer Matrix zu berechnen, finden wir im Paket *np.linalg*). Einfache Operationen auf Array, also zum Beispiel das Multiplizieren oder Addieren mit einem Skalr, können direkt auf ein Array ausgeführt werden."
   ]
  },
  {
   "cell_type": "code",
   "execution_count": 21,
   "id": "1a816833",
   "metadata": {},
   "outputs": [
    {
     "name": "stdout",
     "output_type": "stream",
     "text": [
      "[-8  2  4]\n",
      "[-24   6  12]\n",
      "[-3  7  9]\n",
      "[-4.  1.  2.]\n"
     ]
    }
   ],
   "source": [
    "v = np.array([-8, 2, 4])\n",
    "print(v)\n",
    "print(3 * v)\n",
    "print(v + 5)\n",
    "print(v / 2)"
   ]
  },
  {
   "cell_type": "markdown",
   "id": "e3356d43",
   "metadata": {},
   "source": [
    "Arrays können auch sehr einfach addiert oder multipliziert werden (solange die Anforderungen für diese Rechenoperationen erfüllt sind!)."
   ]
  },
  {
   "cell_type": "code",
   "execution_count": 22,
   "id": "90106224",
   "metadata": {},
   "outputs": [
    {
     "name": "stdout",
     "output_type": "stream",
     "text": [
      "[-2  2  2]\n",
      "[-3  0 -8]\n",
      "[[-3 -2  6]\n",
      " [ 4 -1  3]\n",
      " [-2  0  1]]\n",
      "Matrix m1 multipliziert mit Vektor v1\n",
      "[[  9  -4  24]\n",
      " [-12  -2  12]\n",
      " [  6   0   4]]\n",
      "Matrix m1 multipliziert mit Matrix m2\n",
      "[[ 0  1  2]\n",
      " [ 1  2 -3]\n",
      " [ 1  2 -5]]\n",
      "[[ 0 -2 12]\n",
      " [ 4 -2 -9]\n",
      " [-2  0 -5]]\n"
     ]
    }
   ],
   "source": [
    "v1 = np.array([-3, 2, 4])\n",
    "v2 = np.array([1, 0, -2])\n",
    "\n",
    "print(v1 + v2)\n",
    "print(v1 * v2)\n",
    "\n",
    "m1 = np.array([[-3,-2,6], [4,-1,3], [-2,0,1]])\n",
    "m2 = np.array([[0,1,2], [1,2,-3], [1,2,-5]])\n",
    "print(m1)\n",
    "\n",
    "print(\"Matrix m1 multipliziert mit Vektor v1\")\n",
    "print(m1 * v1)\n",
    "\n",
    "print(\"Matrix m1 multipliziert mit Matrix m2\")\n",
    "print(m2)\n",
    "print(m1 * m2)"
   ]
  },
  {
   "cell_type": "markdown",
   "id": "e0f38df5",
   "metadata": {},
   "source": [
    "Im obigen Beispiel wurden die Matrizen m1 und m2 multipliziert. Hier wird allerdings jedes Element mit jedem analogen Element der anderen Matrix multipliziert. Möchte man Matrizen im Sinne der Linearen Algebra multiplizieren, so verwendt man *matmul* oder kürzer den @-Operator."
   ]
  },
  {
   "cell_type": "code",
   "execution_count": 23,
   "id": "acbe3824",
   "metadata": {},
   "outputs": [
    {
     "name": "stdout",
     "output_type": "stream",
     "text": [
      "[[  4   5 -30]\n",
      " [  2   8  -4]\n",
      " [  1   0  -9]]\n",
      "[[  4   5 -30]\n",
      " [  2   8  -4]\n",
      " [  1   0  -9]]\n",
      "[29 -2 10]\n"
     ]
    }
   ],
   "source": [
    "print(np.matmul(m1,m2))\n",
    "print(m1 @ m2)\n",
    "print(m1 @ v1)"
   ]
  },
  {
   "cell_type": "markdown",
   "id": "a93c49ad",
   "metadata": {},
   "source": [
    "Die Determinante berechnet man mit *det*."
   ]
  },
  {
   "cell_type": "code",
   "execution_count": 24,
   "id": "81a6b611",
   "metadata": {},
   "outputs": [
    {
     "name": "stdout",
     "output_type": "stream",
     "text": [
      "11.000000000000002\n",
      "2.0\n"
     ]
    }
   ],
   "source": [
    "print(np.linalg.det(m1))\n",
    "print(np.linalg.det(m2))"
   ]
  },
  {
   "cell_type": "markdown",
   "id": "9331c405",
   "metadata": {},
   "source": [
    "Berechnen der Inverse einer Matrix mit *inv*"
   ]
  },
  {
   "cell_type": "code",
   "execution_count": 25,
   "id": "5d564809",
   "metadata": {},
   "outputs": [
    {
     "name": "stdout",
     "output_type": "stream",
     "text": [
      "[[-0.09090909  0.18181818  0.        ]\n",
      " [-0.90909091  0.81818182  3.        ]\n",
      " [-0.18181818  0.36363636  1.        ]]\n",
      "[[1. 0. 0.]\n",
      " [0. 1. 0.]\n",
      " [0. 0. 1.]]\n"
     ]
    }
   ],
   "source": [
    "m1_inv = np.linalg.inv(m1)\n",
    "print(m1_inv)\n",
    "print(np.round(m1_inv @ m1))"
   ]
  },
  {
   "cell_type": "markdown",
   "id": "ff760051",
   "metadata": {},
   "source": [
    "Eigenwert und Eigenvektor einer Matrix liefert die Funktion *eig*, die ein Tupel zurückgibt. Das erste Element des Tupels entspricht den Eigenwerten, das zweite Element die dazugehörigen Eigenvektoren spaltenweise in einer Matrix.\n",
    "\n",
    "Es muss gelten:\n",
    "\n",
    "$A \\cdot v = \\lambda \\cdot v$\n",
    "wobei $v$ ein Eigenvektor und $\\lambda$ der zugehörige Eigenwert ist."
   ]
  },
  {
   "cell_type": "code",
   "execution_count": 26,
   "id": "c85e7db1",
   "metadata": {},
   "outputs": [
    {
     "name": "stdout",
     "output_type": "stream",
     "text": [
      "[-4.46685999 -0.25937481  1.72623479]\n",
      "[[ 0.4473362  -0.93676805 -0.71153494]\n",
      " [-0.43236839  0.34612912 -0.6375588 ]\n",
      " [-0.78290989 -0.05157754 -0.29535878]]\n",
      "Beispiel: Matrix * Eigenvektor = Eigenwert * Eigenvektor\n",
      "[-1.99818817  1.93132908  3.49714886]\n",
      "[-1.99818817  1.93132908  3.49714886]\n"
     ]
    }
   ],
   "source": [
    "eigw, eigv = np.linalg.eig(m2)\n",
    "print(eigw)\n",
    "print(eigv)\n",
    "\n",
    "print(\"Beispiel: Matrix * Eigenvektor = Eigenwert * Eigenvektor\")\n",
    "print(m2 @ eigv[:,0])\n",
    "\n",
    "# Liefert dasselbe Ergebnis wie\n",
    "print(eigw[0] * eigv[:,0])\n",
    "\n"
   ]
  },
  {
   "cell_type": "markdown",
   "id": "57e62dc4",
   "metadata": {},
   "source": [
    "Um eine Matrix zu transponieren gibt es zwei Möglichkeiten: Funktion *transpose* oder mit Hilfe von *m.T*:"
   ]
  },
  {
   "cell_type": "code",
   "execution_count": 27,
   "id": "d98ab50f",
   "metadata": {},
   "outputs": [
    {
     "name": "stdout",
     "output_type": "stream",
     "text": [
      "[[1 2 3]\n",
      " [4 5 6]\n",
      " [7 8 9]]\n",
      "[[1 4 7]\n",
      " [2 5 8]\n",
      " [3 6 9]]\n",
      "[[1 4 7]\n",
      " [2 5 8]\n",
      " [3 6 9]]\n"
     ]
    }
   ],
   "source": [
    "m = np.array([[1,2,3],[4,5,6],[7,8,9]])\n",
    "print(m)\n",
    "print(np.transpose(m))\n",
    "print(m.T)"
   ]
  },
  {
   "cell_type": "markdown",
   "id": "cf73db6c",
   "metadata": {},
   "source": [
    "### Rechnen mit Matrizen: Statistik\n",
    "Numpy liefert auch jede Menge statistischer Funktionen. Hier eine Auswahl."
   ]
  },
  {
   "cell_type": "code",
   "execution_count": 28,
   "id": "c40f09df",
   "metadata": {},
   "outputs": [
    {
     "name": "stdout",
     "output_type": "stream",
     "text": [
      "Kleinster und größter Wert\n",
      "2 78\n",
      "Mittelwert\n",
      "14.88888888888889\n",
      "Median\n",
      "5.0\n",
      "Varianz\n",
      "517.6543209876544\n",
      "Standardabweichung\n",
      "22.75201795418715\n"
     ]
    }
   ],
   "source": [
    "a = np.array([3,5,9,11,17,4,2,5,78])\n",
    "\n",
    "print(\"Kleinster und größter Wert\")\n",
    "print(np.min(a), np.max(a))\n",
    "\n",
    "print(\"Mittelwert\")\n",
    "print(np.mean(a))\n",
    "\n",
    "print(\"Median\")\n",
    "print(np.median(a))\n",
    "\n",
    "print(\"Varianz\")\n",
    "print(np.var(a))\n",
    "\n",
    "print(\"Standardabweichung\")\n",
    "print(np.std(a))"
   ]
  },
  {
   "cell_type": "markdown",
   "id": "95fffa79",
   "metadata": {},
   "source": [
    "Verwendet man 2- oder mehrdimensionale Arrays, so können Statistiken zeilen- oder spaltenweise definiert werden. Dazu verwendet man das Attribut *axis*. Die Verwendung von *axis* ist etwas gewöhnungsbedürftig und nicht gerade intuitiv!\n",
    "\n",
    "Man stelle sich ein Koordinatensystem vor, im 2-dimensionalen also eine X- und eine Y-Achse. Die *axis* werden einfach durchnummeriert: X entspricht dem Wert 0, Y dem Wert 1. Im 3-dimensionalen könnte man also entsprechend *axis* den Wert 2 zuweisen. Dieses Koordinatensystem \"legt\" man auf ein Array. Wenn wir also zum Beispiel die Standardabweichung über *axis=0* berechnen wollen, so gehen wir zeilenweise vor und berechnen die Summe der Werte in den Spalten(!). Das ist zugegebenermaßen etwas verwirrend ;-)\n",
    "\n",
    "Beispiel: Wir definieren eine 2x2-Matrix und berechnen statistische Werte einmal bezüglich der Zeilen (axis=0), einmal bezüglich der Spalten (axis=1):"
   ]
  },
  {
   "cell_type": "code",
   "execution_count": 29,
   "id": "6bf2c39a",
   "metadata": {},
   "outputs": [
    {
     "name": "stdout",
     "output_type": "stream",
     "text": [
      "[[ 1  2  3]\n",
      " [ 4  5 42]\n",
      " [ 7  8  9]]\n",
      "Zeile mit den größtem Wert in jeder Spalte\n",
      "[ 7  8 42]\n",
      "Spalte mit dem größtem Wert in jeder Zeile\n",
      "[ 3 42  9]\n",
      "Standardabweichungen der über die  Zeilen\n",
      "[ 2.44948974  2.44948974 17.1464282 ]\n",
      "Standardabweichungen der über die  Spalten\n",
      "[ 0.81649658 17.68238295  0.81649658]\n",
      "axis=0: Wir aggregieren über die Zeilen und berechnen die Summen der Werte (Spaltensummen)\n",
      "[12 15 54]\n",
      "axis=1: Wir aggregieren über die Spalten und berechnen die Summen der Werte (Zeilensummen)\n",
      "[ 6 51 24]\n"
     ]
    }
   ],
   "source": [
    "m = np.array([[1,2,3],[4,5,42],[7,8,9]])\n",
    "print(m)\n",
    "\n",
    "print(\"Zeile mit den größtem Wert in jeder Spalte\")\n",
    "print(np.max(m, axis=0))\n",
    "\n",
    "print(\"Spalte mit dem größtem Wert in jeder Zeile\")\n",
    "print(np.max(m, axis=1))\n",
    "\n",
    "print(\"Standardabweichungen der über die  Zeilen\")\n",
    "print(np.std(m, axis=0))\n",
    "\n",
    "print(\"Standardabweichungen der über die  Spalten\")\n",
    "print(np.std(m, axis=1))\n",
    "\n",
    "print(\"axis=0: Wir aggregieren über die Zeilen und berechnen die Summen der Werte (Spaltensummen)\")\n",
    "print(np.sum(m, axis=0))\n",
    "\n",
    "print(\"axis=1: Wir aggregieren über die Spalten und berechnen die Summen der Werte (Zeilensummen)\")\n",
    "print(np.sum(m, axis=1))"
   ]
  },
  {
   "cell_type": "markdown",
   "id": "dd7532a2",
   "metadata": {},
   "source": [
    "### Ändern von Arrays\n",
    "Numpy Arrays können nicht nur bezüglich ihrer Inhalte, sondern auch bezüglich ihrer Struktur geändert werden. Allerdings wird dabei immer ein neues Array erstellt, was natürlich Rechenzeit und zusätzlichen Speicherbedarf erfordert.\n",
    "\n",
    "Beginnen wir mit der Methode *reshape*, die die Zeilen/Spalten neu anordnet. Häufig verwendet man diese Methode bereits beim Erstellen eines Arrays, da man sich die umständliche Tipperei der eckigen Klammern spart."
   ]
  },
  {
   "cell_type": "code",
   "execution_count": 30,
   "id": "994bcacf",
   "metadata": {},
   "outputs": [
    {
     "name": "stdout",
     "output_type": "stream",
     "text": [
      "[[1 2 3]\n",
      " [4 5 6]\n",
      " [7 8 9]]\n",
      "[[ 0  1  2  3  4]\n",
      " [ 5  6  7  8  9]\n",
      " [10 11 12 13 14]]\n"
     ]
    }
   ],
   "source": [
    "m = np.array([1,2,3,4,5,6,7,8,9]).reshape(3,3)\n",
    "print(m)\n",
    "\n",
    "m = np.arange(0,15).reshape(3,5)\n",
    "print(m)"
   ]
  },
  {
   "cell_type": "markdown",
   "id": "7028c057",
   "metadata": {},
   "source": [
    "Mit *vstack* können Arrays vertikal zu einem neuen Array verbunden werden. Analoges erledigt *hstack* für horizontales Verbinden."
   ]
  },
  {
   "cell_type": "code",
   "execution_count": 31,
   "id": "4127d0ea",
   "metadata": {},
   "outputs": [
    {
     "name": "stdout",
     "output_type": "stream",
     "text": [
      "[[1 2 3 4]\n",
      " [5 6 7 8]]\n",
      "[1 2 3 4 5 6 7 8]\n"
     ]
    }
   ],
   "source": [
    "v1 = np.array([1,2,3,4])\n",
    "v2 = np.array([5,6,7,8])\n",
    "\n",
    "print(np.vstack([v1, v2]))\n",
    "\n",
    "print(np.hstack([v1,v2]))\n"
   ]
  },
  {
   "cell_type": "markdown",
   "id": "9f654a5e",
   "metadata": {},
   "source": [
    "Mit *concatenate* können ebenso Arrays verbunden werden."
   ]
  },
  {
   "cell_type": "code",
   "execution_count": 32,
   "id": "7395ebdb",
   "metadata": {},
   "outputs": [
    {
     "name": "stdout",
     "output_type": "stream",
     "text": [
      "[[1 2]\n",
      " [3 4]]\n",
      "[[11 12]\n",
      " [13 14]]\n",
      "[[ 1  2]\n",
      " [ 3  4]\n",
      " [11 12]\n",
      " [13 14]]\n",
      "[[ 1  2 11 12]\n",
      " [ 3  4 13 14]]\n"
     ]
    }
   ],
   "source": [
    "m1 = np.array([[1,2],[3,4]])\n",
    "m2 = np.array([[11,12],[13,14]])\n",
    "print(m1)\n",
    "print(m2)\n",
    "\n",
    "# Zeilenweise anfügen\n",
    "print(np.concatenate((m1,m2), axis=0))\n",
    "\n",
    "# Spaltenweise anfügen\n",
    "print(np.concatenate((m1,m2), axis=1))"
   ]
  },
  {
   "cell_type": "markdown",
   "id": "45cc3c79",
   "metadata": {},
   "source": [
    "Mit *delete* kann man element, spalten- oder zeilenweise löschen. Löscht man ein Element aus einer 3x3-Matrix, so kann diese natürlich nicht mehr als 3x3-Matrix dargestellt werden, da es nach dem Löschen nur noch 8 Elemente gibt. Daher wird die Matrix durch das Löschen \"flachgeklopft\"."
   ]
  },
  {
   "cell_type": "code",
   "execution_count": 33,
   "id": "ddd4241b",
   "metadata": {},
   "outputs": [
    {
     "name": "stdout",
     "output_type": "stream",
     "text": [
      "[[0 1 2]\n",
      " [3 4 5]\n",
      " [6 7 8]]\n",
      "Löschen des 1. Elements\n",
      "[0 2 3 4 5 6 7 8]\n",
      "Man beachte: m gibt es immer noch! Es wurde ein neues Array erstellt!\n",
      "[[0 1 2]\n",
      " [3 4 5]\n",
      " [6 7 8]]\n",
      "Lösche die Elemente 1,3,5,7 und 8 und erstelle aus den restlichen Daten eine 2x2-Matrix\n",
      "[[0 2]\n",
      " [4 6]]\n",
      "Lösche die zweite Zeile (index=1)\n",
      "[[0 1 2]\n",
      " [6 7 8]]\n",
      "Lösche die zweite Spalte\n",
      "[[0 2]\n",
      " [3 5]\n",
      " [6 8]]\n"
     ]
    }
   ],
   "source": [
    "m = np.arange(9).reshape(3,3)\n",
    "print(m)\n",
    "\n",
    "print(\"Löschen des 1. Elements\")\n",
    "print(np.delete(m, 1))\n",
    "\n",
    "print(\"Man beachte: m gibt es immer noch! Es wurde ein neues Array erstellt!\")\n",
    "print(m)\n",
    "\n",
    "print(\"Lösche die Elemente 1,3,5,7 und 8 und erstelle aus den restlichen Daten eine 2x2-Matrix\")\n",
    "print(np.delete(m,[1,3,5,7,8]).reshape(2,2))\n",
    "\n",
    "print(\"Lösche die zweite Zeile (index=1)\")\n",
    "print(np.delete(m,1, axis=0))\n",
    "\n",
    "print(\"Lösche die zweite Spalte\")\n",
    "print(np.delete(m,1, axis=1))"
   ]
  }
 ],
 "metadata": {
  "kernelspec": {
   "display_name": "Python 3",
   "language": "python",
   "name": "python3"
  },
  "language_info": {
   "codemirror_mode": {
    "name": "ipython",
    "version": 3
   },
   "file_extension": ".py",
   "mimetype": "text/x-python",
   "name": "python",
   "nbconvert_exporter": "python",
   "pygments_lexer": "ipython3",
   "version": "3.8.10"
  }
 },
 "nbformat": 4,
 "nbformat_minor": 5
}
