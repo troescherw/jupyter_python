{
 "cells": [
  {
   "cell_type": "markdown",
   "metadata": {},
   "source": [
    "# Lineare Regression\n",
    "In diesem Notebook realisieren wir einige Beispiele für die Lineare Regression. Wir beginnen mit einem sehr einfachen Beispiel. Wir laden den Datensatz mit Daten über Autos, der u.a. den Verbrauch der Autos und deren Gewicht enthält."
   ]
  },
  {
   "cell_type": "code",
   "execution_count": 1,
   "metadata": {},
   "outputs": [
    {
     "data": {
      "text/html": [
       "<div>\n",
       "<style scoped>\n",
       "    .dataframe tbody tr th:only-of-type {\n",
       "        vertical-align: middle;\n",
       "    }\n",
       "\n",
       "    .dataframe tbody tr th {\n",
       "        vertical-align: top;\n",
       "    }\n",
       "\n",
       "    .dataframe thead th {\n",
       "        text-align: right;\n",
       "    }\n",
       "</style>\n",
       "<table border=\"1\" class=\"dataframe\">\n",
       "  <thead>\n",
       "    <tr style=\"text-align: right;\">\n",
       "      <th></th>\n",
       "      <th>Verbrauch</th>\n",
       "      <th>Leistung</th>\n",
       "      <th>Gewicht</th>\n",
       "    </tr>\n",
       "  </thead>\n",
       "  <tbody>\n",
       "    <tr>\n",
       "      <th>0</th>\n",
       "      <td>11.20</td>\n",
       "      <td>82</td>\n",
       "      <td>1310</td>\n",
       "    </tr>\n",
       "    <tr>\n",
       "      <th>1</th>\n",
       "      <td>11.20</td>\n",
       "      <td>82</td>\n",
       "      <td>1437</td>\n",
       "    </tr>\n",
       "    <tr>\n",
       "      <th>2</th>\n",
       "      <td>10.32</td>\n",
       "      <td>69</td>\n",
       "      <td>1160</td>\n",
       "    </tr>\n",
       "    <tr>\n",
       "      <th>3</th>\n",
       "      <td>10.99</td>\n",
       "      <td>82</td>\n",
       "      <td>1607</td>\n",
       "    </tr>\n",
       "    <tr>\n",
       "      <th>4</th>\n",
       "      <td>12.58</td>\n",
       "      <td>130</td>\n",
       "      <td>1720</td>\n",
       "    </tr>\n",
       "  </tbody>\n",
       "</table>\n",
       "</div>"
      ],
      "text/plain": [
       "   Verbrauch  Leistung  Gewicht\n",
       "0      11.20        82     1310\n",
       "1      11.20        82     1437\n",
       "2      10.32        69     1160\n",
       "3      10.99        82     1607\n",
       "4      12.58       130     1720"
      ]
     },
     "execution_count": 1,
     "metadata": {},
     "output_type": "execute_result"
    }
   ],
   "source": [
    "import pandas as pd\n",
    "\n",
    "url = \"https://raw.githubusercontent.com/troescherw/datasets/master/autos.csv\"\n",
    "autos = pd.read_csv(url)\n",
    "autos.head()\n",
    "\n",
    "\n"
   ]
  },
  {
   "cell_type": "code",
   "execution_count": 2,
   "metadata": {},
   "outputs": [
    {
     "data": {
      "image/png": "[encoded data removed]",
      "text/plain": [
       "<Figure size 432x288 with 1 Axes>"
      ]
     },
     "metadata": {
      "needs_background": "light"
     },
     "output_type": "display_data"
    }
   ],
   "source": [
    "import seaborn as sns\n",
    "_ = sns.scatterplot(data=autos, x=\"Gewicht\", y=\"Verbrauch\", color=\"red\")"
   ]
  },
  {
   "cell_type": "code",
   "execution_count": 3,
   "metadata": {},
   "outputs": [
    {
     "data": {
      "image/png": "[encoded data removed]",
      "text/plain": [
       "<Figure size 432x288 with 1 Axes>"
      ]
     },
     "metadata": {
      "needs_background": "light"
     },
     "output_type": "display_data"
    }
   ],
   "source": [
    "_=sns.regplot(data=autos, x=\"Gewicht\", y=\"Verbrauch\", color=\"red\", ci=None)"
   ]
  },
  {
   "cell_type": "code",
   "execution_count": 4,
   "metadata": {},
   "outputs": [],
   "source": [
    "import statsmodels.formula.api as smf\n",
    "model = smf.ols(\"Verbrauch~Gewicht\", data=autos).fit()"
   ]
  },
  {
   "cell_type": "code",
   "execution_count": 5,
   "metadata": {},
   "outputs": [
    {
     "data": {
      "text/plain": [
       "Intercept    1.454423\n",
       "Gewicht      0.007026\n",
       "dtype: float64"
      ]
     },
     "execution_count": 5,
     "metadata": {},
     "output_type": "execute_result"
    }
   ],
   "source": [
    "model.params"
   ]
  },
  {
   "cell_type": "code",
   "execution_count": 6,
   "metadata": {},
   "outputs": [
    {
     "data": {
      "text/html": [
       "<table class=\"simpletable\">\n",
       "<caption>OLS Regression Results</caption>\n",
       "<tr>\n",
       "  <th>Dep. Variable:</th>        <td>Verbrauch</td>    <th>  R-squared:         </th> <td>   0.792</td>\n",
       "</tr>\n",
       "<tr>\n",
       "  <th>Model:</th>                   <td>OLS</td>       <th>  Adj. R-squared:    </th> <td>   0.785</td>\n",
       "</tr>\n",
       "<tr>\n",
       "  <th>Method:</th>             <td>Least Squares</td>  <th>  F-statistic:       </th> <td>   114.1</td>\n",
       "</tr>\n",
       "<tr>\n",
       "  <th>Date:</th>             <td>Fri, 02 Apr 2021</td> <th>  Prob (F-statistic):</th> <td>9.61e-12</td>\n",
       "</tr>\n",
       "<tr>\n",
       "  <th>Time:</th>                 <td>09:33:09</td>     <th>  Log-Likelihood:    </th> <td> -63.029</td>\n",
       "</tr>\n",
       "<tr>\n",
       "  <th>No. Observations:</th>      <td>    32</td>      <th>  AIC:               </th> <td>   130.1</td>\n",
       "</tr>\n",
       "<tr>\n",
       "  <th>Df Residuals:</th>          <td>    30</td>      <th>  BIC:               </th> <td>   133.0</td>\n",
       "</tr>\n",
       "<tr>\n",
       "  <th>Df Model:</th>              <td>     1</td>      <th>                     </th>     <td> </td>   \n",
       "</tr>\n",
       "<tr>\n",
       "  <th>Covariance Type:</th>      <td>nonrobust</td>    <th>                     </th>     <td> </td>   \n",
       "</tr>\n",
       "</table>\n",
       "<table class=\"simpletable\">\n",
       "<tr>\n",
       "      <td></td>         <th>coef</th>     <th>std err</th>      <th>t</th>      <th>P>|t|</th>  <th>[0.025</th>    <th>0.975]</th>  \n",
       "</tr>\n",
       "<tr>\n",
       "  <th>Intercept</th> <td>    1.4544</td> <td>    1.104</td> <td>    1.317</td> <td> 0.198</td> <td>   -0.801</td> <td>    3.709</td>\n",
       "</tr>\n",
       "<tr>\n",
       "  <th>Gewicht</th>   <td>    0.0070</td> <td>    0.001</td> <td>   10.683</td> <td> 0.000</td> <td>    0.006</td> <td>    0.008</td>\n",
       "</tr>\n",
       "</table>\n",
       "<table class=\"simpletable\">\n",
       "<tr>\n",
       "  <th>Omnibus:</th>       <td> 0.938</td> <th>  Durbin-Watson:     </th> <td>   1.733</td>\n",
       "</tr>\n",
       "<tr>\n",
       "  <th>Prob(Omnibus):</th> <td> 0.625</td> <th>  Jarque-Bera (JB):  </th> <td>   0.948</td>\n",
       "</tr>\n",
       "<tr>\n",
       "  <th>Skew:</th>          <td>-0.354</td> <th>  Prob(JB):          </th> <td>   0.623</td>\n",
       "</tr>\n",
       "<tr>\n",
       "  <th>Kurtosis:</th>      <td> 2.542</td> <th>  Cond. No.          </th> <td>5.85e+03</td>\n",
       "</tr>\n",
       "</table><br/><br/>Notes:<br/>[1] Standard Errors assume that the covariance matrix of the errors is correctly specified.<br/>[2] The condition number is large, 5.85e+03. This might indicate that there are<br/>strong multicollinearity or other numerical problems."
      ],
      "text/plain": [
       "<class 'statsmodels.iolib.summary.Summary'>\n",
       "\"\"\"\n",
       "                            OLS Regression Results                            \n",
       "==============================================================================\n",
       "Dep. Variable:              Verbrauch   R-squared:                       0.792\n",
       "Model:                            OLS   Adj. R-squared:                  0.785\n",
       "Method:                 Least Squares   F-statistic:                     114.1\n",
       "Date:                Fri, 02 Apr 2021   Prob (F-statistic):           9.61e-12\n",
       "Time:                        09:33:09   Log-Likelihood:                -63.029\n",
       "No. Observations:                  32   AIC:                             130.1\n",
       "Df Residuals:                      30   BIC:                             133.0\n",
       "Df Model:                           1                                         \n",
       "Covariance Type:            nonrobust                                         \n",
       "==============================================================================\n",
       "                 coef    std err          t      P>|t|      [0.025      0.975]\n",
       "------------------------------------------------------------------------------\n",
       "Intercept      1.4544      1.104      1.317      0.198      -0.801       3.709\n",
       "Gewicht        0.0070      0.001     10.683      0.000       0.006       0.008\n",
       "==============================================================================\n",
       "Omnibus:                        0.938   Durbin-Watson:                   1.733\n",
       "Prob(Omnibus):                  0.625   Jarque-Bera (JB):                0.948\n",
       "Skew:                          -0.354   Prob(JB):                        0.623\n",
       "Kurtosis:                       2.542   Cond. No.                     5.85e+03\n",
       "==============================================================================\n",
       "\n",
       "Notes:\n",
       "[1] Standard Errors assume that the covariance matrix of the errors is correctly specified.\n",
       "[2] The condition number is large, 5.85e+03. This might indicate that there are\n",
       "strong multicollinearity or other numerical problems.\n",
       "\"\"\""
      ]
     },
     "execution_count": 6,
     "metadata": {},
     "output_type": "execute_result"
    }
   ],
   "source": [
    "model.summary()"
   ]
  },
  {
   "cell_type": "markdown",
   "metadata": {},
   "source": [
    "# Beispiel: Bierpreise auf dem Oktoberfest"
   ]
  },
  {
   "cell_type": "code",
   "execution_count": 7,
   "metadata": {},
   "outputs": [
    {
     "data": {
      "text/html": [
       "<div>\n",
       "<style scoped>\n",
       "    .dataframe tbody tr th:only-of-type {\n",
       "        vertical-align: middle;\n",
       "    }\n",
       "\n",
       "    .dataframe tbody tr th {\n",
       "        vertical-align: top;\n",
       "    }\n",
       "\n",
       "    .dataframe thead th {\n",
       "        text-align: right;\n",
       "    }\n",
       "</style>\n",
       "<table border=\"1\" class=\"dataframe\">\n",
       "  <thead>\n",
       "    <tr style=\"text-align: right;\">\n",
       "      <th></th>\n",
       "      <th>jahr</th>\n",
       "      <th>bier_preis</th>\n",
       "    </tr>\n",
       "  </thead>\n",
       "  <tbody>\n",
       "    <tr>\n",
       "      <th>29</th>\n",
       "      <td>2014</td>\n",
       "      <td>9.98</td>\n",
       "    </tr>\n",
       "    <tr>\n",
       "      <th>30</th>\n",
       "      <td>2015</td>\n",
       "      <td>10.27</td>\n",
       "    </tr>\n",
       "    <tr>\n",
       "      <th>31</th>\n",
       "      <td>2016</td>\n",
       "      <td>10.57</td>\n",
       "    </tr>\n",
       "    <tr>\n",
       "      <th>32</th>\n",
       "      <td>2017</td>\n",
       "      <td>10.87</td>\n",
       "    </tr>\n",
       "    <tr>\n",
       "      <th>33</th>\n",
       "      <td>2018</td>\n",
       "      <td>11.30</td>\n",
       "    </tr>\n",
       "  </tbody>\n",
       "</table>\n",
       "</div>"
      ],
      "text/plain": [
       "    jahr  bier_preis\n",
       "29  2014        9.98\n",
       "30  2015       10.27\n",
       "31  2016       10.57\n",
       "32  2017       10.87\n",
       "33  2018       11.30"
      ]
     },
     "execution_count": 7,
     "metadata": {},
     "output_type": "execute_result"
    }
   ],
   "source": [
    "url = \"https://raw.githubusercontent.com/troescherw/datasets/master/oktoberfestbierpreis19852018.csv\"\n",
    "bierpreise = pd.read_csv(url)\n",
    "bierpreise.tail()"
   ]
  },
  {
   "cell_type": "code",
   "execution_count": 8,
   "metadata": {},
   "outputs": [
    {
     "data": {
      "text/plain": [
       "<matplotlib.collections.PathCollection at 0x2763c7d6790>"
      ]
     },
     "execution_count": 8,
     "metadata": {},
     "output_type": "execute_result"
    },
    {
     "data": {
      "image/png": "[encoded data removed]",
      "text/plain": [
       "<Figure size 432x288 with 1 Axes>"
      ]
     },
     "metadata": {
      "needs_background": "light"
     },
     "output_type": "display_data"
    }
   ],
   "source": [
    "import matplotlib.pyplot as plt\n",
    "plt.scatter(bierpreise.jahr, bierpreise.bier_preis)"
   ]
  },
  {
   "cell_type": "code",
   "execution_count": 9,
   "metadata": {},
   "outputs": [
    {
     "data": {
      "text/html": [
       "<table class=\"simpletable\">\n",
       "<caption>OLS Regression Results</caption>\n",
       "<tr>\n",
       "  <th>Dep. Variable:</th>       <td>bier_preis</td>    <th>  R-squared:         </th> <td>   0.990</td>\n",
       "</tr>\n",
       "<tr>\n",
       "  <th>Model:</th>                   <td>OLS</td>       <th>  Adj. R-squared:    </th> <td>   0.990</td>\n",
       "</tr>\n",
       "<tr>\n",
       "  <th>Method:</th>             <td>Least Squares</td>  <th>  F-statistic:       </th> <td>   3234.</td>\n",
       "</tr>\n",
       "<tr>\n",
       "  <th>Date:</th>             <td>Fri, 02 Apr 2021</td> <th>  Prob (F-statistic):</th> <td>1.02e-33</td>\n",
       "</tr>\n",
       "<tr>\n",
       "  <th>Time:</th>                 <td>09:33:10</td>     <th>  Log-Likelihood:    </th> <td>0.063952</td>\n",
       "</tr>\n",
       "<tr>\n",
       "  <th>No. Observations:</th>      <td>    34</td>      <th>  AIC:               </th> <td>   3.872</td>\n",
       "</tr>\n",
       "<tr>\n",
       "  <th>Df Residuals:</th>          <td>    32</td>      <th>  BIC:               </th> <td>   6.925</td>\n",
       "</tr>\n",
       "<tr>\n",
       "  <th>Df Model:</th>              <td>     1</td>      <th>                     </th>     <td> </td>   \n",
       "</tr>\n",
       "<tr>\n",
       "  <th>Covariance Type:</th>      <td>nonrobust</td>    <th>                     </th>     <td> </td>   \n",
       "</tr>\n",
       "</table>\n",
       "<table class=\"simpletable\">\n",
       "<tr>\n",
       "      <td></td>         <th>coef</th>     <th>std err</th>      <th>t</th>      <th>P>|t|</th>  <th>[0.025</th>    <th>0.975]</th>  \n",
       "</tr>\n",
       "<tr>\n",
       "  <th>Intercept</th> <td> -488.5857</td> <td>    8.710</td> <td>  -56.093</td> <td> 0.000</td> <td> -506.328</td> <td> -470.843</td>\n",
       "</tr>\n",
       "<tr>\n",
       "  <th>jahr</th>      <td>    0.2475</td> <td>    0.004</td> <td>   56.866</td> <td> 0.000</td> <td>    0.239</td> <td>    0.256</td>\n",
       "</tr>\n",
       "</table>\n",
       "<table class=\"simpletable\">\n",
       "<tr>\n",
       "  <th>Omnibus:</th>       <td> 0.478</td> <th>  Durbin-Watson:     </th> <td>   0.246</td>\n",
       "</tr>\n",
       "<tr>\n",
       "  <th>Prob(Omnibus):</th> <td> 0.787</td> <th>  Jarque-Bera (JB):  </th> <td>   0.469</td>\n",
       "</tr>\n",
       "<tr>\n",
       "  <th>Skew:</th>          <td> 0.253</td> <th>  Prob(JB):          </th> <td>   0.791</td>\n",
       "</tr>\n",
       "<tr>\n",
       "  <th>Kurtosis:</th>      <td> 2.725</td> <th>  Cond. No.          </th> <td>4.08e+05</td>\n",
       "</tr>\n",
       "</table><br/><br/>Notes:<br/>[1] Standard Errors assume that the covariance matrix of the errors is correctly specified.<br/>[2] The condition number is large, 4.08e+05. This might indicate that there are<br/>strong multicollinearity or other numerical problems."
      ],
      "text/plain": [
       "<class 'statsmodels.iolib.summary.Summary'>\n",
       "\"\"\"\n",
       "                            OLS Regression Results                            \n",
       "==============================================================================\n",
       "Dep. Variable:             bier_preis   R-squared:                       0.990\n",
       "Model:                            OLS   Adj. R-squared:                  0.990\n",
       "Method:                 Least Squares   F-statistic:                     3234.\n",
       "Date:                Fri, 02 Apr 2021   Prob (F-statistic):           1.02e-33\n",
       "Time:                        09:33:10   Log-Likelihood:               0.063952\n",
       "No. Observations:                  34   AIC:                             3.872\n",
       "Df Residuals:                      32   BIC:                             6.925\n",
       "Df Model:                           1                                         \n",
       "Covariance Type:            nonrobust                                         \n",
       "==============================================================================\n",
       "                 coef    std err          t      P>|t|      [0.025      0.975]\n",
       "------------------------------------------------------------------------------\n",
       "Intercept   -488.5857      8.710    -56.093      0.000    -506.328    -470.843\n",
       "jahr           0.2475      0.004     56.866      0.000       0.239       0.256\n",
       "==============================================================================\n",
       "Omnibus:                        0.478   Durbin-Watson:                   0.246\n",
       "Prob(Omnibus):                  0.787   Jarque-Bera (JB):                0.469\n",
       "Skew:                           0.253   Prob(JB):                        0.791\n",
       "Kurtosis:                       2.725   Cond. No.                     4.08e+05\n",
       "==============================================================================\n",
       "\n",
       "Notes:\n",
       "[1] Standard Errors assume that the covariance matrix of the errors is correctly specified.\n",
       "[2] The condition number is large, 4.08e+05. This might indicate that there are\n",
       "strong multicollinearity or other numerical problems.\n",
       "\"\"\""
      ]
     },
     "execution_count": 9,
     "metadata": {},
     "output_type": "execute_result"
    }
   ],
   "source": [
    "model = smf.ols(\"bier_preis~jahr\", data=bierpreise).fit()\n",
    "model.summary()"
   ]
  },
  {
   "cell_type": "markdown",
   "metadata": {},
   "source": [
    "## Dummy Kodierung\n",
    "Bisher hatten wir nur numerische Variablen, genauer gesagt verhältnisskalierte Variablen wie zum Beispiel den Bierpreis, den Spritverbrauch eines Autos oder auch dessen Gewicht. *Verhältnisskaliert* bedeutet hier, dass es einen \"echten\" Nullpunkt gibt. Zumindest theortisch gibt es ein Auto mit 0 kg Gewicht, oder anders ausgedrückt: Ein Auto mit 2000kg ist doppelt so schwer wie ein Auto mit 1000 kg, man kann also Verhältnisse bilden.\n",
    "\n",
    "Im folgenden Beispiel liegt uns nun ein Datensatz über Wohnungen vor, und zwar deren Mietpreise sowie die Größe der Wohnungen in Quadratmeter und die Lage der Wohnung. Wir sehen uns mal 10 zufällig ausgewählte Zeilen aus dem Datensatz an:"
   ]
  },
  {
   "cell_type": "code",
   "execution_count": 10,
   "metadata": {},
   "outputs": [
    {
     "data": {
      "text/html": [
       "<div>\n",
       "<style scoped>\n",
       "    .dataframe tbody tr th:only-of-type {\n",
       "        vertical-align: middle;\n",
       "    }\n",
       "\n",
       "    .dataframe tbody tr th {\n",
       "        vertical-align: top;\n",
       "    }\n",
       "\n",
       "    .dataframe thead th {\n",
       "        text-align: right;\n",
       "    }\n",
       "</style>\n",
       "<table border=\"1\" class=\"dataframe\">\n",
       "  <thead>\n",
       "    <tr style=\"text-align: right;\">\n",
       "      <th></th>\n",
       "      <th>Mietpreis</th>\n",
       "      <th>Quadratmeter</th>\n",
       "      <th>Lage</th>\n",
       "    </tr>\n",
       "  </thead>\n",
       "  <tbody>\n",
       "    <tr>\n",
       "      <th>46</th>\n",
       "      <td>1050</td>\n",
       "      <td>50</td>\n",
       "      <td>Aussenbezirk</td>\n",
       "    </tr>\n",
       "    <tr>\n",
       "      <th>87</th>\n",
       "      <td>2200</td>\n",
       "      <td>111</td>\n",
       "      <td>Aussenbezirk</td>\n",
       "    </tr>\n",
       "    <tr>\n",
       "      <th>54</th>\n",
       "      <td>820</td>\n",
       "      <td>41</td>\n",
       "      <td>Aussenbezirk</td>\n",
       "    </tr>\n",
       "    <tr>\n",
       "      <th>66</th>\n",
       "      <td>1501</td>\n",
       "      <td>79</td>\n",
       "      <td>Umland</td>\n",
       "    </tr>\n",
       "    <tr>\n",
       "      <th>50</th>\n",
       "      <td>3520</td>\n",
       "      <td>180</td>\n",
       "      <td>Innenstadt</td>\n",
       "    </tr>\n",
       "    <tr>\n",
       "      <th>56</th>\n",
       "      <td>1206</td>\n",
       "      <td>67</td>\n",
       "      <td>Aussenbezirk</td>\n",
       "    </tr>\n",
       "    <tr>\n",
       "      <th>9</th>\n",
       "      <td>2750</td>\n",
       "      <td>96</td>\n",
       "      <td>Innenstadt</td>\n",
       "    </tr>\n",
       "    <tr>\n",
       "      <th>85</th>\n",
       "      <td>1200</td>\n",
       "      <td>52</td>\n",
       "      <td>Innenstadt</td>\n",
       "    </tr>\n",
       "    <tr>\n",
       "      <th>70</th>\n",
       "      <td>1400</td>\n",
       "      <td>39</td>\n",
       "      <td>Innenstadt</td>\n",
       "    </tr>\n",
       "    <tr>\n",
       "      <th>19</th>\n",
       "      <td>2032</td>\n",
       "      <td>127</td>\n",
       "      <td>Aussenbezirk</td>\n",
       "    </tr>\n",
       "  </tbody>\n",
       "</table>\n",
       "</div>"
      ],
      "text/plain": [
       "    Mietpreis  Quadratmeter          Lage\n",
       "46       1050            50  Aussenbezirk\n",
       "87       2200           111  Aussenbezirk\n",
       "54        820            41  Aussenbezirk\n",
       "66       1501            79        Umland\n",
       "50       3520           180    Innenstadt\n",
       "56       1206            67  Aussenbezirk\n",
       "9        2750            96    Innenstadt\n",
       "85       1200            52    Innenstadt\n",
       "70       1400            39    Innenstadt\n",
       "19       2032           127  Aussenbezirk"
      ]
     },
     "execution_count": 10,
     "metadata": {},
     "output_type": "execute_result"
    }
   ],
   "source": [
    "import pandas as pd\n",
    "url = \"https://raw.githubusercontent.com/troescherw/datasets/master/wohnungen.csv\"\n",
    "df = pd.read_csv(url, delimiter=\";\")\n",
    "df.sample(10)"
   ]
  },
  {
   "cell_type": "markdown",
   "metadata": {},
   "source": [
    "Wir erkennen, dass das Feature *Lage* nominalskaliert ist, also eine begrenzte Anzahl an vordefinierten Kategorien enthält (man sagt daher auch *Kategoriale Variable*). Es gibt folgende Kategorien:\n",
    "\n",
    "* Innenstadt\n",
    "* Aussenbezirk und\n",
    "* Umland\n",
    "\n",
    "Mit diesen Daten, die in Textform vorliegen, können wir nicht rechnen, also müssen wir diese Werte kodieren! Ein **Fehler** wäre es, zum Beispiel beliebige Zahlen zuzuweisen, wie z.B. Innenstadt = 1, Aussenbezirk = 2, Umland = 3, denn dadurch würden wir eine unbeabsichtigte Gewichtung der Kategorien vornehmen, was üblicherweise nicht gewollt ist. Würden wir den Kategorien andere Zahlen zuweisen, also z.B. Innenstadt = 3, dann käme auch ein anderes Modell heraus!\n",
    "\n",
    "Stattdessen müssen wir eine sog. **Dummy-Kodierung** (auch als **One-Hot-Encoding** bezeichnet) durchführen. Dabei gilt grundsätzlich: Bei k Kategorien benötigen wir k-1 Kodierungen, hier also zum Beispiel:\n",
    "\n",
    "| Innenstadt | Aussenbezirk |\n",
    "|------------|--------------|\n",
    "| 0          | 1            |\n",
    "| 1          | 0            |\n",
    "\n",
    "Die Kategorie *Umland* wäre somit mit 0, 0 kodiert! Dieses Vorgehen ist notwendig, damit wir keine linearen Abhängigkeiten zwischen den erhalten (es handelt sich schließlich um *unabhängige* Variablen!).\n",
    "\n",
    "Im folgenden Code sorgt das \"C\" (vor \"Categorical\") in der Formel dafür, dass die angegebene Spalte automatisch nach diesem Prinzip kodiert wird."
   ]
  },
  {
   "cell_type": "code",
   "execution_count": 11,
   "metadata": {},
   "outputs": [
    {
     "data": {
      "text/html": [
       "<table class=\"simpletable\">\n",
       "<caption>OLS Regression Results</caption>\n",
       "<tr>\n",
       "  <th>Dep. Variable:</th>        <td>Mietpreis</td>    <th>  R-squared:         </th> <td>   0.943</td>\n",
       "</tr>\n",
       "<tr>\n",
       "  <th>Model:</th>                   <td>OLS</td>       <th>  Adj. R-squared:    </th> <td>   0.941</td>\n",
       "</tr>\n",
       "<tr>\n",
       "  <th>Method:</th>             <td>Least Squares</td>  <th>  F-statistic:       </th> <td>   527.5</td>\n",
       "</tr>\n",
       "<tr>\n",
       "  <th>Date:</th>             <td>Fri, 02 Apr 2021</td> <th>  Prob (F-statistic):</th> <td>1.73e-59</td>\n",
       "</tr>\n",
       "<tr>\n",
       "  <th>Time:</th>                 <td>09:33:10</td>     <th>  Log-Likelihood:    </th> <td> -682.44</td>\n",
       "</tr>\n",
       "<tr>\n",
       "  <th>No. Observations:</th>      <td>   100</td>      <th>  AIC:               </th> <td>   1373.</td>\n",
       "</tr>\n",
       "<tr>\n",
       "  <th>Df Residuals:</th>          <td>    96</td>      <th>  BIC:               </th> <td>   1383.</td>\n",
       "</tr>\n",
       "<tr>\n",
       "  <th>Df Model:</th>              <td>     3</td>      <th>                     </th>     <td> </td>   \n",
       "</tr>\n",
       "<tr>\n",
       "  <th>Covariance Type:</th>      <td>nonrobust</td>    <th>                     </th>     <td> </td>   \n",
       "</tr>\n",
       "</table>\n",
       "<table class=\"simpletable\">\n",
       "<tr>\n",
       "            <td></td>               <th>coef</th>     <th>std err</th>      <th>t</th>      <th>P>|t|</th>  <th>[0.025</th>    <th>0.975]</th>  \n",
       "</tr>\n",
       "<tr>\n",
       "  <th>Intercept</th>             <td>   34.5884</td> <td>   57.142</td> <td>    0.605</td> <td> 0.546</td> <td>  -78.837</td> <td>  148.014</td>\n",
       "</tr>\n",
       "<tr>\n",
       "  <th>C(Lage)[T.Innenstadt]</th> <td>  653.1795</td> <td>   52.528</td> <td>   12.435</td> <td> 0.000</td> <td>  548.913</td> <td>  757.446</td>\n",
       "</tr>\n",
       "<tr>\n",
       "  <th>C(Lage)[T.Umland]</th>     <td> -152.3866</td> <td>   60.274</td> <td>   -2.528</td> <td> 0.013</td> <td> -272.029</td> <td>  -32.745</td>\n",
       "</tr>\n",
       "<tr>\n",
       "  <th>Quadratmeter</th>          <td>   17.4891</td> <td>    0.489</td> <td>   35.755</td> <td> 0.000</td> <td>   16.518</td> <td>   18.460</td>\n",
       "</tr>\n",
       "</table>\n",
       "<table class=\"simpletable\">\n",
       "<tr>\n",
       "  <th>Omnibus:</th>       <td> 0.150</td> <th>  Durbin-Watson:     </th> <td>   1.592</td>\n",
       "</tr>\n",
       "<tr>\n",
       "  <th>Prob(Omnibus):</th> <td> 0.928</td> <th>  Jarque-Bera (JB):  </th> <td>   0.328</td>\n",
       "</tr>\n",
       "<tr>\n",
       "  <th>Skew:</th>          <td>-0.036</td> <th>  Prob(JB):          </th> <td>   0.849</td>\n",
       "</tr>\n",
       "<tr>\n",
       "  <th>Kurtosis:</th>      <td> 2.729</td> <th>  Cond. No.          </th> <td>    347.</td>\n",
       "</tr>\n",
       "</table><br/><br/>Notes:<br/>[1] Standard Errors assume that the covariance matrix of the errors is correctly specified."
      ],
      "text/plain": [
       "<class 'statsmodels.iolib.summary.Summary'>\n",
       "\"\"\"\n",
       "                            OLS Regression Results                            \n",
       "==============================================================================\n",
       "Dep. Variable:              Mietpreis   R-squared:                       0.943\n",
       "Model:                            OLS   Adj. R-squared:                  0.941\n",
       "Method:                 Least Squares   F-statistic:                     527.5\n",
       "Date:                Fri, 02 Apr 2021   Prob (F-statistic):           1.73e-59\n",
       "Time:                        09:33:10   Log-Likelihood:                -682.44\n",
       "No. Observations:                 100   AIC:                             1373.\n",
       "Df Residuals:                      96   BIC:                             1383.\n",
       "Df Model:                           3                                         \n",
       "Covariance Type:            nonrobust                                         \n",
       "=========================================================================================\n",
       "                            coef    std err          t      P>|t|      [0.025      0.975]\n",
       "-----------------------------------------------------------------------------------------\n",
       "Intercept                34.5884     57.142      0.605      0.546     -78.837     148.014\n",
       "C(Lage)[T.Innenstadt]   653.1795     52.528     12.435      0.000     548.913     757.446\n",
       "C(Lage)[T.Umland]      -152.3866     60.274     -2.528      0.013    -272.029     -32.745\n",
       "Quadratmeter             17.4891      0.489     35.755      0.000      16.518      18.460\n",
       "==============================================================================\n",
       "Omnibus:                        0.150   Durbin-Watson:                   1.592\n",
       "Prob(Omnibus):                  0.928   Jarque-Bera (JB):                0.328\n",
       "Skew:                          -0.036   Prob(JB):                        0.849\n",
       "Kurtosis:                       2.729   Cond. No.                         347.\n",
       "==============================================================================\n",
       "\n",
       "Notes:\n",
       "[1] Standard Errors assume that the covariance matrix of the errors is correctly specified.\n",
       "\"\"\""
      ]
     },
     "execution_count": 11,
     "metadata": {},
     "output_type": "execute_result"
    }
   ],
   "source": [
    "import statsmodels.formula.api as smf\n",
    "\n",
    "model = smf.ols(\"Mietpreis~Quadratmeter+C(Lage)\", data=df).fit()\n",
    "model.summary()"
   ]
  },
  {
   "cell_type": "markdown",
   "metadata": {},
   "source": [
    "Wir erkennen an den Koeffizienten, dass nur die Lagen Innenstadt und Umland vorhanden sind. Die Kategorie Aussenbezirk wurde also automatisch entfernt und ist somit in $\\beta_0$ eingeflossen.\n",
    "\n",
    "Somit ergeben sich folgende Erkenntnisse:\n",
    "\n",
    "* Mit jedem Quadratmeter mehr steigt der Mietpreis einer Wohnung in der Lage \"Aussenbezirk\" um ca. 17,50 Euro.\n",
    "* Eine Wohnung im Umland ist gegenüber einer Wohnung im Aussenbezirk im Schnitt um 152 Euro günstiger.\n",
    "* Eine Wohnung mit Innenstadtlage ist hingegen im Schnitt um ca. 653 Euro teurer als eine Wohnung im Aussenbezirk."
   ]
  },
  {
   "cell_type": "code",
   "execution_count": 12,
   "metadata": {},
   "outputs": [
    {
     "data": {
      "image/png": "[encoded data removed]",
      "text/plain": [
       "<Figure size 432x288 with 1 Axes>"
      ]
     },
     "metadata": {
      "needs_background": "light"
     },
     "output_type": "display_data"
    }
   ],
   "source": [
    "%matplotlib inline\n",
    "import matplotlib.pyplot as plt\n",
    "import numpy as np\n",
    "\n",
    "qm = np.arange(df.Quadratmeter.min(), df.Quadratmeter.max())\n",
    "mieten_aussen = pd.DataFrame({\"Quadratmeter\":qm, \"Lage\":\"Aussenbezirk\"})\n",
    "mieten_umland = pd.DataFrame({\"Quadratmeter\":qm, \"Lage\":\"Umland\"})\n",
    "mieten_innen  = pd.DataFrame({\"Quadratmeter\":qm, \"Lage\":\"Innenstadt\"})\n",
    "\n",
    "plt.plot(qm, model.predict(mieten_aussen), label=\"Außenbezirk\")\n",
    "plt.plot(qm, model.predict(mieten_umland), label=\"Umland\")\n",
    "plt.plot(qm, model.predict(mieten_innen), label=\"Innenstadt\")\n",
    "plt.legend()\n",
    "plt.xlabel(\"Quadratmeter\")\n",
    "plt.ylabel(\"Mietpreis\")\n",
    "plt.title(\"Wohnungspreise in Abhängigkeit von Fläche und Lage\")\n",
    "plt.show()"
   ]
  }
 ],
 "metadata": {
  "kernelspec": {
   "display_name": "Python 3",
   "language": "python",
   "name": "python3"
  },
  "language_info": {
   "codemirror_mode": {
    "name": "ipython",
    "version": 3
   },
   "file_extension": ".py",
   "mimetype": "text/x-python",
   "name": "python",
   "nbconvert_exporter": "python",
   "pygments_lexer": "ipython3",
   "version": "3.8.8"
  }
 },
 "nbformat": 4,
 "nbformat_minor": 4
}
