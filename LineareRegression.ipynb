{
 "cells": [
  {
   "cell_type": "markdown",
   "metadata": {},
   "source": [
    "# Lineare Regression\n",
    "In diesem Notebook realisieren wir einige Beispiele für die Lineare Regression. Wir beginnen mit einem sehr einfachen Beispiel. Wir erstellen ein Pandas-Dataframe mit x- und y-Werten:"
   ]
  },
  {
   "cell_type": "code",
   "execution_count": null,
   "metadata": {},
   "outputs": [],
   "source": [
    "import pandas as pd\n",
    "\n",
    "df = pd.DataFrame({\"x\":[25, 27, 29, 35, 40, 45, 46, 50, 55, 58],\n",
    "                  \"y\":[127, 125, 132, 140, 145, 152, 160, 165, 170, 175]})\n",
    "df\n",
    "\n"
   ]
  },
  {
   "cell_type": "markdown",
   "metadata": {},
   "source": [
    "Wir plotten die Daten (Scatterplot) mit Hilfe von Matplotlib:"
   ]
  },
  {
   "cell_type": "code",
   "execution_count": null,
   "metadata": {},
   "outputs": [],
   "source": [
    "%matplotlib inline\n",
    "\n",
    "import matplotlib.pyplot as plt\n",
    "plt.scatter(df.y, df.y)\n",
    "plt.show()"
   ]
  },
  {
   "cell_type": "markdown",
   "metadata": {},
   "source": [
    "Nun erstellen wir ein Modell für die Lineare Regression mit Hilfe der Funktion *ols* aus dem Package *statsmodells*. Es gibt auch viele andere Möglichkeiten, dies in Python zu realisieren, aber *statsmodels* ist sehr mächtig, insbesondere was die Verwendung von kategorialen Variablen angeht (dazu später ein Beispiel). Wir geben die Koeffizienten aus, anschließend weitere Details zum Modell. Mit *summary* geben wir die Infos zum Modell aus, insbesondere die Koeffizienten $\\beta_0$ und $\\beta_1$. Da wir nur 10 Beobachtungen haben, wird noch eine Warnung ausgegeben."
   ]
  },
  {
   "cell_type": "code",
   "execution_count": null,
   "metadata": {},
   "outputs": [],
   "source": [
    "import statsmodels.formula.api as smf \n",
    "\n",
    "model = smf.ols(\"y~x\", data=df).fit()\n",
    "model.summary()"
   ]
  },
  {
   "cell_type": "markdown",
   "metadata": {},
   "source": [
    "Eine wichtige Kennzahl für die Qualität eines Regressionsmodells ist das sog. **Bestimmtheitsmaß** $R^2$. Die Tabelle oben gibt hierfür einen Wert von 0,984 an. Dieser kann auch manuell mit folgender Formel berechnet werden:\n",
    "\n",
    "$R^2=1-\\frac{\\sum (y_{i}-\\hat{y})^{2}}{\\sum (y_{i}-\\bar{y})^{2}}$\n",
    "\n",
    "Das gleiche Ergebnis erhalten wir mit:"
   ]
  },
  {
   "cell_type": "code",
   "execution_count": null,
   "metadata": {},
   "outputs": [],
   "source": [
    "1 - (((df.y-model.predict(df.x))**2).sum() / ((df.y-df.y.mean())**2).sum() )"
   ]
  },
  {
   "cell_type": "code",
   "execution_count": null,
   "metadata": {},
   "outputs": [],
   "source": [
    "from scipy.stats import pearsonr\n",
    "corr,__ = pearsonr(df.x, df.y)\n",
    "print(corr)"
   ]
  },
  {
   "cell_type": "markdown",
   "metadata": {},
   "source": [
    "Wir erstellen nochmal einen Scatterplot mit den Daten, zusätzlich fügen wir noch die Regressinsgerade hinzu:"
   ]
  },
  {
   "cell_type": "code",
   "execution_count": null,
   "metadata": {},
   "outputs": [],
   "source": [
    "import matplotlib.pyplot as plt\n",
    "plt.scatter(df.x, df.y)\n",
    "plt.plot(df.x, model.predict(df.x))\n",
    "plt.show()"
   ]
  },
  {
   "cell_type": "markdown",
   "metadata": {},
   "source": [
    "## Beispiel: Speiseeis-Umsatz\n",
    "Wir laden einen Datensatz mit Umsatzzahlen (in Tsd. EUR) einer Supermarktkette in Abhängigkeit von der Außentemperatur:"
   ]
  },
  {
   "cell_type": "code",
   "execution_count": null,
   "metadata": {},
   "outputs": [],
   "source": [
    "import pandas as pd\n",
    "url = \"https://raw.githubusercontent.com/troescherw/datasets/master/speiseeis_umsatz.csv\"\n",
    "umsatz = pd.read_csv(url)\n",
    "umsatz.head()"
   ]
  },
  {
   "cell_type": "markdown",
   "metadata": {},
   "source": [
    "Wir erstellen wieder einen Scatterplot:"
   ]
  },
  {
   "cell_type": "code",
   "execution_count": null,
   "metadata": {},
   "outputs": [],
   "source": [
    "import matplotlib.pyplot as plt\n",
    "plt.scatter(umsatz.Temperatur, umsatz.Umsatz)"
   ]
  },
  {
   "cell_type": "markdown",
   "metadata": {},
   "source": [
    "Wir erstellen ein Regressionsmodell und geben Infos zum Modell aus:"
   ]
  },
  {
   "cell_type": "code",
   "execution_count": null,
   "metadata": {},
   "outputs": [],
   "source": [
    "import statsmodels.formula.api as smf\n",
    "model = smf.ols(\"Umsatz~Temperatur\", data=umsatz).fit()\n",
    "model.summary()"
   ]
  },
  {
   "cell_type": "markdown",
   "metadata": {},
   "source": [
    "## Noch ein Beispiel: Bierpreis auf dem Oktoberfest\n",
    "Wir laden reale Daten (Quelle: Open Data Portal der Stadt München) bzgl. der Bierpreisentwicklung auf dem Oktoberfest:"
   ]
  },
  {
   "cell_type": "code",
   "execution_count": null,
   "metadata": {},
   "outputs": [],
   "source": [
    "import pandas as pd\n",
    "\n",
    "url = \"https://raw.githubusercontent.com/troescherw/datasets/master/oktoberfestbierpreis19852018.csv\"\n",
    "bierpreise = pd.read_csv(url)\n",
    "bierpreise.head()"
   ]
  },
  {
   "cell_type": "markdown",
   "metadata": {},
   "source": [
    "Wir erstellen einen Scatterplot:"
   ]
  },
  {
   "cell_type": "code",
   "execution_count": null,
   "metadata": {},
   "outputs": [],
   "source": [
    "import matplotlib.pyplot as plt\n",
    "plt.scatter(bierpreise.jahr, bierpreise.bier_preis)\n",
    "plt.xlabel(\"Jahr\")\n",
    "plt.ylabel(\"Preis pro Maß\")\n",
    "plt.title(\"Entwicklung der Bierpreise auf dem Münchner Oktoberfest\")\n",
    "plt.show()"
   ]
  },
  {
   "cell_type": "markdown",
   "metadata": {},
   "source": [
    "Offensichtlich ein erstaunlich linearer Zusammenhang! Wir erstellen ein Modell:"
   ]
  },
  {
   "cell_type": "code",
   "execution_count": null,
   "metadata": {},
   "outputs": [],
   "source": [
    "import statsmodels.formula.api as smf\n",
    "model = ols(\"bier_preis~jahr\", data=bierpreise).fit()\n",
    "model.summary()"
   ]
  },
  {
   "cell_type": "markdown",
   "metadata": {},
   "source": [
    "Das Modell verfügt über ein Bestimmtheitsmaß $R^2$ von 0,99! Die Koeffizienten zeigen, dass pro Jahr die Maß Bier im Mittel um ca. 25 Cent teuerer wurde!"
   ]
  },
  {
   "cell_type": "markdown",
   "metadata": {},
   "source": [
    "## Berechnung der Koeffizienten mit Hilfe der Linearen Algebra\n",
    "Wir erstellen eine Funktion, die die Koeffizienten mit Hilfe der Linearen Algebra berechnet (Koeffizientenbestimmung eines überbestimmten Gleichungssystems mit Hilfe der Moore-Penrose-Pseudoinversen). Wir verwenden als Beispiel unsere Bierpreis-Daten und geben zum Vergleich nochmal die Koeffizienten unseres Modells aus, die die *ols*-Funktion berechnet hat:"
   ]
  },
  {
   "cell_type": "code",
   "execution_count": null,
   "metadata": {},
   "outputs": [],
   "source": [
    "import numpy as np\n",
    "\n",
    "# Funktion erstellen\n",
    "def koef(X, y):\n",
    "    X = pd.DataFrame(X)\n",
    "    X.insert(0, \"Beta_0\", 1)\n",
    "    return np.linalg.inv(X.T @ X) @ X.T @ y\n",
    "\n",
    "beta_0, beta_1 = koef(bierpreise.jahr, bierpreise.bier_preis)\n",
    "print(beta_0, beta_1)"
   ]
  },
  {
   "cell_type": "markdown",
   "metadata": {},
   "source": [
    "## Nicht-lineare Daten\n",
    "Bei den bisher verwendeten Datensätzen bestand ein guter linearer Zusammenhang zwischen der unabhängigen Variable (y) und der unabhängigen Variable (X). Was aber tun, wenn zum Beispiel ein logarithmischer Zusammenhang besteht?\n",
    "\n",
    "Als Beispiel betrachten wir das Moorsche Gesetz, das besagt, dass sich alle 2 Jahre die Anzahl der Transistoren auf einer bestimmten Fläche verdoppeln. Der folgende Datensatz, der die Anzahl der Transistoren seit dem Jahr 1970 beinhaltet, zeigt, dass das Moorsche Gesetzt (immer noch) stimmt:"
   ]
  },
  {
   "cell_type": "code",
   "execution_count": null,
   "metadata": {},
   "outputs": [],
   "source": [
    "import pandas as pd\n",
    "\n",
    "url = \"https://raw.githubusercontent.com/troescherw/datasets/master/transistoren.csv\"\n",
    "df = pd.read_csv(url, delimiter=\";\")\n",
    "df.head()"
   ]
  },
  {
   "cell_type": "code",
   "execution_count": null,
   "metadata": {},
   "outputs": [],
   "source": [
    "import matplotlib.pyplot as plt\n",
    "plt.scatter(df.Year_after_1970, df.Transistor_count)\n",
    "plt.show()\n"
   ]
  },
  {
   "cell_type": "markdown",
   "metadata": {},
   "source": [
    "Tatsächlich sieht das nach expontiellem Wachstum aus! Wir wollen dies nun in eine lineare Funktion überführen. Dazu logarithmieren wir die Daten für die Anzahl der Transistoren und fügen diese Daten dem Datensatz hinzu:"
   ]
  },
  {
   "cell_type": "code",
   "execution_count": null,
   "metadata": {},
   "outputs": [],
   "source": [
    "#df.insert(0,\"Transistor_count_log\", df.Transistor_count)\n",
    "df[\"Transistor_count_log\"] = np.log(df.Transistor_count)\n",
    "\n",
    "# Scatterplot\n",
    "import matplotlib.pyplot as plt\n",
    "plt.scatter(df.Year_after_1970, df.Transistor_count_log)\n",
    "plt.xlabel(\"Jahr nach 1970\")\n",
    "plt.ylabel(\"Anzahl Transistoren (log.)\")\n",
    "plt.title(\"Moorsches Gesetz\")\n",
    "plt.show()\n"
   ]
  },
  {
   "cell_type": "markdown",
   "metadata": {},
   "source": [
    "Das sieht schon wesentlich \"linearer\" aus! Nun können wir auch eine Lineare Regression durchführen:"
   ]
  },
  {
   "cell_type": "code",
   "execution_count": null,
   "metadata": {},
   "outputs": [],
   "source": [
    "import statsmodels.formula.api as smf\n",
    "model = smf.ols(\"Transistor_count_log ~ Year_after_1970\", data=df).fit()\n",
    "model.summary()"
   ]
  },
  {
   "cell_type": "markdown",
   "metadata": {},
   "source": [
    "Pro Jahr wächst also die Anzahl Prozessoren um den Faktor $2^{0,35}$, was ungefähr 2, also einer Verdopplung, entspricht."
   ]
  },
  {
   "cell_type": "markdown",
   "metadata": {},
   "source": [
    " ## Multiple Regression mit Dummy-Variablen\n",
    " Bisher hatten wir nur eine unabhängige Variable. Im folgenden Beispiel wollen wir ein Vorhersagemodell für den Mietpreis von Wohnungen in Abhängigkeit von\n",
    " \n",
    " - der Größe der Wohnung in qm\n",
    " - der Lage (Innenstadt, Außenbezirk oder Umland)\n",
    " \n",
    "erstellen. Da es sich bei der Lage um eine kategoriale Variable handelt, müssen wir dieses Feature Dummy-kodieren (One-Hot-Encoding). Praktischerweise übernimmt das für uns die Funktion *C* (für \"categorical\") aus *statsmodels*. Eine andere Möglichkeit wäre, die Funktion *get_dummies* aus Pandas. Dieser Funktion sollte man auch noch das Argument *drop_first=True* übergeben, damit wir nicht in die \"Dummy-Variable-Trap\" laufen! Die *C*-Funktion übernimmt das praktischerweise automatisch!"
   ]
  },
  {
   "cell_type": "code",
   "execution_count": null,
   "metadata": {},
   "outputs": [],
   "source": [
    "import pandas as pd\n",
    "import statsmodels.formula.api as smf\n",
    "\n",
    "url = \"https://raw.githubusercontent.com/troescherw/datasets/master/wohnungen.csv\"\n",
    "df = pd.read_csv(url, delimiter=\";\")\n",
    "df.head()"
   ]
  },
  {
   "cell_type": "code",
   "execution_count": null,
   "metadata": {},
   "outputs": [],
   "source": [
    "import statsmodels.formula.api as smf\n",
    "\n",
    "model = smf.ols(\"Mietpreis~Quadratmeter+C(Lage)\", data=df).fit()\n",
    "model.summary()"
   ]
  },
  {
   "cell_type": "markdown",
   "metadata": {},
   "source": [
    "Wir erkennen an den Koeffizienten, dass nur die Lagen *Innenstadt* und *Umland* vorhanden sind. Die Kategorie *Aussenbezirk* wurde also automatisch entfernt und ist somit in $\\beta_0$ eingeflossen.\n",
    "\n",
    "Somit ergeben sich folgende Erkenntnisse:\n",
    "\n",
    "- Mit jedem Quadratmeter mehr steigt der Mietpreis einer Wohnung in der Lage \"Aussenbezirk\" um ca. 17,50 Euro.\n",
    "- Eine Wohnung im Umland ist gegenüber einer Wohnung im Aussenbezirk im Schnitt um 152 Euro günstiger.\n",
    "- Eine Wohnung mit Innenstadtlage ist hingegen im Schnitt um ca. 653 Euro teurer als eine Wohnung im Aussenbezirk."
   ]
  },
  {
   "cell_type": "code",
   "execution_count": null,
   "metadata": {},
   "outputs": [],
   "source": [
    "import numpy as np\n",
    "import matplotlib.pyplot as plt\n",
    "\n",
    "qm = np.arange(df.Quadratmeter.min(), df.Quadratmeter.max())\n",
    "mieten_aussen = pd.DataFrame({\"Quadratmeter\":qm, \"Lage\":\"Aussenbezirk\"})\n",
    "mieten_umland = pd.DataFrame({\"Quadratmeter\":qm, \"Lage\":\"Umland\"})\n",
    "mieten_innen  = pd.DataFrame({\"Quadratmeter\":qm, \"Lage\":\"Innenstadt\"})\n",
    "\n",
    "plt.plot(qm, model.predict(mieten_aussen), label=\"Außenbezirk\")\n",
    "plt.plot(qm, model.predict(mieten_umland), label=\"Umland\")\n",
    "plt.plot(qm, model.predict(mieten_innen), label=\"Innenstadt\")\n",
    "plt.legend()\n",
    "plt.xlabel(\"Quadratmeter\")\n",
    "plt.ylabel(\"Mietpreis\")\n",
    "plt.title(\"Wohnungspreise in Abhängigkeit von Fläche und Lage\")\n",
    "plt.show()"
   ]
  },
  {
   "cell_type": "code",
   "execution_count": null,
   "metadata": {},
   "outputs": [],
   "source": []
  },
  {
   "cell_type": "code",
   "execution_count": null,
   "metadata": {},
   "outputs": [],
   "source": []
  }
 ],
 "metadata": {
  "kernelspec": {
   "display_name": "Python 3",
   "language": "python",
   "name": "python3"
  },
  "language_info": {
   "codemirror_mode": {
    "name": "ipython",
    "version": 3
   },
   "file_extension": ".py",
   "mimetype": "text/x-python",
   "name": "python",
   "nbconvert_exporter": "python",
   "pygments_lexer": "ipython3",
   "version": "3.7.6"
  }
 },
 "nbformat": 4,
 "nbformat_minor": 4
}
