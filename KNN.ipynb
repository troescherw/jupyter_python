{
 "cells": [
  {
   "cell_type": "markdown",
   "id": "a1527479",
   "metadata": {},
   "source": [
    "# Künstliche Neuronale Netze\n",
    "# mit Tensorflow / Keras\n",
    "## Beispiel 1: XOR-Verknüpfung\n",
    "\n",
    "Mit Hilfe eines KNNs soll die XOR-Verknüpfung nachgebildet werden:\n",
    "\n",
    "| X1 | X2 | y |\n",
    "|:--:|:--:|:-:|\n",
    "|  0 |  0 | 0 |\n",
    "|  0 |  1 | 1 |\n",
    "|  1 |  0 | 1 |\n",
    "|  1 |  1 | 0 |"
   ]
  },
  {
   "cell_type": "code",
   "execution_count": null,
   "id": "07709448",
   "metadata": {},
   "outputs": [],
   "source": [
    "import numpy as np\n",
    "from tensorflow.keras.optimizers import *\n",
    "from tensorflow.keras.models import *\n",
    "from tensorflow.keras.layers import *\n",
    "from tensorflow.keras.losses import *\n",
    "from tensorflow.keras.utils import *"
   ]
  },
  {
   "cell_type": "code",
   "execution_count": null,
   "id": "98bc12a8",
   "metadata": {},
   "outputs": [],
   "source": [
    "# Daten\n",
    "X = [[0,0],[0,1],[1,0],[1,1] ]\n",
    "y = [[0],  [1],  [1],  [0]]\n"
   ]
  },
  {
   "cell_type": "code",
   "execution_count": null,
   "id": "8884d18f",
   "metadata": {},
   "outputs": [],
   "source": [
    "model = Sequential()\n",
    "model.add(Dense(8, input_dim=2)) # Input-Layer\n",
    "model.add(Activation(\"relu\"))\n",
    "\n",
    "model.add(Dense(10)) # Hidden-Layer\n",
    "model.add(Activation(\"tanh\"))\n",
    "\n",
    "model.add(Dense(10)) # Hidden-Layer\n",
    "model.add(Activation(\"tanh\"))\n",
    "\n",
    "model.add(Dense(1)) # Output-Layer\n",
    "model.add(Activation(\"sigmoid\"))\n",
    "\n",
    "\n",
    "sgd = SGD(lr=0.1) # Stochastic Gradient Descent\n",
    "model.compile(loss=\"binary_crossentropy\", optimizer=sgd, metrics=\"accuracy\")\n",
    "\n",
    "# Für die Ausgabe der Trainingsinformationen verbose auf 2 setzen\n",
    "model.fit(X,y, epochs=100, verbose=0)"
   ]
  },
  {
   "cell_type": "code",
   "execution_count": null,
   "id": "5a6bb4c7",
   "metadata": {},
   "outputs": [],
   "source": [
    "(model.predict(X)>0.5).astype(int)"
   ]
  },
  {
   "cell_type": "code",
   "execution_count": null,
   "id": "dd26b61f",
   "metadata": {},
   "outputs": [],
   "source": [
    "model.summary()"
   ]
  },
  {
   "cell_type": "markdown",
   "id": "5a4810a0",
   "metadata": {},
   "source": [
    "##  Beispiel 2: Vorhersage Brustkrebs"
   ]
  },
  {
   "cell_type": "code",
   "execution_count": null,
   "id": "73199903",
   "metadata": {},
   "outputs": [],
   "source": [
    "from sklearn.datasets import load_breast_cancer\n",
    "from sklearn.model_selection import train_test_split\n",
    "\n",
    "data = load_breast_cancer()\n",
    "print(data.DESCR)"
   ]
  },
  {
   "cell_type": "code",
   "execution_count": null,
   "id": "84f4c9da",
   "metadata": {},
   "outputs": [],
   "source": [
    "# Aufteilen in Trainings- und Testdaten\n",
    "X = data.data\n",
    "y = data.target\n",
    "\n",
    "X_train, X_test, y_train, y_test = train_test_split(X,y,shuffle=True, test_size=0.3)"
   ]
  },
  {
   "cell_type": "code",
   "execution_count": null,
   "id": "f0f263ff",
   "metadata": {},
   "outputs": [],
   "source": [
    "# KNN erstellen und trainieren\n",
    "# Wir verwenden hier \"ADAM\" als Optimizer (Adaptive moment estimation)\n",
    "model2 = Sequential()\n",
    "model2.add(Dense(30, input_dim=X_train.shape[1])) # Input-Layer\n",
    "model2.add(Activation(\"relu\"))\n",
    "\n",
    "model2.add(Dense(50)) # Hidden-Layer\n",
    "model2.add(Activation(\"relu\"))\n",
    "\n",
    "model2.add(Dense(50)) # Hidden-Layer\n",
    "model2.add(Activation(\"relu\"))\n",
    "\n",
    "model2.add(Dense(50)) # Hidden-Layer\n",
    "model2.add(Activation(\"relu\"))\n",
    "\n",
    "\n",
    "model2.add(Dense(1)) # Output-Layer\n",
    "model2.add(Activation(\"sigmoid\"))\n",
    "\n",
    "model2.compile(loss=\"binary_crossentropy\", optimizer=Adam(lr=0.001), metrics=\"accuracy\")\n",
    "model2.fit(x=X_train,y=y_train, epochs=100, validation_data=(X_test, y_test), verbose=0)"
   ]
  },
  {
   "cell_type": "code",
   "execution_count": null,
   "id": "80947e52",
   "metadata": {},
   "outputs": [],
   "source": [
    "from sklearn.metrics import confusion_matrix, accuracy_score\n",
    "pred = (model2.predict(X_test)>0.5).astype(int)\n",
    "print(confusion_matrix(y_test, pred))\n",
    "print(accuracy_score(y_test, pred))\n"
   ]
  }
 ],
 "metadata": {
  "kernelspec": {
   "display_name": "Python 3",
   "language": "python",
   "name": "python3"
  },
  "language_info": {
   "codemirror_mode": {
    "name": "ipython",
    "version": 3
   },
   "file_extension": ".py",
   "mimetype": "text/x-python",
   "name": "python",
   "nbconvert_exporter": "python",
   "pygments_lexer": "ipython3",
   "version": "3.8.10"
  }
 },
 "nbformat": 4,
 "nbformat_minor": 5
}
