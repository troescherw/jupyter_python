{
 "cells": [
  {
   "cell_type": "markdown",
   "metadata": {},
   "source": [
    "# Agglomeratives Hierarchisches Linkage Average Clustering\n",
    "\n",
    "## Einführendes Beispiel\n",
    "Wir erstellen ein Pandas Dataframe mit einigen Zahlen (Merkmale der Objekte)."
   ]
  },
  {
   "cell_type": "code",
   "execution_count": 8,
   "metadata": {},
   "outputs": [
    {
     "data": {
      "text/html": [
       "<div>\n",
       "<style scoped>\n",
       "    .dataframe tbody tr th:only-of-type {\n",
       "        vertical-align: middle;\n",
       "    }\n",
       "\n",
       "    .dataframe tbody tr th {\n",
       "        vertical-align: top;\n",
       "    }\n",
       "\n",
       "    .dataframe thead th {\n",
       "        text-align: right;\n",
       "    }\n",
       "</style>\n",
       "<table border=\"1\" class=\"dataframe\">\n",
       "  <thead>\n",
       "    <tr style=\"text-align: right;\">\n",
       "      <th></th>\n",
       "      <th>Merkmal1</th>\n",
       "      <th>Merkmal2</th>\n",
       "    </tr>\n",
       "  </thead>\n",
       "  <tbody>\n",
       "    <tr>\n",
       "      <th>Objekt1</th>\n",
       "      <td>20</td>\n",
       "      <td>48</td>\n",
       "    </tr>\n",
       "    <tr>\n",
       "      <th>Objekt2</th>\n",
       "      <td>9</td>\n",
       "      <td>34</td>\n",
       "    </tr>\n",
       "    <tr>\n",
       "      <th>Objekt3</th>\n",
       "      <td>8</td>\n",
       "      <td>30</td>\n",
       "    </tr>\n",
       "    <tr>\n",
       "      <th>Objekt4</th>\n",
       "      <td>22</td>\n",
       "      <td>50</td>\n",
       "    </tr>\n",
       "    <tr>\n",
       "      <th>Objekt5</th>\n",
       "      <td>9</td>\n",
       "      <td>31</td>\n",
       "    </tr>\n",
       "    <tr>\n",
       "      <th>Objekt6</th>\n",
       "      <td>19</td>\n",
       "      <td>48</td>\n",
       "    </tr>\n",
       "  </tbody>\n",
       "</table>\n",
       "</div>"
      ],
      "text/plain": [
       "         Merkmal1  Merkmal2\n",
       "Objekt1        20        48\n",
       "Objekt2         9        34\n",
       "Objekt3         8        30\n",
       "Objekt4        22        50\n",
       "Objekt5         9        31\n",
       "Objekt6        19        48"
      ]
     },
     "execution_count": 8,
     "metadata": {},
     "output_type": "execute_result"
    }
   ],
   "source": [
    "import pandas as pd\n",
    "\n",
    "df = pd.DataFrame({\"Merkmal1\": [20,9,8,22,9,19],\n",
    "                   \"Merkmal2\": [48,34,30,50,31,48]},\n",
    "                 index = [\"Objekt1\", \"Objekt2\",\"Objekt3\", \"Objekt4\",\"Objekt5\", \"Objekt6\"])\n",
    "\n",
    "df"
   ]
  },
  {
   "cell_type": "markdown",
   "metadata": {},
   "source": [
    "Wichtig ist, die Daten zu standardisieren bzw. zu normalisieren. Hier normalisieren wir mit Hilfe der Methode *zscore*:"
   ]
  },
  {
   "cell_type": "code",
   "execution_count": 10,
   "metadata": {},
   "outputs": [
    {
     "data": {
      "text/plain": [
       "array([[ 0.93077841,  0.90975316],\n",
       "       [-0.93077841, -0.71618866],\n",
       "       [-1.10001085, -1.18074346],\n",
       "       [ 1.26924329,  1.14203056],\n",
       "       [-0.93077841, -1.06460476],\n",
       "       [ 0.76154597,  0.90975316]])"
      ]
     },
     "execution_count": 10,
     "metadata": {},
     "output_type": "execute_result"
    }
   ],
   "source": [
    "from scipy.stats import zscore\n",
    "df_std = zscore(df)\n",
    "df_std"
   ]
  },
  {
   "cell_type": "markdown",
   "metadata": {},
   "source": [
    "Nun clustern wir die Daten mit derr Funktion *linkage*"
   ]
  },
  {
   "cell_type": "code",
   "execution_count": 17,
   "metadata": {},
   "outputs": [
    {
     "data": {
      "text/plain": [
       "array([[0.        , 5.        , 0.16923244, 2.        ],\n",
       "       [2.        , 4.        , 0.20525062, 2.        ],\n",
       "       [1.        , 7.        , 0.42141787, 3.        ],\n",
       "       [3.        , 6.        , 0.4844053 , 3.        ],\n",
       "       [8.        , 9.        , 2.79553817, 6.        ]])"
      ]
     },
     "execution_count": 17,
     "metadata": {},
     "output_type": "execute_result"
    }
   ],
   "source": [
    "from scipy.cluster.hierarchy import linkage\n",
    "df_dend = linkage(df_std, \"average\")\n",
    "df_dend"
   ]
  },
  {
   "cell_type": "markdown",
   "metadata": {},
   "source": [
    "Schließlich können wir die Hierarchie plotten."
   ]
  },
  {
   "cell_type": "code",
   "execution_count": 38,
   "metadata": {},
   "outputs": [
    {
     "data": {
      "image/png": "[encoded data removed]",
      "text/plain": [
       "<Figure size 432x288 with 1 Axes>"
      ]
     },
     "metadata": {
      "needs_background": "light"
     },
     "output_type": "display_data"
    }
   ],
   "source": [
    "%matplotlib inline\n",
    "from scipy.cluster.hierarchy import dendrogram\n",
    "__=dendrogram(df_dend, labels = df.index)"
   ]
  },
  {
   "cell_type": "markdown",
   "metadata": {},
   "source": [
    "## Beispiel mit dem Datensatz cars"
   ]
  },
  {
   "cell_type": "code",
   "execution_count": 35,
   "metadata": {},
   "outputs": [
    {
     "data": {
      "text/html": [
       "<div>\n",
       "<style scoped>\n",
       "    .dataframe tbody tr th:only-of-type {\n",
       "        vertical-align: middle;\n",
       "    }\n",
       "\n",
       "    .dataframe tbody tr th {\n",
       "        vertical-align: top;\n",
       "    }\n",
       "\n",
       "    .dataframe thead th {\n",
       "        text-align: right;\n",
       "    }\n",
       "</style>\n",
       "<table border=\"1\" class=\"dataframe\">\n",
       "  <thead>\n",
       "    <tr style=\"text-align: right;\">\n",
       "      <th></th>\n",
       "      <th>mpg</th>\n",
       "      <th>wt</th>\n",
       "    </tr>\n",
       "  </thead>\n",
       "  <tbody>\n",
       "    <tr>\n",
       "      <th>Mazda RX4</th>\n",
       "      <td>21.0</td>\n",
       "      <td>2.620</td>\n",
       "    </tr>\n",
       "    <tr>\n",
       "      <th>Mazda RX4 Wag</th>\n",
       "      <td>21.0</td>\n",
       "      <td>2.875</td>\n",
       "    </tr>\n",
       "    <tr>\n",
       "      <th>Datsun 710</th>\n",
       "      <td>22.8</td>\n",
       "      <td>2.320</td>\n",
       "    </tr>\n",
       "    <tr>\n",
       "      <th>Hornet 4 Drive</th>\n",
       "      <td>21.4</td>\n",
       "      <td>3.215</td>\n",
       "    </tr>\n",
       "    <tr>\n",
       "      <th>Hornet Sportabout</th>\n",
       "      <td>18.7</td>\n",
       "      <td>3.440</td>\n",
       "    </tr>\n",
       "  </tbody>\n",
       "</table>\n",
       "</div>"
      ],
      "text/plain": [
       "                    mpg     wt\n",
       "Mazda RX4          21.0  2.620\n",
       "Mazda RX4 Wag      21.0  2.875\n",
       "Datsun 710         22.8  2.320\n",
       "Hornet 4 Drive     21.4  3.215\n",
       "Hornet Sportabout  18.7  3.440"
      ]
     },
     "execution_count": 35,
     "metadata": {},
     "output_type": "execute_result"
    }
   ],
   "source": [
    "import pandas as pd\n",
    "\n",
    "url = \"https://raw.githubusercontent.com/troescherw/datasets/master/cars.csv\"\n",
    "cars = pd.read_csv(url, delimiter=\";\", usecols=[0,1,6], index_col=0)\n",
    "cars.head()"
   ]
  },
  {
   "cell_type": "code",
   "execution_count": 64,
   "metadata": {},
   "outputs": [
    {
     "data": {
      "image/png": "[encoded data removed]",
      "text/plain": [
       "<Figure size 432x288 with 1 Axes>"
      ]
     },
     "metadata": {
      "needs_background": "light"
     },
     "output_type": "display_data"
    }
   ],
   "source": [
    "%matplotlib inline\n",
    "import matplotlib.pyplot as plt\n",
    "from scipy.stats import zscore\n",
    "from scipy.cluster.hierarchy import linkage, dendrogram\n",
    "cars_std =zscore(cars)\n",
    "cars_dend = linkage(cars_std, \"average\")\n",
    "\n",
    "\n",
    "__ = dendrogram(cars_dend, labels=cars.index, orientation=\"right\")\n",
    "plt.title(\"Dendrogramm für Autos\")\n",
    "plt.show()\n"
   ]
  },
  {
   "cell_type": "markdown",
   "metadata": {},
   "source": [
    "## Weiteres Beispiel mit Fahrzeugdaten\n",
    "Um nochmals zu verdeutlichen, dass hier nicht-gelabelte Daten zusammengefasst (geclustert) werden, erstellen wir Beispieldaten mit Fahrzeugen. Der Algorithmus *weiß* aber nicht, ob es sich um Fahrräder, Autos oder sonstige Fahrzeuge handelt. Die Objekte werden anhand ihrer  Eigenschaften geclustert!"
   ]
  },
  {
   "cell_type": "code",
   "execution_count": 88,
   "metadata": {},
   "outputs": [
    {
     "data": {
      "text/html": [
       "<div>\n",
       "<style scoped>\n",
       "    .dataframe tbody tr th:only-of-type {\n",
       "        vertical-align: middle;\n",
       "    }\n",
       "\n",
       "    .dataframe tbody tr th {\n",
       "        vertical-align: top;\n",
       "    }\n",
       "\n",
       "    .dataframe thead th {\n",
       "        text-align: right;\n",
       "    }\n",
       "</style>\n",
       "<table border=\"1\" class=\"dataframe\">\n",
       "  <thead>\n",
       "    <tr style=\"text-align: right;\">\n",
       "      <th></th>\n",
       "      <th>FahrzeugNr</th>\n",
       "      <th>AnzahlRaeder</th>\n",
       "      <th>Leistung</th>\n",
       "      <th>Kraftstoff</th>\n",
       "      <th>Gewicht</th>\n",
       "    </tr>\n",
       "    <tr>\n",
       "      <th>Bezeichnung</th>\n",
       "      <th></th>\n",
       "      <th></th>\n",
       "      <th></th>\n",
       "      <th></th>\n",
       "      <th></th>\n",
       "    </tr>\n",
       "  </thead>\n",
       "  <tbody>\n",
       "    <tr>\n",
       "      <th>Fahrrad1</th>\n",
       "      <td>1</td>\n",
       "      <td>2</td>\n",
       "      <td>0.00</td>\n",
       "      <td>Muskel</td>\n",
       "      <td>5.50</td>\n",
       "    </tr>\n",
       "    <tr>\n",
       "      <th>Auto1</th>\n",
       "      <td>2</td>\n",
       "      <td>4</td>\n",
       "      <td>130.00</td>\n",
       "      <td>Benzin</td>\n",
       "      <td>1200.00</td>\n",
       "    </tr>\n",
       "    <tr>\n",
       "      <th>LKW1</th>\n",
       "      <td>3</td>\n",
       "      <td>4</td>\n",
       "      <td>250.00</td>\n",
       "      <td>Diesel</td>\n",
       "      <td>6000.00</td>\n",
       "    </tr>\n",
       "    <tr>\n",
       "      <th>EBike1</th>\n",
       "      <td>4</td>\n",
       "      <td>2</td>\n",
       "      <td>0.35</td>\n",
       "      <td>Strom</td>\n",
       "      <td>7.50</td>\n",
       "    </tr>\n",
       "    <tr>\n",
       "      <th>Auto2</th>\n",
       "      <td>5</td>\n",
       "      <td>4</td>\n",
       "      <td>140.00</td>\n",
       "      <td>Benzin</td>\n",
       "      <td>1220.00</td>\n",
       "    </tr>\n",
       "    <tr>\n",
       "      <th>Auto3</th>\n",
       "      <td>6</td>\n",
       "      <td>4</td>\n",
       "      <td>120.00</td>\n",
       "      <td>Benzin</td>\n",
       "      <td>1215.00</td>\n",
       "    </tr>\n",
       "    <tr>\n",
       "      <th>Fahrrad3</th>\n",
       "      <td>7</td>\n",
       "      <td>2</td>\n",
       "      <td>0.00</td>\n",
       "      <td>Muskel</td>\n",
       "      <td>6.15</td>\n",
       "    </tr>\n",
       "    <tr>\n",
       "      <th>LKW2</th>\n",
       "      <td>8</td>\n",
       "      <td>4</td>\n",
       "      <td>320.00</td>\n",
       "      <td>Diesel</td>\n",
       "      <td>7100.00</td>\n",
       "    </tr>\n",
       "    <tr>\n",
       "      <th>Auto4</th>\n",
       "      <td>9</td>\n",
       "      <td>4</td>\n",
       "      <td>128.00</td>\n",
       "      <td>Benzin</td>\n",
       "      <td>1150.00</td>\n",
       "    </tr>\n",
       "    <tr>\n",
       "      <th>Fahrrad4</th>\n",
       "      <td>10</td>\n",
       "      <td>2</td>\n",
       "      <td>0.00</td>\n",
       "      <td>Muskel</td>\n",
       "      <td>6.90</td>\n",
       "    </tr>\n",
       "    <tr>\n",
       "      <th>Fahrrad5</th>\n",
       "      <td>11</td>\n",
       "      <td>2</td>\n",
       "      <td>0.00</td>\n",
       "      <td>Muskel</td>\n",
       "      <td>9.20</td>\n",
       "    </tr>\n",
       "    <tr>\n",
       "      <th>Auto5</th>\n",
       "      <td>12</td>\n",
       "      <td>4</td>\n",
       "      <td>130.00</td>\n",
       "      <td>Benzin</td>\n",
       "      <td>1160.00</td>\n",
       "    </tr>\n",
       "    <tr>\n",
       "      <th>LKW3</th>\n",
       "      <td>13</td>\n",
       "      <td>4</td>\n",
       "      <td>320.00</td>\n",
       "      <td>Diesel</td>\n",
       "      <td>6500.00</td>\n",
       "    </tr>\n",
       "    <tr>\n",
       "      <th>EBike2</th>\n",
       "      <td>14</td>\n",
       "      <td>2</td>\n",
       "      <td>0.40</td>\n",
       "      <td>Strom</td>\n",
       "      <td>10.10</td>\n",
       "    </tr>\n",
       "  </tbody>\n",
       "</table>\n",
       "</div>"
      ],
      "text/plain": [
       "             FahrzeugNr  AnzahlRaeder  Leistung Kraftstoff  Gewicht\n",
       "Bezeichnung                                                        \n",
       "Fahrrad1              1             2      0.00     Muskel     5.50\n",
       "Auto1                 2             4    130.00     Benzin  1200.00\n",
       "LKW1                  3             4    250.00     Diesel  6000.00\n",
       "EBike1                4             2      0.35      Strom     7.50\n",
       "Auto2                 5             4    140.00     Benzin  1220.00\n",
       "Auto3                 6             4    120.00     Benzin  1215.00\n",
       "Fahrrad3              7             2      0.00     Muskel     6.15\n",
       "LKW2                  8             4    320.00     Diesel  7100.00\n",
       "Auto4                 9             4    128.00     Benzin  1150.00\n",
       "Fahrrad4             10             2      0.00     Muskel     6.90\n",
       "Fahrrad5             11             2      0.00     Muskel     9.20\n",
       "Auto5                12             4    130.00     Benzin  1160.00\n",
       "LKW3                 13             4    320.00     Diesel  6500.00\n",
       "EBike2               14             2      0.40      Strom    10.10"
      ]
     },
     "execution_count": 88,
     "metadata": {},
     "output_type": "execute_result"
    }
   ],
   "source": [
    "import pandas as pd\n",
    "from scipy.cluster.hierarchy import linkage, dendrogram\n",
    "from scipy.stats import zscore\n",
    "from sklearn import preprocessing\n",
    "import numpy as np\n",
    "\n",
    "url = \"https://raw.githubusercontent.com/troescherw/datasets/master/Fahrzeuge.csv\"\n",
    "fahrzeuge = pd.read_csv(url, delimiter=\";\", index_col=5)\n",
    "fahrzeuge"
   ]
  },
  {
   "cell_type": "code",
   "execution_count": 89,
   "metadata": {},
   "outputs": [
    {
     "data": {
      "text/html": [
       "<div>\n",
       "<style scoped>\n",
       "    .dataframe tbody tr th:only-of-type {\n",
       "        vertical-align: middle;\n",
       "    }\n",
       "\n",
       "    .dataframe tbody tr th {\n",
       "        vertical-align: top;\n",
       "    }\n",
       "\n",
       "    .dataframe thead th {\n",
       "        text-align: right;\n",
       "    }\n",
       "</style>\n",
       "<table border=\"1\" class=\"dataframe\">\n",
       "  <thead>\n",
       "    <tr style=\"text-align: right;\">\n",
       "      <th></th>\n",
       "      <th>FahrzeugNr</th>\n",
       "      <th>AnzahlRaeder</th>\n",
       "      <th>Leistung</th>\n",
       "      <th>Kraftstoff</th>\n",
       "    </tr>\n",
       "    <tr>\n",
       "      <th>Bezeichnung</th>\n",
       "      <th></th>\n",
       "      <th></th>\n",
       "      <th></th>\n",
       "      <th></th>\n",
       "    </tr>\n",
       "  </thead>\n",
       "  <tbody>\n",
       "    <tr>\n",
       "      <th>Auto1</th>\n",
       "      <td>2</td>\n",
       "      <td>4</td>\n",
       "      <td>130.00</td>\n",
       "      <td>Benzin</td>\n",
       "    </tr>\n",
       "    <tr>\n",
       "      <th>LKW1</th>\n",
       "      <td>3</td>\n",
       "      <td>4</td>\n",
       "      <td>250.00</td>\n",
       "      <td>Diesel</td>\n",
       "    </tr>\n",
       "    <tr>\n",
       "      <th>EBike1</th>\n",
       "      <td>4</td>\n",
       "      <td>2</td>\n",
       "      <td>0.35</td>\n",
       "      <td>Strom</td>\n",
       "    </tr>\n",
       "    <tr>\n",
       "      <th>Auto2</th>\n",
       "      <td>5</td>\n",
       "      <td>4</td>\n",
       "      <td>140.00</td>\n",
       "      <td>Benzin</td>\n",
       "    </tr>\n",
       "    <tr>\n",
       "      <th>Auto3</th>\n",
       "      <td>6</td>\n",
       "      <td>4</td>\n",
       "      <td>120.00</td>\n",
       "      <td>Benzin</td>\n",
       "    </tr>\n",
       "  </tbody>\n",
       "</table>\n",
       "</div>"
      ],
      "text/plain": [
       "             FahrzeugNr  AnzahlRaeder  Leistung Kraftstoff\n",
       "Bezeichnung                                               \n",
       "Auto1                 2             4    130.00     Benzin\n",
       "LKW1                  3             4    250.00     Diesel\n",
       "EBike1                4             2      0.35      Strom\n",
       "Auto2                 5             4    140.00     Benzin\n",
       "Auto3                 6             4    120.00     Benzin"
      ]
     },
     "execution_count": 89,
     "metadata": {},
     "output_type": "execute_result"
    }
   ],
   "source": [
    "df = fahrzeuge.iloc[1:, :4]\n",
    "df.head()"
   ]
  },
  {
   "cell_type": "code",
   "execution_count": 94,
   "metadata": {},
   "outputs": [],
   "source": [
    "df = pd.get_dummies(df)"
   ]
  },
  {
   "cell_type": "code",
   "execution_count": 95,
   "metadata": {},
   "outputs": [
    {
     "data": {
      "image/png": "[encoded data removed]",
      "text/plain": [
       "<Figure size 432x288 with 1 Axes>"
      ]
     },
     "metadata": {
      "needs_background": "light"
     },
     "output_type": "display_data"
    }
   ],
   "source": [
    "df= zscore(df)\n",
    "df_dend = linkage(df, \"average\")\n",
    "__=dendrogram(df_dend, labels=fahrzeuge.index, orientation=\"right\")"
   ]
  },
  {
   "cell_type": "markdown",
   "metadata": {},
   "source": [
    "-------\n",
    "## Dendrogramm mit dem IRIS-Datensatz\n",
    "Erstellen wir noch ein Dendrogramm mit dem IRIS-Datensatz:"
   ]
  },
  {
   "cell_type": "code",
   "execution_count": 131,
   "metadata": {},
   "outputs": [
    {
     "data": {
      "image/png": "[encoded data removed]",
      "text/plain": [
       "<Figure size 1080x1080 with 1 Axes>"
      ]
     },
     "metadata": {
      "needs_background": "light"
     },
     "output_type": "display_data"
    }
   ],
   "source": [
    "%matplotlib inline\n",
    "import pandas as pd\n",
    "from scipy.cluster.hierarchy import linkage, dendrogram\n",
    "from scipy.stats import zscore\n",
    "from sklearn import preprocessing\n",
    "import numpy as np\n",
    "\n",
    "url = \"https://raw.githubusercontent.com/troescherw/datasets/master/iris.csv\"\n",
    "df = pd.read_csv(url, delimiter=\";\", index_col=4, usecols=[0,1,2,3,4])\n",
    "iris_dend = linkage(df, \"average\")\n",
    "\n",
    "plt.rcParams['figure.figsize'] = [15, 15]\n",
    "__=dendrogram(iris_dend, labels=df.index, orientation=\"right\")\n",
    "\n",
    "plt.show()"
   ]
  },
  {
   "cell_type": "markdown",
   "metadata": {},
   "source": [
    "Auch hier stellen wir wieder fest, dass sich die Species Setosa deutlich von den anderen beiden Spezies unterscheidet!"
   ]
  },
  {
   "cell_type": "code",
   "execution_count": null,
   "metadata": {},
   "outputs": [],
   "source": []
  }
 ],
 "metadata": {
  "kernelspec": {
   "display_name": "Python 3",
   "language": "python",
   "name": "python3"
  },
  "language_info": {
   "codemirror_mode": {
    "name": "ipython",
    "version": 3
   },
   "file_extension": ".py",
   "mimetype": "text/x-python",
   "name": "python",
   "nbconvert_exporter": "python",
   "pygments_lexer": "ipython3",
   "version": "3.7.6"
  }
 },
 "nbformat": 4,
 "nbformat_minor": 4
}
