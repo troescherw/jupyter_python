{
 "cells": [
  {
   "cell_type": "markdown",
   "metadata": {},
   "source": [
    "# Agglomeratives Hierarchisches Linkage Average Clustering\n",
    "\n",
    "## Einführendes Beispiel\n",
    "Wir erstellen ein Pandas Dataframe mit einigen Zahlen (Merkmale der Objekte)."
   ]
  },
  {
   "cell_type": "code",
   "execution_count": null,
   "metadata": {},
   "outputs": [],
   "source": [
    "import pandas as pd\n",
    "\n",
    "df = pd.DataFrame({\"Merkmal1\": [20,9,8,22,9,19],\n",
    "                   \"Merkmal2\": [48,34,30,50,31,48]},\n",
    "                 index = [\"Objekt1\", \"Objekt2\",\"Objekt3\", \"Objekt4\",\"Objekt5\", \"Objekt6\"])\n",
    "\n",
    "df"
   ]
  },
  {
   "cell_type": "markdown",
   "metadata": {},
   "source": [
    "Wichtig ist, die Daten zu standardisieren bzw. zu normalisieren. Hier normalisieren wir mit Hilfe der Methode *zscore*:"
   ]
  },
  {
   "cell_type": "code",
   "execution_count": null,
   "metadata": {},
   "outputs": [],
   "source": [
    "from scipy.stats import zscore\n",
    "df_std = zscore(df)\n",
    "df_std"
   ]
  },
  {
   "cell_type": "markdown",
   "metadata": {},
   "source": [
    "Nun clustern wir die Daten mit derr Funktion *linkage*"
   ]
  },
  {
   "cell_type": "code",
   "execution_count": null,
   "metadata": {},
   "outputs": [],
   "source": [
    "from scipy.cluster.hierarchy import linkage\n",
    "df_dend = linkage(df_std, \"average\")\n",
    "df_dend"
   ]
  },
  {
   "cell_type": "markdown",
   "metadata": {},
   "source": [
    "Schließlich können wir die Hierarchie plotten."
   ]
  },
  {
   "cell_type": "code",
   "execution_count": null,
   "metadata": {},
   "outputs": [],
   "source": [
    "%matplotlib inline\n",
    "from scipy.cluster.hierarchy import dendrogram\n",
    "__=dendrogram(df_dend, labels = df.index)"
   ]
  },
  {
   "cell_type": "markdown",
   "metadata": {},
   "source": [
    "## Beispiel mit dem Datensatz cars"
   ]
  },
  {
   "cell_type": "code",
   "execution_count": null,
   "metadata": {},
   "outputs": [],
   "source": [
    "import pandas as pd\n",
    "\n",
    "url = \"https://raw.githubusercontent.com/troescherw/datasets/master/cars.csv\"\n",
    "cars = pd.read_csv(url, delimiter=\";\", usecols=[0,1,6], index_col=0)\n",
    "cars.head()"
   ]
  },
  {
   "cell_type": "code",
   "execution_count": null,
   "metadata": {},
   "outputs": [],
   "source": [
    "%matplotlib inline\n",
    "import matplotlib.pyplot as plt\n",
    "from scipy.stats import zscore\n",
    "from scipy.cluster.hierarchy import linkage, dendrogram\n",
    "cars_std =zscore(cars)\n",
    "cars_dend = linkage(cars_std, \"average\")\n",
    "\n",
    "\n",
    "__ = dendrogram(cars_dend, labels=cars.index, orientation=\"right\")\n",
    "plt.title(\"Dendrogramm für Autos\")\n",
    "plt.show()\n"
   ]
  },
  {
   "cell_type": "markdown",
   "metadata": {},
   "source": [
    "## Weiteres Beispiel mit Fahrzeugdaten\n",
    "Um nochmals zu verdeutlichen, dass hier nicht-gelabelte Daten zusammengefasst (geclustert) werden, erstellen wir Beispieldaten mit Fahrzeugen. Der Algorithmus *weiß* aber nicht, ob es sich um Fahrräder, Autos oder sonstige Fahrzeuge handelt. Die Objekte werden anhand ihrer  Eigenschaften geclustert!"
   ]
  },
  {
   "cell_type": "code",
   "execution_count": null,
   "metadata": {},
   "outputs": [],
   "source": [
    "import pandas as pd\n",
    "from scipy.cluster.hierarchy import linkage, dendrogram\n",
    "from scipy.stats import zscore\n",
    "from sklearn import preprocessing\n",
    "import numpy as np\n",
    "\n",
    "url = \"https://raw.githubusercontent.com/troescherw/datasets/master/Fahrzeuge.csv\"\n",
    "fahrzeuge = pd.read_csv(url, delimiter=\";\", index_col=5)\n",
    "fahrzeuge"
   ]
  },
  {
   "cell_type": "code",
   "execution_count": null,
   "metadata": {},
   "outputs": [],
   "source": [
    "df = fahrzeuge.iloc[:, 1:5]\n",
    "df"
   ]
  },
  {
   "cell_type": "code",
   "execution_count": null,
   "metadata": {},
   "outputs": [],
   "source": [
    "df = pd.get_dummies(df)\n",
    "df.head()"
   ]
  },
  {
   "cell_type": "code",
   "execution_count": null,
   "metadata": {},
   "outputs": [],
   "source": [
    "df= zscore(df)\n",
    "df_dend = linkage(df, \"average\")\n",
    "plt.rcParams['figure.figsize'] = [15, 15]\n",
    "__=dendrogram(df_dend, labels=fahrzeuge.index, orientation=\"right\")"
   ]
  },
  {
   "cell_type": "markdown",
   "metadata": {},
   "source": [
    "-------\n",
    "## Dendrogramm mit dem IRIS-Datensatz\n",
    "Erstellen wir noch ein Dendrogramm mit dem IRIS-Datensatz:"
   ]
  },
  {
   "cell_type": "code",
   "execution_count": null,
   "metadata": {},
   "outputs": [],
   "source": [
    "%matplotlib inline\n",
    "import matplotlib.pyplot as plt\n",
    "import pandas as pd\n",
    "from scipy.cluster.hierarchy import linkage, dendrogram\n",
    "from scipy.stats import zscore\n",
    "from sklearn import preprocessing\n",
    "import numpy as np\n",
    "\n",
    "url = \"https://raw.githubusercontent.com/troescherw/datasets/master/iris.csv\"\n",
    "df = pd.read_csv(url, delimiter=\";\", index_col=4, usecols=[0,1,2,3,4])\n",
    "df_scaled = zscore(df)\n",
    "iris_dend = linkage(df_scaled, \"average\")\n",
    "\n",
    "plt.rcParams['figure.figsize'] = [15, 15]\n",
    "__=dendrogram(iris_dend, labels=df.index, orientation=\"right\")\n",
    "\n",
    "plt.show()"
   ]
  },
  {
   "cell_type": "markdown",
   "metadata": {},
   "source": [
    "Auch hier stellen wir wieder fest, dass sich die Species Setosa deutlich von den anderen beiden Spezies unterscheidet!"
   ]
  },
  {
   "cell_type": "code",
   "execution_count": null,
   "metadata": {},
   "outputs": [],
   "source": []
  },
  {
   "cell_type": "code",
   "execution_count": null,
   "metadata": {},
   "outputs": [],
   "source": []
  }
 ],
 "metadata": {
  "kernelspec": {
   "display_name": "Python 3",
   "language": "python",
   "name": "python3"
  },
  "language_info": {
   "codemirror_mode": {
    "name": "ipython",
    "version": 3
   },
   "file_extension": ".py",
   "mimetype": "text/x-python",
   "name": "python",
   "nbconvert_exporter": "python",
   "pygments_lexer": "ipython3",
   "version": "3.7.7"
  }
 },
 "nbformat": 4,
 "nbformat_minor": 4
}
