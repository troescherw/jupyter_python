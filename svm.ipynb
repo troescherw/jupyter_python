{
 "cells": [
  {
   "cell_type": "markdown",
   "id": "f825f827",
   "metadata": {},
   "source": [
    "# Support Vector Machines (SVM)"
   ]
  },
  {
   "cell_type": "code",
   "execution_count": null,
   "id": "5b563b16",
   "metadata": {},
   "outputs": [],
   "source": [
    "# Die Datei polot_decision_boundaries.py muss im gleichen Verzeichnis liegen wie diese Notebook-Datei!\n",
    "from plot_decision_boundaries import plot_decision_boundaries\n",
    "from sklearn.svm import SVC\n"
   ]
  },
  {
   "cell_type": "markdown",
   "id": "3533de3a",
   "metadata": {},
   "source": [
    "## Beispiel 1 mit künstlich erzeugten Daten"
   ]
  },
  {
   "cell_type": "code",
   "execution_count": null,
   "id": "2db0ad47",
   "metadata": {},
   "outputs": [],
   "source": [
    "%matplotlib inline\n",
    "from sklearn.datasets import make_blobs\n",
    "from sklearn.model_selection import train_test_split\n",
    "import matplotlib.pyplot as plt\n",
    "\n",
    "X, y = make_blobs(n_samples=500, centers=2, n_features=2, cluster_std=3, random_state=42)\n",
    "\n",
    "plt.scatter(X[:,0], X[:,1], c=y)\n",
    "plt.show()"
   ]
  },
  {
   "cell_type": "code",
   "execution_count": null,
   "id": "89aee6e8",
   "metadata": {},
   "outputs": [],
   "source": [
    "%matplotlib inline\n",
    "plot_decision_boundaries(X, y, SVC, kernel=\"poly\", degree=3)"
   ]
  },
  {
   "cell_type": "code",
   "execution_count": null,
   "id": "ca9840d8",
   "metadata": {},
   "outputs": [],
   "source": [
    "X_train, X_test, y_train, y_test = train_test_split(X,y,test_size=0.3, random_state=42, shuffle=True)\n",
    "model_lin = SVC(kernel=\"linear\").fit(X_train, y_train)\n",
    "print(model_lin.score(X_test, y_test))"
   ]
  },
  {
   "cell_type": "code",
   "execution_count": null,
   "id": "1f33b3b1",
   "metadata": {},
   "outputs": [],
   "source": [
    "model_poly = SVC(kernel=\"poly\", degree=3).fit(X_train, y_train)\n",
    "print(model_poly.score(X_test, y_test))"
   ]
  },
  {
   "cell_type": "markdown",
   "id": "489d680c",
   "metadata": {},
   "source": [
    "## Hyperparameter\n",
    "Die wichtigsten:\n",
    "\n",
    "* **kernel**: ‘linear’, ‘poly’, ‘rbf’, ‘sigmoid’\n",
    "* **poly**: Bei Kernel \"poly\" der Grad\n",
    "* **C**: Regularisierungsparameter(\"Penalty\"). Wirkt ggf. Overfitting entgegen. Hoher Wert: \"Harte\" Grenze, kleiner Wert: \"Weiche\" Grenze\n",
    "* **gamma**: {‘scale’, ‘auto’} or float. Wie groß der Einfluss weiter entfernter Punkte ist. Großer Wert: Punkte mit größerem Abstand werden stärker berücksichtigt (näher liegende dafür weniger stark)."
   ]
  },
  {
   "cell_type": "code",
   "execution_count": null,
   "id": "0a298f50",
   "metadata": {},
   "outputs": [],
   "source": [
    "# Klassischer Fall von Overfitting:\n",
    "\n",
    "X, y = make_blobs(n_samples=500, centers=3, n_features=3, cluster_std=3, random_state=42)\n",
    "plot_decision_boundaries(X, y, SVC, kernel=\"rbf\", C=10, gamma=5)"
   ]
  },
  {
   "cell_type": "markdown",
   "id": "fe6b5d40",
   "metadata": {},
   "source": [
    "## Beispiel: Ziffernerkennung MNIST-Datensatz\n",
    "Wir wollen nun mit Hilfe einer SVM handschriftlich geschriebenen Ziffern klassifizieren. Wir verwenden die K-Fold-Cross-Validation im Zusammenhang mit einer Grid-Search, um verschiedene Hyperparameter zu testen. Da die Parameter C und Gamma Fließkommazahlen sind verwenden wir hier die *RandomizedSearchCV*-Klasse."
   ]
  },
  {
   "cell_type": "code",
   "execution_count": null,
   "id": "96299f36",
   "metadata": {},
   "outputs": [],
   "source": [
    "from sklearn.model_selection import RandomizedSearchCV\n",
    "\n",
    "from sklearn.datasets import load_digits\n",
    "import numpy as np\n",
    "\n",
    "data = load_digits()\n",
    "X, y = data.data, data.target\n",
    "\n",
    "X_train, X_test, y_train, y_test = train_test_split(X, y, test_size=0.3, random_state=42, shuffle=True)\n",
    "\n",
    "parameter_grid = {\"kernel\" : [\"linear\", \"poly\", \"rbf\"],\n",
    "                 \"C\": np.arange(2, 10, 2),\n",
    "                 \"gamma\": np.arange(0.1, 2, 0.2)}\n",
    "\n",
    "\n",
    "grid = RandomizedSearchCV(SVC(), param_distributions = parameter_grid, n_iter=10, scoring=\"accuracy\",\n",
    "                          n_jobs=-1, verbose=3, cv=10)\n",
    "grid.fit(X_train, y_train)\n",
    "print(grid.best_params_)\n",
    "\n",
    "model = SVC(kernel=\"poly\", gamma=1.7, C=4).fit(X_train, y_train)\n",
    "print(model.score(X_test, y_test))"
   ]
  }
 ],
 "metadata": {
  "kernelspec": {
   "display_name": "Python 3",
   "language": "python",
   "name": "python3"
  },
  "language_info": {
   "codemirror_mode": {
    "name": "ipython",
    "version": 3
   },
   "file_extension": ".py",
   "mimetype": "text/x-python",
   "name": "python",
   "nbconvert_exporter": "python",
   "pygments_lexer": "ipython3",
   "version": "3.8.10"
  }
 },
 "nbformat": 4,
 "nbformat_minor": 5
}
