{
 "cells": [
  {
   "cell_type": "markdown",
   "id": "6d3b15a4-f45c-4a6d-b94b-23b2aaf7e19d",
   "metadata": {},
   "source": [
    "# Einführung Statistik\n",
    "\n",
    "Dieses Jupyter-Notebook enthält die Python-Programme aus dem Skript *Einführung Statistik*.\n",
    "\n",
    "## Deskiptive Statistik\n",
    "### Mittelwert"
   ]
  },
  {
   "cell_type": "code",
   "execution_count": 1,
   "id": "f69fcded-f531-4317-b011-ec6c78296b44",
   "metadata": {},
   "outputs": [
    {
     "name": "stdout",
     "output_type": "stream",
     "text": [
      "10.923076923076923\n"
     ]
    }
   ],
   "source": [
    "import numpy as np\n",
    "\n",
    "data = np.array([1,2,4,5,7,9,11,13,15,16,19,19,21])\n",
    "x_quer = data.mean()\n",
    "print(x_quer)"
   ]
  },
  {
   "cell_type": "markdown",
   "id": "ee3500fe-63a6-43ce-a79c-494a894dcf3a",
   "metadata": {},
   "source": [
    "### Median"
   ]
  },
  {
   "cell_type": "code",
   "execution_count": 2,
   "id": "4af563ad-6d24-407c-afd9-adf4cf1b738a",
   "metadata": {},
   "outputs": [
    {
     "name": "stdout",
     "output_type": "stream",
     "text": [
      "11.0\n"
     ]
    }
   ],
   "source": [
    "import numpy as np\n",
    "\n",
    "data = np.array([1,2,4,5,7,9,11,13,15,16,19,19,21])\n",
    "x_tilde = np.median(data)\n",
    "print(x_tilde)"
   ]
  },
  {
   "cell_type": "markdown",
   "id": "ddbc5f5c-29b2-422d-af34-448e7dd30eed",
   "metadata": {},
   "source": [
    "### Quantile"
   ]
  },
  {
   "cell_type": "code",
   "execution_count": 3,
   "id": "01e99ada-5610-4125-ad88-6567f51f6ed5",
   "metadata": {},
   "outputs": [
    {
     "name": "stdout",
     "output_type": "stream",
     "text": [
      "Numpy-Version muss mindestens 1.22 sein\n",
      "1.21.5\n"
     ]
    }
   ],
   "source": [
    "import numpy as np\n",
    "# Falls Fehlermeldungen: Änderungen beim Argument \"method\" in dieser Funktion erst ab Numpy Version 1.22\n",
    "\n",
    "data = np.array([1,2,4,5,7,9,11,13,15,16,19,19,21])\n",
    "p = 0.7\n",
    "\n",
    "if np.version.version >= \"1.22\":\n",
    "    x_p_groesser = np.quantile(data, p, method=\"higher\")\n",
    "    x_p_gleich = np.quantile(data, p, method=\"nearest\")\n",
    "    x_p_interpol = np.quantile(data, p, method=\"interpolated_inverted_cdf\")\n",
    "\n",
    "    print(x_p_groesser)\n",
    "    print(x_p_gleich)\n",
    "    print(x_p_interpol)\n",
    "else:\n",
    "    print(\"Numpy-Version muss mindestens 1.22 sein\")\n",
    "    print(np.version.version)"
   ]
  },
  {
   "cell_type": "markdown",
   "id": "b5cb6934-6b6b-4d14-9784-aba2f655b22a",
   "metadata": {},
   "source": [
    "### Varianz"
   ]
  },
  {
   "cell_type": "code",
   "execution_count": 4,
   "id": "a42c09f3-c840-4e3e-98fd-cd9b192e2b39",
   "metadata": {},
   "outputs": [
    {
     "name": "stdout",
     "output_type": "stream",
     "text": [
      "46.576923076923094\n",
      "46.57692307692307\n"
     ]
    }
   ],
   "source": [
    "import numpy as np\n",
    "\n",
    "sample = np.array([1,2,4,5,7,9,11,13,15,16,19,19,21])\n",
    "print(((sample**2).sum()/13-sample.mean()**2)*13/12)\n",
    "print(sample.var(ddof=1)) #ddof=delta degrees of freedom"
   ]
  },
  {
   "cell_type": "markdown",
   "id": "b92417d4-0182-4281-807e-8d0929435fb5",
   "metadata": {},
   "source": [
    "### Standardabweichung"
   ]
  },
  {
   "cell_type": "code",
   "execution_count": 5,
   "id": "73c546d8-4edd-4e42-8a0f-bd98afa8ef79",
   "metadata": {},
   "outputs": [
    {
     "name": "stdout",
     "output_type": "stream",
     "text": [
      "6.824728791455606\n",
      "6.8247287914556045\n"
     ]
    }
   ],
   "source": [
    "import numpy as np\n",
    "\n",
    "sample = np.array([1,2,4,5,7,9,11,13,15,16,19,19,21])\n",
    "\n",
    "print(np.sqrt(((sample**2).sum()/13-sample.mean()**2)*13/12))\n",
    "\n",
    "print(sample.std(ddof=1))"
   ]
  },
  {
   "cell_type": "markdown",
   "id": "6d491b0d-408c-4f71-a82a-2c693643486c",
   "metadata": {},
   "source": [
    "### Kovarianz"
   ]
  },
  {
   "cell_type": "code",
   "execution_count": 6,
   "id": "cadc3394-f19f-46f1-bc06-9a2c515d83ff",
   "metadata": {},
   "outputs": [
    {
     "name": "stdout",
     "output_type": "stream",
     "text": [
      "427.89743589743586\n",
      "[[  46.57692308  427.8974359 ]\n",
      " [ 427.8974359  4428.85897436]]\n"
     ]
    }
   ],
   "source": [
    "import numpy as np\n",
    "\n",
    "sample_x = np.array([1,2,4,5,7,9,11,13,15,16,19,19,21])\n",
    "sample_y = np.array([7,13,17,23,35,47,59,77,91,113,129,190,210])\n",
    "\n",
    "x_bar = sample_x.mean()\n",
    "y_bar = sample_y.mean()\n",
    "\n",
    "print((1/13*(sample_x*sample_y).sum() - x_bar*y_bar)*13/12)\n",
    "print(np.cov(sample_x, sample_y, ddof=1))"
   ]
  },
  {
   "cell_type": "markdown",
   "id": "fc551987-f2ed-4385-aedc-8d3078f3776b",
   "metadata": {},
   "source": [
    "## Diskrete Verteilungen\n",
    "### Binomialverteilung"
   ]
  },
  {
   "cell_type": "code",
   "execution_count": 7,
   "id": "c07075e9-b14c-4eae-afe1-41bd72378c92",
   "metadata": {},
   "outputs": [
    {
     "name": "stdout",
     "output_type": "stream",
     "text": [
      "120.0\n"
     ]
    }
   ],
   "source": [
    "import scipy.special\n",
    "print(scipy.special.binom(10,7))"
   ]
  },
  {
   "cell_type": "code",
   "execution_count": 8,
   "id": "7d1100ab-89ef-4c32-b43a-44bdbe80759a",
   "metadata": {},
   "outputs": [
    {
     "name": "stdout",
     "output_type": "stream",
     "text": [
      "0.20065812479999992\n"
     ]
    }
   ],
   "source": [
    "from scipy.stats import binom\n",
    "print(binom.pmf(5,10,0.4))"
   ]
  },
  {
   "cell_type": "code",
   "execution_count": 9,
   "id": "02d88f83-8cdb-473c-a4a0-ff72c33fc2d7",
   "metadata": {},
   "outputs": [
    {
     "name": "stdout",
     "output_type": "stream",
     "text": [
      "0.8337613824\n"
     ]
    }
   ],
   "source": [
    "from scipy.stats import binom\n",
    "print(binom.cdf(5,10,0.4))"
   ]
  },
  {
   "cell_type": "code",
   "execution_count": 10,
   "id": "adb08266-7e2b-401a-b887-934e0f988ce8",
   "metadata": {},
   "outputs": [
    {
     "name": "stdout",
     "output_type": "stream",
     "text": [
      "0.01229455359999998\n"
     ]
    }
   ],
   "source": [
    "from scipy.stats import binom\n",
    "print(1-binom.cdf(7,10,0.4))"
   ]
  },
  {
   "cell_type": "markdown",
   "id": "bee80c44-07ab-48e7-bac8-394ad8a8b9c0",
   "metadata": {},
   "source": [
    "### Hypergeometrische Verteilung"
   ]
  },
  {
   "cell_type": "code",
   "execution_count": 11,
   "id": "05644b0f-0afc-41af-aa91-5acd5f121c50",
   "metadata": {},
   "outputs": [
    {
     "name": "stdout",
     "output_type": "stream",
     "text": [
      "1.765040386687012e-02\n"
     ]
    }
   ],
   "source": [
    "from scipy.stats import hypergeom\n",
    "\n",
    "k,N,M,n = 3,6,49,6\n",
    "print(hypergeom.pmf(k, M, n, N)) "
   ]
  },
  {
   "cell_type": "code",
   "execution_count": 12,
   "id": "4592cfda-930d-4741-a5d9-33621902a8ce",
   "metadata": {},
   "outputs": [
    {
     "name": "stdout",
     "output_type": "stream",
     "text": [
      "2.851866897357771e-01\n"
     ]
    }
   ],
   "source": [
    "from scipy.stats import hypergeom\n",
    "\n",
    "k,N,M,n = 4,10,40,15\n",
    "\n",
    "print(hypergeom.pmf(k, M, n, N))"
   ]
  },
  {
   "cell_type": "markdown",
   "id": "550ac926-7653-4a92-b5b3-2babba7b5b24",
   "metadata": {},
   "source": [
    "### Poissonverteilung"
   ]
  },
  {
   "cell_type": "code",
   "execution_count": 13,
   "id": "0194181f-3272-4710-8e00-314f371e881b",
   "metadata": {},
   "outputs": [
    {
     "name": "stdout",
     "output_type": "stream",
     "text": [
      "1.403738958142805e-01\n"
     ]
    }
   ],
   "source": [
    "from scipy.stats import poisson\n",
    "\n",
    "print(poisson.pmf(3,5)) "
   ]
  },
  {
   "cell_type": "code",
   "execution_count": 14,
   "id": "a91ca13d-832d-44ad-86db-43f1ec3303b5",
   "metadata": {},
   "outputs": [
    {
     "name": "stdout",
     "output_type": "stream",
     "text": [
      "0.049365532495901254\n"
     ]
    }
   ],
   "source": [
    "from scipy.stats import poisson\n",
    "   \n",
    "print(1-poisson.cdf(170,150))"
   ]
  },
  {
   "cell_type": "markdown",
   "id": "d6e267b4-5060-42ee-a76a-99b79855cb77",
   "metadata": {},
   "source": [
    "## Stetige Verteilungen\n",
    "### Normalverteilung"
   ]
  },
  {
   "cell_type": "code",
   "execution_count": 15,
   "id": "e984e5a1-936c-4d06-8a2c-c59a44efa941",
   "metadata": {},
   "outputs": [
    {
     "name": "stdout",
     "output_type": "stream",
     "text": [
      "0.19078695285251068\n"
     ]
    }
   ],
   "source": [
    "from scipy.stats import norm\n",
    "\n",
    "x = 185\n",
    "mu = 178\n",
    "sigma = 8\n",
    "print(1-norm.cdf(x, mu, sigma))"
   ]
  },
  {
   "cell_type": "code",
   "execution_count": 16,
   "id": "edef1e85-2d21-481f-9304-dad47e384c26",
   "metadata": {},
   "outputs": [
    {
     "name": "stdout",
     "output_type": "stream",
     "text": [
      "0.8185946141203563\n"
     ]
    }
   ],
   "source": [
    "from scipy.stats import norm\n",
    "\n",
    "p = norm.cdf([4.99,5.02], 5, .01)\n",
    "print(p[1]-p[0])"
   ]
  },
  {
   "cell_type": "code",
   "execution_count": 17,
   "id": "f27db7bc-9813-4cad-a172-797eaad63423",
   "metadata": {},
   "outputs": [
    {
     "name": "stdout",
     "output_type": "stream",
     "text": [
      "Approx. erlaubt\n",
      "0.27031962529018677\n",
      "0.2698646599190479\n"
     ]
    }
   ],
   "source": [
    "import numpy as np\n",
    "from scipy.stats import binom\n",
    "from scipy.stats import norm\n",
    "\n",
    "n, p, k = 1000, 0.4, 390\n",
    "s = np.sqrt(n*p*(1-p)) # Standardabweichung\n",
    "mu = n*p #Erwartungswert\n",
    "\n",
    "print(\"Approx. erlaubt\") if s>3 else print(\"Approx. nicht erlaubt\")\n",
    "\n",
    "print(binom.cdf(k,n,p)) # Binomialverteilung\n",
    "print(norm.cdf(k+0.5,mu,s)) # Approx. Normalverteilung"
   ]
  },
  {
   "cell_type": "markdown",
   "id": "ddf1b87e-27e9-4f84-9ab9-7e226ab8bfb3",
   "metadata": {},
   "source": [
    "### t-Verteilung - Konfidenzintervalle"
   ]
  },
  {
   "cell_type": "code",
   "execution_count": 18,
   "id": "e10af605-5a6d-4fe3-b572-3a9890976527",
   "metadata": {},
   "outputs": [
    {
     "name": "stdout",
     "output_type": "stream",
     "text": [
      "0.8971948939254784\n",
      "0.8971948939254784\n"
     ]
    }
   ],
   "source": [
    "import numpy as np\n",
    "from scipy.stats import sem\n",
    "\n",
    "stichprobe = np.array([12, 17, 18, 18, 22, 17, 15, 15, 19, 19, 22])\n",
    "print(np.std(stichprobe, ddof=1)/np.sqrt(11))\n",
    "print(sem(stichprobe))"
   ]
  },
  {
   "cell_type": "code",
   "execution_count": 19,
   "id": "c3157d0a-6bae-46c3-8f6d-7d862690d295",
   "metadata": {},
   "outputs": [
    {
     "name": "stdout",
     "output_type": "stream",
     "text": [
      "15.637288835423716 19.635438437303556\n",
      "(15.637288835423716, 19.635438437303556)\n"
     ]
    }
   ],
   "source": [
    "import numpy as np\n",
    "from scipy.stats import sem, t\n",
    "\n",
    "stichprobe = np.array([12, 17, 18, 18, 22, 17, 15, 15, 19, 19, 22])\n",
    "s = np.std(stichprobe, ddof=1)\n",
    "x_quer = stichprobe.mean()\n",
    "serror = sem(stichprobe)\n",
    "\n",
    "T = t.isf(0.025,10)\n",
    "ugrenze = x_quer - T * serror\n",
    "ogrenze = x_quer + T * serror\n",
    "print(ugrenze, ogrenze)\n",
    "\n",
    "# Mit scipy.stats.t.interval\n",
    "print(t.interval(0.95, df=10, loc=x_quer, scale=serror))"
   ]
  },
  {
   "cell_type": "markdown",
   "id": "9e85bd71-f1a7-4d0f-bb58-92f48129c319",
   "metadata": {},
   "source": [
    "## Hypothesentests\n",
    "### t-Tests\n"
   ]
  },
  {
   "cell_type": "code",
   "execution_count": 20,
   "id": "bacb4017-8916-4838-ae4a-2cadce23b247",
   "metadata": {},
   "outputs": [
    {
     "name": "stdout",
     "output_type": "stream",
     "text": [
      "Ttest_1sampResult(statistic=-1.3026638133042359, pvalue=0.22188898434318105)\n"
     ]
    }
   ],
   "source": [
    "import numpy as np\n",
    "from scipy.stats import ttest_1samp\n",
    "\n",
    "stichprobe = np.array([5.1,6.0,4.8,5.0,5.6,6.1,3.9,5.8,5.8,5.7,6.0])\n",
    "print(ttest_1samp(stichprobe, popmean=5.7))"
   ]
  },
  {
   "cell_type": "code",
   "execution_count": 21,
   "id": "329d885c-c7d5-4810-ab55-466f27857693",
   "metadata": {},
   "outputs": [
    {
     "name": "stdout",
     "output_type": "stream",
     "text": [
      "0.22188898434318105\n"
     ]
    }
   ],
   "source": [
    "import numpy as np\n",
    "from scipy.stats import ttest_1samp\n",
    "from scipy.stats import t\n",
    "\n",
    "stichprobe = np.array([5.1,6.0,4.8,5.0,5.6,6.1,3.9,5.8,5.8,5.7,6.0])\n",
    "\n",
    "t_stat = ttest_1samp(stichprobe, popmean=5.7)[0]\n",
    "print(t.cdf(t_stat, df=10)*2)"
   ]
  },
  {
   "cell_type": "code",
   "execution_count": 22,
   "id": "74d6c255-c71f-40d8-a3d8-500f8f2388d7",
   "metadata": {},
   "outputs": [
    {
     "name": "stdout",
     "output_type": "stream",
     "text": [
      "Ttest_1sampResult(statistic=0.12005172573287078, pvalue=0.45313885267457843)\n"
     ]
    }
   ],
   "source": [
    "import numpy as np\n",
    "from scipy.stats import ttest_1samp\n",
    "\n",
    "stichprobe = np.array([98,100,103,92,101,101,96,95,110,102,99,98,102,105])\n",
    "\n",
    "print(ttest_1samp(stichprobe, popmean=100, alternative=\"greater\"))"
   ]
  },
  {
   "cell_type": "code",
   "execution_count": 23,
   "id": "941ea87d-73d6-4790-b190-108d942b3c5a",
   "metadata": {},
   "outputs": [
    {
     "name": "stdout",
     "output_type": "stream",
     "text": [
      "0.45313885267457843\n"
     ]
    }
   ],
   "source": [
    "import numpy as np\n",
    "from scipy.stats import ttest_1samp\n",
    "from scipy.stats import t\n",
    "\n",
    "stichprobe = np.array([98,100,103,92,101,101,96,95,110,102,99,98,102,105])\n",
    "\n",
    "t_stat = ttest_1samp(stichprobe, popmean=100, alternative=\"greater\")[0]\n",
    "print(1-t.cdf(t_stat, df=13))"
   ]
  },
  {
   "cell_type": "code",
   "execution_count": 24,
   "id": "861ce855-26d5-4123-80d2-2c4e89a9408a",
   "metadata": {},
   "outputs": [
    {
     "name": "stdout",
     "output_type": "stream",
     "text": [
      "Ttest_indResult(statistic=2.3147231780569513, pvalue=0.0333900746665659)\n"
     ]
    }
   ],
   "source": [
    "import numpy as np\n",
    "from scipy.stats import ttest_ind\n",
    "\n",
    "stichprobe_IT  = np.array([110,130,122,130,130,110,135,120,150,120])\n",
    "stichprobe_BWL = np.array([120,110,110,120,105,130,105,125,90])\n",
    "\n",
    "print(ttest_ind(stichprobe_IT, stichprobe_BWL)) \n"
   ]
  },
  {
   "cell_type": "code",
   "execution_count": 25,
   "id": "bdfeb4b9-4e07-4337-aa01-e4f54a487c5b",
   "metadata": {},
   "outputs": [
    {
     "name": "stdout",
     "output_type": "stream",
     "text": [
      "Ttest_1sampResult(statistic=-2.2572050843131675, pvalue=0.025203155262256305)\n"
     ]
    }
   ],
   "source": [
    "import numpy as np\n",
    "from scipy.stats import ttest_1samp\n",
    "\n",
    "stichprobe_vorher  = np.array([150,180,162,160,175,210,187,160,155,160])\n",
    "stichprobe_nachher = np.array([145,180,155,155,180,190,170,155,160,150])\n",
    "\n",
    "\n",
    "print(ttest_1samp(stichprobe_nachher-stichprobe_vorher, popmean=0, alternative=\"less\"))"
   ]
  },
  {
   "cell_type": "markdown",
   "id": "7740a334-5123-4a80-94f1-c2704d2f95e1",
   "metadata": {},
   "source": [
    "### F-Test"
   ]
  },
  {
   "cell_type": "code",
   "execution_count": 26,
   "id": "3a9df366-9c24-45f6-b33f-5271d28e3260",
   "metadata": {},
   "outputs": [
    {
     "name": "stdout",
     "output_type": "stream",
     "text": [
      "F-statistics = 1.0399892646269457, p-value=0.4724541917012181\n"
     ]
    }
   ],
   "source": [
    "import numpy as np\n",
    "from scipy.stats import f\n",
    "\n",
    "stichprobe1 = np.array([110,130,122,130,130,110,135,120,150,120])\n",
    "stichprobe2 = np.array([120,110,110,120,105,130,105,125,90])\n",
    "\n",
    "df_zaehler = stichprobe2.size-1\n",
    "df_nenner = stichprobe1.size-1\n",
    "F = stichprobe2.var(ddof=1)/stichprobe1.var(ddof=1)\n",
    "p_value = f.sf(F, df_zaehler, df_nenner)\n",
    "print(f\"F-statistics = {F}, p-value={p_value}\")"
   ]
  },
  {
   "cell_type": "markdown",
   "id": "d4168ba9-35ce-4ac8-9742-a6a572718c3c",
   "metadata": {},
   "source": [
    "### $\\chi^2$-Test"
   ]
  },
  {
   "cell_type": "code",
   "execution_count": 27,
   "id": "0cbb76e0-ecc0-4038-8b79-b9860e343b87",
   "metadata": {},
   "outputs": [
    {
     "name": "stdout",
     "output_type": "stream",
     "text": [
      "(57.43609818078531, 3.372172240731047e-13, 2, array([[321.98, 378.8 , 246.22],\n",
      "       [358.02, 421.2 , 273.78]]))\n"
     ]
    }
   ],
   "source": [
    "import numpy as np\n",
    "from scipy.stats import chi2_contingency\n",
    "\n",
    "observed = np.array([[355,420,172], [325,380,348]])\n",
    "print(chi2_contingency(observed))"
   ]
  },
  {
   "cell_type": "markdown",
   "id": "e49c994e-a4c1-40fa-9931-5e8930fc8461",
   "metadata": {},
   "source": [
    "## Lineare Regression"
   ]
  },
  {
   "cell_type": "code",
   "execution_count": 28,
   "id": "0ce0bc4a-4dc5-4b2d-bdde-65d1da8392bf",
   "metadata": {},
   "outputs": [
    {
     "name": "stdout",
     "output_type": "stream",
     "text": [
      "beta_0 = 2.4836734053731817\n",
      "beta_1 = 9.775803390787473\n",
      "r = 0.9761906560220887\n",
      "R^2 = 0.9529481969048358\n"
     ]
    }
   ],
   "source": [
    "import pandas as pd\n",
    "from scipy.stats import linregress\n",
    "\n",
    "# Daten importieren\n",
    "data = pd.read_csv(\"https://raw.githubusercontent.com/troescherw/datasets/master/Lernzeit_Punkte.csv\")\n",
    "\n",
    "model =linregress(x=data.Stunden, y=data.Punkte)\n",
    "print(f\"beta_0 = {model[1]}\")\n",
    "print(f\"beta_1 = {model[0]}\")\n",
    "print(f\"r = {model[2]}\")\n",
    "print(f\"R^2 = {model[2]**2}\")"
   ]
  },
  {
   "cell_type": "markdown",
   "id": "86b3d56f-8b43-4b42-8b64-8be3885b1897",
   "metadata": {},
   "source": [
    "## Der p-Wert"
   ]
  },
  {
   "cell_type": "code",
   "execution_count": 29,
   "id": "d19f9650-63af-4226-8896-c1d97c3239ab",
   "metadata": {},
   "outputs": [
    {
     "name": "stdout",
     "output_type": "stream",
     "text": [
      "p-Wert = 0.10317460317460328\n"
     ]
    }
   ],
   "source": [
    "from scipy.stats import hypergeom\n",
    "\n",
    "p = hypergeom.pmf(4,10,5,5) + hypergeom.pmf(5,10,5,5)\n",
    "print(f\"p-Wert = {p}\")"
   ]
  }
 ],
 "metadata": {
  "kernelspec": {
   "display_name": "anaconda-2022.05-py39",
   "language": "python",
   "name": "conda-env-anaconda-2022.05-py39-py"
  },
  "language_info": {
   "codemirror_mode": {
    "name": "ipython",
    "version": 3
   },
   "file_extension": ".py",
   "mimetype": "text/x-python",
   "name": "python",
   "nbconvert_exporter": "python",
   "pygments_lexer": "ipython3",
   "version": "3.9.12"
  }
 },
 "nbformat": 4,
 "nbformat_minor": 5
}
